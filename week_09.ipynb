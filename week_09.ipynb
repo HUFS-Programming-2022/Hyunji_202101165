{
 "cells": [
  {
   "cell_type": "markdown",
   "metadata": {},
   "source": [
    "## Dictionary\n",
    "- key와 value를 한 쌍으로 갖는 자료형(type: dict)\n",
    "    - 단어: 뜻\n",
    "    - key 중복되지 않는 고유한 값\n",
    "- 순서가 없다 => 인덱싱 불가능\n",
    "    - key를 통해 value를 얻는다\n",
    "- 가변: 수정, 삭제, 추가 가능\n",
    "- 형변환: `dict()`\n",
    "- 중괄호 사용 {}, 콤마로 구분\n",
    "- value에 다양한 자료구조가 올 수 있음\n",
    "    - `a: 1, a: [1, 2, 3, 4]`\n"
   ]
  },
  {
   "cell_type": "code",
   "execution_count": 116,
   "metadata": {},
   "outputs": [
    {
     "data": {
      "text/plain": [
       "1"
      ]
     },
     "execution_count": 116,
     "metadata": {},
     "output_type": "execute_result"
    }
   ],
   "source": [
    "# list (인덱싱 가능)\n",
    "a = [1, 2, 3] ; a[0]"
   ]
  },
  {
   "cell_type": "code",
   "execution_count": 117,
   "metadata": {},
   "outputs": [
    {
     "ename": "KeyError",
     "evalue": "1",
     "output_type": "error",
     "traceback": [
      "\u001b[1;31m---------------------------------------------------------------------------\u001b[0m",
      "\u001b[1;31mKeyError\u001b[0m                                  Traceback (most recent call last)",
      "\u001b[1;32m~\\AppData\\Local\\Temp/ipykernel_21972/1567723011.py\u001b[0m in \u001b[0;36m<module>\u001b[1;34m\u001b[0m\n\u001b[0;32m      1\u001b[0m \u001b[1;31m# dict (인덱싱 불가)\u001b[0m\u001b[1;33m\u001b[0m\u001b[1;33m\u001b[0m\u001b[0m\n\u001b[0;32m      2\u001b[0m \u001b[0mb\u001b[0m \u001b[1;33m=\u001b[0m \u001b[1;33m{\u001b[0m\u001b[1;34m'a'\u001b[0m\u001b[1;33m:\u001b[0m \u001b[1;36m1\u001b[0m\u001b[1;33m,\u001b[0m \u001b[1;34m'b'\u001b[0m\u001b[1;33m:\u001b[0m \u001b[1;36m2\u001b[0m\u001b[1;33m,\u001b[0m \u001b[1;34m'c'\u001b[0m\u001b[1;33m:\u001b[0m \u001b[1;36m3\u001b[0m\u001b[1;33m}\u001b[0m\u001b[1;33m\u001b[0m\u001b[1;33m\u001b[0m\u001b[0m\n\u001b[1;32m----> 3\u001b[1;33m \u001b[0mb\u001b[0m\u001b[1;33m[\u001b[0m\u001b[1;36m1\u001b[0m\u001b[1;33m]\u001b[0m \u001b[1;31m# NameError: name 'b' is not defined\u001b[0m\u001b[1;33m\u001b[0m\u001b[1;33m\u001b[0m\u001b[0m\n\u001b[0m",
      "\u001b[1;31mKeyError\u001b[0m: 1"
     ]
    }
   ],
   "source": [
    "# dict (인덱싱 불가)\n",
    "b = {'a': 1, 'b': 2, 'c': 3}\n",
    "b[1] # NameError: name 'b' is not defined"
   ]
  },
  {
   "cell_type": "code",
   "execution_count": null,
   "metadata": {},
   "outputs": [
    {
     "name": "stdout",
     "output_type": "stream",
     "text": [
      "<class 'dict'>\n",
      "<class 'set'>\n"
     ]
    }
   ],
   "source": [
    "empty = dict() # 빈 딕셔너리 선언 방법 1\n",
    "empty = {}     # 빈 딕셔너리 선언 방법 2\n",
    "print(type(empty))\n",
    "\n",
    "# 딕셔너리처럼 중괄호를 사용하는 set은 어떻게 선언하는가\n",
    "empty = set()\n",
    "print(type(empty))\n"
   ]
  },
  {
   "cell_type": "code",
   "execution_count": null,
   "metadata": {},
   "outputs": [
    {
     "data": {
      "text/plain": [
       "{1: 'apple', 2: 'banana', 3: 'kiwi'}"
      ]
     },
     "execution_count": 14,
     "metadata": {},
     "output_type": "execute_result"
    }
   ],
   "source": [
    "a = {1, 2, 3}  # set\n",
    "a = {1: 'apple', 2: 'banana', 3: 'kiwi'} ; a # dict"
   ]
  },
  {
   "cell_type": "code",
   "execution_count": null,
   "metadata": {},
   "outputs": [
    {
     "data": {
      "text/plain": [
       "{'apple': 'a', 'banana': 'b', 'kiwi': 'c'}"
      ]
     },
     "execution_count": 19,
     "metadata": {},
     "output_type": "execute_result"
    }
   ],
   "source": [
    "# 딕셔너리를 만드는 다른 방법\n",
    "# key에 따옴표를 사용하지 않아야 함\n",
    "# key는 딕셔너리를 만들고 나면 문자열로 바뀐다\n",
    "b = dict(apple='a', banana='b', kiwi='c') ; b"
   ]
  },
  {
   "cell_type": "code",
   "execution_count": null,
   "metadata": {},
   "outputs": [
    {
     "data": {
      "text/plain": [
       "{202201: ['James', '경제학과'],\n",
       " 202203: ['Laura', '스페인어과'],\n",
       " 202202: ['Louis', '컴퓨터공학과']}"
      ]
     },
     "execution_count": 20,
     "metadata": {},
     "output_type": "execute_result"
    }
   ],
   "source": [
    "# 출석부로 딕셔너리 만들기\n",
    "''''이름, 학번, 학과'''\n",
    "'''james 202201 경제학과\n",
    "laura 202203 스페인어과\n",
    "louis 202202 컴공과'''\n",
    "\n",
    "attendance = {202201: ['James', '경제학과'],\n",
    "202203: ['Laura', '스페인어과'],\n",
    "202202: ['Louis', '컴퓨터공학과']}\n",
    "# 동명이인이 있을 수 있으니 key는 학번으로\n",
    "attendance\n"
   ]
  },
  {
   "cell_type": "markdown",
   "metadata": {},
   "source": [
    "## 형 변환\n"
   ]
  },
  {
   "cell_type": "code",
   "execution_count": null,
   "metadata": {},
   "outputs": [
    {
     "data": {
      "text/plain": [
       "{1: 2, 2: 3, 3: 5}"
      ]
     },
     "execution_count": 25,
     "metadata": {},
     "output_type": "execute_result"
    }
   ],
   "source": [
    "ex1 = [[1, 2], [2, 3], [3, 4], [3, 5]] ; dict(ex1) # list\n",
    "# 중복되는 키 -> 제일 마지막 키\n"
   ]
  },
  {
   "cell_type": "code",
   "execution_count": null,
   "metadata": {},
   "outputs": [
    {
     "data": {
      "text/plain": [
       "{1: 3, 2: 3}"
      ]
     },
     "execution_count": 26,
     "metadata": {},
     "output_type": "execute_result"
    }
   ],
   "source": [
    "ex2 = [(1, 2), (2, 3), (1, 3)] ; dict(ex2) # tuple\n",
    "# 중복되는 키 -> 제일 마지막 키\n"
   ]
  },
  {
   "cell_type": "code",
   "execution_count": null,
   "metadata": {},
   "outputs": [
    {
     "data": {
      "text/plain": [
       "{'a': 'b', 'b': 'c', 'c': 'd'}"
      ]
     },
     "execution_count": 28,
     "metadata": {},
     "output_type": "execute_result"
    }
   ],
   "source": [
    "ex3 = ['ab', 'bc', 'cd'] ; dict(ex3)\n",
    "# 두 글자 가능\n"
   ]
  },
  {
   "cell_type": "code",
   "execution_count": null,
   "metadata": {},
   "outputs": [
    {
     "ename": "ValueError",
     "evalue": "dictionary update sequence element #2 has length 3; 2 is required",
     "output_type": "error",
     "traceback": [
      "\u001b[1;31m---------------------------------------------------------------------------\u001b[0m",
      "\u001b[1;31mValueError\u001b[0m                                Traceback (most recent call last)",
      "\u001b[1;32m~\\AppData\\Local\\Temp/ipykernel_6420/3409654126.py\u001b[0m in \u001b[0;36m<module>\u001b[1;34m\u001b[0m\n\u001b[0;32m      1\u001b[0m \u001b[0mex4\u001b[0m \u001b[1;33m=\u001b[0m \u001b[1;33m[\u001b[0m\u001b[1;34m'ab'\u001b[0m\u001b[1;33m,\u001b[0m \u001b[1;34m'bc'\u001b[0m\u001b[1;33m,\u001b[0m \u001b[1;34m'cde'\u001b[0m\u001b[1;33m]\u001b[0m\u001b[1;33m\u001b[0m\u001b[1;33m\u001b[0m\u001b[0m\n\u001b[1;32m----> 2\u001b[1;33m \u001b[0mdict\u001b[0m\u001b[1;33m(\u001b[0m\u001b[0mex4\u001b[0m\u001b[1;33m)\u001b[0m\u001b[1;33m\u001b[0m\u001b[1;33m\u001b[0m\u001b[0m\n\u001b[0m\u001b[0;32m      3\u001b[0m \u001b[1;31m# ValueError: dictionary update sequence element #2 has length 3; 2 is required\u001b[0m\u001b[1;33m\u001b[0m\u001b[1;33m\u001b[0m\u001b[0m\n",
      "\u001b[1;31mValueError\u001b[0m: dictionary update sequence element #2 has length 3; 2 is required"
     ]
    }
   ],
   "source": [
    "ex4 = ['ab', 'bc', 'cde'] ; dict(ex4)\n",
    "# ValueError: dictionary update sequence element #2 has length 3; 2 is required"
   ]
  },
  {
   "cell_type": "code",
   "execution_count": null,
   "metadata": {},
   "outputs": [
    {
     "ename": "ValueError",
     "evalue": "dictionary update sequence element #0 has length 4; 2 is required",
     "output_type": "error",
     "traceback": [
      "\u001b[1;31m---------------------------------------------------------------------------\u001b[0m",
      "\u001b[1;31mValueError\u001b[0m                                Traceback (most recent call last)",
      "\u001b[1;32m~\\AppData\\Local\\Temp/ipykernel_6420/3020399617.py\u001b[0m in \u001b[0;36m<module>\u001b[1;34m\u001b[0m\n\u001b[0;32m      1\u001b[0m \u001b[0mex5\u001b[0m \u001b[1;33m=\u001b[0m \u001b[1;33m[\u001b[0m\u001b[1;34m'abcd'\u001b[0m\u001b[1;33m,\u001b[0m \u001b[1;34m'efgh'\u001b[0m\u001b[1;33m,\u001b[0m \u001b[1;34m'ijkl'\u001b[0m\u001b[1;33m]\u001b[0m\u001b[1;33m\u001b[0m\u001b[1;33m\u001b[0m\u001b[0m\n\u001b[1;32m----> 2\u001b[1;33m \u001b[0mdict\u001b[0m\u001b[1;33m(\u001b[0m\u001b[0mex5\u001b[0m\u001b[1;33m)\u001b[0m\u001b[1;33m\u001b[0m\u001b[1;33m\u001b[0m\u001b[0m\n\u001b[0m",
      "\u001b[1;31mValueError\u001b[0m: dictionary update sequence element #0 has length 4; 2 is required"
     ]
    }
   ],
   "source": [
    "ex5 = ['abcd', 'efgh', 'ijkl'] ; dict(ex5)"
   ]
  },
  {
   "cell_type": "code",
   "execution_count": null,
   "metadata": {},
   "outputs": [],
   "source": [
    "pythons = {\n",
    "    'Chapman': 'Graham',\n",
    "    'Cleese': 'John',\n",
    "    'Idle': 'Eric',\n",
    "    'Jones': 'Terry',\n",
    "    'Palin': 'Michael'\n",
    "}\n"
   ]
  },
  {
   "cell_type": "code",
   "execution_count": null,
   "metadata": {},
   "outputs": [
    {
     "data": {
      "text/plain": [
       "'Eric'"
      ]
     },
     "execution_count": 84,
     "metadata": {},
     "output_type": "execute_result"
    }
   ],
   "source": [
    "pythons['Idle'] # key로 value 부르기"
   ]
  },
  {
   "cell_type": "code",
   "execution_count": null,
   "metadata": {},
   "outputs": [],
   "source": [
    "pythons['Hwa'] = 'Chloe'  # key: value 추가"
   ]
  },
  {
   "cell_type": "code",
   "execution_count": null,
   "metadata": {},
   "outputs": [
    {
     "data": {
      "text/plain": [
       "{'Chapman': 'Graham',\n",
       " 'Cleese': 'John',\n",
       " 'Idle': 'James',\n",
       " 'Jones': 'Terry',\n",
       " 'Palin': 'Michael',\n",
       " 'Hwa': 'Chloe'}"
      ]
     },
     "execution_count": 86,
     "metadata": {},
     "output_type": "execute_result"
    }
   ],
   "source": [
    "pythons['Idle'] = 'James'  ; pythons # key의 value 변경"
   ]
  },
  {
   "cell_type": "code",
   "execution_count": null,
   "metadata": {},
   "outputs": [
    {
     "data": {
      "text/plain": [
       "True"
      ]
     },
     "execution_count": 87,
     "metadata": {},
     "output_type": "execute_result"
    }
   ],
   "source": [
    "# 예외 대처 위한 확인\n",
    "'Hwa' in pythons"
   ]
  },
  {
   "cell_type": "code",
   "execution_count": null,
   "metadata": {},
   "outputs": [
    {
     "data": {
      "text/plain": [
       "0"
      ]
     },
     "execution_count": 88,
     "metadata": {},
     "output_type": "execute_result"
    }
   ],
   "source": [
    "# get()\n",
    "pythons.get('Lee', 0) # 없는 key는 0 반환"
   ]
  },
  {
   "cell_type": "code",
   "execution_count": null,
   "metadata": {},
   "outputs": [
    {
     "data": {
      "text/plain": [
       "0"
      ]
     },
     "execution_count": 89,
     "metadata": {},
     "output_type": "execute_result"
    }
   ],
   "source": [
    "# get()\n",
    "pythons.get('Chloe', 0)  # 없는 key는 0 반환"
   ]
  },
  {
   "cell_type": "code",
   "execution_count": null,
   "metadata": {},
   "outputs": [
    {
     "data": {
      "text/plain": [
       "'Terry'"
      ]
     },
     "execution_count": 90,
     "metadata": {},
     "output_type": "execute_result"
    }
   ],
   "source": [
    "# get()\n",
    "pythons.get('Jones', 0)"
   ]
  },
  {
   "cell_type": "markdown",
   "metadata": {},
   "source": [
    "### 전체 조회\n",
    "- keys()\n",
    "- values()\n",
    "- items()"
   ]
  },
  {
   "cell_type": "code",
   "execution_count": null,
   "metadata": {},
   "outputs": [
    {
     "data": {
      "text/plain": [
       "dict_keys(['Chapman', 'Cleese', 'Idle', 'Jones', 'Palin', 'Hwa'])"
      ]
     },
     "execution_count": 91,
     "metadata": {},
     "output_type": "execute_result"
    }
   ],
   "source": [
    "pythons.keys() # 전체 key 조회"
   ]
  },
  {
   "cell_type": "code",
   "execution_count": null,
   "metadata": {},
   "outputs": [
    {
     "data": {
      "text/plain": [
       "['Chapman', 'Cleese', 'Idle', 'Jones', 'Palin', 'Hwa']"
      ]
     },
     "execution_count": 92,
     "metadata": {},
     "output_type": "execute_result"
    }
   ],
   "source": [
    "list(pythons.keys()) # 전체 key -> list로 반환"
   ]
  },
  {
   "cell_type": "code",
   "execution_count": null,
   "metadata": {},
   "outputs": [
    {
     "data": {
      "text/plain": [
       "dict_values(['Graham', 'John', 'James', 'Terry', 'Michael', 'Chloe'])"
      ]
     },
     "execution_count": 93,
     "metadata": {},
     "output_type": "execute_result"
    }
   ],
   "source": [
    "pythons.values() # 전체 value 반환"
   ]
  },
  {
   "cell_type": "code",
   "execution_count": null,
   "metadata": {},
   "outputs": [
    {
     "data": {
      "text/plain": [
       "dict_items([('Chapman', 'Graham'), ('Cleese', 'John'), ('Idle', 'James'), ('Jones', 'Terry'), ('Palin', 'Michael'), ('Hwa', 'Chloe')])"
      ]
     },
     "execution_count": 94,
     "metadata": {},
     "output_type": "execute_result"
    }
   ],
   "source": [
    "pythons.items() # 전체 key: value 반환"
   ]
  },
  {
   "cell_type": "code",
   "execution_count": null,
   "metadata": {},
   "outputs": [
    {
     "name": "stdout",
     "output_type": "stream",
     "text": [
      "Chapman = Graham\n",
      "Cleese = John\n",
      "Idle = James\n",
      "Jones = Terry\n",
      "Palin = Michael\n",
      "Hwa = Chloe\n"
     ]
    },
    {
     "data": {
      "text/plain": [
       "['Chapman = Graham',\n",
       " 'Cleese = John',\n",
       " 'Idle = James',\n",
       " 'Jones = Terry',\n",
       " 'Palin = Michael',\n",
       " 'Hwa = Chloe']"
      ]
     },
     "execution_count": 95,
     "metadata": {},
     "output_type": "execute_result"
    }
   ],
   "source": [
    "for k, v in pythons.items():\n",
    "    print(f'{k} = {v}')\n",
    "\n",
    "# list comprehension\n",
    "[f'{k} = {v}' for k, v in pythons.items()]"
   ]
  },
  {
   "cell_type": "code",
   "execution_count": null,
   "metadata": {},
   "outputs": [
    {
     "data": {
      "text/plain": [
       "[('Chapman', 'Graham'),\n",
       " ('Cleese', 'John'),\n",
       " ('Idle', 'James'),\n",
       " ('Jones', 'Terry'),\n",
       " ('Palin', 'Michael'),\n",
       " ('Hwa', 'Chloe')]"
      ]
     },
     "execution_count": 96,
     "metadata": {},
     "output_type": "execute_result"
    }
   ],
   "source": [
    "[(k, v) for k, v in pythons.items()]"
   ]
  },
  {
   "cell_type": "code",
   "execution_count": null,
   "metadata": {},
   "outputs": [
    {
     "data": {
      "text/plain": [
       "[('Chapman', 'Graham'),\n",
       " ('Cleese', 'John'),\n",
       " ('Idle', 'James'),\n",
       " ('Jones', 'Terry'),\n",
       " ('Palin', 'Michael'),\n",
       " ('Hwa', 'Chloe')]"
      ]
     },
     "execution_count": 97,
     "metadata": {},
     "output_type": "execute_result"
    }
   ],
   "source": [
    "[k for k in pythons.items()]"
   ]
  },
  {
   "cell_type": "code",
   "execution_count": null,
   "metadata": {},
   "outputs": [
    {
     "data": {
      "text/plain": [
       "['Graham', 'John', 'James', 'Terry', 'Michael', 'Chloe']"
      ]
     },
     "execution_count": 98,
     "metadata": {},
     "output_type": "execute_result"
    }
   ],
   "source": [
    "[k[1] for k in pythons.items()]  # 0=key, 1=value"
   ]
  },
  {
   "cell_type": "code",
   "execution_count": null,
   "metadata": {},
   "outputs": [
    {
     "data": {
      "text/plain": [
       "['Chapman', 'Cleese', 'Idle', 'Jones', 'Palin', 'Hwa']"
      ]
     },
     "execution_count": 99,
     "metadata": {},
     "output_type": "execute_result"
    }
   ],
   "source": [
    "[k[0] for k in pythons.items()] # 0=key, 1=value"
   ]
  },
  {
   "cell_type": "code",
   "execution_count": null,
   "metadata": {},
   "outputs": [
    {
     "data": {
      "text/plain": [
       "['Chapman', 'Cleese', 'Idle', 'Jones', 'Palin', 'Hwa']"
      ]
     },
     "execution_count": 100,
     "metadata": {},
     "output_type": "execute_result"
    }
   ],
   "source": [
    "[k for k in pythons]  # 인수 하나만 하면 key만 나옴"
   ]
  },
  {
   "cell_type": "markdown",
   "metadata": {},
   "source": [
    "### ex\n",
    "animal: num_leg(다리 개수) 딕셔너리 만드시오."
   ]
  },
  {
   "cell_type": "code",
   "execution_count": null,
   "metadata": {},
   "outputs": [
    {
     "data": {
      "text/plain": [
       "{'cat': 4, 'snake': 0, 'monkey': 2, 'ant': 6, 'spider': 8}"
      ]
     },
     "execution_count": 101,
     "metadata": {},
     "output_type": "execute_result"
    }
   ],
   "source": [
    "animal = 'cat snake monkey ant spider'.split()\n",
    "legs = 4, 0, 2, 6, 8\n",
    "\n",
    "{animal[i]: legs[i] for i in range(len(animal))}\n"
   ]
  },
  {
   "cell_type": "markdown",
   "metadata": {},
   "source": [
    "Q. pythons에서 성: 이름\n",
    "- **성**은 **첫 글자**만, **이름**은 **글자 개수**로 이루어진 **튜플** (성, 이름) 리스트로 만들기\n",
    "- dict comprehension 사용하지 않는다"
   ]
  },
  {
   "cell_type": "code",
   "execution_count": null,
   "metadata": {},
   "outputs": [
    {
     "data": {
      "text/plain": [
       "{'Chapman': 'Thomas',\n",
       " 'Cleese': 'John',\n",
       " 'Idle': 'James',\n",
       " 'Jones': 'Terry',\n",
       " 'Palin': 'Michael',\n",
       " 'Marx': 'Groucho',\n",
       " 'Howard': 'Moe'}"
      ]
     },
     "execution_count": 121,
     "metadata": {},
     "output_type": "execute_result"
    }
   ],
   "source": [
    "pythons"
   ]
  },
  {
   "cell_type": "code",
   "execution_count": null,
   "metadata": {},
   "outputs": [
    {
     "data": {
      "text/plain": [
       "[('C', 6), ('C', 4), ('I', 5), ('J', 5), ('P', 7), ('H', 5)]"
      ]
     },
     "execution_count": 103,
     "metadata": {},
     "output_type": "execute_result"
    }
   ],
   "source": [
    "[(k[0], len(v)) for k, v in pythons.items()]\n"
   ]
  },
  {
   "cell_type": "markdown",
   "metadata": {},
   "source": [
    "### 값 수정, 삭제, 복제, 비교"
   ]
  },
  {
   "cell_type": "markdown",
   "metadata": {},
   "source": [
    "#### 수정"
   ]
  },
  {
   "cell_type": "code",
   "execution_count": null,
   "metadata": {},
   "outputs": [
    {
     "data": {
      "text/plain": [
       "{'Marx': 'Groucho', 'Howard': 'Moe'}"
      ]
     },
     "execution_count": 122,
     "metadata": {},
     "output_type": "execute_result"
    }
   ],
   "source": [
    "others = {\n",
    "    'Marx': 'Groucho',\n",
    "    'Howard': 'Moe'\n",
    "}\n",
    "others"
   ]
  },
  {
   "cell_type": "code",
   "execution_count": null,
   "metadata": {},
   "outputs": [
    {
     "data": {
      "text/plain": [
       "{'Chapman': 'Thomas',\n",
       " 'Cleese': 'John',\n",
       " 'Idle': 'James',\n",
       " 'Jones': 'Terry',\n",
       " 'Palin': 'Michael',\n",
       " 'Marx': 'Groucho',\n",
       " 'Howard': 'Moe'}"
      ]
     },
     "execution_count": 123,
     "metadata": {},
     "output_type": "execute_result"
    }
   ],
   "source": [
    "pythons.update(others) ; pythons\n",
    "# 맨 마지막에 추가된다"
   ]
  },
  {
   "cell_type": "code",
   "execution_count": null,
   "metadata": {},
   "outputs": [
    {
     "data": {
      "text/plain": [
       "{'Chapman': 'Thomas',\n",
       " 'Cleese': 'John',\n",
       " 'Idle': 'James',\n",
       " 'Jones': 'Terry',\n",
       " 'Palin': 'Michael',\n",
       " 'Marx': 'Groucho',\n",
       " 'Howard': 'Moe'}"
      ]
     },
     "execution_count": 113,
     "metadata": {},
     "output_type": "execute_result"
    }
   ],
   "source": [
    "pythons.update(Chapman='Thomas') ; pythons# key에 따옴표 사용하지 않는다"
   ]
  },
  {
   "cell_type": "code",
   "execution_count": null,
   "metadata": {},
   "outputs": [
    {
     "data": {
      "text/plain": [
       "{'Marx': 'Groucho',\n",
       " 'Howard': 'Moe',\n",
       " 'Chapman': 'Thomas',\n",
       " 'Cleese': 'John',\n",
       " 'Idle': 'James',\n",
       " 'Jones': 'Terry',\n",
       " 'Palin': 'Michael'}"
      ]
     },
     "execution_count": 115,
     "metadata": {},
     "output_type": "execute_result"
    }
   ],
   "source": [
    "#python 3에서만 가능\n",
    "{**others, **pythons} # 맨 앞에 추가된다"
   ]
  },
  {
   "cell_type": "code",
   "execution_count": null,
   "metadata": {},
   "outputs": [
    {
     "data": {
      "text/plain": [
       "{'Chapman': 'Thomas',\n",
       " 'Cleese': 'John',\n",
       " 'Idle': 'James',\n",
       " 'Jones': 'Terry',\n",
       " 'Palin': 'Michael',\n",
       " 'Marx': 'Groucho',\n",
       " 'Howard': 'Moe'}"
      ]
     },
     "execution_count": 116,
     "metadata": {},
     "output_type": "execute_result"
    }
   ],
   "source": [
    "{**pythons, **others} # 맨 뒤에 추가된다"
   ]
  },
  {
   "cell_type": "markdown",
   "metadata": {},
   "source": [
    "#### 삭제\n"
   ]
  },
  {
   "cell_type": "code",
   "execution_count": null,
   "metadata": {},
   "outputs": [
    {
     "ename": "NameError",
     "evalue": "name 'pythons' is not defined",
     "output_type": "error",
     "traceback": [
      "\u001b[1;31m---------------------------------------------------------------------------\u001b[0m",
      "\u001b[1;31mNameError\u001b[0m                                 Traceback (most recent call last)",
      "\u001b[1;32m~\\AppData\\Local\\Temp/ipykernel_21972/2674369356.py\u001b[0m in \u001b[0;36m<module>\u001b[1;34m\u001b[0m\n\u001b[1;32m----> 1\u001b[1;33m \u001b[1;32mdel\u001b[0m \u001b[0mpythons\u001b[0m\u001b[1;33m[\u001b[0m\u001b[1;34m'Howard'\u001b[0m\u001b[1;33m]\u001b[0m \u001b[1;33m;\u001b[0m \u001b[0mpythons\u001b[0m\u001b[1;33m\u001b[0m\u001b[1;33m\u001b[0m\u001b[0m\n\u001b[0m",
      "\u001b[1;31mNameError\u001b[0m: name 'pythons' is not defined"
     ]
    }
   ],
   "source": [
    "del pythons['Howard'] ; pythons"
   ]
  },
  {
   "cell_type": "code",
   "execution_count": null,
   "metadata": {},
   "outputs": [],
   "source": [
    "# 없는 것 삭제\n",
    "del pythons['Lee'] # KeyError"
   ]
  },
  {
   "cell_type": "code",
   "execution_count": null,
   "metadata": {},
   "outputs": [
    {
     "data": {
      "text/plain": [
       "'Groucho'"
      ]
     },
     "execution_count": 128,
     "metadata": {},
     "output_type": "execute_result"
    }
   ],
   "source": [
    "pythons.pop('Marx') # value 반환, 쌍이 삭제됨"
   ]
  },
  {
   "cell_type": "code",
   "execution_count": null,
   "metadata": {},
   "outputs": [
    {
     "data": {
      "text/plain": [
       "{'Chapman': 'Thomas',\n",
       " 'Cleese': 'John',\n",
       " 'Idle': 'James',\n",
       " 'Jones': 'Terry',\n",
       " 'Palin': 'Michael'}"
      ]
     },
     "execution_count": 129,
     "metadata": {},
     "output_type": "execute_result"
    }
   ],
   "source": [
    "pythons # Marx: Groucho 삭제됨"
   ]
  },
  {
   "cell_type": "code",
   "execution_count": null,
   "metadata": {},
   "outputs": [
    {
     "data": {
      "text/plain": [
       "0"
      ]
     },
     "execution_count": 130,
     "metadata": {},
     "output_type": "execute_result"
    }
   ],
   "source": [
    "pythons.pop('Lee', 0) \n",
    "# 없으면 예외는 나지만, 예외시 출력 값 지정 가능"
   ]
  },
  {
   "cell_type": "markdown",
   "metadata": {},
   "source": [
    "#### 전체 삭제\n"
   ]
  },
  {
   "cell_type": "code",
   "execution_count": null,
   "metadata": {},
   "outputs": [],
   "source": [
    "pythons.clear()\n",
    "pythons = {}"
   ]
  },
  {
   "cell_type": "markdown",
   "metadata": {},
   "source": [
    "### 복제\n",
    "- 할당: `b = a`\n",
    "- 얕은 복사: `c = a.copy()`\n",
    "- 깊은 복사: `c = copy.deepcopy(a)`\n"
   ]
  },
  {
   "cell_type": "markdown",
   "metadata": {},
   "source": [
    "#### 할당"
   ]
  },
  {
   "cell_type": "code",
   "execution_count": null,
   "metadata": {},
   "outputs": [
    {
     "data": {
      "text/plain": [
       "({1: 45, 2: 2, 3: 3}, {1: 45, 2: 2, 3: 3})"
      ]
     },
     "execution_count": 10,
     "metadata": {},
     "output_type": "execute_result"
    }
   ],
   "source": [
    "a = {1:1, 2:2, 3:3}\n",
    "b = a # 할당\n",
    "a[1] = 45\n",
    "a, b"
   ]
  },
  {
   "cell_type": "markdown",
   "metadata": {},
   "source": [
    "#### 얕은 복사"
   ]
  },
  {
   "cell_type": "code",
   "execution_count": null,
   "metadata": {},
   "outputs": [
    {
     "data": {
      "text/plain": [
       "({1: 45, 2: 22, 3: 3}, {1: 45, 2: 2, 3: 3})"
      ]
     },
     "execution_count": 11,
     "metadata": {},
     "output_type": "execute_result"
    }
   ],
   "source": [
    "c = a.copy() # 얕은 복사\n",
    "a[2] = 22\n",
    "a, c"
   ]
  },
  {
   "cell_type": "markdown",
   "metadata": {},
   "source": [
    "얕은 복사의 문제: 2차원 이상의 리스트에서는 참조가 된다"
   ]
  },
  {
   "cell_type": "code",
   "execution_count": null,
   "metadata": {},
   "outputs": [
    {
     "data": {
      "text/plain": [
       "({1: [100, 2, 3], 2: [2, 3, 4]}, {1: [100, 2, 3], 2: [2, 3, 4]})"
      ]
     },
     "execution_count": 12,
     "metadata": {},
     "output_type": "execute_result"
    }
   ],
   "source": [
    "a = {1: [1, 2, 3], 2: [2, 3, 4]}\n",
    "d = a.copy()\n",
    "a[1][0] = 100\n",
    "a, d"
   ]
  },
  {
   "cell_type": "markdown",
   "metadata": {},
   "source": [
    "#### 깊은 복사"
   ]
  },
  {
   "cell_type": "code",
   "execution_count": null,
   "metadata": {},
   "outputs": [
    {
     "data": {
      "text/plain": [
       "({1: [100, 999, 3], 2: [2, 3, 4]}, {1: [100, 2, 3], 2: [2, 3, 4]})"
      ]
     },
     "execution_count": 13,
     "metadata": {},
     "output_type": "execute_result"
    }
   ],
   "source": [
    "import copy\n",
    "e = copy.deepcopy(a)\n",
    "a[1][1] = 999\n",
    "a, e"
   ]
  },
  {
   "cell_type": "markdown",
   "metadata": {},
   "source": [
    "#### 비교\n",
    "- `같다`, `다르다` 만 가능"
   ]
  },
  {
   "cell_type": "code",
   "execution_count": null,
   "metadata": {},
   "outputs": [
    {
     "data": {
      "text/plain": [
       "(True, False)"
      ]
     },
     "execution_count": 19,
     "metadata": {},
     "output_type": "execute_result"
    }
   ],
   "source": [
    "a != b, a == b"
   ]
  },
  {
   "cell_type": "markdown",
   "metadata": {},
   "source": [
    "### EX\n",
    "1. 두 리스트로 하나의 딕셔너리 생성\n",
    "2. 명왕성=pluto 추가하기\n",
    "3. '성'으로 끝나지 않는 키 삭제하기 (순회)\n",
    "4. sorted 이용해서 값 정렬 i) key 기준, ii) value 기준"
   ]
  },
  {
   "cell_type": "code",
   "execution_count": null,
   "metadata": {},
   "outputs": [],
   "source": [
    "solar_kor = '태양 수성 금성 지구 화성 목성 토성 천왕성 해왕성'.split()\n",
    "solar_eng = 'sun mercury venus earth mars jupiter saturn uranus neptune'.split()"
   ]
  },
  {
   "cell_type": "code",
   "execution_count": null,
   "metadata": {},
   "outputs": [
    {
     "data": {
      "text/plain": [
       "({'수성': 'mercury',\n",
       "  '금성': 'venus',\n",
       "  '화성': 'mars',\n",
       "  '목성': 'jupiter',\n",
       "  '토성': 'saturn',\n",
       "  '천왕성': 'uranus',\n",
       "  '해왕성': 'neptune',\n",
       "  '명왕성': 'pluto'},\n",
       " {'mercury': '수성',\n",
       "  'venus': '금성',\n",
       "  'mars': '화성',\n",
       "  'jupiter': '목성',\n",
       "  'saturn': '토성',\n",
       "  'uranus': '천왕성',\n",
       "  'neptune': '해왕성',\n",
       "  'pluto': '명왕성'})"
      ]
     },
     "execution_count": 35,
     "metadata": {},
     "output_type": "execute_result"
    }
   ],
   "source": [
    "# kor, eng 두 리스트를 합쳐 딕셔너리로\n",
    "system_kor = {k: e for k, e in zip(solar_kor, solar_eng)}\n",
    "system_eng = {e: k for e, k in zip(solar_eng, solar_kor)}\n",
    "\n",
    "# 명왕성=pluto 추가\n",
    "system_kor['명왕성'] = 'pluto'\n",
    "system_eng['pluto'] = '명왕성'\n",
    "\n",
    "# '성'으로 끝나지 않는 key 삭제 (순회)\n",
    "for planet in list(system_kor.keys()):\n",
    "    if not planet.endswith('성'):\n",
    "        del system_kor[planet]\n",
    "\n",
    "for planet in list(system_eng.keys()):\n",
    "    if not system_eng[planet].endswith('성'):\n",
    "        del system_eng[planet]\n",
    "\n",
    "sorted(system_kor.items()) ; sorted(system_eng.items())\n",
    "system_kor, system_eng"
   ]
  },
  {
   "cell_type": "code",
   "execution_count": null,
   "metadata": {},
   "outputs": [
    {
     "data": {
      "text/plain": [
       "{'수성': 'mercury',\n",
       " '금성': 'venus',\n",
       " '화성': 'mars',\n",
       " '목성': 'jupiter',\n",
       " '토성': 'saturn',\n",
       " '천왕성': 'uranus',\n",
       " '해왕성': 'neptune',\n",
       " '명왕성': 'pluto'}"
      ]
     },
     "execution_count": 37,
     "metadata": {},
     "output_type": "execute_result"
    }
   ],
   "source": [
    "dict([(k, system_kor[k]) for k in system_kor if k.endswith('성')])"
   ]
  },
  {
   "cell_type": "markdown",
   "metadata": {},
   "source": [
    "---"
   ]
  },
  {
   "cell_type": "markdown",
   "metadata": {},
   "source": [
    "### dictionary comprehension"
   ]
  },
  {
   "cell_type": "code",
   "execution_count": null,
   "metadata": {},
   "outputs": [
    {
     "data": {
      "text/plain": [
       "{'j': 1, 'o': 1, 'h': 1, 'n': 2, 'y': 1}"
      ]
     },
     "execution_count": 38,
     "metadata": {},
     "output_type": "execute_result"
    }
   ],
   "source": [
    "letter = 'johnny'\n",
    "# a: 1, p: 2, ...\n",
    "{ch: letter.count(ch) for ch in letter}"
   ]
  },
  {
   "cell_type": "code",
   "execution_count": null,
   "metadata": {},
   "outputs": [
    {
     "data": {
      "text/plain": [
       "{'a': 1, 'e': 1, 'o': 2, 'u': 1}"
      ]
     },
     "execution_count": 40,
     "metadata": {},
     "output_type": "execute_result"
    }
   ],
   "source": [
    "# 단어의 모음 세기\n",
    "vowels = 'aeiou'\n",
    "word = 'howareyou'\n",
    "\n",
    "# word 순회\n",
    "# vowels 순회\n",
    "\n",
    "{vowel: word.count(vowel) for vowel in vowels if vowel in word}"
   ]
  },
  {
   "cell_type": "code",
   "execution_count": null,
   "metadata": {},
   "outputs": [
    {
     "data": {
      "text/plain": [
       "{'e': 1, 'a': 1, 'o': 2, 'u': 1}"
      ]
     },
     "execution_count": 42,
     "metadata": {},
     "output_type": "execute_result"
    }
   ],
   "source": [
    "{vowel: word.count(vowel) for vowel in set(word) if vowel in vowels}"
   ]
  },
  {
   "cell_type": "code",
   "execution_count": null,
   "metadata": {},
   "outputs": [
    {
     "data": {
      "text/plain": [
       "{'수성': 'mercury',\n",
       " '금성': 'venus',\n",
       " '화성': 'mars',\n",
       " '목성': 'jupiter',\n",
       " '토성': 'saturn',\n",
       " '천왕성': 'uranus',\n",
       " '해왕성': 'neptune',\n",
       " '명왕성': 'pluto'}"
      ]
     },
     "execution_count": 43,
     "metadata": {},
     "output_type": "execute_result"
    }
   ],
   "source": [
    "{k: v for k, v in system_kor.items() if k.endswith('성')}"
   ]
  },
  {
   "cell_type": "markdown",
   "metadata": {},
   "source": [
    "---"
   ]
  },
  {
   "cell_type": "markdown",
   "metadata": {},
   "source": [
    "#### sorting"
   ]
  },
  {
   "cell_type": "code",
   "execution_count": null,
   "metadata": {},
   "outputs": [],
   "source": [
    "def fx(x):\n",
    "    return x[1] # 1은 value"
   ]
  },
  {
   "cell_type": "code",
   "execution_count": null,
   "metadata": {},
   "outputs": [
    {
     "data": {
      "text/plain": [
       "[('목성', 'jupiter'),\n",
       " ('화성', 'mars'),\n",
       " ('수성', 'mercury'),\n",
       " ('해왕성', 'neptune'),\n",
       " ('명왕성', 'pluto'),\n",
       " ('토성', 'saturn'),\n",
       " ('천왕성', 'uranus'),\n",
       " ('금성', 'venus')]"
      ]
     },
     "execution_count": 51,
     "metadata": {},
     "output_type": "execute_result"
    }
   ],
   "source": [
    "sorted(system_kor.items(), key=fx) "
   ]
  },
  {
   "cell_type": "code",
   "execution_count": null,
   "metadata": {},
   "outputs": [
    {
     "data": {
      "text/plain": [
       "[('금성', 'venus'),\n",
       " ('명왕성', 'pluto'),\n",
       " ('목성', 'jupiter'),\n",
       " ('수성', 'mercury'),\n",
       " ('천왕성', 'uranus'),\n",
       " ('토성', 'saturn'),\n",
       " ('해왕성', 'neptune'),\n",
       " ('화성', 'mars')]"
      ]
     },
     "execution_count": 48,
     "metadata": {},
     "output_type": "execute_result"
    }
   ],
   "source": [
    "sorted(system_kor.items(), key=lambda x: x[0]) # 0은 key"
   ]
  },
  {
   "cell_type": "code",
   "execution_count": null,
   "metadata": {},
   "outputs": [
    {
     "data": {
      "text/plain": [
       "[('목성', 'jupiter'),\n",
       " ('화성', 'mars'),\n",
       " ('수성', 'mercury'),\n",
       " ('해왕성', 'neptune'),\n",
       " ('명왕성', 'pluto'),\n",
       " ('토성', 'saturn'),\n",
       " ('천왕성', 'uranus'),\n",
       " ('금성', 'venus')]"
      ]
     },
     "execution_count": 49,
     "metadata": {},
     "output_type": "execute_result"
    }
   ],
   "source": [
    "sorted(system_kor.items(), key=lambda x: x[1]) # 1은 value"
   ]
  },
  {
   "cell_type": "markdown",
   "metadata": {},
   "source": [
    "---"
   ]
  },
  {
   "cell_type": "markdown",
   "metadata": {},
   "source": [
    "#### set\n",
    "- \"중복이 없다\"\n",
    "- 집합과 동일한 개념 => 교집합, 합집합, 차집합, ...\n",
    "- 순서도 없고 중복도 없는 bag과 같은 것, indexing도 없다"
   ]
  },
  {
   "cell_type": "code",
   "execution_count": null,
   "metadata": {},
   "outputs": [
    {
     "data": {
      "text/plain": [
       "set()"
      ]
     },
     "execution_count": 114,
     "metadata": {},
     "output_type": "execute_result"
    }
   ],
   "source": [
    "# 빈 set 선언 방법\n",
    "empty = set() ; empty"
   ]
  },
  {
   "cell_type": "code",
   "execution_count": null,
   "metadata": {},
   "outputs": [
    {
     "data": {
      "text/plain": [
       "{1, 2, 3}"
      ]
     },
     "execution_count": 53,
     "metadata": {},
     "output_type": "execute_result"
    }
   ],
   "source": [
    "# 1\n",
    "a = {1, 2, 3} ; a"
   ]
  },
  {
   "cell_type": "code",
   "execution_count": null,
   "metadata": {},
   "outputs": [
    {
     "ename": "TypeError",
     "evalue": "set expected at most 1 argument, got 3",
     "output_type": "error",
     "traceback": [
      "\u001b[1;31m---------------------------------------------------------------------------\u001b[0m",
      "\u001b[1;31mTypeError\u001b[0m                                 Traceback (most recent call last)",
      "\u001b[1;32m~\\AppData\\Local\\Temp/ipykernel_21972/874792805.py\u001b[0m in \u001b[0;36m<module>\u001b[1;34m\u001b[0m\n\u001b[0;32m      1\u001b[0m \u001b[1;31m# 2\u001b[0m\u001b[1;33m\u001b[0m\u001b[1;33m\u001b[0m\u001b[0m\n\u001b[1;32m----> 2\u001b[1;33m \u001b[0ma\u001b[0m \u001b[1;33m=\u001b[0m \u001b[0mset\u001b[0m\u001b[1;33m(\u001b[0m\u001b[1;36m1\u001b[0m\u001b[1;33m,\u001b[0m \u001b[1;36m2\u001b[0m\u001b[1;33m,\u001b[0m \u001b[1;36m3\u001b[0m\u001b[1;33m)\u001b[0m\u001b[1;33m\u001b[0m\u001b[1;33m\u001b[0m\u001b[0m\n\u001b[0m\u001b[0;32m      3\u001b[0m \u001b[0ma\u001b[0m\u001b[1;33m\u001b[0m\u001b[1;33m\u001b[0m\u001b[0m\n",
      "\u001b[1;31mTypeError\u001b[0m: set expected at most 1 argument, got 3"
     ]
    }
   ],
   "source": [
    "# 2\n",
    "a = set(1, 2, 3) ; a # Error"
   ]
  },
  {
   "cell_type": "code",
   "execution_count": null,
   "metadata": {},
   "outputs": [
    {
     "data": {
      "text/plain": [
       "{1, 2, 3}"
      ]
     },
     "execution_count": 31,
     "metadata": {},
     "output_type": "execute_result"
    }
   ],
   "source": [
    "a = set((1, 2, 3)) ; a# 선언, 형 변환"
   ]
  },
  {
   "cell_type": "code",
   "execution_count": null,
   "metadata": {},
   "outputs": [
    {
     "data": {
      "text/plain": [
       "{1, 2, 3}"
      ]
     },
     "execution_count": 112,
     "metadata": {},
     "output_type": "execute_result"
    }
   ],
   "source": [
    "# 추가\n",
    "a.add(3) ; a # 중복 X"
   ]
  },
  {
   "cell_type": "code",
   "execution_count": null,
   "metadata": {},
   "outputs": [
    {
     "data": {
      "text/plain": [
       "{1, 2, 3, 4}"
      ]
     },
     "execution_count": 113,
     "metadata": {},
     "output_type": "execute_result"
    }
   ],
   "source": [
    "a.add(4) ; a"
   ]
  },
  {
   "cell_type": "code",
   "execution_count": null,
   "metadata": {},
   "outputs": [],
   "source": [
    "drinks = {\n",
    "    'martini': {'vodka', 'vermouth'},\n",
    "    'black russian': {'vodka', 'kahlua'},\n",
    "    'white russian': {'cream', 'kahlua', 'vodka'},\n",
    "    'manhattan': {'rye', 'vermouth', 'bitters'},\n",
    "    'screwdriver': {'orange juice', 'vodka'}\n",
    "}"
   ]
  },
  {
   "cell_type": "markdown",
   "metadata": {},
   "source": [
    "vodka가 포함된 술 출력하기"
   ]
  },
  {
   "cell_type": "code",
   "execution_count": null,
   "metadata": {},
   "outputs": [
    {
     "data": {
      "text/plain": [
       "{'black russian', 'martini', 'screwdriver', 'white russian'}"
      ]
     },
     "execution_count": 71,
     "metadata": {},
     "output_type": "execute_result"
    }
   ],
   "source": [
    "{drink for drink, ingr in drinks.items() if 'vodka' in ingr}"
   ]
  },
  {
   "cell_type": "markdown",
   "metadata": {},
   "source": [
    "\n",
    "vodka는 있지만 cream이나 vermouth 없는 술 출력하기"
   ]
  },
  {
   "cell_type": "code",
   "execution_count": null,
   "metadata": {},
   "outputs": [
    {
     "data": {
      "text/plain": [
       "{'black russian', 'screwdriver'}"
      ]
     },
     "execution_count": 90,
     "metadata": {},
     "output_type": "execute_result"
    }
   ],
   "source": [
    "{drink for drink, ingr in drinks.items() \n",
    "if 'vodka' in ingr and not'cream' in ingr and not 'vermouth' in ingr}"
   ]
  },
  {
   "cell_type": "markdown",
   "metadata": {},
   "source": [
    "# set을 활용해서 바꾸기"
   ]
  },
  {
   "cell_type": "code",
   "execution_count": null,
   "metadata": {},
   "outputs": [],
   "source": [
    "a = {1, 2, 3}\n",
    "b = {2, 3, 4}"
   ]
  },
  {
   "cell_type": "code",
   "execution_count": null,
   "metadata": {},
   "outputs": [
    {
     "data": {
      "text/plain": [
       "{2, 3}"
      ]
     },
     "execution_count": 101,
     "metadata": {},
     "output_type": "execute_result"
    }
   ],
   "source": [
    "# 교집합 | intersection\n",
    "a.intersection(b)\n",
    "a & b"
   ]
  },
  {
   "cell_type": "code",
   "execution_count": null,
   "metadata": {},
   "outputs": [
    {
     "data": {
      "text/plain": [
       "{1, 2, 3, 4}"
      ]
     },
     "execution_count": 100,
     "metadata": {},
     "output_type": "execute_result"
    }
   ],
   "source": [
    "# 합집합 | union\n",
    "a.union(b)\n",
    "a | b"
   ]
  },
  {
   "cell_type": "code",
   "execution_count": null,
   "metadata": {},
   "outputs": [
    {
     "data": {
      "text/plain": [
       "{1}"
      ]
     },
     "execution_count": 99,
     "metadata": {},
     "output_type": "execute_result"
    }
   ],
   "source": [
    "# 차집합 | difference\n",
    "a.difference(b) \n",
    "# a-b, b-a 다르다"
   ]
  },
  {
   "cell_type": "code",
   "execution_count": null,
   "metadata": {},
   "outputs": [
    {
     "name": "stdout",
     "output_type": "stream",
     "text": [
      "black russian\n",
      "screwdriver\n"
     ]
    }
   ],
   "source": [
    "for drink, ingr in drinks.items():\n",
    "    if 'vodka' in ingr and not ingr & {'cream', 'vermouth'}:\n",
    "        print(drink)"
   ]
  },
  {
   "cell_type": "code",
   "execution_count": null,
   "metadata": {},
   "outputs": [
    {
     "data": {
      "text/plain": [
       "{0, 1, 2, 3, 4}"
      ]
     },
     "execution_count": 73,
     "metadata": {},
     "output_type": "execute_result"
    }
   ],
   "source": [
    "{s for s in range(5)}"
   ]
  },
  {
   "cell_type": "markdown",
   "metadata": {},
   "source": [
    "frozenset\n",
    "- set과 문법과 기능이 거의 동일\n",
    "- 차이점\n",
    "    - set - mutable\n",
    "        - 새로운 값의 추가, 삭제 **가능**\n",
    "    - frozenset - immutable\n",
    "        - 새로운 값의 추가, 삭제 **불가**"
   ]
  },
  {
   "cell_type": "code",
   "execution_count": null,
   "metadata": {},
   "outputs": [
    {
     "data": {
      "text/plain": [
       "{1, 2, 7}"
      ]
     },
     "execution_count": 111,
     "metadata": {},
     "output_type": "execute_result"
    }
   ],
   "source": [
    "k = set([1, 2]) ; k.add(7) ; k"
   ]
  },
  {
   "cell_type": "code",
   "execution_count": null,
   "metadata": {},
   "outputs": [
    {
     "ename": "AttributeError",
     "evalue": "'frozenset' object has no attribute 'add'",
     "output_type": "error",
     "traceback": [
      "\u001b[1;31m---------------------------------------------------------------------------\u001b[0m",
      "\u001b[1;31mAttributeError\u001b[0m                            Traceback (most recent call last)",
      "\u001b[1;32m~\\AppData\\Local\\Temp/ipykernel_21972/2822459792.py\u001b[0m in \u001b[0;36m<module>\u001b[1;34m\u001b[0m\n\u001b[1;32m----> 1\u001b[1;33m \u001b[0mf\u001b[0m \u001b[1;33m=\u001b[0m \u001b[0mfrozenset\u001b[0m\u001b[1;33m(\u001b[0m\u001b[1;33m[\u001b[0m\u001b[1;36m1\u001b[0m\u001b[1;33m,\u001b[0m \u001b[1;36m2\u001b[0m\u001b[1;33m]\u001b[0m\u001b[1;33m)\u001b[0m \u001b[1;33m;\u001b[0m \u001b[0mf\u001b[0m\u001b[1;33m.\u001b[0m\u001b[0madd\u001b[0m\u001b[1;33m(\u001b[0m\u001b[1;36m6\u001b[0m\u001b[1;33m)\u001b[0m \u001b[1;33m;\u001b[0m \u001b[0mf\u001b[0m \u001b[1;31m# AttributeError: 'frozenset' object has no attribute 'add'\u001b[0m\u001b[1;33m\u001b[0m\u001b[1;33m\u001b[0m\u001b[0m\n\u001b[0m",
      "\u001b[1;31mAttributeError\u001b[0m: 'frozenset' object has no attribute 'add'"
     ]
    }
   ],
   "source": [
    "f = frozenset([1, 2]) ; f.add(6) ; f # AttributeError: 'frozenset' object has no attribute 'add'"
   ]
  },
  {
   "cell_type": "code",
   "execution_count": null,
   "metadata": {},
   "outputs": [],
   "source": []
  }
 ],
 "metadata": {
  "interpreter": {
   "hash": "6a55046560e0777cd09ea038c154df8f48fd49c9d038f217d8d91ecd7ac0a85e"
  },
  "kernelspec": {
   "display_name": "Python 3.9.7 ('base')",
   "language": "python",
   "name": "python3"
  },
  "language_info": {
   "codemirror_mode": {
    "name": "ipython",
    "version": 3
   },
   "file_extension": ".py",
   "mimetype": "text/x-python",
   "name": "python",
   "nbconvert_exporter": "python",
   "pygments_lexer": "ipython3",
   "version": "3.9.7"
  },
  "orig_nbformat": 4
 },
 "nbformat": 4,
 "nbformat_minor": 2
}
