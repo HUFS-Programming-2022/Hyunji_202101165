{
 "cells": [
  {
   "cell_type": "markdown",
   "id": "41978563",
   "metadata": {},
   "source": [
    "# 객체(object)와 클래스(class)"
   ]
  },
  {
   "cell_type": "markdown",
   "id": "1798da16",
   "metadata": {},
   "source": [
    "## object\n",
    "```\n",
    "Any data with state (attributes or value) and defined behavior (methods).    \n",
    "Also the ultimate base class of any new-style class.\n",
    "```\n",
    "\n",
    "\" 어떠한 속성값과 행동을 가지는 데이터 \"\n",
    "<br>\n",
    "---\n",
    "예시1 - ```자동차``` 라는 객체\n",
    "- 속성: 차량 번호, 색상, 제조사, 모델명, ...\n",
    "- 행동: 앞으로 이동, 멈추기, ...\n",
    "\n",
    "예시2 - ```강아지``` 라는 객체\n",
    "- 속성: 이름, 종, 핵, 무게, ...\n",
    "- 행동: 뛰다, 짖다, 자다, 핥다, ... \n",
    "\n",
    "<br>\n",
    "\n",
    "### 객체 지향 프로그래밍(Object-Oriented Programming)\n",
    "```\n",
    "컴퓨터 프로그램을 명령어의 목록으로 보는 시각에서 벗어나 여러 개의 독립된 단위, 즉 \"객체\"들의 모임으로 파악하고자 하는 것\n",
    "\n",
    "각각의 객체는 메시지를 주고받고, 데이터를 처리할 수 있다\n",
    "\n",
    "객체 지향 프로그래밍은 프로그램을 유연하고 변경이 쉽게 만들기 때문에 대규모 소프트웨어 개발에 많이 사용된다\n",
    "```\n",
    "\n",
    "---\n",
    "예시 - ```편의점 프로그램```: '고객이 편의점에서 과자를 산다'\n",
    "- 객체\n",
    "    - 고객\n",
    "        - 속성: 이름\n",
    "        - 행동: 물건을 사다, 돈을 내다\n",
    "    - 편의점\n",
    "        - 속성: 이름, 돈, 재고, 수익\n",
    "        - 행동: 팔다, 수익을 남기다, 재고 등록\n",
    "    - 물건\n",
    "        - 속성: 이름, 프랜드, 가격\n",
    "        - 행동: X (경우에 따라 없어도 됨)\n",
    "<br><br>        \n",
    "- 객체 간의 상호작용으로 코드를 구성한다\n",
    "    - *필요한* 속성과 행동을 부여\n",
    "    - 속성은 variable로, 행동은 method로 표현\n",
    "---"
   ]
  },
  {
   "cell_type": "markdown",
   "id": "2f29d711",
   "metadata": {},
   "source": [
    "## class\n",
    "```\n",
    "A template for creating user-defined objects. \n",
    "\n",
    "Class definitions normally contain method definitions which operate on instances of the class.\n",
    "```\n",
    "\n",
    "> ### Instance ```an object that belongs to a class. For instance, list is a class in Python. When we create a list, we have an instance of the list class.```\n",
    "\n",
    "- ```정의부```와 ```선언부```가 있다\n",
    "    - 붕어빵 틀 = ```정의부```\n",
    "    - 붕어빵 = ```선언부```\n",
    "<br><br>\n",
    "\n",
    "### 이름 짓기\n",
    "- 첫글자는 대문자\n",
    "- 두 단어 이상인 경우\n",
    "    - ex) nice car\n",
    "        - Nice_car (X)\n",
    "        - NiceCar (O) (camel case)"
   ]
  },
  {
   "cell_type": "code",
   "execution_count": 38,
   "id": "2e09ce71",
   "metadata": {},
   "outputs": [
    {
     "data": {
      "text/plain": [
       "<__main__.Car at 0x1b47abde430>"
      ]
     },
     "execution_count": 38,
     "metadata": {},
     "output_type": "execute_result"
    }
   ],
   "source": [
    "# 정의부\n",
    "class Car: # 객체\n",
    "    pass\n",
    "\n",
    "# 선언부\n",
    "my_car = Car() # instance\n",
    "my_car"
   ]
  },
  {
   "cell_type": "markdown",
   "id": "f2753dee",
   "metadata": {},
   "source": [
    "---"
   ]
  },
  {
   "cell_type": "markdown",
   "id": "1760076e",
   "metadata": {},
   "source": [
    "class가 용이한 점\n",
    "- 속성을 만들 수 있다"
   ]
  },
  {
   "cell_type": "code",
   "execution_count": 39,
   "id": "ee309fc7",
   "metadata": {},
   "outputs": [],
   "source": [
    "my_car.name = 'bmw' \n",
    "my_car.color = 'whice'"
   ]
  },
  {
   "cell_type": "code",
   "execution_count": 40,
   "id": "ad00bab8",
   "metadata": {
    "scrolled": true
   },
   "outputs": [
    {
     "data": {
      "text/plain": [
       "('bmw', 'whice')"
      ]
     },
     "execution_count": 40,
     "metadata": {},
     "output_type": "execute_result"
    }
   ],
   "source": [
    "my_car.name , my_car.color"
   ]
  },
  {
   "cell_type": "markdown",
   "id": "530c9498",
   "metadata": {},
   "source": [
    "---"
   ]
  },
  {
   "cell_type": "code",
   "execution_count": 41,
   "id": "2ef365ee",
   "metadata": {},
   "outputs": [],
   "source": [
    "class Car:\n",
    "    # 1. 속성 정의\n",
    "    brand = 'BMW'"
   ]
  },
  {
   "cell_type": "code",
   "execution_count": 42,
   "id": "0f6bc47f",
   "metadata": {},
   "outputs": [
    {
     "data": {
      "text/plain": [
       "'BMW'"
      ]
     },
     "execution_count": 42,
     "metadata": {},
     "output_type": "execute_result"
    }
   ],
   "source": [
    "your_car = Car() ; your_car.brand"
   ]
  },
  {
   "cell_type": "code",
   "execution_count": 43,
   "id": "a0a3295c",
   "metadata": {
    "scrolled": true
   },
   "outputs": [
    {
     "data": {
      "text/plain": [
       "'Kia'"
      ]
     },
     "execution_count": 43,
     "metadata": {},
     "output_type": "execute_result"
    }
   ],
   "source": [
    "your_car.brand = \"Kia\" ; your_car.brand # 정의한 속성을 바꿀 수도 있다"
   ]
  },
  {
   "cell_type": "markdown",
   "id": "68b636d6",
   "metadata": {},
   "source": [
    "---"
   ]
  },
  {
   "cell_type": "code",
   "execution_count": 44,
   "id": "7e2bbdfc",
   "metadata": {},
   "outputs": [],
   "source": [
    "class Car:\n",
    "    # 클래스 내에 정의된 함수를 method라고 하며, \n",
    "    # method와 생성자(__init__)의 첫 번째 인자는 항상 self이다.\n",
    "    def __init__(self, name, model=None, color='black'):\n",
    "        self.name = name # self == instance: 나 자신(instance 자신)\n",
    "        self.model = model\n",
    "        self.color = color"
   ]
  },
  {
   "cell_type": "code",
   "execution_count": 45,
   "id": "4960eb13",
   "metadata": {},
   "outputs": [
    {
     "data": {
      "text/plain": [
       "('Fe', 'Santa Fe', 'black')"
      ]
     },
     "execution_count": 45,
     "metadata": {},
     "output_type": "execute_result"
    }
   ],
   "source": [
    "my_car = Car(name='Fe', model='Santa Fe')\n",
    "my_car.name, my_car.model, my_car.color\n",
    "# model이라는 속성은 instance를 생성할 때 부여, color는 init에서 정했으므로"
   ]
  },
  {
   "cell_type": "code",
   "execution_count": 46,
   "id": "0d5b8a5a",
   "metadata": {
    "scrolled": true
   },
   "outputs": [
    {
     "data": {
      "text/plain": [
       "('Fe', 'Santa Fe', 'silver')"
      ]
     },
     "execution_count": 46,
     "metadata": {},
     "output_type": "execute_result"
    }
   ],
   "source": [
    "my_car = Car(name='Fe', model='Santa Fe', color='silver')\n",
    "my_car.name, my_car.model, my_car.color\n",
    "# color=Black default로 했지만 바꿀 수 있다"
   ]
  },
  {
   "cell_type": "markdown",
   "id": "c01a2383",
   "metadata": {},
   "source": [
    "---"
   ]
  },
  {
   "cell_type": "code",
   "execution_count": 47,
   "id": "221fe614",
   "metadata": {},
   "outputs": [],
   "source": [
    "class Car:\n",
    "    # 클래스 내에 정의된 함수를 method라고 하며, \n",
    "    # method와 생성자(__init__)의 첫 번째 인자는 항상 self이다.\n",
    "    def __init__(self, name, model=None, color='black'):\n",
    "        self.name = name # self == instance: 나 자신(instance 자신)\n",
    "        self.model = model\n",
    "        self.color = color\n",
    "    \n",
    "    def drive(self):\n",
    "        print(f\"'{self.name}' starts...\")\n",
    "    \n",
    "    def stop(self):\n",
    "        print(f\"'{self.name}' stops...\")\n",
    "    \n",
    "    def change_color(self, color='gray'):\n",
    "        # color 값이 들어오지 않으면 gray로, 들어오면 그 color로 변경\n",
    "        self.color = color\n",
    "        print(f\"The color of '{self.name}' was changed to '{self.color}'.\")"
   ]
  },
  {
   "cell_type": "markdown",
   "id": "45d6f3e3",
   "metadata": {},
   "source": [
    "---"
   ]
  },
  {
   "cell_type": "code",
   "execution_count": 48,
   "id": "b3bdf48d",
   "metadata": {},
   "outputs": [
    {
     "name": "stdout",
     "output_type": "stream",
     "text": [
      "'Fe' starts...\n"
     ]
    },
    {
     "data": {
      "text/plain": [
       "'white'"
      ]
     },
     "execution_count": 48,
     "metadata": {},
     "output_type": "execute_result"
    }
   ],
   "source": [
    "my_car = Car(name='Fe', model='Santa Fe', color='white')\n",
    "my_car.drive()\n",
    "my_car.color"
   ]
  },
  {
   "cell_type": "code",
   "execution_count": 49,
   "id": "158294bb",
   "metadata": {
    "scrolled": true
   },
   "outputs": [
    {
     "name": "stdout",
     "output_type": "stream",
     "text": [
      "The color of 'Fe' was changed to 'blue'.\n"
     ]
    },
    {
     "data": {
      "text/plain": [
       "'blue'"
      ]
     },
     "execution_count": 49,
     "metadata": {},
     "output_type": "execute_result"
    }
   ],
   "source": [
    "my_car.change_color(color='blue') ; my_car.color"
   ]
  },
  {
   "cell_type": "markdown",
   "id": "040f5afa",
   "metadata": {},
   "source": [
    "---"
   ]
  },
  {
   "cell_type": "code",
   "execution_count": 50,
   "id": "8702ee77",
   "metadata": {},
   "outputs": [
    {
     "data": {
      "text/plain": [
       "'black'"
      ]
     },
     "execution_count": 50,
     "metadata": {},
     "output_type": "execute_result"
    }
   ],
   "source": [
    "my_2nd_car = Car(name='Nata', model='Sonata')\n",
    "my_2nd_car.color"
   ]
  },
  {
   "cell_type": "code",
   "execution_count": 51,
   "id": "645e6ca5",
   "metadata": {},
   "outputs": [
    {
     "name": "stdout",
     "output_type": "stream",
     "text": [
      "The color of 'Nata' was changed to 'gray'.\n"
     ]
    },
    {
     "data": {
      "text/plain": [
       "'gray'"
      ]
     },
     "execution_count": 51,
     "metadata": {},
     "output_type": "execute_result"
    }
   ],
   "source": [
    "my_2nd_car.change_color() ; my_2nd_car.color"
   ]
  },
  {
   "cell_type": "code",
   "execution_count": 52,
   "id": "08f085a1",
   "metadata": {
    "scrolled": true
   },
   "outputs": [
    {
     "name": "stdout",
     "output_type": "stream",
     "text": [
      "The color of 'Nata' was changed to 'white'.\n"
     ]
    },
    {
     "data": {
      "text/plain": [
       "'white'"
      ]
     },
     "execution_count": 52,
     "metadata": {},
     "output_type": "execute_result"
    }
   ],
   "source": [
    "my_2nd_car.change_color('white') ; my_2nd_car.color"
   ]
  },
  {
   "cell_type": "markdown",
   "id": "bc025106",
   "metadata": {},
   "source": [
    "---"
   ]
  },
  {
   "cell_type": "markdown",
   "id": "fc82fad4",
   "metadata": {},
   "source": [
    "### 캡슐화(Encapsulation), 정보 은닉(Information Hiding)"
   ]
  },
  {
   "cell_type": "markdown",
   "id": "59439a34",
   "metadata": {},
   "source": [
    "#### 캡슐화\n",
    "```\n",
    "클래스를 정의할 때 내부의 속성과 method를 묶어 하나의 단위로 처리하는 것\n",
    "\n",
    "장점 - 객체의 세부내용이 외부에 은폐(정보 은닉)되어,\n",
    "변경이 발생할 때 오류발생이 적으며 재사용이 용이하다\n",
    "\n",
    "파이썬에서는 속성과 method가 전부 공개되어있기 때문에 숨길 방안이 없다\n",
    "```"
   ]
  },
  {
   "cell_type": "code",
   "execution_count": 53,
   "id": "124ee705",
   "metadata": {},
   "outputs": [],
   "source": [
    "class Fruit:\n",
    "    color = 'red'"
   ]
  },
  {
   "cell_type": "code",
   "execution_count": 54,
   "id": "a656b15d",
   "metadata": {},
   "outputs": [
    {
     "data": {
      "text/plain": [
       "'red'"
      ]
     },
     "execution_count": 54,
     "metadata": {},
     "output_type": "execute_result"
    }
   ],
   "source": [
    "kiwi = Fruit() ; kiwi.color"
   ]
  },
  {
   "cell_type": "code",
   "execution_count": 55,
   "id": "0cdb6a91",
   "metadata": {},
   "outputs": [],
   "source": [
    "Fruit.color = 'black' # 틀, 속성이 바뀌었다"
   ]
  },
  {
   "cell_type": "code",
   "execution_count": 56,
   "id": "208243da",
   "metadata": {},
   "outputs": [
    {
     "data": {
      "text/plain": [
       "'black'"
      ]
     },
     "execution_count": 56,
     "metadata": {},
     "output_type": "execute_result"
    }
   ],
   "source": [
    "apple = Fruit() ; apple.color # problem"
   ]
  },
  {
   "cell_type": "markdown",
   "id": "78586f14",
   "metadata": {},
   "source": [
    "#### get & set\n",
    "```\n",
    "getter: 클래스 내 객체의 변수 반환\n",
    "setter: 변수 설정\n",
    "```"
   ]
  },
  {
   "cell_type": "code",
   "execution_count": 57,
   "id": "6cc43317",
   "metadata": {},
   "outputs": [],
   "source": [
    "class Car:\n",
    "    def __init__(self, input_name):\n",
    "        self.name = input_name\n",
    "        \n",
    "    def get_name(self):\n",
    "        # 변수 반환\n",
    "        return self.name\n",
    "    \n",
    "    def set_name(self, input_name):\n",
    "        self.name = input_name\n",
    "\n",
    "c = Car('name1')"
   ]
  },
  {
   "cell_type": "code",
   "execution_count": 58,
   "id": "ecef8fb6",
   "metadata": {},
   "outputs": [
    {
     "data": {
      "text/plain": [
       "'name1'"
      ]
     },
     "execution_count": 58,
     "metadata": {},
     "output_type": "execute_result"
    }
   ],
   "source": [
    "c.get_name()"
   ]
  },
  {
   "cell_type": "code",
   "execution_count": 59,
   "id": "0db152e8",
   "metadata": {},
   "outputs": [
    {
     "data": {
      "text/plain": [
       "'name3'"
      ]
     },
     "execution_count": 59,
     "metadata": {},
     "output_type": "execute_result"
    }
   ],
   "source": [
    "c.set_name('name3') ; c.get_name()"
   ]
  },
  {
   "cell_type": "markdown",
   "id": "aec3fff1",
   "metadata": {},
   "source": [
    "#### private attribute\n",
    "    - 이름이 '_'로 시작하는 attribute는 private으로 간주\n",
    "    (프로그래밍 스타일일 뿐, 여전히 접근과 변경이 가능함)   \n",
    "    \n",
    "    - 호출해서 사용하지 않는다"
   ]
  },
  {
   "cell_type": "markdown",
   "id": "f9416fa5",
   "metadata": {},
   "source": [
    "🔼 위까지는 java version"
   ]
  },
  {
   "cell_type": "markdown",
   "id": "4f805ae2",
   "metadata": {},
   "source": [
    "---\n",
    "🔽 pythonic한 방법"
   ]
  },
  {
   "cell_type": "code",
   "execution_count": 60,
   "id": "b2cafec8",
   "metadata": {},
   "outputs": [],
   "source": [
    "class Car:\n",
    "    def __init__(self, input_name):\n",
    "        self.hidden_name = input_name\n",
    "        \n",
    "    def get_name(self):\n",
    "        # 변수 반환\n",
    "        return self.hidden_name\n",
    "    \n",
    "    def set_name(self, input_name):\n",
    "        self.name = input_name\n",
    "        \n",
    "    name = property(get_name, set_name) # 너무 길어서 줄이자"
   ]
  },
  {
   "cell_type": "code",
   "execution_count": 61,
   "id": "a5db4292",
   "metadata": {},
   "outputs": [
    {
     "data": {
      "text/plain": [
       "'name_1'"
      ]
     },
     "execution_count": 61,
     "metadata": {},
     "output_type": "execute_result"
    }
   ],
   "source": [
    "d = Car('name_1') ; d.name"
   ]
  },
  {
   "cell_type": "code",
   "execution_count": 62,
   "id": "6863c214",
   "metadata": {},
   "outputs": [],
   "source": [
    "class Car:\n",
    "    def __init__(self, input_name):\n",
    "        self.__name = input_name\n",
    "        \n",
    "    # decorator\n",
    "    @property\n",
    "    def name(self):\n",
    "        # 변수 반환\n",
    "        return self.__name\n",
    "\n",
    "    @name.setter\n",
    "    def name(self, input_name):\n",
    "        self.hidden_name = input_name"
   ]
  },
  {
   "cell_type": "code",
   "execution_count": 63,
   "id": "22e36da8",
   "metadata": {},
   "outputs": [
    {
     "data": {
      "text/plain": [
       "'Sonata'"
      ]
     },
     "execution_count": 63,
     "metadata": {},
     "output_type": "execute_result"
    }
   ],
   "source": [
    "car4 = Car('Sonata')\n",
    "car4.name"
   ]
  },
  {
   "cell_type": "markdown",
   "id": "366478b0",
   "metadata": {},
   "source": [
    "---"
   ]
  },
  {
   "cell_type": "code",
   "execution_count": 64,
   "id": "d42bfb15",
   "metadata": {},
   "outputs": [],
   "source": [
    "class Circle:\n",
    "    def __init__(self, radius):\n",
    "        self.radius = radius\n",
    "    \n",
    "    @property\n",
    "    def parameter(self):\n",
    "        return self.radius * 2"
   ]
  },
  {
   "cell_type": "code",
   "execution_count": 65,
   "id": "a12458a7",
   "metadata": {},
   "outputs": [
    {
     "data": {
      "text/plain": [
       "10"
      ]
     },
     "execution_count": 65,
     "metadata": {},
     "output_type": "execute_result"
    }
   ],
   "source": [
    "ex = Circle(5) # 반지름 입력\n",
    "ex.parameter # 지름"
   ]
  },
  {
   "cell_type": "markdown",
   "id": "879aea17",
   "metadata": {},
   "source": [
    "## 실습\n",
    "\n",
    "- 메모장, 메모 구현하기 -> 두 개의 객체\n",
    "\n",
    "- 메모장\n",
    "    - 속성: 제목, 페이지 번호, 메모\n",
    "    - 메모 추가하다, 메모 삭제하다, 페이지 번호 확인하다\n",
    "- 메모\n",
    "    - 속성: 글귀\n",
    "    - 행동: 쓰다, 지우다\n",
    " - 사용:\n",
    "     - 메모를 쓴다\n",
    "     - 메모장에 추가\n",
    "     - 추가한 만큼 페이지 번호가 늘어난다\n",
    "     - 메모 삭제\n",
    "         - 페이지 번호가 줄어든다\n",
    "     - 메모장-  제목만 은닉시키다\n",
    "\n",
    "\n",
    " - 두 개의 클래스\n",
    " - 한 페이지에 하나씩 넣기"
   ]
  },
  {
   "cell_type": "code",
   "execution_count": 66,
   "id": "76715f50",
   "metadata": {},
   "outputs": [],
   "source": [
    "# 사용\n",
    "line1 = '우리 모두 스스로가 원하는 리더가 됩시다'\n",
    "line2 = '모두가 함께 앞으로 나아가면 성공은 저절로 따라옵니다'\n",
    "line3 = '혼자서는 작은 한 방울이지만 함께 모이면 바다를 이룹니다'"
   ]
  },
  {
   "cell_type": "code",
   "execution_count": 67,
   "id": "ed17f76d",
   "metadata": {},
   "outputs": [],
   "source": [
    "class Note:\n",
    "\n",
    "    def __init__(self, line = None):\n",
    "        self.line = line\n",
    "        self.lines = []\n",
    "\n",
    "    def write(self, line):\n",
    "        self.line = line\n",
    "        self.lines.append(line)\n",
    "        print('Your note was just saved.')\n",
    "    \n",
    "    def empty(self):\n",
    "        self.lines.clear()\n",
    "        print('Your note was just emptied')\n",
    "            \n",
    "    def view(self):\n",
    "        if self.lines == []:\n",
    "            print('(Empty note)')\n",
    "        else:\n",
    "            for line in self.lines:\n",
    "                print(line)\n",
    "        "
   ]
  },
  {
   "cell_type": "code",
   "execution_count": 68,
   "id": "3bc3d074",
   "metadata": {},
   "outputs": [],
   "source": [
    "my_note = Note()"
   ]
  },
  {
   "cell_type": "code",
   "execution_count": 69,
   "id": "3371856d",
   "metadata": {},
   "outputs": [
    {
     "name": "stdout",
     "output_type": "stream",
     "text": [
      "Your note was just saved.\n",
      "우리 모두 스스로가 원하는 리더가 됩시다\n"
     ]
    }
   ],
   "source": [
    "my_note.write(line1) ; my_note.view()"
   ]
  },
  {
   "cell_type": "code",
   "execution_count": 70,
   "id": "072b227d",
   "metadata": {},
   "outputs": [
    {
     "name": "stdout",
     "output_type": "stream",
     "text": [
      "Your note was just saved.\n",
      "우리 모두 스스로가 원하는 리더가 됩시다\n",
      "모두가 함께 앞으로 나아가면 성공은 저절로 따라옵니다\n"
     ]
    }
   ],
   "source": [
    "my_note.write(line2) ; my_note.view()"
   ]
  },
  {
   "cell_type": "code",
   "execution_count": 71,
   "id": "7a20ba5f",
   "metadata": {},
   "outputs": [
    {
     "name": "stdout",
     "output_type": "stream",
     "text": [
      "Your note was just saved.\n",
      "우리 모두 스스로가 원하는 리더가 됩시다\n",
      "모두가 함께 앞으로 나아가면 성공은 저절로 따라옵니다\n",
      "혼자서는 작은 한 방울이지만 함께 모이면 바다를 이룹니다\n"
     ]
    }
   ],
   "source": [
    "my_note.write(line3) ; my_note.view()"
   ]
  },
  {
   "cell_type": "code",
   "execution_count": 72,
   "id": "66dfb746",
   "metadata": {},
   "outputs": [
    {
     "name": "stdout",
     "output_type": "stream",
     "text": [
      "Your note was just emptied\n",
      "(Empty note)\n"
     ]
    }
   ],
   "source": [
    "my_note.empty() ; my_note.view()"
   ]
  },
  {
   "cell_type": "code",
   "execution_count": 116,
   "id": "0dca19e9",
   "metadata": {},
   "outputs": [],
   "source": [
    "class Notebook:\n",
    "    def __init__(self, title_input):\n",
    "        self.__title = title_input\n",
    "        self.page_num = 0\n",
    "        self.notes = []\n",
    "    \n",
    "    @property\n",
    "    def title(self):\n",
    "        return self.__title\n",
    "    \n",
    "    @title.setter\n",
    "    def set_title(self, input_title):\n",
    "        self.hidden_title = input_title\n",
    "    \n",
    "    def add(self, note):\n",
    "        self.notes.append(note)\n",
    "        print(f'''Your note was just saved as page {len(self.notes)}''')\n",
    "    \n",
    "    def delete(self, page_num):\n",
    "        if page_num in range(len(self.notes)):\n",
    "            self.notes.pop(page_num-1)\n",
    "            print(f'Page {page_num} was just deleted.')\n",
    "        else:\n",
    "            print('The page does not exist.')\n",
    "    \n",
    "    def empty(self):\n",
    "        self.notes.clear()\n",
    "        print('Your notebook was just emptied.')\n",
    "    \n",
    "    def view(self):\n",
    "        for num in range(len(self.notes)):\n",
    "            print(f'page {num+1} | {self.notes[num]}')\n",
    "        "
   ]
  },
  {
   "cell_type": "code",
   "execution_count": 117,
   "id": "716af74e",
   "metadata": {},
   "outputs": [
    {
     "data": {
      "text/plain": [
       "'notebook1'"
      ]
     },
     "execution_count": 117,
     "metadata": {},
     "output_type": "execute_result"
    }
   ],
   "source": [
    "my_notebook = Notebook('notebook1') ; my_notebook.title"
   ]
  },
  {
   "cell_type": "code",
   "execution_count": 118,
   "id": "4aed15dd",
   "metadata": {},
   "outputs": [
    {
     "name": "stdout",
     "output_type": "stream",
     "text": [
      "Your note was just saved as page 1\n",
      "Your note was just saved as page 2\n",
      "Your note was just saved as page 3\n"
     ]
    }
   ],
   "source": [
    "my_notebook.add(line1)\n",
    "my_notebook.add(line2)\n",
    "my_notebook.add(line3)"
   ]
  },
  {
   "cell_type": "code",
   "execution_count": 119,
   "id": "8a54ef3b",
   "metadata": {},
   "outputs": [
    {
     "name": "stdout",
     "output_type": "stream",
     "text": [
      "page 1 | 우리 모두 스스로가 원하는 리더가 됩시다\n",
      "page 2 | 모두가 함께 앞으로 나아가면 성공은 저절로 따라옵니다\n",
      "page 3 | 혼자서는 작은 한 방울이지만 함께 모이면 바다를 이룹니다\n"
     ]
    }
   ],
   "source": [
    "my_notebook.view()"
   ]
  },
  {
   "cell_type": "code",
   "execution_count": 120,
   "id": "34c8e0de",
   "metadata": {},
   "outputs": [
    {
     "name": "stdout",
     "output_type": "stream",
     "text": [
      "Page 1 was just deleted.\n"
     ]
    }
   ],
   "source": [
    "my_notebook.delete(1)"
   ]
  },
  {
   "cell_type": "code",
   "execution_count": 121,
   "id": "2aebfb75",
   "metadata": {},
   "outputs": [
    {
     "name": "stdout",
     "output_type": "stream",
     "text": [
      "page 1 | 모두가 함께 앞으로 나아가면 성공은 저절로 따라옵니다\n",
      "page 2 | 혼자서는 작은 한 방울이지만 함께 모이면 바다를 이룹니다\n"
     ]
    }
   ],
   "source": [
    "my_notebook.view()"
   ]
  },
  {
   "cell_type": "code",
   "execution_count": 122,
   "id": "d91b1d6b",
   "metadata": {},
   "outputs": [
    {
     "name": "stdout",
     "output_type": "stream",
     "text": [
      "Your note was just saved as page 3\n",
      "page 1 | 모두가 함께 앞으로 나아가면 성공은 저절로 따라옵니다\n",
      "page 2 | 혼자서는 작은 한 방울이지만 함께 모이면 바다를 이룹니다\n",
      "page 3 | You might be a big fish in a little pond\n"
     ]
    }
   ],
   "source": [
    "my_notebook.add('You might be a big fish in a little pond')\n",
    "my_notebook.view()"
   ]
  },
  {
   "cell_type": "code",
   "execution_count": 123,
   "id": "f5e6517f",
   "metadata": {},
   "outputs": [
    {
     "name": "stdout",
     "output_type": "stream",
     "text": [
      "Your note was just saved as page 4\n",
      "page 1 | 모두가 함께 앞으로 나아가면 성공은 저절로 따라옵니다\n",
      "page 2 | 혼자서는 작은 한 방울이지만 함께 모이면 바다를 이룹니다\n",
      "page 3 | You might be a big fish in a little pond\n",
      "page 4 | 지금 어느 단계까지 갔는지 알고 계십니까?\n"
     ]
    }
   ],
   "source": [
    "my_notebook.add('지금 어느 단계까지 갔는지 알고 계십니까?')\n",
    "my_notebook.view()"
   ]
  },
  {
   "cell_type": "code",
   "execution_count": 124,
   "id": "6bbcbf85",
   "metadata": {},
   "outputs": [
    {
     "name": "stdout",
     "output_type": "stream",
     "text": [
      "Page 3 was just deleted.\n",
      "page 1 | 모두가 함께 앞으로 나아가면 성공은 저절로 따라옵니다\n",
      "page 2 | 혼자서는 작은 한 방울이지만 함께 모이면 바다를 이룹니다\n",
      "page 3 | 지금 어느 단계까지 갔는지 알고 계십니까?\n"
     ]
    }
   ],
   "source": [
    "my_notebook.delete(3)\n",
    "my_notebook.view()"
   ]
  },
  {
   "cell_type": "code",
   "execution_count": null,
   "id": "7433cce3",
   "metadata": {},
   "outputs": [],
   "source": []
  }
 ],
 "metadata": {
  "kernelspec": {
   "display_name": "Python 3 (ipykernel)",
   "language": "python",
   "name": "python3"
  },
  "language_info": {
   "codemirror_mode": {
    "name": "ipython",
    "version": 3
   },
   "file_extension": ".py",
   "mimetype": "text/x-python",
   "name": "python",
   "nbconvert_exporter": "python",
   "pygments_lexer": "ipython3",
   "version": "3.9.7"
  }
 },
 "nbformat": 4,
 "nbformat_minor": 5
}
