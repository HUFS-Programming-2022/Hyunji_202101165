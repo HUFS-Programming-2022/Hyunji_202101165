{
 "cells": [
  {
   "cell_type": "markdown",
   "id": "90008f73",
   "metadata": {},
   "source": [
    "### 객체 II\n",
    "> ## 상속 (interitance)\n",
    "```\n",
    "물려주는 클래스(parent, super, base)의 attribute, method를 물려받는 클래스(child, sub, derived)가 가지게 되는 것\n",
    "```\n",
    "- 재사용할 때...\n",
    "    - \"A의 대부분을 쓰고, 나머지를 추가, 변경하고 싶다\"\n",
    "    - \"부모의 모든 속성을 그대로 가져와서 쓰겠다\"\n",
    "- 반복되는 부분을 가져오겠다. 물려받겠다.\n",
    "- 자식클래스는 부모클래스를 구체화한다.\n",
    "- is~a 관계: Car is-a Vehicle (포함된다)"
   ]
  },
  {
   "cell_type": "code",
   "execution_count": 115,
   "id": "31b2d964",
   "metadata": {},
   "outputs": [],
   "source": [
    "class Vehicle: # parent, super class\n",
    "    def __init__(self, speed):\n",
    "        self.speed = f'{speed}km/s'\n",
    "    \n",
    "    def go(self):\n",
    "        print(f'{self.speed}의 속도로 달린다.')\n",
    "\n",
    "# child\n",
    "class Car(Vehicle): # child, sub class\n",
    "    pass\n"
   ]
  },
  {
   "cell_type": "code",
   "execution_count": 116,
   "id": "e4d97eae",
   "metadata": {},
   "outputs": [],
   "source": [
    "car = Car(100)"
   ]
  },
  {
   "cell_type": "code",
   "execution_count": 117,
   "id": "c0ecd854",
   "metadata": {},
   "outputs": [
    {
     "name": "stdout",
     "output_type": "stream",
     "text": [
      "100km/s의 속도로 달린다.\n"
     ]
    }
   ],
   "source": [
    "car.go()"
   ]
  },
  {
   "cell_type": "markdown",
   "id": "f7c4d4ec",
   "metadata": {},
   "source": [
    ">> ## 변수 추가, 변경"
   ]
  },
  {
   "cell_type": "code",
   "execution_count": 118,
   "id": "9db4d2c4",
   "metadata": {},
   "outputs": [],
   "source": [
    "class Car(Vehicle): # child, sub\n",
    "    def __init__(self, speed, brand):\n",
    "        # speed == 부모\n",
    "        super().__init__(speed) # 부모의 속성 중 가져와서 쓴다\n",
    "        # brand == 자식\n",
    "        self.brand = brand # child의 고유한 특성"
   ]
  },
  {
   "cell_type": "code",
   "execution_count": 119,
   "id": "f51cdf9b",
   "metadata": {},
   "outputs": [
    {
     "data": {
      "text/plain": [
       "('20km/s', 'kia')"
      ]
     },
     "execution_count": 119,
     "metadata": {},
     "output_type": "execute_result"
    }
   ],
   "source": [
    "car2 = Car(20, 'kia')\n",
    "car2.speed, car2.brand "
   ]
  },
  {
   "cell_type": "code",
   "execution_count": 120,
   "id": "aca77601",
   "metadata": {},
   "outputs": [
    {
     "ename": "AttributeError",
     "evalue": "'Vehicle' object has no attribute 'brand'",
     "output_type": "error",
     "traceback": [
      "\u001b[1;31m---------------------------------------------------------------------------\u001b[0m",
      "\u001b[1;31mAttributeError\u001b[0m                            Traceback (most recent call last)",
      "\u001b[1;32m~\\AppData\\Local\\Temp/ipykernel_22504/2367601805.py\u001b[0m in \u001b[0;36m<module>\u001b[1;34m\u001b[0m\n\u001b[0;32m      1\u001b[0m \u001b[0mv\u001b[0m \u001b[1;33m=\u001b[0m \u001b[0mVehicle\u001b[0m\u001b[1;33m(\u001b[0m\u001b[1;34m'33'\u001b[0m\u001b[1;33m)\u001b[0m\u001b[1;33m\u001b[0m\u001b[1;33m\u001b[0m\u001b[0m\n\u001b[1;32m----> 2\u001b[1;33m \u001b[0mv\u001b[0m\u001b[1;33m.\u001b[0m\u001b[0mbrand\u001b[0m \u001b[1;31m# 자식 속성이므로 Error\u001b[0m\u001b[1;33m\u001b[0m\u001b[1;33m\u001b[0m\u001b[0m\n\u001b[0m",
      "\u001b[1;31mAttributeError\u001b[0m: 'Vehicle' object has no attribute 'brand'"
     ]
    }
   ],
   "source": [
    "v = Vehicle('33') \n",
    "v.brand # 자식 속성이므로 Error"
   ]
  },
  {
   "cell_type": "markdown",
   "id": "f4288f60",
   "metadata": {},
   "source": [
    "### 메소드 추가, 변경\n",
    "- override하면 부모의 method가 잊힌다.\n",
    "    > method overriding: 부모 클래스의 method를 자식 클래스에서 재정의하는 것\n",
    "\n",
    "- 부모 클래스의 method도 수행하고, 자식 클래스의 method의 내용도 함께 출력하려면\n",
    "    - ```super()``` 사용 -> 자식 클래스 내에서도 부모 클래스 호출 가능"
   ]
  },
  {
   "cell_type": "code",
   "execution_count": 121,
   "id": "2d3a5553",
   "metadata": {},
   "outputs": [],
   "source": [
    "class Car(Vehicle): # child\n",
    "    def __init__(self, speed, brand):\n",
    "        super().__init__(speed)\n",
    "        self.brand = brand\n",
    "    \n",
    "    # 오버라이드(override) : 재정의\n",
    "    def go(self):\n",
    "        # 부모의 go도 함께 가져가고 싶다면?\n",
    "        super().go() \n",
    "        print(f'차종 {self.brand}의 속도: {self.speed}')\n",
    "    \n",
    "    # 메소드 추가\n",
    "    def stop():\n",
    "        pass"
   ]
  },
  {
   "cell_type": "code",
   "execution_count": 122,
   "id": "46af7b7f",
   "metadata": {},
   "outputs": [
    {
     "name": "stdout",
     "output_type": "stream",
     "text": [
      "33km/s의 속도로 달린다.\n",
      "차종 mini의 속도: 33km/s\n"
     ]
    }
   ],
   "source": [
    "car3 = Car(33, 'mini') # super\n",
    "car3.go() # child"
   ]
  },
  {
   "cell_type": "code",
   "execution_count": 123,
   "id": "8a2c03de",
   "metadata": {},
   "outputs": [],
   "source": [
    "class Person:\n",
    "    def __init__(self, name):\n",
    "        self.name = name # pablo\n",
    "\n",
    "# ========\n",
    "class Doctor(Person): # Dr. pablo\n",
    "    def __init__(self, name):\n",
    "        super().__init__(name)\n",
    "        self.name = f'Dr.{name}'\n",
    "\n",
    "class Male(Person): # Mr. pablo\n",
    "    def __init__(self, name):\n",
    "        super().__init__(name)\n",
    "        self.name = f'Mr. {name}'\n",
    "\n",
    "class Female(Person): # Mrs. pablo\n",
    "    def __init__(self, name):\n",
    "        super().__init__(name)\n",
    "        self.name = f'Mrs. {name}'"
   ]
  },
  {
   "cell_type": "code",
   "execution_count": 124,
   "id": "b2e2203f",
   "metadata": {},
   "outputs": [
    {
     "data": {
      "text/plain": [
       "'Dr.pablo'"
      ]
     },
     "execution_count": 124,
     "metadata": {},
     "output_type": "execute_result"
    }
   ],
   "source": [
    "doctor1 = Doctor('pablo')\n",
    "doctor1.name"
   ]
  },
  {
   "cell_type": "markdown",
   "id": "bc5ed8da",
   "metadata": {},
   "source": [
    ">> ## 다중상속\n",
    "- method resolution order (MRO)\n",
    "- Animal <- Horse, Donkey <- Mule(Donkey의 속성이 강하다), Hinny(Horse의 속성이 강하다)"
   ]
  },
  {
   "cell_type": "code",
   "execution_count": 125,
   "id": "2a3cb624",
   "metadata": {},
   "outputs": [],
   "source": [
    "class Animal:\n",
    "    def says(self):\n",
    "        return '동물이 운다.'\n",
    "\n",
    "# 자식\n",
    "class Horse(Animal):\n",
    "    def says(self):\n",
    "        print(super().says())\n",
    "        return '히히힝'\n",
    "\n",
    "class Donkey(Animal):\n",
    "    def says(self):\n",
    "        print(super().says())\n",
    "        return '히이호'\n",
    "\n",
    "# 손주\n",
    "class Mule(Donkey, Horse): # 제일 가까운 것부터 쓴다\n",
    "    def says(self):\n",
    "        print(super().says())\n",
    "\n",
    "class Hinny(Horse, Donkey):\n",
    "    def says(self):\n",
    "        print(super().says())"
   ]
  },
  {
   "cell_type": "code",
   "execution_count": 126,
   "id": "3812c5a5",
   "metadata": {},
   "outputs": [
    {
     "name": "stdout",
     "output_type": "stream",
     "text": [
      "동물이 운다.\n",
      "히히힝\n",
      "히이호\n"
     ]
    }
   ],
   "source": [
    "m = Mule()\n",
    "m.says()"
   ]
  },
  {
   "cell_type": "code",
   "execution_count": 127,
   "id": "f97b5792",
   "metadata": {},
   "outputs": [
    {
     "name": "stdout",
     "output_type": "stream",
     "text": [
      "동물이 운다.\n"
     ]
    },
    {
     "data": {
      "text/plain": [
       "'히히힝'"
      ]
     },
     "execution_count": 127,
     "metadata": {},
     "output_type": "execute_result"
    }
   ],
   "source": [
    "h = Horse()\n",
    "h.says()"
   ]
  },
  {
   "cell_type": "code",
   "execution_count": 128,
   "id": "b6491de2",
   "metadata": {},
   "outputs": [
    {
     "name": "stdout",
     "output_type": "stream",
     "text": [
      "동물이 운다.\n",
      "히이호\n",
      "히히힝\n"
     ]
    }
   ],
   "source": [
    "hn = Hinny()\n",
    "hn.says()"
   ]
  },
  {
   "cell_type": "markdown",
   "id": "47803947",
   "metadata": {},
   "source": [
    "```mro()```\n",
    "- 상속 관계를 확인할 수 있는 method\n",
    "- Animal에 실행하면 다음 Horse 다음 Hinny가 나온다"
   ]
  },
  {
   "cell_type": "code",
   "execution_count": 129,
   "id": "2bc5f10e",
   "metadata": {},
   "outputs": [
    {
     "data": {
      "text/plain": [
       "[__main__.Mule, __main__.Donkey, __main__.Horse, __main__.Animal, object]"
      ]
     },
     "execution_count": 129,
     "metadata": {},
     "output_type": "execute_result"
    }
   ],
   "source": [
    "Mule.mro()"
   ]
  },
  {
   "cell_type": "markdown",
   "id": "abcdf202",
   "metadata": {},
   "source": [
    ">> ## 다형성(polymorphism)\n",
    "- 형태가 다른데 기능이 같다\n",
    "    - 같은 모양의 코드가 다른 동작을 하는 것\n",
    "    - 키보드의 예로\n",
    "        - 키보드를 누른다는 동일한 코드에 대해\n",
    "            - ENTER, ESC, A 등 실제 키에 따라 동작이 다른 것을 의미함\n",
    "- 객체가 다른데도 같은 메소드를 가지고 있으면 같은 기능 수행할 수 있다\n",
    "- 다형성은 코드의 양을 줄이고, 여러 객체 타입을 하나의 타입으로 관리가 가능하여 유지 보수에 좋음"
   ]
  },
  {
   "cell_type": "code",
   "execution_count": 130,
   "id": "f28a55ae",
   "metadata": {
    "scrolled": true
   },
   "outputs": [
    {
     "name": "stdout",
     "output_type": "stream",
     "text": [
      "동물이 운다.\n",
      "히히힝\n",
      "히이호\n",
      "None\n",
      "동물이 운다.\n",
      "히이호\n",
      "동물이 운다.\n"
     ]
    }
   ],
   "source": [
    "for animal in [Mule(), Donkey(), Animal()]:\n",
    "    print(animal.says())"
   ]
  },
  {
   "cell_type": "markdown",
   "id": "46ff292d",
   "metadata": {},
   "source": [
    "### method type\n",
    "\n",
    "> #### instance method\n",
    "- 가장 흔히 쓰임\n",
    "- instance 변수에 접근할 수 있도록 첫 번째 인자에 항상 self parameter를 갖는다\n",
    "- 해당 method를 호출한 객체에만 영향을 미친다\n",
    "- 객체의 속성에 접근이 가능하다\n",
    "- 객체 생성 -> 사용 가능\n",
    "- 호출 방법\n",
    "    - 해당 클래스 안에서는 self.method()\n",
    "    - 클래스 밖에서는 객체.method()\n",
    "    \n",
    "> #### class method\n",
    "- instance 없이 호출 가능\n",
    "- self parameter 대신 cls라는 클래스를 의미하는 class\n",
    "- 클래스에 접근하는 method\n",
    "- 객체의 속성/method에는 접근 불가\n",
    "    - ```cls.클래스속성명```으로 클래스 속성에는 접근 가능\n",
    "- ```python\n",
    "    @classmethod\n",
    "    ```\n",
    "    라는 decorator를 붙여 해당 method가 class method임을 표시한다\n",
    "\n",
    "- 예약어: cls\n",
    "    - class method 내부에서 현재 클래스의 instance를 만들 수 있다\n",
    "- self 대신 함수(cls)가 첫 parameter\n",
    "- class Person, cls == Person\n",
    "- 호출 방법\n",
    "    - 클래스명.method() / 객체명.class() 둘 다 가능\n",
    "    \n",
    "> #### static method\n",
    "- 객체와 독립적이지만, logically 클래스 내에 포함되는 method\n",
    "- self parameter 가지고 있지 않아 instance 변수에 접근 불가\n",
    "    - static method 내부에서 클래스 변수(속성)에는 클래스명.클래스속성명으로 접근이 가능하다\n",
    "- method의 실행이 외부 상태에 영향을 끼치지 않는 순수 함수를 만들 때 사용\n",
    "    - 순수 함수: 부수 효과가 없고, 입력 값이 같으면 언제나 같은 출력값을 반환\n",
    "- 객체 생성하지 않고 접근 가능\n",
    "- class랑 전혀 상관이 없기 때문에 접근 가능한 것\n",
    "- 내용, 기능이 비슷해서 클래스 내에 묶어 둠\n",
    "    \n",
    "> #### abstract method\n",
    "- 추상 class를 선언 - abstract - 이름만 존재하는 클래스\n",
    "- 설계도 역할: 자식 클래스에서 해당 abstract method를 반드시 구현하도록 강제함\n",
    "- 상속하는 자식클래스 => 반드시 구현해야 하는 메소드를 정의한다\n"
   ]
  },
  {
   "cell_type": "code",
   "execution_count": 131,
   "id": "22672f88",
   "metadata": {},
   "outputs": [
    {
     "name": "stdout",
     "output_type": "stream",
     "text": [
      "동물이 운다.\n",
      "히히힝\n",
      "히이호\n"
     ]
    }
   ],
   "source": [
    "# instant method\n",
    "\n",
    "a = Mule() # 객체 생성\n",
    "a.says()"
   ]
  },
  {
   "cell_type": "code",
   "execution_count": 132,
   "id": "b3e7e702",
   "metadata": {},
   "outputs": [
    {
     "name": "stdout",
     "output_type": "stream",
     "text": [
      "동물이 운다.\n",
      "히히힝\n",
      "히이호\n"
     ]
    }
   ],
   "source": [
    "Mule().says() # self"
   ]
  },
  {
   "cell_type": "code",
   "execution_count": 133,
   "id": "12066b03",
   "metadata": {},
   "outputs": [],
   "source": [
    "class A:\n",
    "    cnt = 0\n",
    "    \n",
    "    def move(self):\n",
    "        return cnt # self.cnt X\n",
    "    "
   ]
  },
  {
   "cell_type": "code",
   "execution_count": 134,
   "id": "5a23d09a",
   "metadata": {},
   "outputs": [
    {
     "ename": "NameError",
     "evalue": "name 'cnt' is not defined",
     "output_type": "error",
     "traceback": [
      "\u001b[1;31m---------------------------------------------------------------------------\u001b[0m",
      "\u001b[1;31mNameError\u001b[0m                                 Traceback (most recent call last)",
      "\u001b[1;32m~\\AppData\\Local\\Temp/ipykernel_22504/756140638.py\u001b[0m in \u001b[0;36m<module>\u001b[1;34m\u001b[0m\n\u001b[1;32m----> 1\u001b[1;33m \u001b[0mA\u001b[0m\u001b[1;33m(\u001b[0m\u001b[1;33m)\u001b[0m\u001b[1;33m.\u001b[0m\u001b[0mmove\u001b[0m\u001b[1;33m(\u001b[0m\u001b[1;33m)\u001b[0m \u001b[1;31m# cnt를 알 수 없다\u001b[0m\u001b[1;33m\u001b[0m\u001b[1;33m\u001b[0m\u001b[0m\n\u001b[0m",
      "\u001b[1;32m~\\AppData\\Local\\Temp/ipykernel_22504/1659056180.py\u001b[0m in \u001b[0;36mmove\u001b[1;34m(self)\u001b[0m\n\u001b[0;32m      3\u001b[0m \u001b[1;33m\u001b[0m\u001b[0m\n\u001b[0;32m      4\u001b[0m     \u001b[1;32mdef\u001b[0m \u001b[0mmove\u001b[0m\u001b[1;33m(\u001b[0m\u001b[0mself\u001b[0m\u001b[1;33m)\u001b[0m\u001b[1;33m:\u001b[0m\u001b[1;33m\u001b[0m\u001b[1;33m\u001b[0m\u001b[0m\n\u001b[1;32m----> 5\u001b[1;33m         \u001b[1;32mreturn\u001b[0m \u001b[0mcnt\u001b[0m \u001b[1;31m# self.cnt X\u001b[0m\u001b[1;33m\u001b[0m\u001b[1;33m\u001b[0m\u001b[0m\n\u001b[0m\u001b[0;32m      6\u001b[0m \u001b[1;33m\u001b[0m\u001b[0m\n",
      "\u001b[1;31mNameError\u001b[0m: name 'cnt' is not defined"
     ]
    }
   ],
   "source": [
    "A().move() # cnt를 알 수 없다"
   ]
  },
  {
   "cell_type": "code",
   "execution_count": 135,
   "id": "ca813db1",
   "metadata": {},
   "outputs": [],
   "source": [
    "class A:\n",
    "    cnt = 0\n",
    "    \n",
    "    @classmethod\n",
    "    def move(cls):\n",
    "        return cls.cnt # self.cnt X\n",
    "    "
   ]
  },
  {
   "cell_type": "code",
   "execution_count": 136,
   "id": "8b59794e",
   "metadata": {},
   "outputs": [
    {
     "data": {
      "text/plain": [
       "0"
      ]
     },
     "execution_count": 136,
     "metadata": {},
     "output_type": "execute_result"
    }
   ],
   "source": [
    "A().move()"
   ]
  },
  {
   "cell_type": "code",
   "execution_count": 137,
   "id": "27f59f5f",
   "metadata": {},
   "outputs": [],
   "source": [
    "class Person:\n",
    "    def __init__(self, name, age):\n",
    "        self.name = name\n",
    "        self.age = age\n",
    "    \n",
    "    @classmethod\n",
    "    def tuple_object(cls, args): # cls: 붕어 틀 자신 -> Person\n",
    "        return cls(args[0], args[1])\n",
    "    "
   ]
  },
  {
   "cell_type": "code",
   "execution_count": 138,
   "id": "5d7dffe1",
   "metadata": {},
   "outputs": [
    {
     "data": {
      "text/plain": [
       "('kim', 24)"
      ]
     },
     "execution_count": 138,
     "metadata": {},
     "output_type": "execute_result"
    }
   ],
   "source": [
    "name = 'kim'\n",
    "age = 24\n",
    "# p = Person(name, age)\n",
    "\n",
    "info = name, age # 튜플을 넣었을 때도 만들어짐\n",
    "p = Person.tuple_object(info) \n",
    "p.name, p.age"
   ]
  },
  {
   "cell_type": "code",
   "execution_count": 139,
   "id": "fc334f69",
   "metadata": {},
   "outputs": [],
   "source": [
    "class A:\n",
    "    # 붕어빵을 몇 개 찍었는지\n",
    "    cnt = 0\n",
    "    \n",
    "    def __init__(self):\n",
    "        A.cnt += 1\n",
    "    # cnt += 1\n",
    "    @classmethod\n",
    "    def count(cls):\n",
    "        return cls.cnt "
   ]
  },
  {
   "cell_type": "code",
   "execution_count": 140,
   "id": "cdff80ed",
   "metadata": {},
   "outputs": [
    {
     "data": {
      "text/plain": [
       "3"
      ]
     },
     "execution_count": 140,
     "metadata": {},
     "output_type": "execute_result"
    }
   ],
   "source": [
    "A(); A(); A(); A.count()"
   ]
  },
  {
   "cell_type": "code",
   "execution_count": 141,
   "id": "2f19df1e",
   "metadata": {},
   "outputs": [],
   "source": [
    "# static method\n",
    "\n",
    "class Coyote:\n",
    "    @staticmethod\n",
    "    def says(): # self 없음. dict에 변수 저장하는 것과 비슷\n",
    "        print('hi')"
   ]
  },
  {
   "cell_type": "code",
   "execution_count": 142,
   "id": "abc4058b",
   "metadata": {},
   "outputs": [
    {
     "name": "stdout",
     "output_type": "stream",
     "text": [
      "hi\n"
     ]
    }
   ],
   "source": [
    "Coyote.says()"
   ]
  },
  {
   "cell_type": "code",
   "execution_count": 145,
   "id": "058eb7fb",
   "metadata": {},
   "outputs": [
    {
     "data": {
      "text/plain": [
       "<__main__.Car at 0x20e95d754c0>"
      ]
     },
     "execution_count": 145,
     "metadata": {},
     "output_type": "execute_result"
    }
   ],
   "source": [
    "# abstract method\n",
    "\n",
    "from abc import *\n",
    "\n",
    "class Vehicle(metaclass=ABCMeta): # 추상 클래스 설정하는 방법\n",
    "    speed = '속도'\n",
    "    \n",
    "    @abstractmethod\n",
    "    def go(self):\n",
    "        print('탈 것이 간다.')\n",
    "    \n",
    "# 위의 method override하지 않으면 instance 만들 수 없다\n",
    "class Car(Vehicle):\n",
    "    def go(self):\n",
    "        print('let\\'s go')\n",
    "\n",
    "Car()"
   ]
  },
  {
   "cell_type": "code",
   "execution_count": null,
   "id": "f658645b",
   "metadata": {},
   "outputs": [],
   "source": []
  }
 ],
 "metadata": {
  "kernelspec": {
   "display_name": "Python 3 (ipykernel)",
   "language": "python",
   "name": "python3"
  },
  "language_info": {
   "codemirror_mode": {
    "name": "ipython",
    "version": 3
   },
   "file_extension": ".py",
   "mimetype": "text/x-python",
   "name": "python",
   "nbconvert_exporter": "python",
   "pygments_lexer": "ipython3",
   "version": "3.9.7"
  }
 },
 "nbformat": 4,
 "nbformat_minor": 5
}
