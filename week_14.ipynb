{
 "cells": [
  {
   "cell_type": "markdown",
   "id": "aed1a203-0ee6-490d-8018-9a050065b11f",
   "metadata": {
    "tags": []
   },
   "source": [
    "### 파일과 디렉터리\n",
    "- 디렉터리: 폴더의 다른 말. 파일이 논리적으로 묶인 단위\n",
    "- 파일: 컴퓨터를 실행하는 기본 단위\n",
    "    - 파일명 + 확장자\n",
    "    - 확장자: 파일의 쓰임을 구분하는 \n",
    "        - .pdf, .xlsx, .txt, ..\n",
    "    - 종류: 바이너리 파일, 텍스트 파일\n",
    "        - 바이너리: 이진 정보로 저장됨\n",
    "            - 내용을 확인할 수 없다\n",
    "            - 확인하려면 해당 확장자를 열 수 있는 프로그램이 필요하다\n",
    "        - 텍스트: 사람이 이해할 수 있는 문자열로 저장됨\n",
    "            - 메모장, html, py\n",
    "            - 변경 기준: 아스키코드, 유니코드\n",
    "            - 인코딩 (encoding)\n",
    "            - utf-8\n",
    "            - cp494"
   ]
  },
  {
   "cell_type": "markdown",
   "id": "b3cbbb65-50b4-417d-9316-f14e4859f4fa",
   "metadata": {
    "tags": []
   },
   "source": [
    "#### 파일 읽기\n",
    "- open(파일명, 모드)\n",
    "```python\n",
    "file = 'text.txt'\n",
    "f = open(file, 'r')\n",
    "```\n",
    "    - 모드\n",
    "        - r: read\n",
    "        - w: write - file이 있으면 덮어쓰고, 없으면 생성한다\n",
    "        - x: 파일이 없을 때만 생성한다\n",
    "        - a: 있을 때 마지막 라인에 추가\n",
    "        \n",
    "    - 추가 모드\n",
    "        - b: binary -- 'rb'\n",
    "        - t: text (default) -- 'rt'"
   ]
  },
  {
   "cell_type": "code",
   "execution_count": 1,
   "id": "c2ac64be-4de4-473a-8e1c-3716e102d245",
   "metadata": {},
   "outputs": [],
   "source": [
    "# 파일 열기\n",
    "file = 'hello.txt'\n",
    "f = open(file, 'r')"
   ]
  },
  {
   "cell_type": "code",
   "execution_count": 2,
   "id": "fd3566a0-0be7-40cd-bc54-7838900a787f",
   "metadata": {},
   "outputs": [
    {
     "data": {
      "text/plain": [
       "<_io.TextIOWrapper name='hello.txt' mode='r' encoding='cp949'>"
      ]
     },
     "execution_count": 2,
     "metadata": {},
     "output_type": "execute_result"
    }
   ],
   "source": [
    "f"
   ]
  },
  {
   "cell_type": "markdown",
   "id": "c48e1d2b-835e-4942-a4d1-06f854b3ac29",
   "metadata": {},
   "source": [
    "- read(): 전체를 하나의 str으로\n",
    "- readline(): 한 줄만 str으로\n",
    "- readlines(): 전체를 list, 각 줄이 한 str"
   ]
  },
  {
   "cell_type": "code",
   "execution_count": 3,
   "id": "63241053-94d0-4972-b9ab-f6cf4272b3c1",
   "metadata": {},
   "outputs": [
    {
     "data": {
      "text/plain": [
       "'hello'"
      ]
     },
     "execution_count": 3,
     "metadata": {},
     "output_type": "execute_result"
    }
   ],
   "source": [
    "f.read(5)"
   ]
  },
  {
   "cell_type": "code",
   "execution_count": 4,
   "id": "d1adec3e-b51f-42ce-9917-e86c5a671c75",
   "metadata": {},
   "outputs": [],
   "source": [
    "f.close() # 파일 닫기"
   ]
  },
  {
   "cell_type": "code",
   "execution_count": 5,
   "id": "3148e75f-365f-40e1-88b9-dcdf46564b97",
   "metadata": {},
   "outputs": [
    {
     "data": {
      "text/plain": [
       "'hello\\n'"
      ]
     },
     "execution_count": 5,
     "metadata": {},
     "output_type": "execute_result"
    }
   ],
   "source": [
    "file = 'hello.txt'\n",
    "f = open(file, 'r')\n",
    "f.readline()"
   ]
  },
  {
   "cell_type": "code",
   "execution_count": 6,
   "id": "2a8d3d43-ce60-4eb5-84d1-0cece826e210",
   "metadata": {},
   "outputs": [],
   "source": [
    "f = open(file, 'r')\n",
    "sents = f.readlines()\n",
    "sents = [s.strip() for s in sents]\n",
    "f.close()"
   ]
  },
  {
   "cell_type": "code",
   "execution_count": 7,
   "id": "065d0430-8003-4ea7-aeeb-40a59c1a699f",
   "metadata": {},
   "outputs": [
    {
     "data": {
      "text/plain": [
       "['hello', \"i'm reading a book\", \"it doesn't read well\"]"
      ]
     },
     "execution_count": 7,
     "metadata": {},
     "output_type": "execute_result"
    }
   ],
   "source": [
    "sents"
   ]
  },
  {
   "cell_type": "markdown",
   "id": "4ddb16c1-a454-4af3-872d-64f417a4bba6",
   "metadata": {},
   "source": [
    "#### 파일 닫기\n",
    "- 파일 여는 즉시 닫기\n",
    "- 자원 해제"
   ]
  },
  {
   "cell_type": "code",
   "execution_count": 8,
   "id": "32b2d28d-2e8a-4224-ac4f-50427627eecc",
   "metadata": {},
   "outputs": [
    {
     "data": {
      "text/plain": [
       "['hello', \"i'm reading a book\", \"it doesn't read well\"]"
      ]
     },
     "execution_count": 8,
     "metadata": {},
     "output_type": "execute_result"
    }
   ],
   "source": [
    "def make_readlines(file):\n",
    "    sent = []\n",
    "    with open(file, 'r') as f:\n",
    "        while content := f.readline().strip():\n",
    "            # := 바다코끼리 연산자(the walrus operator) -- 더 큰 표현식의 일부로 변수에 값을 대입하는 새로운 문법\n",
    "            sent.append(content)\n",
    "    return sent\n",
    "\n",
    "make_readlines(file)"
   ]
  },
  {
   "cell_type": "code",
   "execution_count": 9,
   "id": "aa80fa51-6566-4a77-98f7-4c1ab0b650a8",
   "metadata": {},
   "outputs": [],
   "source": [
    "file = 'hello.txt'\n",
    "sents = []\n",
    "with open(file, 'r') as f:\n",
    "    while True:\n",
    "        line = f.readline()\n",
    "        if not line: # ' '의 길이는 1, 컨텐츠가 없을 때에는 0\n",
    "            break\n",
    "        sent = line.strip()\n",
    "        sents.append(sent)"
   ]
  },
  {
   "cell_type": "code",
   "execution_count": 10,
   "id": "7e1caecc-6152-4b3b-9434-20160e8d98f6",
   "metadata": {},
   "outputs": [
    {
     "data": {
      "text/plain": [
       "['hello', \"i'm reading a book\", \"it doesn't read well\"]"
      ]
     },
     "execution_count": 10,
     "metadata": {},
     "output_type": "execute_result"
    }
   ],
   "source": [
    "sents"
   ]
  },
  {
   "cell_type": "markdown",
   "id": "ececea88-8523-4196-8bdd-f05370268083",
   "metadata": {},
   "source": [
    "#### 경로가 달라질 때\n",
    "- `.` : 현재 경로\n",
    "- `..`: 상위 경로"
   ]
  },
  {
   "cell_type": "code",
   "execution_count": 12,
   "id": "0811d000-8ea6-4216-b013-e6f8bbe6ec5c",
   "metadata": {},
   "outputs": [
    {
     "name": "stdout",
     "output_type": "stream",
     "text": [
      "hello\n",
      "my name\n",
      "is Rosa\n"
     ]
    }
   ],
   "source": [
    "file = './folder0616/test.txt'\n",
    "\n",
    "with open(file) as f:\n",
    "    print(f.read())"
   ]
  },
  {
   "cell_type": "markdown",
   "id": "5eee68a9-6be8-43ed-a206-4454361b083f",
   "metadata": {},
   "source": [
    "#### 쓰기\n",
    "- encoding 유의"
   ]
  },
  {
   "cell_type": "code",
   "execution_count": 17,
   "id": "c77cd0c1-c9df-43e4-be68-cbca89702835",
   "metadata": {},
   "outputs": [
    {
     "name": "stdout",
     "output_type": "stream",
     "text": [
      "13인의아해가도로로질주하오.\n",
      "(길은막다른골목이적당하오.)\n",
      "제1의아해가무섭다고그리오.\n",
      "제1의아해도무섭다고그리오.\n",
      "제2의아해도무섭다고그리오.\n",
      "제3의아해도무섭다고그리오.\n",
      "제4의아해도무섭다고그리오.\n",
      "제5의아해도무섭다고그리오.\n",
      "제6의아해도무섭다고그리오.\n",
      "제7의아해도무섭다고그리오.\n",
      "제8의아해도무섭다고그리오.\n",
      "제9의아해도무섭다고그리오.\n",
      "제10의아해도무섭다고그리오.\n",
      "제11의아해도무섭다고그리오.\n",
      "제12의아해도무섭다고그리오.\n",
      "13인의아해는무서운아해와무서워하는아해와그렇게뿐이모였소.\n",
      "    (다른사정은없는것이차라리나았소.)\n",
      "\n"
     ]
    }
   ],
   "source": [
    "with open('test2.txt', 'w', encoding='utf-8') as f:\n",
    "    i = 1 ; childs = 13\n",
    "    \n",
    "    f.write(F'{childs}인의아해가도로로질주하오.\\n(길은막다른골목이적당하오.)\\n')\n",
    "    \n",
    "    f.write(F'제{i}의아해가무섭다고그리오.\\n')\n",
    "    while i < childs:\n",
    "        f.write(F'제{i}의아해도무섭다고그리오.\\n')\n",
    "        i += 1\n",
    "        \n",
    "    f.write(F'''{i}인의아해는무서운아해와무서워하는아해와그렇게뿐이모였소.\n",
    "    (다른사정은없는것이차라리나았소.)\\n''')\n",
    "    \n",
    "with open('test2.txt', 'r', encoding='utf-8') as f:\n",
    "    ogamdo = f.read()\n",
    "print(ogamdo)"
   ]
  },
  {
   "cell_type": "code",
   "execution_count": 18,
   "id": "ec116a10-70a8-460f-900b-02fa5e331bc2",
   "metadata": {},
   "outputs": [],
   "source": [
    "file_out = open('test2.txt', 'a', encoding='utf-8')\n",
    "print('그중에1인의아해가무서운아해라도좋소.', file=file_out)\n",
    "file_out.close()"
   ]
  },
  {
   "cell_type": "code",
   "execution_count": 19,
   "id": "cddc26da-b409-404e-8cfe-d45c68409ae7",
   "metadata": {},
   "outputs": [
    {
     "name": "stdout",
     "output_type": "stream",
     "text": [
      "13인의아해가도로로질주하오.\n",
      "(길은막다른골목이적당하오.)\n",
      "제1의아해가무섭다고그리오.\n",
      "제1의아해도무섭다고그리오.\n",
      "제2의아해도무섭다고그리오.\n",
      "제3의아해도무섭다고그리오.\n",
      "제4의아해도무섭다고그리오.\n",
      "제5의아해도무섭다고그리오.\n",
      "제6의아해도무섭다고그리오.\n",
      "제7의아해도무섭다고그리오.\n",
      "제8의아해도무섭다고그리오.\n",
      "제9의아해도무섭다고그리오.\n",
      "제10의아해도무섭다고그리오.\n",
      "제11의아해도무섭다고그리오.\n",
      "제12의아해도무섭다고그리오.\n",
      "13인의아해는무서운아해와무서워하는아해와그렇게뿐이모였소.\n",
      "    (다른사정은없는것이차라리나았소.)\n",
      "그중에1인의아해가무서운아해라도좋소.\n",
      "\n"
     ]
    }
   ],
   "source": [
    "with open('test2.txt', 'r', encoding='utf-8') as f:\n",
    "    ogamdo = f.read()\n",
    "    \n",
    "print(ogamdo)"
   ]
  },
  {
   "cell_type": "markdown",
   "id": "3fb44530-da78-4841-9ba1-d821723e3a95",
   "metadata": {},
   "source": [
    "#### folder 만들어서 추가하는 방법\n",
    "    - folder 만들어야 함\n",
    "    - 접근"
   ]
  },
  {
   "cell_type": "code",
   "execution_count": 20,
   "id": "d42024b3-d117-4471-bcad-8b09baa935d9",
   "metadata": {},
   "outputs": [],
   "source": [
    "import os\n",
    "from os.path import isdir"
   ]
  },
  {
   "cell_type": "code",
   "execution_count": 22,
   "id": "842ee91e-6198-416d-91b9-34a4f3e6d360",
   "metadata": {},
   "outputs": [],
   "source": [
    "os.mkdir('folder0616-3')"
   ]
  },
  {
   "cell_type": "code",
   "execution_count": 25,
   "id": "87de856e-f622-489a-9b36-dea29e31cc1a",
   "metadata": {},
   "outputs": [],
   "source": [
    "with open('./folder0616-3/test3.txt', 'w', encoding='utf-8') as f:\n",
    "    for i in range(13):\n",
    "        data=F'제{i+1}의아해가무섭다고그리오.\\n'\n",
    "        f.write(data)"
   ]
  },
  {
   "cell_type": "code",
   "execution_count": 26,
   "id": "43965c6e-ed25-4300-a7d4-51aaec84f624",
   "metadata": {
    "tags": []
   },
   "outputs": [
    {
     "name": "stdout",
     "output_type": "stream",
     "text": [
      "제1의아해가무섭다고그리오.\n",
      "제2의아해가무섭다고그리오.\n",
      "제3의아해가무섭다고그리오.\n",
      "제4의아해가무섭다고그리오.\n",
      "제5의아해가무섭다고그리오.\n",
      "제6의아해가무섭다고그리오.\n",
      "제7의아해가무섭다고그리오.\n",
      "제8의아해가무섭다고그리오.\n",
      "제9의아해가무섭다고그리오.\n",
      "제10의아해가무섭다고그리오.\n",
      "제11의아해가무섭다고그리오.\n",
      "제12의아해가무섭다고그리오.\n",
      "제13의아해가무섭다고그리오.\n",
      "\n"
     ]
    }
   ],
   "source": [
    "with open('./folder0616-3/test3.txt', 'r', encoding='utf-8') as f:\n",
    "    text = f.read()\n",
    "    \n",
    "print(text)"
   ]
  },
  {
   "cell_type": "code",
   "execution_count": 42,
   "id": "8fc8eb55-5095-498a-aaea-867b58c52711",
   "metadata": {},
   "outputs": [],
   "source": [
    "import os"
   ]
  },
  {
   "cell_type": "code",
   "execution_count": 29,
   "id": "1925119d-e112-4e73-90b3-1d87b9f21eda",
   "metadata": {},
   "outputs": [
    {
     "ename": "AttributeError",
     "evalue": "module 'os' has no attribute 'isdir'",
     "output_type": "error",
     "traceback": [
      "\u001b[1;31m---------------------------------------------------------------------------\u001b[0m",
      "\u001b[1;31mAttributeError\u001b[0m                            Traceback (most recent call last)",
      "\u001b[1;32m~\\AppData\\Local\\Temp/ipykernel_29620/1644820999.py\u001b[0m in \u001b[0;36m<module>\u001b[1;34m\u001b[0m\n\u001b[0;32m      1\u001b[0m \u001b[1;31m# 있는지 확인하기\u001b[0m\u001b[1;33m\u001b[0m\u001b[1;33m\u001b[0m\u001b[0m\n\u001b[1;32m----> 2\u001b[1;33m \u001b[1;32mif\u001b[0m \u001b[1;32mnot\u001b[0m \u001b[0mos\u001b[0m\u001b[1;33m.\u001b[0m\u001b[0misdir\u001b[0m\u001b[1;33m(\u001b[0m\u001b[1;34m'folder0616'\u001b[0m\u001b[1;33m)\u001b[0m\u001b[1;33m:\u001b[0m\u001b[1;33m\u001b[0m\u001b[1;33m\u001b[0m\u001b[0m\n\u001b[0m\u001b[0;32m      3\u001b[0m     \u001b[0mos\u001b[0m\u001b[1;33m.\u001b[0m\u001b[0mmkdir\u001b[0m\u001b[1;33m(\u001b[0m\u001b[1;34m'folder0616'\u001b[0m\u001b[1;33m)\u001b[0m\u001b[1;33m\u001b[0m\u001b[1;33m\u001b[0m\u001b[0m\n\u001b[0;32m      4\u001b[0m \u001b[1;33m\u001b[0m\u001b[0m\n\u001b[0;32m      5\u001b[0m \u001b[1;31m#dir_name = './folder0616/test3.txt'\u001b[0m\u001b[1;33m\u001b[0m\u001b[1;33m\u001b[0m\u001b[0m\n",
      "\u001b[1;31mAttributeError\u001b[0m: module 'os' has no attribute 'isdir'"
     ]
    }
   ],
   "source": [
    "\n",
    "# 있는지 확인하기\n",
    "if not os.isdir('folder0616'):\n",
    "    os.mkdir('folder0616')\n",
    "    \n",
    "#dir_name = './folder0616/test3.txt'\n",
    "dir_name = os.path.join(path, 'text3.txt')\n",
    "\n",
    "#재확인\n",
    "if not os.path.exists(dir_name):\n",
    "    with open(dir_name, 'w') as f: # 덮어쓸 가능성 배제\n",
    "        text = f.read()\n",
    "        \n",
    "print(text)\n",
    "\n",
    "# AttributeError: module 'os' has no attribute 'isdir' ?????"
   ]
  },
  {
   "cell_type": "code",
   "execution_count": 31,
   "id": "d9e80791-07c8-4b8a-a70b-a63bd5f9d808",
   "metadata": {},
   "outputs": [
    {
     "ename": "PermissionError",
     "evalue": "[WinError 5] Access is denied: 'folder0616'",
     "output_type": "error",
     "traceback": [
      "\u001b[1;31m---------------------------------------------------------------------------\u001b[0m",
      "\u001b[1;31mPermissionError\u001b[0m                           Traceback (most recent call last)",
      "\u001b[1;32m~\\AppData\\Local\\Temp/ipykernel_29620/3552188681.py\u001b[0m in \u001b[0;36m<module>\u001b[1;34m\u001b[0m\n\u001b[1;32m----> 1\u001b[1;33m \u001b[0mos\u001b[0m\u001b[1;33m.\u001b[0m\u001b[0mremove\u001b[0m\u001b[1;33m(\u001b[0m\u001b[1;34m'folder0616'\u001b[0m\u001b[1;33m)\u001b[0m\u001b[1;33m\u001b[0m\u001b[1;33m\u001b[0m\u001b[0m\n\u001b[0m\u001b[0;32m      2\u001b[0m \u001b[0mos\u001b[0m\u001b[1;33m.\u001b[0m\u001b[0mrmdir\u001b[0m\u001b[1;33m(\u001b[0m\u001b[0mdir_name\u001b[0m\u001b[1;33m)\u001b[0m \u001b[1;31m# 폴더 안에 파일 있으면 삭제 못함\u001b[0m\u001b[1;33m\u001b[0m\u001b[1;33m\u001b[0m\u001b[0m\n",
      "\u001b[1;31mPermissionError\u001b[0m: [WinError 5] Access is denied: 'folder0616'"
     ]
    }
   ],
   "source": [
    "os.remove('folder0616')\n",
    "os.rmdir(dir_name) # 폴더 안에 파일 있으면 삭제 못함"
   ]
  },
  {
   "cell_type": "code",
   "execution_count": 32,
   "id": "f547560b-7cba-4d7c-819c-9df93adc822b",
   "metadata": {},
   "outputs": [],
   "source": [
    "import shutil\n",
    "shutil.rmtree('folder0616') # 전체 디렉토리 삭제"
   ]
  },
  {
   "cell_type": "code",
   "execution_count": 38,
   "id": "cc472c1e-c694-4ff3-adc8-99a814edf164",
   "metadata": {
    "collapsed": true,
    "jupyter": {
     "outputs_hidden": true
    },
    "tags": []
   },
   "outputs": [
    {
     "ename": "FileNotFoundError",
     "evalue": "[WinError 2] The system cannot find the file specified: 'folder0616-2'",
     "output_type": "error",
     "traceback": [
      "\u001b[1;31m---------------------------------------------------------------------------\u001b[0m",
      "\u001b[1;31mFileNotFoundError\u001b[0m                         Traceback (most recent call last)",
      "\u001b[1;32m~\\AppData\\Local\\Temp/ipykernel_29620/507167834.py\u001b[0m in \u001b[0;36m<module>\u001b[1;34m\u001b[0m\n\u001b[1;32m----> 1\u001b[1;33m \u001b[0mos\u001b[0m\u001b[1;33m.\u001b[0m\u001b[0mchdir\u001b[0m\u001b[1;33m(\u001b[0m\u001b[1;34m'folder0616-2'\u001b[0m\u001b[1;33m)\u001b[0m \u001b[1;31m# 작업 경로 바꾸기\u001b[0m\u001b[1;33m\u001b[0m\u001b[1;33m\u001b[0m\u001b[0m\n\u001b[0m\u001b[0;32m      2\u001b[0m \u001b[0mbase_dir\u001b[0m \u001b[1;33m=\u001b[0m \u001b[1;34m'...'\u001b[0m\u001b[1;33m\u001b[0m\u001b[1;33m\u001b[0m\u001b[0m\n\u001b[0;32m      3\u001b[0m \u001b[0mos\u001b[0m\u001b[1;33m.\u001b[0m\u001b[0mchdir\u001b[0m\u001b[1;33m(\u001b[0m\u001b[0mbase_dir\u001b[0m\u001b[1;33m)\u001b[0m\u001b[1;33m\u001b[0m\u001b[1;33m\u001b[0m\u001b[0m\n",
      "\u001b[1;31mFileNotFoundError\u001b[0m: [WinError 2] The system cannot find the file specified: 'folder0616-2'"
     ]
    }
   ],
   "source": [
    "os.chdir('folder0616-2') # 작업 경로 바꾸기\n",
    "base_dir = '...'\n",
    "os.chdir(base_dir)"
   ]
  },
  {
   "cell_type": "markdown",
   "id": "02436d13-9fe8-4d6b-b9a5-afecd2c9fb26",
   "metadata": {},
   "source": [
    "## pickle\n",
    "- txt가 아닌 파이썬 객체 자체를 파일로 저장한다\n",
    "- dict, list, tuple 등 미리 필요한 부분을 저장해놓는 것이다\n",
    "- 문자열이 아닌 객체를 파일에 쓸 수 없음\n",
    "    - pickle module을 활용해 그 객체 자체를 binary로 저장한다\n",
    "    - pickle module로 저장된 파일을 불러오기만 하면 되어 효율적"
   ]
  },
  {
   "cell_type": "code",
   "execution_count": 89,
   "id": "b7baacde-c397-4b15-b062-df7396c2e749",
   "metadata": {},
   "outputs": [],
   "source": [
    "import pickle"
   ]
  },
  {
   "cell_type": "code",
   "execution_count": 91,
   "id": "49495284-e043-4b08-8622-b32c52e48f5e",
   "metadata": {},
   "outputs": [],
   "source": [
    "nums = list(range(10))"
   ]
  },
  {
   "cell_type": "code",
   "execution_count": 92,
   "id": "d23a2ecd-d031-401d-bf31-8c177f7dcb56",
   "metadata": {},
   "outputs": [],
   "source": [
    "with open('test.pickle', 'wb') as f:\n",
    "    pickle.dump(nums, f)"
   ]
  },
  {
   "cell_type": "code",
   "execution_count": 93,
   "id": "35f8a73e-65ce-49b2-b5dc-4ff60120df78",
   "metadata": {},
   "outputs": [],
   "source": [
    "with open('test.pickle', 'rb') as f:\n",
    "    number = pickle.load(f)"
   ]
  },
  {
   "cell_type": "code",
   "execution_count": 94,
   "id": "e48430a4-b5af-4341-8f1a-b4bf50968442",
   "metadata": {},
   "outputs": [
    {
     "data": {
      "text/plain": [
       "[0, 1, 2, 3, 4, 5, 6, 7, 8, 9]"
      ]
     },
     "execution_count": 94,
     "metadata": {},
     "output_type": "execute_result"
    }
   ],
   "source": [
    "number"
   ]
  }
 ],
 "metadata": {
  "kernelspec": {
   "display_name": "Python 3 (ipykernel)",
   "language": "python",
   "name": "python3"
  },
  "language_info": {
   "codemirror_mode": {
    "name": "ipython",
    "version": 3
   },
   "file_extension": ".py",
   "mimetype": "text/x-python",
   "name": "python",
   "nbconvert_exporter": "python",
   "pygments_lexer": "ipython3",
   "version": "3.9.7"
  }
 },
 "nbformat": 4,
 "nbformat_minor": 5
}
