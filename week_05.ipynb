{
  "nbformat": 4,
  "nbformat_minor": 0,
  "metadata": {
    "colab": {
      "name": "week_05.ipynb",
      "provenance": [],
      "collapsed_sections": [
        "zFnavyeDM9K6",
        "N1KiogSiNRFp",
        "rr-4UDF_TZPM",
        "vR5NasvGRc40",
        "3KAH88BonR-R",
        "jNwAb8Ndn8LB"
      ]
    },
    "kernelspec": {
      "name": "python3",
      "display_name": "Python 3"
    },
    "language_info": {
      "name": "python"
    }
  },
  "cells": [
    {
      "cell_type": "code",
      "execution_count": null,
      "metadata": {
        "colab": {
          "base_uri": "https://localhost:8080/"
        },
        "id": "iBH6rTxxLfBR",
        "outputId": "622dca74-e4b8-4306-cc4c-07a2fc7262bd"
      },
      "outputs": [
        {
          "output_type": "stream",
          "name": "stdout",
          "text": [
            "*** Introductory Examples for the NLTK Book ***\n",
            "Loading text1, ..., text9 and sent1, ..., sent9\n",
            "Type the name of the text or sentence to view it.\n",
            "Type: 'texts()' or 'sents()' to list the materials.\n",
            "text1: Moby Dick by Herman Melville 1851\n",
            "text2: Sense and Sensibility by Jane Austen 1811\n",
            "text3: The Book of Genesis\n",
            "text4: Inaugural Address Corpus\n",
            "text5: Chat Corpus\n",
            "text6: Monty Python and the Holy Grail\n",
            "text7: Wall Street Journal\n",
            "text8: Personals Corpus\n",
            "text9: The Man Who Was Thursday by G . K . Chesterton 1908\n"
          ]
        }
      ],
      "source": [
        "import nltk\n",
        "from nltk import *\n",
        "nltk.download('book', quiet = True)\n",
        "from nltk.book import *"
      ]
    },
    {
      "cell_type": "markdown",
      "source": [
        "### 반복문\n",
        "- 지정한 횟수만큼 또는 무한으로 코드를 반복하게 만들어준다\n",
        "- while / for loop\n",
        "\n",
        "### for loop\n",
        "```\n",
        "for 변수 in range(시작값, 끝값+1, 증가값):\n",
        "  반복되는 부분\n",
        "```\n",
        "- range 함수: 지정된 범위의 값을 반환\n",
        "\n",
        "#### while loop\n",
        "```\n",
        "while [조건문]:\n",
        "  [수행 부분]\n",
        "```\n",
        "\n",
        "\n",
        "- for문은 반복할 횟수를 range()에서 정한 다음 그 횟수만큼 반복했지만, while문은 조건식이 참인 동안 명령 블록을 수행한다 \n",
        "- 조건식이 거짓인 경우 while문을 빠져나간다 => 멈추는 지점을 정확히 파악해야 한다\n",
        "- if문 + for loop\n",
        "- 해당 조건식이 거짓이면 멈춘다 => 멈추는 시점을 정확히 파악해야 한다\n",
        "- 들여쓰기를 통해 수행 부분 구분\n",
        "- 중첩 사용 가능\n",
        "\n",
        "#### for vs. while\n",
        "- for: 반복 횟수가 정해짐, 정확함, 변하지 않음\n",
        "  - 예: 성적 산출\n",
        "- while: 횟수 정해지지 않음. (중요하지 않다) 어떤 조건을 만족시킬 때 빠져나오게 하는 게 중요할 때 사용\n",
        "  - 예: 가위바위보 이겼을 때 끝낸다\n"
      ],
      "metadata": {
        "id": "zFnavyeDM9K6"
      }
    },
    {
      "cell_type": "code",
      "source": [
        "# for loop\n",
        "\n",
        "for i in range(10):\n",
        "  print(i)"
      ],
      "metadata": {
        "colab": {
          "base_uri": "https://localhost:8080/"
        },
        "id": "bTbiWZPwNT8j",
        "outputId": "dfd553fa-1fdb-4f3f-db4b-80c0f46d66cc"
      },
      "execution_count": null,
      "outputs": [
        {
          "output_type": "stream",
          "name": "stdout",
          "text": [
            "0\n",
            "1\n",
            "2\n",
            "3\n",
            "4\n",
            "5\n",
            "6\n",
            "7\n",
            "8\n",
            "9\n"
          ]
        }
      ]
    },
    {
      "cell_type": "code",
      "source": [
        "# while loop\n",
        "\n",
        "i = 0 # 초기화\n",
        "\n",
        "while i < 5:                 # 2) False 되어 while문을 빠져나온다\n",
        "  i += 1 # 1) 4에 1이 더해짐\n",
        "\n",
        "print(i)                                                         # 3) 빠져나와 출력"
      ],
      "metadata": {
        "colab": {
          "base_uri": "https://localhost:8080/"
        },
        "id": "zX3YwiNLJrJj",
        "outputId": "e126572b-f714-43d9-f6a1-b1b65736d1ce"
      },
      "execution_count": null,
      "outputs": [
        {
          "output_type": "stream",
          "name": "stdout",
          "text": [
            "5\n"
          ]
        }
      ]
    },
    {
      "cell_type": "code",
      "source": [
        "# while loop\n",
        "\n",
        "i = 0\n",
        "\n",
        "while i < 5:                  # 2) False 되어 while문을 빠져나온다\n",
        "  print(i)                                                         # 3) 출력 X\n",
        "  i += 1 # 1) 4에 1이 더해짐"
      ],
      "metadata": {
        "colab": {
          "base_uri": "https://localhost:8080/"
        },
        "id": "MMNvb04oMTet",
        "outputId": "0c2c2bee-9b43-448d-8ad9-1a2713e3cdf7"
      },
      "execution_count": null,
      "outputs": [
        {
          "output_type": "stream",
          "name": "stdout",
          "text": [
            "0\n",
            "1\n",
            "2\n",
            "3\n",
            "4\n"
          ]
        }
      ]
    },
    {
      "cell_type": "code",
      "source": [
        "# for loop\n",
        "abcd = ['a', 'b', 'c', 'd']\n",
        "for ch in abcd:\n",
        "  print(ch)\n",
        "\n",
        "print()\n",
        "\n",
        "# while loop으로 변경\n",
        "i = 0\n",
        "while i < len(abcd):\n",
        "  print(abcd[i])\n",
        "  i += 1"
      ],
      "metadata": {
        "colab": {
          "base_uri": "https://localhost:8080/"
        },
        "id": "HB0u6FD3Opyk",
        "outputId": "b40cc7a2-1920-414a-c1aa-6385b0ff961f"
      },
      "execution_count": null,
      "outputs": [
        {
          "output_type": "stream",
          "name": "stdout",
          "text": [
            "a\n",
            "b\n",
            "c\n",
            "d\n",
            "\n",
            "a\n",
            "b\n",
            "c\n",
            "d\n"
          ]
        }
      ]
    },
    {
      "cell_type": "markdown",
      "source": [
        "\n",
        "\n",
        "---\n",
        "\n",
        "\n",
        "\n",
        "---\n",
        "\n"
      ],
      "metadata": {
        "id": "u--rMo74zbEr"
      }
    },
    {
      "cell_type": "markdown",
      "source": [
        "### 반복문 제어 (loop control statement)\n",
        "- 되도록 사용하지 않는다 (반복문의 흐름을 복잡하게 만들 수 있다)\n",
        "\n",
        "- `break`: 논리적으로 반복을 종료시킬 때(-> 특정 조건과 함께 사용), 반복문 내에서 반복을 중지시킬 때"
      ],
      "metadata": {
        "id": "N1KiogSiNRFp"
      }
    },
    {
      "cell_type": "markdown",
      "source": [
        "## 반복문에서의 `else`\n",
        "- 중간에 break 등으로 끊기지 않은 채 모든 반복이 성공적으로 수행 되었을 때 한 번 수행된다\n",
        "- 정상적인 종료인지, break 명령에 의한 강제 종료인지에 따라 수행해야 할 일을 구분할 필요가 있을 때 사용"
      ],
      "metadata": {
        "id": "rr-4UDF_TZPM"
      }
    },
    {
      "cell_type": "code",
      "source": [
        "# for loop에서의 else\n",
        "\n",
        "for i in range(5):\n",
        "  print(i)\n",
        "  i += 1\n",
        "else:\n",
        "  print('ended') # 출력 O -> 모든 반복이 성공적으로 수행됐다"
      ],
      "metadata": {
        "colab": {
          "base_uri": "https://localhost:8080/"
        },
        "id": "tD4jQZ4WNP46",
        "outputId": "898427ee-c910-4f54-bb8c-a42de8cc20f3"
      },
      "execution_count": null,
      "outputs": [
        {
          "output_type": "stream",
          "name": "stdout",
          "text": [
            "0\n",
            "1\n",
            "2\n",
            "3\n",
            "4\n",
            "ended\n"
          ]
        }
      ]
    },
    {
      "cell_type": "code",
      "source": [
        "# for loop에서의 else\n",
        "\n",
        "  # break문을 만나면 수행되지 않고 for 블럭 이탈:\n",
        "for i in range(5):\n",
        "  if i == 3:\n",
        "    break\n",
        "  print(i)\n",
        "else: # 들여쓰기는 for과 일치\n",
        "  print('ended') # 출력 X -> 모든 반복이 성공적으로 수행되지 않았다"
      ],
      "metadata": {
        "colab": {
          "base_uri": "https://localhost:8080/"
        },
        "id": "3mIAYf5hTx7i",
        "outputId": "026085bd-e074-456e-b989-c2afba5bebbf"
      },
      "execution_count": null,
      "outputs": [
        {
          "output_type": "stream",
          "name": "stdout",
          "text": [
            "0\n",
            "1\n",
            "2\n"
          ]
        }
      ]
    },
    {
      "cell_type": "code",
      "source": [
        "# while loop에서의 else\n",
        "\n",
        "j = 0\n",
        "\n",
        "while j < 10:\n",
        "  print(j)\n",
        "  j += 1\n",
        "else:\n",
        "  print('ended') # 출력 O"
      ],
      "metadata": {
        "colab": {
          "base_uri": "https://localhost:8080/"
        },
        "id": "eMSYlaWKYlr1",
        "outputId": "712de197-22dd-43d3-9d18-e9b83c3970ad"
      },
      "execution_count": null,
      "outputs": [
        {
          "output_type": "stream",
          "name": "stdout",
          "text": [
            "0\n",
            "1\n",
            "2\n",
            "3\n",
            "4\n",
            "5\n",
            "6\n",
            "7\n",
            "8\n",
            "9\n",
            "ended\n"
          ]
        }
      ]
    },
    {
      "cell_type": "code",
      "source": [
        "# while loop에서의 else\n",
        "\n",
        "j = 0\n",
        "\n",
        "while j < 10:\n",
        "  print(j)\n",
        "  if j == 6: break\n",
        "  j += 1\n",
        "else:\n",
        "  print('ended') # 출력 X"
      ],
      "metadata": {
        "colab": {
          "base_uri": "https://localhost:8080/"
        },
        "id": "QpzyM3veYB1C",
        "outputId": "2c78b5a9-01d7-4a67-c3a2-5d365365a1a1"
      },
      "execution_count": null,
      "outputs": [
        {
          "output_type": "stream",
          "name": "stdout",
          "text": [
            "0\n",
            "1\n",
            "2\n",
            "3\n",
            "4\n",
            "5\n",
            "6\n"
          ]
        }
      ]
    },
    {
      "cell_type": "markdown",
      "source": [
        "\n",
        "\n",
        "---\n",
        "\n",
        "\n",
        "\n",
        "---\n",
        "\n"
      ],
      "metadata": {
        "id": "aOiOF_Vfzfdk"
      }
    },
    {
      "cell_type": "markdown",
      "source": [
        "## `continue`\n",
        "- 일부 코드를 실행하지 않고 건너뛴다\n",
        "- 특정 조건을 건너뛰고 다음 조건을 실행"
      ],
      "metadata": {
        "id": "NnraySw5ZWN0"
      }
    },
    {
      "cell_type": "code",
      "source": [
        "# for에서의 continue\n",
        "\n",
        "for i in range(10):\n",
        "  if i == 6: continue\n",
        "  print(i)\n",
        "else:\n",
        "  print(f'ended, {i}') # 6 출력 X, i는 9까지 왔다"
      ],
      "metadata": {
        "colab": {
          "base_uri": "https://localhost:8080/"
        },
        "id": "e8C91XECQI3r",
        "outputId": "57d3e331-58c5-40a4-8ddc-02c4aadcd588"
      },
      "execution_count": null,
      "outputs": [
        {
          "output_type": "stream",
          "name": "stdout",
          "text": [
            "0\n",
            "1\n",
            "2\n",
            "3\n",
            "4\n",
            "5\n",
            "7\n",
            "8\n",
            "9\n",
            "ended, 9\n"
          ]
        }
      ]
    },
    {
      "cell_type": "markdown",
      "source": [
        "\n",
        "\n",
        "---\n",
        "\n",
        "\n",
        "\n",
        "---\n",
        "\n"
      ],
      "metadata": {
        "id": "cxJTUrtYzjIf"
      }
    },
    {
      "cell_type": "markdown",
      "source": [
        "### < gugudan >\n",
        "입력을 받아서 사용함.\n",
        "- 1. n단 출력 \n",
        "- 2. 1-n단까지 출력\n",
        "  - n > 10일 경우 대비\n",
        "- 3. n, m 모두 입력 받아서 출력 시작과 끝단\n",
        "  - n > m\n",
        "- 4. 프로그램으로 만듦.\n",
        "  - 메뉴: 1) n단 출력 2) 1부터 n단 출력, 3) n부터 m단 출력\n",
        "  - 메뉴에 없는 옵션 선택할 때\n",
        "- print format 사용할 것"
      ],
      "metadata": {
        "id": "vR5NasvGRc40"
      }
    },
    {
      "cell_type": "markdown",
      "source": [
        "input menu 1) 1단출력 2) 1부터 n단 출력 3) n부터 m단 출력 <br>\n",
        "  if 1: <br>\n",
        "  if 2: <br>\n",
        "  if 3: <br>\n",
        "  else: <br>\n",
        "    input1~3번의 메뉴 중 하나를 선택하라"
      ],
      "metadata": {
        "id": "Fd4pI9-YXk37"
      }
    },
    {
      "cell_type": "code",
      "source": [
        "# 메뉴\n",
        "menu = '\\n\\n원하시는 메뉴의 번호를 입력하세요. \\n(1) n단 출력 \\n(2) 1단부터 n단 출력 \\n(3) n단부터 원하는 단까지 출력\\n(단, 1단부터 9단까지 출력합니다.)\\n 선택하실 메뉴: '\n",
        "menu1 = '\\n1단부터 9단 중, 출력하실 단의 숫자를 입력하세요: '\n",
        "menu2 = '\\n1단부터 9단 중, 출력하실 마지막 단의 숫자를 입력하세요: '\n",
        "menu3 = '\\n1단부터 9단 중, 출력을 시작할 단의 숫자를 입력하세요: '\n",
        "menuWrong = '잘못된 선택입니다. 메뉴 선택 화면으로 돌아갑니다.\\n'\n",
        "\n",
        "\n",
        "start = 0\n",
        "end = 0\n",
        "\n",
        "# 1번 프로그랩\n",
        "menu1wrong = '\\n잘못된 선택입니다. 출력할 단 선택 화면으로 돌아갑니다. '\n",
        "\n",
        "# 2번\n",
        "# 3번\n",
        "\n",
        "# 반복문 선언\n",
        "operation = True\n",
        "flag = True\n",
        "# 프로그램\n",
        "while operation == True:\n",
        "  # 메뉴 선택\n",
        "  choice = int(input(f'{menu}'))\n",
        "\n",
        "  if choice == 1:\n",
        "\n",
        "    # 1번 메뉴 (n단)\n",
        "    while flag == True:\n",
        "      start = int(input(menu1))\n",
        "      if start in range(1, 9+1):\n",
        "        print(f'\\n{start}단을 출력합니다.\\n')\n",
        "        for start in range(1, start + 1):\n",
        "          print(f'\\n=== {start}단 ===')\n",
        "          for i in range(1, 10):\n",
        "            print(f'{start} X {i} = {start * i}') \n",
        "            flag = False\n",
        "      else:\n",
        "        print(menu1wrong)\n",
        "        continue\n",
        "\n",
        "  elif choice == 2:\n",
        "    end = int(input(menu2)) # 2\n",
        "  elif choice == 3:\n",
        "    start = int(input(menu3)) # 3\n",
        "  else:\n",
        "    print(menuWrong)\n",
        "    continue\n"
      ],
      "metadata": {
        "id": "mfl-ePAAf1eJ"
      },
      "execution_count": null,
      "outputs": []
    },
    {
      "cell_type": "code",
      "source": [
        "1flag = True\n",
        "while flag == True:\n",
        "  start = int(input('시작할 단을 입력하세요: '))\n",
        "  if start > 10:\n",
        "    start = int(input('1단부터 9단까지 출력 가능합니다. 시작할 단을 다시 입력하세요: '))\n",
        "  else: \n",
        "    end = int(input('끝 단을 입력하세요:'))\n",
        "    flag = False\n",
        "    if end > 10:\n",
        "      int(input('최대 9단까지 출력 가능합니다. 끝 단을 다시 입력하세요:'))\n",
        "    elif end < start:\n",
        "      int(input('끝나는 단이 시작할 단보다 작습니다. 끝 단을 다시 입력하세요: '))\n",
        "    else: flag = False\n",
        "\n",
        "for i in range(start, end + 1):\n",
        "  print(f'=== {i}단 ===')\n",
        "  for j in range(1, 10):\n",
        "    print(f'{i} X {j} = {i * j}')\n",
        "  print()"
      ],
      "metadata": {
        "id": "W24Rr1HDQSGt"
      },
      "execution_count": null,
      "outputs": []
    },
    {
      "cell_type": "markdown",
      "source": [
        "\n",
        "\n",
        "---\n",
        "\n",
        "\n",
        "\n",
        "---\n",
        "\n"
      ],
      "metadata": {
        "id": "W4uEffO3zpy7"
      }
    },
    {
      "cell_type": "markdown",
      "source": [
        "text 1~9 hard coding 없이 가져오는 법?\n",
        "- text1 vs. 'text1'\n",
        "- text1~9 string 가져오기\n",
        "- string -> fx : getattr(library, 'string_name')"
      ],
      "metadata": {
        "id": "-ALq6O4Rb2af"
      }
    },
    {
      "cell_type": "code",
      "source": [
        "texts = [getattr(nltk.book, f'text{i}') for i in range(1, 10)]\n",
        "texts"
      ],
      "metadata": {
        "id": "Hxqzak68b1Vb"
      },
      "execution_count": null,
      "outputs": []
    },
    {
      "cell_type": "markdown",
      "source": [
        "\n",
        "\n",
        "---\n",
        "\n",
        "\n",
        "\n",
        "---\n",
        "\n"
      ],
      "metadata": {
        "id": "W78Kd6DjztRC"
      }
    },
    {
      "cell_type": "markdown",
      "source": [
        "### NLTK corpus\n",
        "- corpus + theme\n",
        "- 종류\n",
        "  - brown 카테고리별 분류\n",
        "  - gutenberg 저작권이 말소된 문학작품\n",
        "  - inaugural 연설\n",
        "- methods\n",
        "  - words() # tokens\n",
        "  - sents()\n",
        "  - raw()"
      ],
      "metadata": {
        "id": "4PLxdl9GbvVS"
      }
    },
    {
      "cell_type": "code",
      "source": [
        "from nltk.corpus import gutenberg\n",
        "nltk.download(['brown', 'gutenberg', 'inaugural'])"
      ],
      "metadata": {
        "id": "v8luGR_rcXnJ"
      },
      "execution_count": null,
      "outputs": []
    },
    {
      "cell_type": "code",
      "source": [
        "gutenberg # = nltk.coupus.gutenberg"
      ],
      "metadata": {
        "id": "26WdWyMnc999"
      },
      "execution_count": null,
      "outputs": []
    },
    {
      "cell_type": "code",
      "source": [
        "gutenberg.fileids() # corpus에 포함된 파일 리스트 반환"
      ],
      "metadata": {
        "id": "880phcYJc_gm"
      },
      "execution_count": null,
      "outputs": []
    },
    {
      "cell_type": "code",
      "source": [
        "gutenberg.words(fileids = ['carroll-alice.txt', 'austen-emma.txt'])"
      ],
      "metadata": {
        "id": "Qex_s542dajA"
      },
      "execution_count": null,
      "outputs": []
    },
    {
      "cell_type": "code",
      "source": [
        "gutenberg.words(fileids = 'carroll-alice.txt') # 하나만 불러올 때는 대괄호 X"
      ],
      "metadata": {
        "id": "pI9TsF0idjQL"
      },
      "execution_count": null,
      "outputs": []
    },
    {
      "cell_type": "code",
      "source": [
        "# 각 파일마다 word, character, sents 개수 출력하기"
      ],
      "metadata": {
        "id": "5O7KHz-JdQx_"
      },
      "execution_count": null,
      "outputs": []
    },
    {
      "cell_type": "markdown",
      "source": [
        "## 각 파일마다 word, character, sents의 개수 출력하기"
      ],
      "metadata": {
        "id": "Io9lmO9I8HIP"
      }
    },
    {
      "cell_type": "code",
      "source": [
        "# 리스트, 변수\n",
        "words = {}\n",
        "chars = {}\n",
        "sents = {}\n",
        "\n",
        "guten = gutenberg.fileids()\n",
        "\n",
        "# 딕셔너리에 담기\n",
        "for i in range(len(gutenberg.fileids())):   # 총 18개\n",
        "  words[guten[i]] = len(gutenberg.words(fileids = guten[i]))\n",
        "  chars[guten[i]] = len(gutenberg.raw(fileids = guten[i]))\n",
        "  sents[guten[i]] = len(gutenberg.sents(fileids = guten[i]))\n",
        "\n",
        "\n",
        "# 출력\n",
        "print('단어 개수:')\n",
        "print(words)\n",
        "\n",
        "print('글자 수')\n",
        "print(chars)\n",
        "\n",
        "print('문장 수')\n",
        "print(sents)"
      ],
      "metadata": {
        "colab": {
          "base_uri": "https://localhost:8080/"
        },
        "id": "H5PAbraU3YNx",
        "outputId": "00f43b9a-1141-48f4-8725-d930cb44bfd1"
      },
      "execution_count": null,
      "outputs": [
        {
          "output_type": "stream",
          "name": "stdout",
          "text": [
            "단어 개수:\n",
            "{'austen-emma.txt': 192427, 'austen-persuasion.txt': 98171, 'austen-sense.txt': 141576, 'bible-kjv.txt': 1010654, 'blake-poems.txt': 8354, 'bryant-stories.txt': 55563, 'burgess-busterbrown.txt': 18963, 'carroll-alice.txt': 34110, 'chesterton-ball.txt': 96996, 'chesterton-brown.txt': 86063, 'chesterton-thursday.txt': 69213, 'edgeworth-parents.txt': 210663, 'melville-moby_dick.txt': 260819, 'milton-paradise.txt': 96825, 'shakespeare-caesar.txt': 25833, 'shakespeare-hamlet.txt': 37360, 'shakespeare-macbeth.txt': 23140, 'whitman-leaves.txt': 154883}\n",
            "글자 수\n",
            "{'austen-emma.txt': 887071, 'austen-persuasion.txt': 466292, 'austen-sense.txt': 673022, 'bible-kjv.txt': 4332554, 'blake-poems.txt': 38153, 'bryant-stories.txt': 249439, 'burgess-busterbrown.txt': 84663, 'carroll-alice.txt': 144395, 'chesterton-ball.txt': 457450, 'chesterton-brown.txt': 406629, 'chesterton-thursday.txt': 320525, 'edgeworth-parents.txt': 935158, 'melville-moby_dick.txt': 1242990, 'milton-paradise.txt': 468220, 'shakespeare-caesar.txt': 112310, 'shakespeare-hamlet.txt': 162881, 'shakespeare-macbeth.txt': 100351, 'whitman-leaves.txt': 711215}\n",
            "문장 수\n",
            "{'austen-emma.txt': 7752, 'austen-persuasion.txt': 3747, 'austen-sense.txt': 4999, 'bible-kjv.txt': 30103, 'blake-poems.txt': 438, 'bryant-stories.txt': 2863, 'burgess-busterbrown.txt': 1054, 'carroll-alice.txt': 1703, 'chesterton-ball.txt': 4779, 'chesterton-brown.txt': 3806, 'chesterton-thursday.txt': 3742, 'edgeworth-parents.txt': 10230, 'melville-moby_dick.txt': 10059, 'milton-paradise.txt': 1851, 'shakespeare-caesar.txt': 2163, 'shakespeare-hamlet.txt': 3106, 'shakespeare-macbeth.txt': 1907, 'whitman-leaves.txt': 4250}\n"
          ]
        }
      ]
    },
    {
      "cell_type": "markdown",
      "source": [
        "### Gutenberg 실습\n",
        "- 1. shakespeare-caesar의 중복된 단어를 거르고 각 단어의 길이를 출력하시오.\n",
        "- 2. chesterton-thursday에서 길이가 4자 이하인 알파벳 중 ie를 포함하는 단어를 소문자로 출력하고, 개수를 세어라.\n",
        "- 3. bryant-stories에서 ch로 끝나는 단어를 출력하는데, 중복 없이, 첫글자(모두 소문자)와 끝ch만 남기고 가운데 글자들은 모두 -로 가려라. 예: much -> m-ch"
      ],
      "metadata": {
        "id": "mNmsGYSeifYL"
      }
    },
    {
      "cell_type": "code",
      "source": [
        "shakesWords = set([word.lower() for word in gutenberg.words('shakespeare-caesar.txt')])\n",
        "shakesWords"
      ],
      "metadata": {
        "id": "F0IxHUU08q0W"
      },
      "execution_count": null,
      "outputs": []
    },
    {
      "cell_type": "code",
      "source": [
        "ex =[len(word.lower()) for word in set((gutenberg.words('shakespeare-caesar.txt')))]\n",
        "ex[:10]"
      ],
      "metadata": {
        "colab": {
          "base_uri": "https://localhost:8080/"
        },
        "id": "mkYT0IYhejTO",
        "outputId": "00c44a30-a5ae-423b-9a44-4e2c1cce9aca"
      },
      "execution_count": null,
      "outputs": [
        {
          "output_type": "execute_result",
          "data": {
            "text/plain": [
              "[6, 4, 6, 5, 10, 6, 6, 7, 4, 6]"
            ]
          },
          "metadata": {},
          "execution_count": 123
        }
      ]
    },
    {
      "cell_type": "code",
      "source": [
        "fourletters = set([word.lower() for word in gutenberg.words('chesterton-thursday.txt') if len(word) <= 4 and 'ie' in word])\n",
        "print(fourletters)\n",
        "len(fourletters)"
      ],
      "metadata": {
        "colab": {
          "base_uri": "https://localhost:8080/"
        },
        "id": "HQqJJHj0jLkP",
        "outputId": "56bd055e-99e7-4d9c-8960-a74a7e8c590d"
      },
      "execution_count": null,
      "outputs": [
        {
          "output_type": "stream",
          "name": "stdout",
          "text": [
            "{'erie', 'pie', 'view', 'pier', 'tied', 'lies', 'tie', 'foie', 'die', 'died', 'lie', 'dies'}\n"
          ]
        },
        {
          "output_type": "execute_result",
          "data": {
            "text/plain": [
              "12"
            ]
          },
          "metadata": {},
          "execution_count": 127
        }
      ]
    },
    {
      "cell_type": "code",
      "source": [
        "ch_words = set([word.lower() for word in gutenberg.words('bryant-stories.txt') if word.endswith('ch')])\n",
        "ch_words\n",
        "\n",
        "# for i in list(ch_words):\n",
        "#  print(i[0], '-' * (len(i) - 2)), 'ch')"
      ],
      "metadata": {
        "colab": {
          "base_uri": "https://localhost:8080/"
        },
        "id": "wyDsLlixk5Ap",
        "outputId": "7e3c11f9-0098-41dd-a7cc-e44ff2a8e4c8"
      },
      "execution_count": null,
      "outputs": [
        {
          "output_type": "execute_result",
          "data": {
            "text/plain": [
              "{'arch',\n",
              " 'beach',\n",
              " 'bench',\n",
              " 'birch',\n",
              " 'branch',\n",
              " 'catch',\n",
              " 'church',\n",
              " 'coach',\n",
              " 'each',\n",
              " 'fetch',\n",
              " 'french',\n",
              " 'lunch',\n",
              " 'much',\n",
              " 'patch',\n",
              " 'perch',\n",
              " 'pitch',\n",
              " 'porch',\n",
              " 'pouch',\n",
              " 'reach',\n",
              " 'rich',\n",
              " 'scratch',\n",
              " 'search',\n",
              " 'spinach',\n",
              " 'stitch',\n",
              " 'stomach',\n",
              " 'stretch',\n",
              " 'such',\n",
              " 'teach',\n",
              " 'touch',\n",
              " 'trench',\n",
              " 'watch',\n",
              " 'which'}"
            ]
          },
          "metadata": {},
          "execution_count": 148
        }
      ]
    },
    {
      "cell_type": "markdown",
      "source": [
        "### Brown\n",
        "- categories()가 중요"
      ],
      "metadata": {
        "id": "3KAH88BonR-R"
      }
    },
    {
      "cell_type": "code",
      "source": [
        "brown = nltk.corpus.brown"
      ],
      "metadata": {
        "id": "5qV3qf2OlpLm"
      },
      "execution_count": null,
      "outputs": []
    },
    {
      "cell_type": "code",
      "source": [
        "brown.categories()"
      ],
      "metadata": {
        "colab": {
          "base_uri": "https://localhost:8080/"
        },
        "id": "QsgFSG3gnZEE",
        "outputId": "c20d9682-ef0e-491b-ae87-b4f1b32903ad"
      },
      "execution_count": null,
      "outputs": [
        {
          "output_type": "execute_result",
          "data": {
            "text/plain": [
              "['adventure',\n",
              " 'belles_lettres',\n",
              " 'editorial',\n",
              " 'fiction',\n",
              " 'government',\n",
              " 'hobbies',\n",
              " 'humor',\n",
              " 'learned',\n",
              " 'lore',\n",
              " 'mystery',\n",
              " 'news',\n",
              " 'religion',\n",
              " 'reviews',\n",
              " 'romance',\n",
              " 'science_fiction']"
            ]
          },
          "metadata": {},
          "execution_count": 150
        }
      ]
    },
    {
      "cell_type": "code",
      "source": [
        "fdist = nltk.FreqDist([w.lower() for w in brown.words(categories = 'adventure')])"
      ],
      "metadata": {
        "id": "B0hIdJnTnatg"
      },
      "execution_count": null,
      "outputs": []
    },
    {
      "cell_type": "code",
      "source": [
        "fdist['men']"
      ],
      "metadata": {
        "colab": {
          "base_uri": "https://localhost:8080/"
        },
        "id": "vEFXx2hwnjzt",
        "outputId": "97932fac-c35c-4fe4-bc3e-49c4108b1921"
      },
      "execution_count": null,
      "outputs": [
        {
          "output_type": "execute_result",
          "data": {
            "text/plain": [
              "83"
            ]
          },
          "metadata": {},
          "execution_count": 153
        }
      ]
    },
    {
      "cell_type": "code",
      "source": [
        "# modal verbs\n",
        "modals = ['can', 'could', 'will', 'would', 'may', 'might']\n",
        "\n",
        "for verb in modals:\n",
        "  print(verb, fdist[verb])"
      ],
      "metadata": {
        "colab": {
          "base_uri": "https://localhost:8080/"
        },
        "id": "pMS30PBKnrLp",
        "outputId": "7a4e1b7c-55c7-41ec-8a2c-00f137bdd862"
      },
      "execution_count": null,
      "outputs": [
        {
          "output_type": "stream",
          "name": "stdout",
          "text": [
            "can 48\n",
            "could 154\n",
            "will 51\n",
            "would 194\n",
            "may 7\n",
            "might 59\n"
          ]
        }
      ]
    },
    {
      "cell_type": "markdown",
      "source": [
        "### conditional frequency distribution\n",
        "- 조건에 따른 fdist"
      ],
      "metadata": {
        "id": "jNwAb8Ndn8LB"
      }
    },
    {
      "cell_type": "code",
      "source": [
        "cfd = nltk.ConditionalFreqDist(\n",
        "    # 각 장르에 따른 frequency distribution을 만든다.\n",
        "    (genre, word)\n",
        "    for genre in brown.categories()\n",
        "    for word in brown.words(categories=genre)\n",
        ")"
      ],
      "metadata": {
        "id": "aj3Keba_n6yC"
      },
      "execution_count": null,
      "outputs": []
    },
    {
      "cell_type": "code",
      "source": [
        "cfd['romance'].most_common()"
      ],
      "metadata": {
        "colab": {
          "base_uri": "https://localhost:8080/"
        },
        "id": "s4WgGXiPoZ-P",
        "outputId": "c6d8754b-1184-4c4f-9912-df0dc79af518"
      },
      "execution_count": null,
      "outputs": [
        {
          "output_type": "execute_result",
          "data": {
            "text/plain": [
              "[(',', 3899),\n",
              " ('.', 3736),\n",
              " ('the', 2758),\n",
              " ('and', 1776),\n",
              " ('to', 1502),\n",
              " ('a', 1335),\n",
              " ('of', 1186),\n",
              " ('``', 1045),\n",
              " (\"''\", 1044),\n",
              " ('was', 993),\n",
              " ('I', 951),\n",
              " ('in', 875),\n",
              " ('he', 702),\n",
              " ('had', 692),\n",
              " ('?', 690),\n",
              " ('her', 651),\n",
              " ('that', 583),\n",
              " ('it', 573),\n",
              " ('his', 559),\n",
              " ('she', 496),\n",
              " ('with', 460),\n",
              " ('you', 456),\n",
              " ('for', 410),\n",
              " ('at', 402),\n",
              " ('He', 366),\n",
              " ('on', 362),\n",
              " ('him', 339),\n",
              " ('said', 330),\n",
              " ('!', 316),\n",
              " ('--', 291),\n",
              " ('be', 289),\n",
              " ('as', 282),\n",
              " (';', 264),\n",
              " ('have', 258),\n",
              " ('but', 252),\n",
              " ('not', 250),\n",
              " ('would', 244),\n",
              " ('She', 232),\n",
              " ('The', 230),\n",
              " ('out', 217),\n",
              " ('were', 214),\n",
              " ('up', 211),\n",
              " ('all', 209),\n",
              " ('from', 202),\n",
              " ('could', 193),\n",
              " ('me', 193),\n",
              " ('like', 185),\n",
              " ('been', 179),\n",
              " ('so', 174),\n",
              " ('there', 169),\n",
              " ('they', 168),\n",
              " ('one', 166),\n",
              " ('about', 164),\n",
              " ('my', 156),\n",
              " ('an', 152),\n",
              " ('or', 150),\n",
              " ('is', 150),\n",
              " ('this', 149),\n",
              " ('It', 144),\n",
              " ('them', 142),\n",
              " ('if', 142),\n",
              " ('into', 136),\n",
              " ('But', 135),\n",
              " ('And', 129),\n",
              " ('down', 127),\n",
              " ('when', 126),\n",
              " ('back', 126),\n",
              " ('no', 123),\n",
              " ('what', 121),\n",
              " ('did', 115),\n",
              " ('their', 114),\n",
              " ('do', 109),\n",
              " ('by', 107),\n",
              " ('only', 106),\n",
              " ('your', 106),\n",
              " ('thought', 105),\n",
              " ('which', 104),\n",
              " ('You', 102),\n",
              " (\"didn't\", 101),\n",
              " ('then', 101),\n",
              " ('just', 100),\n",
              " ('little', 99),\n",
              " ('time', 93),\n",
              " ('too', 92),\n",
              " ('get', 92),\n",
              " ('who', 89),\n",
              " ('got', 89),\n",
              " ('before', 88),\n",
              " ('know', 88),\n",
              " ('over', 88),\n",
              " ('man', 87),\n",
              " ('because', 85),\n",
              " ('more', 85),\n",
              " ('never', 84),\n",
              " ('way', 83),\n",
              " ('now', 83),\n",
              " ('went', 82),\n",
              " ('we', 78),\n",
              " (\"I'm\", 77),\n",
              " ('eyes', 76),\n",
              " ('go', 76),\n",
              " ('came', 75),\n",
              " ('see', 74),\n",
              " ('can', 74),\n",
              " ('old', 73),\n",
              " ('come', 73),\n",
              " ('even', 73),\n",
              " ('are', 72),\n",
              " ('looked', 72),\n",
              " ('other', 70),\n",
              " ('They', 69),\n",
              " ('its', 69),\n",
              " ('knew', 69),\n",
              " ('some', 69),\n",
              " ('much', 69),\n",
              " ('around', 68),\n",
              " ('any', 67),\n",
              " ('There', 66),\n",
              " ('here', 65),\n",
              " ('long', 65),\n",
              " ('than', 65),\n",
              " ('good', 65),\n",
              " ('away', 64),\n",
              " ('felt', 64),\n",
              " ('day', 63),\n",
              " ('own', 63),\n",
              " ('still', 62),\n",
              " ('made', 62),\n",
              " ('take', 62),\n",
              " (\"don't\", 62),\n",
              " ('say', 60),\n",
              " ('going', 60),\n",
              " ('how', 60),\n",
              " ('something', 59),\n",
              " ('after', 58),\n",
              " ('through', 56),\n",
              " (':', 56),\n",
              " ('off', 56),\n",
              " ('think', 56),\n",
              " ('In', 55),\n",
              " ('right', 55),\n",
              " ('night', 54),\n",
              " ('where', 54),\n",
              " ('look', 54),\n",
              " ('those', 53),\n",
              " ('again', 53),\n",
              " ('himself', 53),\n",
              " (\"I'll\", 53),\n",
              " ('thing', 52),\n",
              " ('first', 52),\n",
              " ('might', 51),\n",
              " ('seemed', 51),\n",
              " ('life', 51),\n",
              " ('very', 50),\n",
              " ('What', 50),\n",
              " (\"wasn't\", 50),\n",
              " ('always', 49),\n",
              " ('left', 49),\n",
              " ('make', 49),\n",
              " ('young', 49),\n",
              " ('put', 49),\n",
              " ('being', 49),\n",
              " ('people', 48),\n",
              " ('while', 48),\n",
              " ('took', 48),\n",
              " ('two', 48),\n",
              " ('turned', 48),\n",
              " ('A', 48),\n",
              " ('nothing', 47),\n",
              " ('saw', 47),\n",
              " ('told', 47),\n",
              " ('head', 46),\n",
              " (\"couldn't\", 46),\n",
              " ('home', 46),\n",
              " ('asked', 45),\n",
              " ('place', 45),\n",
              " ('room', 45),\n",
              " ('must', 45),\n",
              " ('His', 44),\n",
              " ('mother', 44),\n",
              " ('face', 44),\n",
              " ('wanted', 44),\n",
              " ('last', 44),\n",
              " ('Phil', 44),\n",
              " ('door', 43),\n",
              " ('next', 43),\n",
              " ('will', 43),\n",
              " ('against', 42),\n",
              " ('anything', 42),\n",
              " ('us', 42),\n",
              " ('Then', 42),\n",
              " ('No', 40),\n",
              " ('herself', 40),\n",
              " ('enough', 40),\n",
              " ('morning', 40),\n",
              " ('let', 39),\n",
              " ('Mrs.', 39),\n",
              " ('John', 39),\n",
              " ('once', 38),\n",
              " ('This', 38),\n",
              " ('boy', 38),\n",
              " ('really', 38),\n",
              " ('well', 38),\n",
              " ('tell', 37),\n",
              " ('When', 37),\n",
              " ('few', 37),\n",
              " ('stood', 37),\n",
              " ('want', 37),\n",
              " ('looking', 36),\n",
              " ('course', 36),\n",
              " ('house', 36),\n",
              " ('big', 36),\n",
              " ('feel', 36),\n",
              " ('hand', 35),\n",
              " ('ever', 35),\n",
              " ('woman', 34),\n",
              " ('why', 34),\n",
              " ('Well', 34),\n",
              " ('find', 34),\n",
              " ('until', 34),\n",
              " ('cold', 34),\n",
              " ('kind', 34),\n",
              " ('water', 34),\n",
              " ('years', 34),\n",
              " ('voice', 33),\n",
              " (\"wouldn't\", 33),\n",
              " ('son', 33),\n",
              " ('All', 33),\n",
              " ('Mr.', 33),\n",
              " ('along', 33),\n",
              " (\"I'd\", 33),\n",
              " ('black', 32),\n",
              " ('gave', 32),\n",
              " ('sat', 32),\n",
              " ('work', 32),\n",
              " ('better', 32),\n",
              " ('should', 32),\n",
              " ('days', 32),\n",
              " ('love', 32),\n",
              " ('called', 31),\n",
              " ('new', 31),\n",
              " ('For', 31),\n",
              " ('heard', 31),\n",
              " ('small', 31),\n",
              " ('We', 31),\n",
              " ('hands', 31),\n",
              " ('these', 30),\n",
              " ('without', 30),\n",
              " ('same', 30),\n",
              " ('white', 30),\n",
              " ('hair', 30),\n",
              " ('sure', 30),\n",
              " ('great', 30),\n",
              " ('things', 30),\n",
              " ('Lucy', 30),\n",
              " ('church', 29),\n",
              " ('men', 29),\n",
              " ('That', 29),\n",
              " ('else', 29),\n",
              " ('though', 29),\n",
              " ('At', 29),\n",
              " ('Her', 29),\n",
              " ('done', 29),\n",
              " ('found', 29),\n",
              " (\"hadn't\", 29),\n",
              " ('Now', 29),\n",
              " ('both', 28),\n",
              " ('Just', 28),\n",
              " (\"It's\", 28),\n",
              " ('give', 28),\n",
              " ('Why', 28),\n",
              " ('If', 28),\n",
              " ('Miss', 28),\n",
              " ('Mike', 28),\n",
              " ('everything', 27),\n",
              " ('many', 27),\n",
              " (\"I've\", 27),\n",
              " ('moment', 27),\n",
              " ('walked', 27),\n",
              " ('myself', 27),\n",
              " ('job', 27),\n",
              " ('Cady', 27),\n",
              " ('kept', 26),\n",
              " ('girl', 26),\n",
              " ('clothes', 26),\n",
              " ('keep', 26),\n",
              " ('has', 26),\n",
              " ('world', 26),\n",
              " ('another', 26),\n",
              " ('most', 26),\n",
              " ('baby', 25),\n",
              " ('stopped', 25),\n",
              " ('beautiful', 25),\n",
              " ('together', 25),\n",
              " ('our', 25),\n",
              " ('gone', 25),\n",
              " ('Yes', 25),\n",
              " ('pale', 25),\n",
              " ('talk', 25),\n",
              " ('Linda', 25),\n",
              " ('Johnnie', 25),\n",
              " ('each', 24),\n",
              " ('light', 24),\n",
              " ('having', 24),\n",
              " ('money', 24),\n",
              " (\"can't\", 24),\n",
              " ('leave', 24),\n",
              " ('thinking', 24),\n",
              " ('Oh', 24),\n",
              " (\"Don't\", 24),\n",
              " ('end', 24),\n",
              " ('call', 24),\n",
              " ('field', 24),\n",
              " ('help', 24),\n",
              " ('alone', 24),\n",
              " ('mind', 24),\n",
              " ('Myra', 24),\n",
              " ('Theresa', 24),\n",
              " ('Not', 23),\n",
              " ('smiled', 23),\n",
              " ('began', 23),\n",
              " ('sun', 23),\n",
              " ('sound', 23),\n",
              " ('Anne', 23),\n",
              " ('father', 23),\n",
              " ('every', 23),\n",
              " ('trying', 23),\n",
              " ('bed', 23),\n",
              " ('whole', 23),\n",
              " ('family', 23),\n",
              " ('idea', 23),\n",
              " ('God', 23),\n",
              " ('wrong', 23),\n",
              " ('Wally', 23),\n",
              " ('women', 22),\n",
              " ('toward', 22),\n",
              " ('Maggie', 22),\n",
              " ('started', 22),\n",
              " ('stay', 22),\n",
              " ('quite', 22),\n",
              " ('tried', 22),\n",
              " ('wish', 22),\n",
              " ('between', 22),\n",
              " (\"she'd\", 22),\n",
              " ('suddenly', 22),\n",
              " ('slowly', 22),\n",
              " ('Spencer', 22),\n",
              " ('Bobbie', 22),\n",
              " ('Martin', 22),\n",
              " ('Cousin', 22),\n",
              " ('Eddie', 22),\n",
              " ('Deegan', 22),\n",
              " ('early', 21),\n",
              " (\"that's\", 21),\n",
              " ('wife', 21),\n",
              " ('(', 21),\n",
              " (')', 21),\n",
              " ('yet', 21),\n",
              " ('such', 21),\n",
              " ('feet', 21),\n",
              " ('used', 21),\n",
              " ('feeling', 21),\n",
              " ('My', 21),\n",
              " ('business', 21),\n",
              " ('weeks', 21),\n",
              " ('George', 21),\n",
              " ('snake', 21),\n",
              " ('watching', 20),\n",
              " ('seen', 20),\n",
              " ('children', 20),\n",
              " ('high', 20),\n",
              " ('doing', 20),\n",
              " (\"isn't\", 20),\n",
              " ('am', 20),\n",
              " ('already', 20),\n",
              " ('Henrietta', 20),\n",
              " ('Owen', 20),\n",
              " ('dark', 20),\n",
              " ('Alexander', 20),\n",
              " ('As', 20),\n",
              " ('car', 20),\n",
              " ('Susan', 20),\n",
              " ('Freddy', 20),\n",
              " ('since', 19),\n",
              " ('happened', 19),\n",
              " ('pretty', 19),\n",
              " ('taking', 19),\n",
              " ('care', 19),\n",
              " ('coffee', 19),\n",
              " ('lived', 19),\n",
              " ('table', 19),\n",
              " ('blue', 19),\n",
              " ('body', 19),\n",
              " ('sitting', 19),\n",
              " ('sorry', 19),\n",
              " ('turn', 19),\n",
              " ('full', 19),\n",
              " ('almost', 19),\n",
              " ('brought', 19),\n",
              " ('across', 19),\n",
              " ('air', 19),\n",
              " ('later', 19),\n",
              " ('letter', 19),\n",
              " ('Cathy', 19),\n",
              " ('Dolores', 19),\n",
              " ('given', 18),\n",
              " ('part', 18),\n",
              " ('matter', 18),\n",
              " ('nice', 18),\n",
              " ('fine', 18),\n",
              " ('saying', 18),\n",
              " ('So', 18),\n",
              " (\"won't\", 18),\n",
              " ('open', 18),\n",
              " ('week', 18),\n",
              " (\"That's\", 18),\n",
              " ('Sam', 18),\n",
              " ('ball', 18),\n",
              " ('tractor', 18),\n",
              " ('shorts', 18),\n",
              " ('William', 18),\n",
              " ('Old', 17),\n",
              " ('above', 17),\n",
              " ('front', 17),\n",
              " ('making', 17),\n",
              " ('side', 17),\n",
              " ('pink', 17),\n",
              " ('rest', 17),\n",
              " ('lot', 17),\n",
              " ('child', 17),\n",
              " ('set', 17),\n",
              " ('three', 17),\n",
              " ('half', 17),\n",
              " ('talking', 17),\n",
              " ('How', 17),\n",
              " ('rather', 17),\n",
              " ('word', 17),\n",
              " ('couple', 17),\n",
              " ('true', 17),\n",
              " ('clear', 17),\n",
              " ('heart', 17),\n",
              " ('bright', 17),\n",
              " ('real', 17),\n",
              " ('Nadine', 17),\n",
              " ('Richard', 17),\n",
              " ('stop', 16),\n",
              " ('upon', 16),\n",
              " ('hear', 16),\n",
              " ('One', 16),\n",
              " (\"You're\", 16),\n",
              " ('close', 16),\n",
              " ('picked', 16),\n",
              " ('hard', 16),\n",
              " ('run', 16),\n",
              " ('getting', 16),\n",
              " (\"he'd\", 16),\n",
              " ('loved', 16),\n",
              " ('hours', 16),\n",
              " ('Of', 16),\n",
              " ('beside', 16),\n",
              " ('breakfast', 16),\n",
              " ('held', 16),\n",
              " ('chance', 16),\n",
              " ('standing', 16),\n",
              " (\"you're\", 16),\n",
              " ('Rachel', 16),\n",
              " ('waited', 16),\n",
              " ('Hanford', 16),\n",
              " ('Willis', 16),\n",
              " ('To', 15),\n",
              " ('Or', 15),\n",
              " ('past', 15),\n",
              " ('dead', 15),\n",
              " ('behind', 15),\n",
              " ('town', 15),\n",
              " ('waiting', 15),\n",
              " ('also', 15),\n",
              " ('perhaps', 15),\n",
              " ('Eugenia', 15),\n",
              " ('New', 15),\n",
              " ('second', 15),\n",
              " ('need', 15),\n",
              " ('talked', 15),\n",
              " ('red', 15),\n",
              " ('caught', 15),\n",
              " ('moved', 15),\n",
              " ('far', 15),\n",
              " ('hot', 15),\n",
              " ('school', 15),\n",
              " ('age', 15),\n",
              " ('girls', 15),\n",
              " ('bad', 15),\n",
              " ('maybe', 15),\n",
              " ('Poor', 15),\n",
              " ('Anniston', 15),\n",
              " ('evening', 14),\n",
              " ('street', 14),\n",
              " ('remember', 14),\n",
              " ('stared', 14),\n",
              " ('times', 14),\n",
              " ('words', 14),\n",
              " ('dropped', 14),\n",
              " ('instead', 14),\n",
              " ('American', 14),\n",
              " ('under', 14),\n",
              " ('fell', 14),\n",
              " ('ought', 14),\n",
              " ('use', 14),\n",
              " (\"'\", 14),\n",
              " ('Doc', 14),\n",
              " ('year', 14),\n",
              " ('yourself', 14),\n",
              " (\"He's\", 14),\n",
              " ('Japanese', 14),\n",
              " ('Tommy', 14),\n",
              " ('believe', 14),\n",
              " ('understand', 14),\n",
              " ('soon', 14),\n",
              " ('listening', 14),\n",
              " ('rock', 14),\n",
              " ('apartment', 14),\n",
              " ('Edythe', 14),\n",
              " ('refrigerator', 14),\n",
              " ('Man', 13),\n",
              " ('name', 13),\n",
              " ('With', 13),\n",
              " ('fingers', 13),\n",
              " ('yellow', 13),\n",
              " ('color', 13),\n",
              " ('Even', 13),\n",
              " ('heavy', 13),\n",
              " ('arms', 13),\n",
              " ('lost', 13),\n",
              " ('opened', 13),\n",
              " ('company', 13),\n",
              " ('office', 13),\n",
              " ('York', 13),\n",
              " ('everybody', 13),\n",
              " ('laughed', 13),\n",
              " ('floor', 13),\n",
              " (\"it's\", 13),\n",
              " ('doctor', 13),\n",
              " ('ran', 13),\n",
              " ('live', 13),\n",
              " (\"haven't\", 13),\n",
              " ('read', 13),\n",
              " ('coming', 13),\n",
              " ('note', 13),\n",
              " ('On', 13),\n",
              " ('certain', 13),\n",
              " ('remembered', 13),\n",
              " ('seeing', 13),\n",
              " ('friends', 13),\n",
              " ('wondered', 13),\n",
              " ('swimming', 13),\n",
              " ('probably', 13),\n",
              " ('realized', 13),\n",
              " ('Cromwell', 13),\n",
              " ('large', 13),\n",
              " ('boys', 13),\n",
              " ('straight', 13),\n",
              " ('quietly', 13),\n",
              " ('Carla', 13),\n",
              " ('Jim', 13),\n",
              " ('liked', 12),\n",
              " ('sounds', 12),\n",
              " ('tiny', 12),\n",
              " ('Did', 12),\n",
              " ('hold', 12),\n",
              " ('less', 12),\n",
              " (\"doesn't\", 12),\n",
              " ('death', 12),\n",
              " ('afternoon', 12),\n",
              " ('Do', 12),\n",
              " ('neck', 12),\n",
              " ('sick', 12),\n",
              " ('kitchen', 12),\n",
              " ('bedroom', 12),\n",
              " ('bit', 12),\n",
              " ('brown', 12),\n",
              " ('shoes', 12),\n",
              " ('meeting', 12),\n",
              " ('fire', 12),\n",
              " ('spoke', 12),\n",
              " ('best', 12),\n",
              " ('hour', 12),\n",
              " ('party', 12),\n",
              " ('met', 12),\n",
              " ('walking', 12),\n",
              " ('rain', 12),\n",
              " ('gray', 12),\n",
              " ('short', 12),\n",
              " ('move', 12),\n",
              " ('green', 12),\n",
              " ('Navy', 12),\n",
              " ('Maybe', 12),\n",
              " ('least', 12),\n",
              " ('college', 12),\n",
              " ('added', 12),\n",
              " ('guy', 12),\n",
              " ('interest', 12),\n",
              " ('kill', 12),\n",
              " ('late', 12),\n",
              " ('Charlie', 12),\n",
              " ('catcher', 12),\n",
              " ('Frankie', 12),\n",
              " ('six', 11),\n",
              " ('tongue', 11),\n",
              " ('nobody', 11),\n",
              " ('thin', 11),\n",
              " ('anyone', 11),\n",
              " ('silent', 11),\n",
              " ('steps', 11),\n",
              " ('inside', 11),\n",
              " ('running', 11),\n",
              " ('ten', 11),\n",
              " ('months', 11),\n",
              " ('answer', 11),\n",
              " ('within', 11),\n",
              " ('eye', 11),\n",
              " ('knowing', 11),\n",
              " ('mouth', 11),\n",
              " ('watch', 11),\n",
              " ('tired', 11),\n",
              " ('Chris', 11),\n",
              " ('living', 11),\n",
              " ('worry', 11),\n",
              " ('during', 11),\n",
              " ('outside', 11),\n",
              " ('war', 11),\n",
              " ('wore', 11),\n",
              " ('meet', 11),\n",
              " ('strange', 11),\n",
              " ('stayed', 11),\n",
              " ('dressed', 11),\n",
              " ('lips', 11),\n",
              " ('simply', 11),\n",
              " ('lay', 11),\n",
              " ('meant', 11),\n",
              " ('handsome', 11),\n",
              " ('sent', 11),\n",
              " ('surprised', 11),\n",
              " ('smile', 11),\n",
              " ('able', 11),\n",
              " ('someone', 11),\n",
              " ('After', 11),\n",
              " ('does', 11),\n",
              " ('stick', 11),\n",
              " ('different', 11),\n",
              " ('today', 11),\n",
              " ('hall', 11),\n",
              " ('reason', 11),\n",
              " ('may', 11),\n",
              " ('finally', 11),\n",
              " ('group', 11),\n",
              " ('among', 11),\n",
              " ('speak', 11),\n",
              " ('shouted', 11),\n",
              " ('ready', 11),\n",
              " ('taken', 11),\n",
              " ('afraid', 11),\n",
              " ('colors', 11),\n",
              " ('Quint', 11),\n",
              " ('Pete', 11),\n",
              " ('Lucille', 11),\n",
              " ('Vivian', 11),\n",
              " ('country', 10),\n",
              " ('except', 10),\n",
              " (\"shouldn't\", 10),\n",
              " ('known', 10),\n",
              " ('city', 10),\n",
              " ('low', 10),\n",
              " ('walls', 10),\n",
              " ('alive', 10),\n",
              " ('sleep', 10),\n",
              " ('case', 10),\n",
              " ('leaned', 10),\n",
              " ('wet', 10),\n",
              " (\"She's\", 10),\n",
              " ('warm', 10),\n",
              " ('wide', 10),\n",
              " ('ones', 10),\n",
              " ('seem', 10),\n",
              " ('Grandma', 10),\n",
              " (\"Let's\", 10),\n",
              " ('government', 10),\n",
              " ('sort', 10),\n",
              " ('forever', 10),\n",
              " ('teeth', 10),\n",
              " ('anyway', 10),\n",
              " ('married', 10),\n",
              " ('yes', 10),\n",
              " ('followed', 10),\n",
              " ('drove', 10),\n",
              " ('line', 10),\n",
              " ('hope', 10),\n",
              " ('promise', 10),\n",
              " ('drank', 10),\n",
              " ('please', 10),\n",
              " ('try', 10),\n",
              " ('husband', 10),\n",
              " ('wished', 10),\n",
              " ('wait', 10),\n",
              " ('till', 10),\n",
              " ('sea', 10),\n",
              " ('passed', 10),\n",
              " ('clean', 10),\n",
              " ('drink', 10),\n",
              " ('ahead', 10),\n",
              " ('cry', 10),\n",
              " ('sometimes', 10),\n",
              " ('mean', 10),\n",
              " ('visit', 10),\n",
              " ('tomorrow', 10),\n",
              " ('book', 10),\n",
              " ('walk', 10),\n",
              " ('themselves', 10),\n",
              " ('drew', 10),\n",
              " ('wonder', 10),\n",
              " ('needed', 10),\n",
              " ('innocent', 10),\n",
              " ('ask', 10),\n",
              " ('Your', 10),\n",
              " ('hell', 10),\n",
              " ('Via', 10),\n",
              " ('Paris', 10),\n",
              " ('beach', 10),\n",
              " ('manager', 10),\n",
              " ('pitcher', 10),\n",
              " ('Dave', 10),\n",
              " ('tone', 9),\n",
              " ('Yet', 9),\n",
              " ('thick', 9),\n",
              " ('present', 9),\n",
              " ('Once', 9),\n",
              " ('carry', 9),\n",
              " ('paid', 9),\n",
              " ('taste', 9),\n",
              " (\"man's\", 9),\n",
              " ('Perhaps', 9),\n",
              " ('spent', 9),\n",
              " ('rose', 9),\n",
              " ('window', 9),\n",
              " ('beyond', 9),\n",
              " ('threw', 9),\n",
              " ('either', 9),\n",
              " ('bring', 9),\n",
              " ('whose', 9),\n",
              " ('beginning', 9),\n",
              " ('near', 9),\n",
              " ('corner', 9),\n",
              " ('hearing', 9),\n",
              " ('food', 9),\n",
              " ('moments', 9),\n",
              " ('strong', 9),\n",
              " ('changed', 9),\n",
              " ('stairs', 9),\n",
              " ('dress', 9),\n",
              " ('settled', 9),\n",
              " (\"weren't\", 9),\n",
              " ('supposed', 9),\n",
              " ('Something', 9),\n",
              " ('start', 9),\n",
              " ('trip', 9),\n",
              " ('person', 9),\n",
              " (\"she's\", 9),\n",
              " ('hardly', 9),\n",
              " ('class', 9),\n",
              " ('others', 9),\n",
              " ('imagine', 9),\n",
              " ('show', 9),\n",
              " ('nodded', 9),\n",
              " ('beard', 9),\n",
              " ('possible', 9),\n",
              " ('answered', 9),\n",
              " ('regular', 9),\n",
              " ('jacket', 9),\n",
              " ('turning', 9),\n",
              " ('trouble', 9),\n",
              " ('Nobody', 9),\n",
              " ('minutes', 9),\n",
              " ('religion', 9),\n",
              " ('luck', 9),\n",
              " ('game', 9),\n",
              " ('longer', 9),\n",
              " ('Captain', 9),\n",
              " ('paper', 9),\n",
              " ('knife', 9),\n",
              " ('stand', 9),\n",
              " ('returned', 9),\n",
              " ('anger', 9),\n",
              " ('Nothing', 9),\n",
              " ('bench', 9),\n",
              " ('ago', 9),\n",
              " ('cool', 9),\n",
              " ('crazy', 9),\n",
              " ('hate', 9),\n",
              " ('shut', 9),\n",
              " (\"you've\", 9),\n",
              " ('decided', 9),\n",
              " (\"What's\", 9),\n",
              " ('ugly', 9),\n",
              " ('scared', 9),\n",
              " ('president', 9),\n",
              " ('Elec', 9),\n",
              " ('Warren', 9),\n",
              " ('club', 9),\n",
              " ('biwa', 9),\n",
              " ('Partlow', 9),\n",
              " ('broken', 8),\n",
              " ('sweet', 8),\n",
              " ('rising', 8),\n",
              " ('dog', 8),\n",
              " ('smelled', 8),\n",
              " ('wall', 8),\n",
              " ('shop', 8),\n",
              " ('Only', 8),\n",
              " ('top', 8),\n",
              " ('pay', 8),\n",
              " ('fifteen', 8),\n",
              " ('order', 8),\n",
              " (\"There's\", 8),\n",
              " ('dream', 8),\n",
              " ('quickly', 8),\n",
              " ('ground', 8),\n",
              " ('happy', 8),\n",
              " ('shook', 8),\n",
              " ('strength', 8),\n",
              " ('plenty', 8),\n",
              " ('Evans', 8),\n",
              " ('laughing', 8),\n",
              " ('working', 8),\n",
              " ('truth', 8),\n",
              " ('bottle', 8),\n",
              " ('evil', 8),\n",
              " ('burst', 8),\n",
              " ('wearing', 8),\n",
              " ('poor', 8),\n",
              " (\"you'll\", 8),\n",
              " ('nearly', 8),\n",
              " ('forth', 8),\n",
              " ('Robards', 8),\n",
              " ('Let', 8),\n",
              " ('dear', 8),\n",
              " ('difficult', 8),\n",
              " ('change', 8),\n",
              " ('marriage', 8),\n",
              " ('forward', 8),\n",
              " ('stomach', 8),\n",
              " ('special', 8),\n",
              " ('spirits', 8),\n",
              " ('summer', 8),\n",
              " (\"We'll\", 8),\n",
              " ('notice', 8),\n",
              " ('Doaty', 8),\n",
              " ('flowers', 8),\n",
              " ('play', 8),\n",
              " ('pulled', 8),\n",
              " ('sense', 8),\n",
              " ('mine', 8),\n",
              " ('earth', 8),\n",
              " ('necessary', 8),\n",
              " ('sky', 8),\n",
              " ('impossible', 8),\n",
              " ('hospital', 8),\n",
              " ('English', 8),\n",
              " ('faces', 8),\n",
              " ('image', 8),\n",
              " ('considered', 8),\n",
              " ('Buzz', 8),\n",
              " ('worked', 8),\n",
              " ('happen', 8),\n",
              " ('fashion', 8),\n",
              " ('bag', 8),\n",
              " ('shirt', 8),\n",
              " ('Is', 8),\n",
              " ('quiet', 8),\n",
              " ('guess', 8),\n",
              " ('fortune', 8),\n",
              " ('doubt', 8),\n",
              " ('Here', 8),\n",
              " ('four', 8),\n",
              " ('building', 8),\n",
              " ('shrugged', 8),\n",
              " ('Gratt', 8),\n",
              " ('somebody', 8),\n",
              " ('asleep', 8),\n",
              " ('picture', 8),\n",
              " ('painting', 8),\n",
              " ('Salter', 8),\n",
              " ('Rome', 8),\n",
              " ('Look', 8),\n",
              " ('lodge', 8),\n",
              " ('mad', 8),\n",
              " ('sharp', 8),\n",
              " ('phone', 8),\n",
              " ('Dad', 8),\n",
              " ('Cooper', 8),\n",
              " (\"John's\", 8),\n",
              " ('Alice', 8),\n",
              " ('Charlotte', 8),\n",
              " ('Ryusenji', 8),\n",
              " ('temple', 8),\n",
              " ('Hamrick', 8),\n",
              " ('neither', 7),\n",
              " ('pushed', 7),\n",
              " ('distance', 7),\n",
              " ('touch', 7),\n",
              " ('shoulders', 7),\n",
              " ('climbed', 7),\n",
              " ('sister', 7),\n",
              " ('Italy', 7),\n",
              " ('foot', 7),\n",
              " ('center', 7),\n",
              " ('trees', 7),\n",
              " ('glass', 7),\n",
              " ('porch', 7),\n",
              " ('holding', 7),\n",
              " ('named', 7),\n",
              " ('smoke', 7),\n",
              " ('older', 7),\n",
              " ('leg', 7),\n",
              " ('pointed', 7),\n",
              " ('showed', 7),\n",
              " ('lines', 7),\n",
              " ('somewhat', 7),\n",
              " ('shining', 7),\n",
              " ('space', 7),\n",
              " ('figure', 7),\n",
              " ('pleasure', 7),\n",
              " ('flesh', 7),\n",
              " ('became', 7),\n",
              " ('comfortable', 7),\n",
              " ('carried', 7),\n",
              " ('round', 7),\n",
              " ('figures', 7),\n",
              " ('minute', 7),\n",
              " ('twenty', 7),\n",
              " ('stock', 7),\n",
              " ('fast', 7),\n",
              " ('somehow', 7),\n",
              " ('begged', 7),\n",
              " ('hoped', 7),\n",
              " ('die', 7),\n",
              " ('anybody', 7),\n",
              " ('Jenny', 7),\n",
              " ('nose', 7),\n",
              " ('weather', 7),\n",
              " ('marry', 7),\n",
              " ('died', 7),\n",
              " ('peace', 7),\n",
              " ('often', 7),\n",
              " ('speaking', 7),\n",
              " ('indeed', 7),\n",
              " ('concern', 7),\n",
              " ('worried', 7),\n",
              " ('enjoyed', 7),\n",
              " ('glad', 7),\n",
              " ('folks', 7),\n",
              " ('send', 7),\n",
              " ('funny', 7),\n",
              " ('safe', 7),\n",
              " ('daughter', 7),\n",
              " ('garden', 7),\n",
              " ('duty', 7),\n",
              " ('whatever', 7),\n",
              " ('narrow', 7),\n",
              " ('An', 7),\n",
              " ('understood', 7),\n",
              " ('Come', 7),\n",
              " ('eating', 7),\n",
              " ('arm', 7),\n",
              " ('grow', 7),\n",
              " ('leaving', 7),\n",
              " ('letters', 7),\n",
              " ('watched', 7),\n",
              " ('main', 7),\n",
              " ('mirror', 7),\n",
              " ('says', 7),\n",
              " ('wonderful', 7),\n",
              " ('ship', 7),\n",
              " ('Riverside', 7),\n",
              " ('dinner', 7),\n",
              " ('explained', 7),\n",
              " ('suppose', 7),\n",
              " ('desk', 7),\n",
              " ('hotel', 7),\n",
              " ('conversation', 7),\n",
              " ('smiling', 7),\n",
              " ('dollars', 7),\n",
              " ('slightly', 7),\n",
              " (\"he's\", 7),\n",
              " ('studied', 7),\n",
              " ('carrying', 7),\n",
              " ('entered', 7),\n",
              " ('Heiser', 7),\n",
              " ('further', 7),\n",
              " ('seven', 7),\n",
              " ('From', 7),\n",
              " ('grinned', 7),\n",
              " ...]"
            ]
          },
          "metadata": {},
          "execution_count": 157
        }
      ]
    },
    {
      "cell_type": "code",
      "source": [
        "cfd['romance']['love']"
      ],
      "metadata": {
        "colab": {
          "base_uri": "https://localhost:8080/"
        },
        "id": "ZloHOeSOohSj",
        "outputId": "3f0b370c-09ab-4a89-ee92-1ea82272e8e2"
      },
      "execution_count": null,
      "outputs": [
        {
          "output_type": "execute_result",
          "data": {
            "text/plain": [
              "32"
            ]
          },
          "metadata": {},
          "execution_count": 158
        }
      ]
    },
    {
      "cell_type": "code",
      "source": [
        ""
      ],
      "metadata": {
        "id": "2qpJWklRoebB"
      },
      "execution_count": null,
      "outputs": []
    }
  ]
}