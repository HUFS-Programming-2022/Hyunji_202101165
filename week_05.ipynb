{
  "nbformat": 4,
  "nbformat_minor": 0,
  "metadata": {
    "colab": {
      "name": "week_05.ipynb",
      "provenance": [],
      "collapsed_sections": [
        "N1KiogSiNRFp"
      ]
    },
    "kernelspec": {
      "name": "python3",
      "display_name": "Python 3"
    },
    "language_info": {
      "name": "python"
    }
  },
  "cells": [
    {
      "cell_type": "code",
      "execution_count": 1,
      "metadata": {
        "colab": {
          "base_uri": "https://localhost:8080/"
        },
        "id": "iBH6rTxxLfBR",
        "outputId": "37c4b9d8-fee5-4009-85ad-6cf54209f1b8"
      },
      "outputs": [
        {
          "output_type": "stream",
          "name": "stdout",
          "text": [
            "*** Introductory Examples for the NLTK Book ***\n",
            "Loading text1, ..., text9 and sent1, ..., sent9\n",
            "Type the name of the text or sentence to view it.\n",
            "Type: 'texts()' or 'sents()' to list the materials.\n",
            "text1: Moby Dick by Herman Melville 1851\n",
            "text2: Sense and Sensibility by Jane Austen 1811\n",
            "text3: The Book of Genesis\n",
            "text4: Inaugural Address Corpus\n",
            "text5: Chat Corpus\n",
            "text6: Monty Python and the Holy Grail\n",
            "text7: Wall Street Journal\n",
            "text8: Personals Corpus\n",
            "text9: The Man Who Was Thursday by G . K . Chesterton 1908\n"
          ]
        }
      ],
      "source": [
        "import nltk\n",
        "from nltk import *\n",
        "nltk.download('book', quiet = True)\n",
        "from nltk.book import *"
      ]
    },
    {
      "cell_type": "markdown",
      "source": [
        "### 반복문\n",
        "- 지정한 횟수만큼 또는 무한으로 코드를 반복하게 만들어준다\n",
        "- while / for loop\n",
        "\n",
        "### for loop\n",
        "```\n",
        "for 변수 in range(시작값, 끝값+1, 증가값):\n",
        "  반복되는 부분\n",
        "```\n",
        "- range 함수: 지정된 범위의 값을 반환\n",
        "\n",
        "#### while loop\n",
        "```\n",
        "while [조건문]:\n",
        "  [수행 부분]\n",
        "```\n",
        "\n",
        "\n",
        "- for문은 반복할 횟수를 range()에서 정한 다음 그 횟수만큼 반복했지만, while문은 조건식이 참인 동안 명령 블록을 수행한다 \n",
        "- 조건식이 거짓인 경우 while문을 빠져나간다 => 멈추는 지점을 정확히 파악해야 한다\n",
        "- if문 + for loop\n",
        "- 해당 조건식이 거짓이면 멈춘다 => 멈추는 시점을 정확히 파악해야 한다\n",
        "- 들여쓰기를 통해 수행 부분 구분\n",
        "- 중첩 사용 가능\n",
        "\n",
        "#### for vs. while\n",
        "- for: 반복 횟수가 정해짐, 정확함, 변하지 않음\n",
        "  - 예: 성적 산출\n",
        "- while: 횟수 정해지지 않음. (중요하지 않다) 어떤 조건을 만족시킬 때 빠져나오게 하는 게 중요할 때 사용\n",
        "  - 예: 가위바위보 이겼을 때 끝낸다\n"
      ],
      "metadata": {
        "id": "zFnavyeDM9K6"
      }
    },
    {
      "cell_type": "code",
      "source": [
        "# for loop\n",
        "\n",
        "for i in range(10):\n",
        "  print(i)"
      ],
      "metadata": {
        "colab": {
          "base_uri": "https://localhost:8080/"
        },
        "id": "bTbiWZPwNT8j",
        "outputId": "28ba9264-7995-4a54-c551-ffc910170a3d"
      },
      "execution_count": 2,
      "outputs": [
        {
          "output_type": "stream",
          "name": "stdout",
          "text": [
            "0\n",
            "1\n",
            "2\n",
            "3\n",
            "4\n",
            "5\n",
            "6\n",
            "7\n",
            "8\n",
            "9\n"
          ]
        }
      ]
    },
    {
      "cell_type": "code",
      "source": [
        "# while loop\n",
        "\n",
        "i = 0 # 초기화\n",
        "\n",
        "while i < 5:                 # 2) False 되어 while문을 빠져나온다\n",
        "  i += 1 # 1) 4에 1이 더해짐\n",
        "\n",
        "print(i)                                                         # 3) 빠져나와 출력"
      ],
      "metadata": {
        "colab": {
          "base_uri": "https://localhost:8080/"
        },
        "id": "zX3YwiNLJrJj",
        "outputId": "cc56acf2-5503-4829-872c-e6031c61875e"
      },
      "execution_count": 3,
      "outputs": [
        {
          "output_type": "stream",
          "name": "stdout",
          "text": [
            "5\n"
          ]
        }
      ]
    },
    {
      "cell_type": "code",
      "source": [
        "# while loop\n",
        "\n",
        "i = 0\n",
        "\n",
        "while i < 5:                  # 2) False 되어 while문을 빠져나온다\n",
        "  print(i)                                                         # 3) 출력 X\n",
        "  i += 1 # 1) 4에 1이 더해짐"
      ],
      "metadata": {
        "colab": {
          "base_uri": "https://localhost:8080/"
        },
        "id": "MMNvb04oMTet",
        "outputId": "fb72a55d-a349-451d-af38-be1baa92259a"
      },
      "execution_count": 4,
      "outputs": [
        {
          "output_type": "stream",
          "name": "stdout",
          "text": [
            "0\n",
            "1\n",
            "2\n",
            "3\n",
            "4\n"
          ]
        }
      ]
    },
    {
      "cell_type": "code",
      "source": [
        "# for loop\n",
        "abcd = ['a', 'b', 'c', 'd']\n",
        "for ch in abcd:\n",
        "  print(ch)\n",
        "\n",
        "print()\n",
        "\n",
        "# while loop으로 변경\n",
        "i = 0\n",
        "while i < len(abcd):\n",
        "  print(abcd[i])\n",
        "  i += 1"
      ],
      "metadata": {
        "colab": {
          "base_uri": "https://localhost:8080/"
        },
        "id": "HB0u6FD3Opyk",
        "outputId": "ee649274-94d9-468c-fa0b-8f96a11b2e36"
      },
      "execution_count": 5,
      "outputs": [
        {
          "output_type": "stream",
          "name": "stdout",
          "text": [
            "a\n",
            "b\n",
            "c\n",
            "d\n",
            "\n",
            "a\n",
            "b\n",
            "c\n",
            "d\n"
          ]
        }
      ]
    },
    {
      "cell_type": "markdown",
      "source": [
        "\n",
        "\n",
        "---\n",
        "\n",
        "\n",
        "\n",
        "---\n",
        "\n"
      ],
      "metadata": {
        "id": "u--rMo74zbEr"
      }
    },
    {
      "cell_type": "markdown",
      "source": [
        "### 반복문 제어 (loop control statement)\n",
        "- 되도록 사용하지 않는다 (반복문의 흐름을 복잡하게 만들 수 있다)\n",
        "\n",
        "- `break`: 논리적으로 반복을 종료시킬 때(-> 특정 조건과 함께 사용), 반복문 내에서 반복을 중지시킬 때"
      ],
      "metadata": {
        "id": "N1KiogSiNRFp"
      }
    },
    {
      "cell_type": "markdown",
      "source": [
        "## 반복문에서의 `else`\n",
        "- 중간에 break 등으로 끊기지 않은 채 모든 반복이 성공적으로 수행 되었을 때 한 번 수행된다\n",
        "- 정상적인 종료인지, break 명령에 의한 강제 종료인지에 따라 수행해야 할 일을 구분할 필요가 있을 때 사용"
      ],
      "metadata": {
        "id": "rr-4UDF_TZPM"
      }
    },
    {
      "cell_type": "code",
      "source": [
        "# for loop에서의 else\n",
        "\n",
        "for i in range(5):\n",
        "  print(i)\n",
        "  i += 1\n",
        "else:\n",
        "  print('ended') # 출력 O -> 모든 반복이 성공적으로 수행됐다"
      ],
      "metadata": {
        "colab": {
          "base_uri": "https://localhost:8080/"
        },
        "id": "tD4jQZ4WNP46",
        "outputId": "7250d2b8-1b62-4dcf-d6ae-67db471fc3c2"
      },
      "execution_count": 6,
      "outputs": [
        {
          "output_type": "stream",
          "name": "stdout",
          "text": [
            "0\n",
            "1\n",
            "2\n",
            "3\n",
            "4\n",
            "ended\n"
          ]
        }
      ]
    },
    {
      "cell_type": "code",
      "source": [
        "# for loop에서의 else\n",
        "\n",
        "  # break문을 만나면 수행되지 않고 for 블럭 이탈:\n",
        "for i in range(5):\n",
        "  if i == 3:\n",
        "    break\n",
        "  print(i)\n",
        "else: # 들여쓰기는 for과 일치\n",
        "  print('ended') # 출력 X -> 모든 반복이 성공적으로 수행되지 않았다"
      ],
      "metadata": {
        "colab": {
          "base_uri": "https://localhost:8080/"
        },
        "id": "3mIAYf5hTx7i",
        "outputId": "c036fe80-d03b-4089-df6d-5910825ab12b"
      },
      "execution_count": 7,
      "outputs": [
        {
          "output_type": "stream",
          "name": "stdout",
          "text": [
            "0\n",
            "1\n",
            "2\n"
          ]
        }
      ]
    },
    {
      "cell_type": "code",
      "source": [
        "# while loop에서의 else\n",
        "\n",
        "j = 0\n",
        "\n",
        "while j < 10:\n",
        "  print(j)\n",
        "  j += 1\n",
        "else:\n",
        "  print('ended') # 출력 O"
      ],
      "metadata": {
        "colab": {
          "base_uri": "https://localhost:8080/"
        },
        "id": "eMSYlaWKYlr1",
        "outputId": "d3f09cc0-fcaf-47a4-c0de-7fa4511a0edf"
      },
      "execution_count": 8,
      "outputs": [
        {
          "output_type": "stream",
          "name": "stdout",
          "text": [
            "0\n",
            "1\n",
            "2\n",
            "3\n",
            "4\n",
            "5\n",
            "6\n",
            "7\n",
            "8\n",
            "9\n",
            "ended\n"
          ]
        }
      ]
    },
    {
      "cell_type": "code",
      "source": [
        "# while loop에서의 else\n",
        "\n",
        "j = 0\n",
        "\n",
        "while j < 10:\n",
        "  print(j)\n",
        "  if j == 6: break\n",
        "  j += 1\n",
        "else:\n",
        "  print('ended') # 출력 X"
      ],
      "metadata": {
        "colab": {
          "base_uri": "https://localhost:8080/"
        },
        "id": "QpzyM3veYB1C",
        "outputId": "78b3c2a4-2c5f-40f1-f998-eaefec5dd2b5"
      },
      "execution_count": 9,
      "outputs": [
        {
          "output_type": "stream",
          "name": "stdout",
          "text": [
            "0\n",
            "1\n",
            "2\n",
            "3\n",
            "4\n",
            "5\n",
            "6\n"
          ]
        }
      ]
    },
    {
      "cell_type": "markdown",
      "source": [
        "\n",
        "\n",
        "---\n",
        "\n",
        "\n",
        "\n",
        "---\n",
        "\n"
      ],
      "metadata": {
        "id": "aOiOF_Vfzfdk"
      }
    },
    {
      "cell_type": "markdown",
      "source": [
        "## `continue`\n",
        "- 일부 코드를 실행하지 않고 건너뛴다\n",
        "- 특정 조건을 건너뛰고 다음 조건을 실행"
      ],
      "metadata": {
        "id": "NnraySw5ZWN0"
      }
    },
    {
      "cell_type": "code",
      "source": [
        "# for에서의 continue\n",
        "\n",
        "for i in range(10):\n",
        "  if i == 6: continue\n",
        "  print(i)\n",
        "else:\n",
        "  print(f'ended, {i}') # 6 출력 X, i는 9까지 왔다"
      ],
      "metadata": {
        "colab": {
          "base_uri": "https://localhost:8080/"
        },
        "id": "e8C91XECQI3r",
        "outputId": "5a0b36df-6b0c-4157-da72-5761c11c6cad"
      },
      "execution_count": 10,
      "outputs": [
        {
          "output_type": "stream",
          "name": "stdout",
          "text": [
            "0\n",
            "1\n",
            "2\n",
            "3\n",
            "4\n",
            "5\n",
            "7\n",
            "8\n",
            "9\n",
            "ended, 9\n"
          ]
        }
      ]
    },
    {
      "cell_type": "markdown",
      "source": [
        "\n",
        "\n",
        "---\n",
        "\n",
        "\n",
        "\n",
        "---\n",
        "\n"
      ],
      "metadata": {
        "id": "cxJTUrtYzjIf"
      }
    },
    {
      "cell_type": "markdown",
      "source": [
        "### < gugudan >\n",
        "입력을 받아서 사용함.\n",
        "- 1. n단 출력 \n",
        "- 2. 1-n단까지 출력\n",
        "  - n > 10일 경우 대비\n",
        "- 3. n, m 모두 입력 받아서 출력 시작과 끝단\n",
        "  - n > m\n",
        "- 4. 프로그램으로 만듦.\n",
        "  - 메뉴: 1) n단 출력 2) 1부터 n단 출력, 3) n부터 m단 출력\n",
        "  - 메뉴에 없는 옵션 선택할 때\n",
        "- print format 사용할 것"
      ],
      "metadata": {
        "id": "vR5NasvGRc40"
      }
    },
    {
      "cell_type": "markdown",
      "source": [
        "input menu 1) 1단출력 2) 1부터 n단 출력 3) n부터 m단 출력 <br>\n",
        "  if 1: <br>\n",
        "  if 2: <br>\n",
        "  if 3: <br>\n",
        "  else: <br>\n",
        "    input1~3번의 메뉴 중 하나를 선택하라"
      ],
      "metadata": {
        "id": "Fd4pI9-YXk37"
      }
    },
    {
      "cell_type": "code",
      "source": [
        "# menu\n",
        "menu = '''\n",
        "\n",
        "\n",
        "== 구구단 출력 메뉴 ==\n",
        "1. n단\n",
        "2. 1 ~ n단\n",
        "3. n ~ m단 \n",
        "4. 프로그램 종료\n",
        "======================\n",
        "'''\n",
        "guide_menu = '원하시는 구구단 출력 메뉴의 번호를 입력하세요\\n>>> '\n",
        "guide_menu_wrong = '잘못된 선택입니다. 다시 입력하세요\\n>>> '\n",
        "\n",
        "guguNumber = ['1', '2', '3', '4', '5', '6', '7', '8', '9']\n",
        "\n",
        "# NO.1\n",
        "guide_menu_1 = '''이 구구단 프로그램의 출력 범위는 최소 1단, 최대 9단입니다.\\n\\n출력하고자 하는 단의 숫자를 입력하세요 (예: 3단이면 숫자 3을 입력)\\n>>> '''\n",
        "flag1 = True\n",
        "\n",
        "# NO.2\n",
        "guide_menu_2 = '''이 구구단 프로그램의 출력 범위는 최소 1단, 최대 9단입니다. 1단부터 출력하고자 하는 마지막 단의 숫자를 입력하세요 (예: 3단이면 숫자 3을 입력)\\n>>> '''\n",
        "\n",
        "# NO.3\n",
        "guide_menu_3_start = '''이 구구단 프로그램의 출력 범위는 최소 1단, 최대 9단입니다.\\n\\n출력을 시작하고자 하는 단의 숫자를 입력하세요 (예: 3단부터 시작하려면 숫자 3을 입력)\\n>>> '''\n",
        "guide_menu_3_end   = '\\n\\n마지막으로 출력하고자 하는 단의 숫자를 입력하세요 (예: 8단까지 출력하려면 숫자 8을 입력)\\n>>> '\n",
        "\n",
        "\n",
        "\n",
        "### 코드 부분\n",
        "\n",
        "operation = True # 프로그램 작동\n",
        "#print(menu)\n",
        "\n",
        "while operation == True:\n",
        "    print(menu)\n",
        "    choice = input(guide_menu)\n",
        "    \n",
        "    # menu no.1\n",
        "    if choice == '1':\n",
        "        while flag1 == True: # 입력 에러 났을 때 다시 돌아오기 위한\n",
        "            start = input(guide_menu_1)\n",
        "        \n",
        "            if start in guguNumber:\n",
        "                print(f'\\n{start}단을 출력합니다...\\n')\n",
        "                for i in range(1, 9+1):\n",
        "                    print(f'{start} X {i} = {int(start) * i}')\n",
        "                    \n",
        "                \n",
        "                flag1 = False\n",
        "                #operation = False 이거 지우면 바로 종료된다\n",
        "            else:\n",
        "                print('\\n잘못된 선택입니다. 단 선택 메뉴로 돌아갑니다.\\n\\n' + ' . ' * 20) # 수정 필요\n",
        "                \n",
        "        continue\n",
        "    opration = False\n",
        "    flag1 = True\n",
        "    operation = True\n",
        "    start = 0\n",
        "    \n",
        "    # menu no.2\n",
        "    if choice == '2':   \n",
        "        while flag1 == True:\n",
        "            end = input(guide_menu_2)\n",
        "            if end in guguNumber:\n",
        "                print(f'\\n1단부터 {end}단까지 출력합니다...\\n')\n",
        "                for i in range(1, int(end)+1):\n",
        "                    print(f'\\n==={i}단===\\n')\n",
        "                    for j in range(1, 9+1):\n",
        "                        print(f'{i} X {j} = {i * j}')\n",
        "                flag1 = False\n",
        "                \n",
        "            else:\n",
        "                print('\\n잘못된 선택입니다. 단 선택 메뉴로 돌아갑니다.\\n\\n' + ' . ' * 20) # 수정 필요\n",
        "        continue\n",
        "    \n",
        "    operation = False\n",
        "    flag1 = True\n",
        "    operation = True\n",
        "    start = 0\n",
        "    \n",
        "    # menu no.3\n",
        "    if choice == '3':\n",
        "        while flag1 == True:\n",
        "            start = input(guide_menu_3_start)\n",
        "            \n",
        "            if start in guguNumber:\n",
        "                \n",
        "                flag2 = True\n",
        "                while flag2 == True:\n",
        "                    end = input(guide_menu_3_end)\n",
        "                    if end <= start:\n",
        "                        print('\\n 마지막 단의 숫자가 시작 단의 숫자와 같거나, 더 작습니다.  마지막으로 출력할 단 선택 메뉴로 돌아갑니다.\\n\\n' + ' . ' * 20)\n",
        "                        #flag2 = False\n",
        "                        continue\n",
        "                        start = 0\n",
        "                        \n",
        "                    else:\n",
        "                        print(f'\\n{start}단부터 {end}단까지 출력합니다...\\n')\n",
        "                        for i in range(int(start), int(end)+1):\n",
        "                            print(f'\\n==={i}단===\\n')\n",
        "                            for j in range(1, 9+1):\n",
        "                                print(f'{i} X {j} = {i * j}')\n",
        "                        \n",
        "                        flag2 = False\n",
        "                        flag1 = False\n",
        "                        start = 0\n",
        "                        #continue\n",
        "                    # continue3\n",
        "                    \n",
        "            else:\n",
        "                print('\\n잘못된 선택입니다. 단 선택 메뉴로 돌아갑니다.\\n\\n' + ' . ' * 20)\n",
        "                continue\n",
        "        continue\n",
        "    \n",
        "    operation = False\n",
        "    flag1 = True\n",
        "    operation = True       \n",
        "    start = 0\n",
        "    \n",
        "    if choice == '4':\n",
        "        print('프로그램을 종료합니다.')\n",
        "        operation = False\n",
        "       \n",
        "    if choice != '1' and choice != '2' and choice != '3' and choice != '4':\n",
        "        print('잘못된 선택입니다. 메뉴를 다시 선택해주세요.\\n\\n\\n\\n')\n",
        "        continue\n",
        "    start = 0"
      ],
      "metadata": {
        "colab": {
          "base_uri": "https://localhost:8080/"
        },
        "id": "jAt95RNhgJXK",
        "outputId": "707831a5-b34e-4a4d-8312-984e7767faf4"
      },
      "execution_count": 11,
      "outputs": [
        {
          "output_type": "stream",
          "name": "stdout",
          "text": [
            "\n",
            "\n",
            "\n",
            "== 구구단 출력 메뉴 ==\n",
            "1. n단\n",
            "2. 1 ~ n단\n",
            "3. n ~ m단 \n",
            "4. 프로그램 종료\n",
            "======================\n",
            "\n",
            "원하시는 구구단 출력 메뉴의 번호를 입력하세요\n",
            ">>> 1\n",
            "이 구구단 프로그램의 출력 범위는 최소 1단, 최대 9단입니다.\n",
            "\n",
            "출력하고자 하는 단의 숫자를 입력하세요 (예: 3단이면 숫자 3을 입력)\n",
            ">>> 4\n",
            "\n",
            "4단을 출력합니다...\n",
            "\n",
            "4 X 1 = 4\n",
            "4 X 2 = 8\n",
            "4 X 3 = 12\n",
            "4 X 4 = 16\n",
            "4 X 5 = 20\n",
            "4 X 6 = 24\n",
            "4 X 7 = 28\n",
            "4 X 8 = 32\n",
            "4 X 9 = 36\n",
            "\n",
            "\n",
            "\n",
            "== 구구단 출력 메뉴 ==\n",
            "1. n단\n",
            "2. 1 ~ n단\n",
            "3. n ~ m단 \n",
            "4. 프로그램 종료\n",
            "======================\n",
            "\n",
            "원하시는 구구단 출력 메뉴의 번호를 입력하세요\n",
            ">>> 2\n",
            "이 구구단 프로그램의 출력 범위는 최소 1단, 최대 9단입니다. 1단부터 출력하고자 하는 마지막 단의 숫자를 입력하세요 (예: 3단이면 숫자 3을 입력)\n",
            ">>> 4\n",
            "\n",
            "1단부터 4단까지 출력합니다...\n",
            "\n",
            "\n",
            "===1단===\n",
            "\n",
            "1 X 1 = 1\n",
            "1 X 2 = 2\n",
            "1 X 3 = 3\n",
            "1 X 4 = 4\n",
            "1 X 5 = 5\n",
            "1 X 6 = 6\n",
            "1 X 7 = 7\n",
            "1 X 8 = 8\n",
            "1 X 9 = 9\n",
            "\n",
            "===2단===\n",
            "\n",
            "2 X 1 = 2\n",
            "2 X 2 = 4\n",
            "2 X 3 = 6\n",
            "2 X 4 = 8\n",
            "2 X 5 = 10\n",
            "2 X 6 = 12\n",
            "2 X 7 = 14\n",
            "2 X 8 = 16\n",
            "2 X 9 = 18\n",
            "\n",
            "===3단===\n",
            "\n",
            "3 X 1 = 3\n",
            "3 X 2 = 6\n",
            "3 X 3 = 9\n",
            "3 X 4 = 12\n",
            "3 X 5 = 15\n",
            "3 X 6 = 18\n",
            "3 X 7 = 21\n",
            "3 X 8 = 24\n",
            "3 X 9 = 27\n",
            "\n",
            "===4단===\n",
            "\n",
            "4 X 1 = 4\n",
            "4 X 2 = 8\n",
            "4 X 3 = 12\n",
            "4 X 4 = 16\n",
            "4 X 5 = 20\n",
            "4 X 6 = 24\n",
            "4 X 7 = 28\n",
            "4 X 8 = 32\n",
            "4 X 9 = 36\n",
            "\n",
            "\n",
            "\n",
            "== 구구단 출력 메뉴 ==\n",
            "1. n단\n",
            "2. 1 ~ n단\n",
            "3. n ~ m단 \n",
            "4. 프로그램 종료\n",
            "======================\n",
            "\n",
            "원하시는 구구단 출력 메뉴의 번호를 입력하세요\n",
            ">>> 3\n",
            "이 구구단 프로그램의 출력 범위는 최소 1단, 최대 9단입니다.\n",
            "\n",
            "출력을 시작하고자 하는 단의 숫자를 입력하세요 (예: 3단부터 시작하려면 숫자 3을 입력)\n",
            ">>> 2\n",
            "\n",
            "\n",
            "마지막으로 출력하고자 하는 단의 숫자를 입력하세요 (예: 8단까지 출력하려면 숫자 8을 입력)\n",
            ">>> 1\n",
            "\n",
            " 마지막 단의 숫자가 시작 단의 숫자와 같거나, 더 작습니다.  마지막으로 출력할 단 선택 메뉴로 돌아갑니다.\n",
            "\n",
            " .  .  .  .  .  .  .  .  .  .  .  .  .  .  .  .  .  .  .  . \n",
            "\n",
            "\n",
            "마지막으로 출력하고자 하는 단의 숫자를 입력하세요 (예: 8단까지 출력하려면 숫자 8을 입력)\n",
            ">>> 6\n",
            "\n",
            "2단부터 6단까지 출력합니다...\n",
            "\n",
            "\n",
            "===2단===\n",
            "\n",
            "2 X 1 = 2\n",
            "2 X 2 = 4\n",
            "2 X 3 = 6\n",
            "2 X 4 = 8\n",
            "2 X 5 = 10\n",
            "2 X 6 = 12\n",
            "2 X 7 = 14\n",
            "2 X 8 = 16\n",
            "2 X 9 = 18\n",
            "\n",
            "===3단===\n",
            "\n",
            "3 X 1 = 3\n",
            "3 X 2 = 6\n",
            "3 X 3 = 9\n",
            "3 X 4 = 12\n",
            "3 X 5 = 15\n",
            "3 X 6 = 18\n",
            "3 X 7 = 21\n",
            "3 X 8 = 24\n",
            "3 X 9 = 27\n",
            "\n",
            "===4단===\n",
            "\n",
            "4 X 1 = 4\n",
            "4 X 2 = 8\n",
            "4 X 3 = 12\n",
            "4 X 4 = 16\n",
            "4 X 5 = 20\n",
            "4 X 6 = 24\n",
            "4 X 7 = 28\n",
            "4 X 8 = 32\n",
            "4 X 9 = 36\n",
            "\n",
            "===5단===\n",
            "\n",
            "5 X 1 = 5\n",
            "5 X 2 = 10\n",
            "5 X 3 = 15\n",
            "5 X 4 = 20\n",
            "5 X 5 = 25\n",
            "5 X 6 = 30\n",
            "5 X 7 = 35\n",
            "5 X 8 = 40\n",
            "5 X 9 = 45\n",
            "\n",
            "===6단===\n",
            "\n",
            "6 X 1 = 6\n",
            "6 X 2 = 12\n",
            "6 X 3 = 18\n",
            "6 X 4 = 24\n",
            "6 X 5 = 30\n",
            "6 X 6 = 36\n",
            "6 X 7 = 42\n",
            "6 X 8 = 48\n",
            "6 X 9 = 54\n",
            "\n",
            "\n",
            "\n",
            "== 구구단 출력 메뉴 ==\n",
            "1. n단\n",
            "2. 1 ~ n단\n",
            "3. n ~ m단 \n",
            "4. 프로그램 종료\n",
            "======================\n",
            "\n",
            "원하시는 구구단 출력 메뉴의 번호를 입력하세요\n",
            ">>> 4\n",
            "프로그램을 종료합니다.\n"
          ]
        }
      ]
    },
    {
      "cell_type": "markdown",
      "source": [
        "\n",
        "\n",
        "---\n",
        "\n",
        "\n",
        "\n",
        "---\n",
        "\n"
      ],
      "metadata": {
        "id": "W4uEffO3zpy7"
      }
    },
    {
      "cell_type": "markdown",
      "source": [
        "text 1~9 hard coding 없이 가져오는 법?\n",
        "- text1 vs. 'text1'\n",
        "- text1~9 string 가져오기\n",
        "- string -> fx : getattr(library, 'string_name')"
      ],
      "metadata": {
        "id": "-ALq6O4Rb2af"
      }
    },
    {
      "cell_type": "code",
      "source": [
        "texts = [getattr(nltk.book, f'text{i}') for i in range(1, 10)]\n",
        "texts"
      ],
      "metadata": {
        "id": "Hxqzak68b1Vb",
        "colab": {
          "base_uri": "https://localhost:8080/"
        },
        "outputId": "952089b3-e693-4aca-c914-6e304c5e6f92"
      },
      "execution_count": 12,
      "outputs": [
        {
          "output_type": "execute_result",
          "data": {
            "text/plain": [
              "[<Text: Moby Dick by Herman Melville 1851>,\n",
              " <Text: Sense and Sensibility by Jane Austen 1811>,\n",
              " <Text: The Book of Genesis>,\n",
              " <Text: Inaugural Address Corpus>,\n",
              " <Text: Chat Corpus>,\n",
              " <Text: Monty Python and the Holy Grail>,\n",
              " <Text: Wall Street Journal>,\n",
              " <Text: Personals Corpus>,\n",
              " <Text: The Man Who Was Thursday by G . K . Chesterton 1908>]"
            ]
          },
          "metadata": {},
          "execution_count": 12
        }
      ]
    },
    {
      "cell_type": "markdown",
      "source": [
        "\n",
        "\n",
        "---\n",
        "\n",
        "\n",
        "\n",
        "---\n",
        "\n"
      ],
      "metadata": {
        "id": "W78Kd6DjztRC"
      }
    },
    {
      "cell_type": "markdown",
      "source": [
        "### NLTK corpus\n",
        "- corpus + theme\n",
        "- 종류\n",
        "  - brown 카테고리별 분류\n",
        "  - gutenberg 저작권이 말소된 문학작품\n",
        "  - inaugural 연설\n",
        "- methods\n",
        "  - words() # tokens\n",
        "  - sents()\n",
        "  - raw()"
      ],
      "metadata": {
        "id": "4PLxdl9GbvVS"
      }
    },
    {
      "cell_type": "code",
      "source": [
        "from nltk.corpus import gutenberg\n",
        "nltk.download(['brown', 'gutenberg', 'inaugural'])"
      ],
      "metadata": {
        "id": "v8luGR_rcXnJ",
        "colab": {
          "base_uri": "https://localhost:8080/"
        },
        "outputId": "f284cbb6-102c-4537-83ea-d1e1fd110913"
      },
      "execution_count": 13,
      "outputs": [
        {
          "output_type": "stream",
          "name": "stdout",
          "text": [
            "[nltk_data] Downloading package brown to /root/nltk_data...\n",
            "[nltk_data]   Package brown is already up-to-date!\n",
            "[nltk_data] Downloading package gutenberg to /root/nltk_data...\n",
            "[nltk_data]   Package gutenberg is already up-to-date!\n",
            "[nltk_data] Downloading package inaugural to /root/nltk_data...\n",
            "[nltk_data]   Package inaugural is already up-to-date!\n"
          ]
        },
        {
          "output_type": "execute_result",
          "data": {
            "text/plain": [
              "True"
            ]
          },
          "metadata": {},
          "execution_count": 13
        }
      ]
    },
    {
      "cell_type": "code",
      "source": [
        "gutenberg # = nltk.coupus.gutenberg"
      ],
      "metadata": {
        "id": "26WdWyMnc999",
        "colab": {
          "base_uri": "https://localhost:8080/"
        },
        "outputId": "dafd5cdb-5fcd-47f9-edf4-a0634524907e"
      },
      "execution_count": 14,
      "outputs": [
        {
          "output_type": "execute_result",
          "data": {
            "text/plain": [
              "<PlaintextCorpusReader in '/root/nltk_data/corpora/gutenberg'>"
            ]
          },
          "metadata": {},
          "execution_count": 14
        }
      ]
    },
    {
      "cell_type": "code",
      "source": [
        "gutenberg.fileids() # corpus에 포함된 파일 리스트 반환"
      ],
      "metadata": {
        "id": "880phcYJc_gm",
        "colab": {
          "base_uri": "https://localhost:8080/"
        },
        "outputId": "b1763a2c-d6d5-49a1-efc2-bb2c351f42dd"
      },
      "execution_count": 15,
      "outputs": [
        {
          "output_type": "execute_result",
          "data": {
            "text/plain": [
              "['austen-emma.txt',\n",
              " 'austen-persuasion.txt',\n",
              " 'austen-sense.txt',\n",
              " 'bible-kjv.txt',\n",
              " 'blake-poems.txt',\n",
              " 'bryant-stories.txt',\n",
              " 'burgess-busterbrown.txt',\n",
              " 'carroll-alice.txt',\n",
              " 'chesterton-ball.txt',\n",
              " 'chesterton-brown.txt',\n",
              " 'chesterton-thursday.txt',\n",
              " 'edgeworth-parents.txt',\n",
              " 'melville-moby_dick.txt',\n",
              " 'milton-paradise.txt',\n",
              " 'shakespeare-caesar.txt',\n",
              " 'shakespeare-hamlet.txt',\n",
              " 'shakespeare-macbeth.txt',\n",
              " 'whitman-leaves.txt']"
            ]
          },
          "metadata": {},
          "execution_count": 15
        }
      ]
    },
    {
      "cell_type": "code",
      "source": [
        "gutenberg.words(fileids = ['carroll-alice.txt', 'austen-emma.txt'])"
      ],
      "metadata": {
        "id": "Qex_s542dajA",
        "colab": {
          "base_uri": "https://localhost:8080/"
        },
        "outputId": "27496c85-f87e-43dd-e9c2-9819e784278d"
      },
      "execution_count": 16,
      "outputs": [
        {
          "output_type": "execute_result",
          "data": {
            "text/plain": [
              "['[', 'Alice', \"'\", 's', 'Adventures', 'in', ...]"
            ]
          },
          "metadata": {},
          "execution_count": 16
        }
      ]
    },
    {
      "cell_type": "code",
      "source": [
        "gutenberg.words(fileids = 'carroll-alice.txt') # 하나만 불러올 때는 대괄호 X"
      ],
      "metadata": {
        "id": "pI9TsF0idjQL",
        "colab": {
          "base_uri": "https://localhost:8080/"
        },
        "outputId": "6b387ce3-f938-4d1d-82a7-7a31e1b1577c"
      },
      "execution_count": 17,
      "outputs": [
        {
          "output_type": "execute_result",
          "data": {
            "text/plain": [
              "['[', 'Alice', \"'\", 's', 'Adventures', 'in', ...]"
            ]
          },
          "metadata": {},
          "execution_count": 17
        }
      ]
    },
    {
      "cell_type": "markdown",
      "source": [
        "## 각 파일마다 word, character, sents의 개수 출력하기"
      ],
      "metadata": {
        "id": "Io9lmO9I8HIP"
      }
    },
    {
      "cell_type": "code",
      "source": [
        "# 리스트, 변수\n",
        "words = {}\n",
        "chars = {}\n",
        "sents = {}\n",
        "\n",
        "guten = gutenberg.fileids()\n",
        "\n",
        "# 딕셔너리에 담기\n",
        "for i in range(len(gutenberg.fileids())):   # 총 18개\n",
        "  words[guten[i]] = len(gutenberg.words(fileids = guten[i]))\n",
        "  chars[guten[i]] = len(gutenberg.raw(fileids = guten[i]))\n",
        "  sents[guten[i]] = len(gutenberg.sents(fileids = guten[i]))\n",
        "\n",
        "# 출력\n",
        "for i in range(len(guten)):\n",
        "  print(f'{guten[i]}의 \\n글자 수 {chars[guten[i]]}개 ; 단어 수 {words[guten[i]]}개 ; 문장 수 {sents[guten[i]]}개\\n')"
      ],
      "metadata": {
        "colab": {
          "base_uri": "https://localhost:8080/"
        },
        "id": "H5PAbraU3YNx",
        "outputId": "30439bdc-d87b-4d83-803b-fcacc602a220"
      },
      "execution_count": 18,
      "outputs": [
        {
          "output_type": "stream",
          "name": "stdout",
          "text": [
            "austen-emma.txt의 \n",
            "글자 수 887071개 ; 단어 수 192427개 ; 문장 수 7752개\n",
            "\n",
            "austen-persuasion.txt의 \n",
            "글자 수 466292개 ; 단어 수 98171개 ; 문장 수 3747개\n",
            "\n",
            "austen-sense.txt의 \n",
            "글자 수 673022개 ; 단어 수 141576개 ; 문장 수 4999개\n",
            "\n",
            "bible-kjv.txt의 \n",
            "글자 수 4332554개 ; 단어 수 1010654개 ; 문장 수 30103개\n",
            "\n",
            "blake-poems.txt의 \n",
            "글자 수 38153개 ; 단어 수 8354개 ; 문장 수 438개\n",
            "\n",
            "bryant-stories.txt의 \n",
            "글자 수 249439개 ; 단어 수 55563개 ; 문장 수 2863개\n",
            "\n",
            "burgess-busterbrown.txt의 \n",
            "글자 수 84663개 ; 단어 수 18963개 ; 문장 수 1054개\n",
            "\n",
            "carroll-alice.txt의 \n",
            "글자 수 144395개 ; 단어 수 34110개 ; 문장 수 1703개\n",
            "\n",
            "chesterton-ball.txt의 \n",
            "글자 수 457450개 ; 단어 수 96996개 ; 문장 수 4779개\n",
            "\n",
            "chesterton-brown.txt의 \n",
            "글자 수 406629개 ; 단어 수 86063개 ; 문장 수 3806개\n",
            "\n",
            "chesterton-thursday.txt의 \n",
            "글자 수 320525개 ; 단어 수 69213개 ; 문장 수 3742개\n",
            "\n",
            "edgeworth-parents.txt의 \n",
            "글자 수 935158개 ; 단어 수 210663개 ; 문장 수 10230개\n",
            "\n",
            "melville-moby_dick.txt의 \n",
            "글자 수 1242990개 ; 단어 수 260819개 ; 문장 수 10059개\n",
            "\n",
            "milton-paradise.txt의 \n",
            "글자 수 468220개 ; 단어 수 96825개 ; 문장 수 1851개\n",
            "\n",
            "shakespeare-caesar.txt의 \n",
            "글자 수 112310개 ; 단어 수 25833개 ; 문장 수 2163개\n",
            "\n",
            "shakespeare-hamlet.txt의 \n",
            "글자 수 162881개 ; 단어 수 37360개 ; 문장 수 3106개\n",
            "\n",
            "shakespeare-macbeth.txt의 \n",
            "글자 수 100351개 ; 단어 수 23140개 ; 문장 수 1907개\n",
            "\n",
            "whitman-leaves.txt의 \n",
            "글자 수 711215개 ; 단어 수 154883개 ; 문장 수 4250개\n",
            "\n"
          ]
        }
      ]
    },
    {
      "cell_type": "markdown",
      "source": [
        "### Gutenberg 실습\n",
        "\n",
        "- 2. chesterton-thursday에서 길이가 4자 이하인 알파벳 중 ie를 포함하는 단어를 소문자로 출력하고, 개수를 세어라.\n",
        "- 3. bryant-stories에서 ch로 끝나는 단어를 출력하는데, 중복 없이, 첫글자(모두 소문자)와 끝ch만 남기고 가운데 글자들은 모두 -로 가려라. 예: much -> m-ch"
      ],
      "metadata": {
        "id": "mNmsGYSeifYL"
      }
    },
    {
      "cell_type": "code",
      "source": [
        "# 1 shakespeare-caesar의 중복된 단어를 거르고 각 단어의 길이를 출력하라\n",
        "\n",
        "shakesWords = list(set([word.lower() for word in gutenberg.words('shakespeare-caesar.txt')]))\n",
        "wordlength = {}\n",
        "for i in range(len(shakesWords)):\n",
        "  wordlength[shakesWords[i]] = len(shakesWords[i])\n",
        "\n",
        "print(wordlength)"
      ],
      "metadata": {
        "id": "F0IxHUU08q0W",
        "colab": {
          "base_uri": "https://localhost:8080/"
        },
        "outputId": "a75b27bd-8c04-42fc-a54d-d014f410ed63"
      },
      "execution_count": 19,
      "outputs": [
        {
          "output_type": "stream",
          "name": "stdout",
          "text": [
            "{'spirits': 7, 'opens': 5, 'vpper': 5, 'choice': 6, 'appearing': 9, 'like': 4, 'ceremony': 8, 'hoe': 3, 'marcus': 6, 'robbers': 7, 'girle': 5, 'publike': 7, 'gentlenesse': 11, 'raw': 3, 'parley': 6, 'stirr': 5, 'marke': 5, 'eternall': 8, 'met': 3, 'hony': 4, 'receiu': 6, 'curtsies': 8, 'report': 6, 'speechlesse': 11, 'pin': 3, 'field': 5, 'sayer': 5, 'knee': 4, 'please': 6, 'good': 4, 'houses': 6, 'driue': 5, 'faine': 5, 'stomacke': 8, 'dropping': 8, 'slay': 4, 'wide': 4, 'aule': 4, 'cyn': 3, 'titinius': 8, 'paid': 4, 'little': 6, 'annoying': 8, 'rous': 4, 'lucil': 5, 'publius': 7, 'rumor': 5, 'recounts': 8, 'messengers': 10, 'ore': 3, 'blest': 5, 'capitoll': 8, 'benches': 7, 'crying': 6, 'doth': 4, 'dayes': 5, 'colour': 6, 'glasses': 7, 'greater': 7, 'necessitie': 10, 'basis': 5, 'multitude': 9, 'braue': 5, 'banquetting': 11, 'doest': 5, 'acting': 6, 'voyage': 6, 'rauens': 6, 'images': 6, 'permission': 10, 'worthles': 8, 'decline': 7, 'losses': 6, 'resolution': 10, 'mes': 3, 'teethes': 7, 'accidentall': 11, 'pleas': 5, 'valiant': 7, 'heeles': 6, 'sirra': 5, 'putting': 7, 'vnto': 4, 'strength': 8, 'naturall': 8, 'mistrust': 8, 'voluntary': 9, 'praetors': 8, 'headed': 6, 'labour': 6, 'fit': 3, 'indeede': 7, 'these': 5, 'except': 6, 'hurtled': 7, 'meete': 5, 'prize': 5, 'safe': 4, 'vildely': 7, 'handy': 5, 'yeelds': 6, 'weare': 5, 'scratch': 7, 'banished': 8, 'vnmeritable': 11, 'italy': 5, 'stones': 6, 'fauors': 6, 'seeme': 5, 'abide': 5, 'arriue': 6, 'doomesday': 9, 'iudgement': 9, 'battailes': 9, 'deseru': 6, 'therein': 7, 'bin': 3, 'luc': 3, 'infirmities': 11, 'purchase': 8, 'prethee': 7, 'ciuill': 6, 'behinde': 7, 'hye': 3, 'indifferent': 11, 'fellow': 6, 'blame': 5, 'ears': 4, 'breast': 6, 'shake': 5, 'laugh': 5, 'naked': 5, 'exalted': 7, 'profession': 10, 'mightier': 8, 'ancestors': 9, 'bru': 3, 'stab': 4, 'womans': 6, 'booke': 5, 'bright': 6, 'farre': 5, 'acted': 5, 'sowre': 5, 'calender': 8, 'wretched': 8, 'coronets': 8, 'signall': 7, 'delay': 5, 'lustre': 6, 'mourne': 6, 'deci': 4, 'hold': 4, 'fawning': 7, 'coward': 6, 'seuerally': 9, 'lesse': 5, 'couchings': 9, 'shine': 5, 'leaue': 5, 'layest': 6, 'fright': 6, 'anchyses': 8, 'enfranchisement': 15, 'shrewdly': 8, 'assembly': 8, 'impatience': 10, 'catching': 8, 'readie': 6, 'they': 4, 'mouths': 6, 'carpenter': 9, 'seruile': 7, 'gorging': 7, 'captiue': 7, 'dishonourable': 13, 'vtterance': 9, 'purgers': 7, 'battaile': 8, 'lay': 3, 'damned': 6, 'sure': 4, 'immediate': 9, 'blew': 4, 'hindes': 6, 'feede': 5, 'iustice': 7, 'since': 5, 'cobl': 4, 'antony': 6, 'fresh': 5, 'friendly': 8, 'crost': 5, 'vnassayleable': 13, 'wasted': 6, 'ventures': 8, 'posture': 7, 'peace': 5, 'sighted': 7, 'country': 7, '4': 1, 'bouge': 5, 'strucken': 8, 'honour': 6, 'soules': 6, 'attyre': 6, 'noble': 5, 'looke': 5, 'ancestor': 8, 'worthy': 6, 'stands': 6, 'yeeres': 6, 'ring': 4, 'killing': 7, 'tearmes': 7, 'enuy': 4, 'sleep': 5, 'genius': 6, 'staine': 6, 'ascended': 8, 'priuate': 7, 'order': 5, 'leads': 5, 'abroad': 6, 'school': 6, 'againe': 6, ']': 1, 'lightens': 8, 'hither': 6, 'youthfull': 9, 'intrailes': 9, 'melancholies': 12, 'quintus': 7, 'haires': 6, 'horses': 6, 'meddle': 6, 'perillous': 9, 'foure': 5, 'fed': 3, 'coniur': 6, 'keepe': 5, 'louers': 6, 'betimes': 7, 'star': 4, 'tharsus': 7, 'hibla': 5, 'julius': 6, 'smiling': 7, 'sold': 4, 'destruction': 11, 'alwayes': 7, 'turn': 4, 'cheeke': 6, 'skies': 5, 'mace': 4, 'incenses': 8, 'hence': 5, 'hastie': 6, 'me': 2, 'proscriptions': 13, 'adde': 4, 'co': 2, 'friend': 6, 'had': 3, 'fountaine': 9, 'stares': 6, 'vntyr': 5, 'coarse': 6, 'contriuer': 9, 'clymate': 7, 'aske': 4, 'subtle': 6, 'defeat': 6, 'feele': 5, 'possible': 8, 'dreames': 7, 'ides': 4, 'vniuersall': 10, 'falling': 7, 'truth': 5, 'triumph': 7, 'strucke': 7, 'conspiracie': 11, 'fortune': 7, 'exigent': 7, 'instruments': 11, 'diuision': 8, 'conspirator': 11, 'trebonius': 9, 'vanishest': 9, 'councell': 8, 'become': 6, 'repute': 6, 'yes': 3, 'cass': 4, 'attaine': 7, 'market': 6, 'dash': 4, 'knot': 4, 'appear': 6, 'decree': 6, 'holyday': 7, 'quick': 5, 'repaire': 7, 'spurre': 6, 'murd': 4, 'depend': 6, 'beloued': 7, 'seru': 4, 'blaze': 5, 'opening': 7, 'beaten': 6, 'swim': 4, 'laments': 7, 'rome': 4, 'bootlesse': 9, 'out': 3, 'put': 3, 'embrace': 7, 'sweare': 6, 'plunged': 7, 'new': 3, 'william': 7, 'added': 5, 'stale': 5, 'twentie': 7, 'establish': 9, 'sinewes': 7, 'lyon': 4, 'pearch': 6, 'sad': 3, 'buriall': 7, 'reply': 5, 'moou': 4, 'dismember': 9, 'dishonor': 8, 'meeke': 5, 'this': 4, 'sounded': 7, 'lodge': 5, 'fir': 3, 'liues': 5, 'lepidus': 7, 'cooling': 7, 'knew': 4, 'abuse': 5, 'seuenty': 7, 'trees': 5, 'drawing': 7, 'passe': 5, 'conference': 10, 'faile': 5, 'reeke': 5, 'mid': 3, 'var': 3, 'oct': 3, 'offering': 8, 'chollericke': 11, 'slight': 6, 'scap': 4, 'pocket': 6, 'list': 4, 'strife': 6, 'demeanor': 8, 'vtter': 5, 'speakes': 7, 'terrible': 8, 'whole': 5, 'watch': 5, 'prick': 5, 'wonder': 6, 'thrice': 6, 'vpon': 4, 'eight': 5, 'legacie': 7, 'told': 4, 'land': 4, 'sounds': 6, 'seek': 4, 'fearefull': 9, 'fantasie': 8, 'deepe': 5, 'blow': 4, 'threat': 6, 'where': 5, 'hung': 4, 'kissing': 7, 'an': 2, 'carrion': 7, 'ceremonies': 10, 'displeas': 8, 'beene': 5, 'vpmost': 6, 'crowne': 6, 'grug': 4, 'roman': 5, 'open': 4, 'senses': 6, 'dead': 4, 'yoaked': 6, 'driuen': 6, 'perform': 7, '[': 1, 'is': 2, 'ope': 3, 'fret': 4, 'horsemen': 8, 'limbes': 6, 'being': 5, 'intend': 6, 'defence': 7, 'greeu': 5, 'night': 5, 'sufferance': 10, 'touches': 7, 'garland': 7, 'insuppressiue': 13, 'true': 4, 'assure': 6, 'masters': 7, 'buffet': 6, 'surest': 6, 'suite': 5, 'scandall': 8, 'mouthes': 7, 'sparkes': 7, 'on': 2, 'litter': 6, 'euerie': 6, '?': 1, 'creature': 8, 'arbors': 6, 'hearse': 6, 'tributaries': 11, 'generals': 8, 'consum': 6, 'liberties': 9, 'passions': 8, 'ought': 5, 'augmented': 9, 'senate': 6, 'sentence': 8, 'god': 3, 'constantly': 10, 'mortall': 7, 'controuersie': 12, 'wrangle': 7, 'dine': 4, 'orchard': 7, 'shewes': 6, 'gouern': 6, 'yon': 3, 'wont': 4, 'enemie': 6, 'sweatie': 7, 'tyranny': 7, 'defiance': 8, 'honor': 5, 'kindle': 6, 'occupation': 10, 'vnfold': 6, 'verses': 6, 'reason': 6, 'sennet': 6, 'times': 5, 'enterprize': 10, 'horsses': 7, 'faction': 7, 'sword': 5, 'mou': 3, 'beest': 5, 'northerne': 9, 'flauio': 6, 'lost': 4, 'indeed': 6, 'thing': 5, 'ere': 3, 'full': 4, 'buried': 6, 'shreeking': 9, 'merrily': 7, 'mine': 4, 'findes': 6, 'wept': 4, 'millions': 8, 'lightning': 9, '.': 1, 'brest': 5, 'houres': 6, 'flearing': 8, 'degrees': 7, 'clouds': 6, 'wrongs': 6, 'preuayl': 7, 'sacred': 6, 'encourag': 8, 'cobler': 6, 'rubbish': 7, 'boy': 3, 'titin': 5, 'sleeke': 6, 'expectation': 11, 'ruffle': 6, 'perceiu': 7, 'battell': 7, 'strawes': 7, 'doores': 6, 'foe': 3, 'tooke': 5, 'loe': 3, 'why': 3, 'ioy': 3, 'sucke': 5, 'players': 7, 'seem': 4, 'low': 3, 'caius': 5, 'wee': 3, 'cal': 3, 'emulation': 9, 'reueller': 8, 'beads': 5, 'ate': 3, 'pluto': 5, 'bees': 4, 'tyrant': 6, 'ground': 6, 'daughter': 8, 'bleede': 6, 'chariot': 7, 'whom': 4, 'seen': 4, 'impatiently': 11, 'infus': 5, 'brands': 6, 'your': 4, 'sayd': 4, 'nights': 6, 'fall': 4, 'exorcist': 8, 'think': 5, 'murellus': 8, 'reading': 7, 'day': 3, 'warie': 5, 'chose': 5, 'bloody': 6, 'worthier': 8, 'wrathfully': 10, 'to': 2, 'captiuitie': 10, 'already': 7, 'cruell': 6, 'presume': 7, 'billow': 6, 'lottery': 7, 'gods': 4, 'glanced': 7, 'particle': 8, 'sunne': 5, 'so': 2, 'citizens': 8, 'flourish': 8, 'bigge': 5, 'vnpurged': 8, 'chasticement': 12, 'study': 5, 'houre': 5, 'kil': 3, 'tis': 3, 'something': 9, 'officers': 8, 'messenger': 9, 'legacies': 8, 'when': 4, 'neats': 5, 'lady': 4, 'perswasion': 10, 'smallest': 8, 'time': 4, 'tarry': 5, 'blacke': 6, 'serpents': 8, 'humours': 7, 'indifferently': 13, 'heauie': 6, 'idle': 4, 'hats': 4, 'wherfore': 8, 'heare': 5, 'walkes': 6, 'vseth': 5, 'who': 3, ')': 1, 'could': 5, 'king': 4, 'done': 4, 'pulling': 7, 'rob': 3, 'ouerthrowne': 11, 'shot': 4, 'towres': 6, 'praise': 6, 'crouch': 6, 'waues': 5, 'aduantage': 9, 'vs': 2, 'same': 4, 'absent': 6, 'meditating': 10, '-': 1, 'worke': 5, 'first': 5, 'honourable': 10, 'begg': 4, 'defend': 6, 'doubted': 7, 'heauy': 5, 'present': 7, 'opinion': 7, 'villager': 8, 'melting': 7, 'rebell': 6, 'tents': 5, 'sober': 5, 'mayest': 6, 'ye': 2, 'ages': 4, 'sea': 3, 'single': 6, 'repose': 6, 'tremble': 7, 'th': 2, 'enough': 6, 'commoners': 9, 'carue': 5, 'receiued': 8, 'walk': 4, 'attempts': 8, 'charme': 6, 'prayers': 7, 'giuen': 5, 'seruice': 7, 'prophesie': 9, 'dare': 4, 'tokens': 6, 'pella': 5, 'poore': 5, 'streets': 7, 'foolish': 7, 'from': 4, 'store': 5, 'senators': 8, 'beholding': 9, 'l': 1, 'attempt': 7, 'hacke': 5, 'rime': 4, 'phantasma': 9, 'loosing': 7, 'seruant': 7, 'heyres': 6, 'seemes': 6, 'vntouch': 7, 'cinna': 5, 'thorow': 6, 'taken': 5, 'st': 2, 'oft': 3, 'mindes': 6, 'pluckt': 6, 'certaine': 8, 'youths': 6, 'whelped': 7, 'familiar': 8, 'proclaime': 9, 'wrought': 7, 'errands': 7, 'yet': 3, 'range': 5, 'extenuated': 10, 'therefore': 9, 'hee': 3, 'tried': 5, 'hoping': 6, 'byrth': 5, 'rites': 5, 'cai': 3, 'confounded': 10, 'steeds': 6, 'peepe': 5, 'grant': 5, 'cryedst': 7, 'thicke': 6, 'yesternight': 11, 'noyse': 5, 'propos': 6, 'marr': 4, 'countenance': 11, 'arts': 4, 'promis': 6, 'sirrah': 6, 'musicke': 7, 'decay': 5, 'neruij': 6, 'swore': 5, 'now': 3, 'besides': 7, 'sodainly': 8, 'beauty': 6, 'dyed': 4, 'most': 4, 'ly': 2, 'lane': 4, 'tops': 4, 'dagger': 6, 'peece': 5, 'arose': 5, 'speaking': 8, 'firmament': 9, 'scorning': 8, 'testament': 9, 'supper': 6, 'lies': 4, 'hearke': 6, 'cut': 3, 'vnfirme': 7, 'lyes': 4, 'send': 4, 'spoyle': 6, 'stolne': 6, 'memory': 6, 'deny': 4, 'ashamed': 7, 'twixt': 5, 'wish': 4, 'courage': 7, 'eruptions': 9, 'oathes': 6, 'reuenge': 7, 'reuiuing': 8, 'bay': 3, 'strato': 6, 'miseries': 8, 'proofe': 6, 'we': 2, 'awake': 5, 'north': 5, 'sighing': 7, 'ingratitude': 11, 'force': 5, 'fierie': 6, 'impatient': 9, 'ague': 4, 'lying': 5, 'falser': 6, 'issue': 5, 'truely': 6, 'entreated': 9, 'dreamer': 7, 'deceitfull': 10, 'person': 6, 'fetch': 5, 'entire': 6, 'followed': 8, 'start': 5, 'doore': 5, 'produce': 7, 'better': 6, 'plucking': 8, 'durst': 5, 'below': 5, 'claudio': 7, 'another': 7, 'lest': 4, 'enforc': 6, '3': 1, 'natures': 7, 'c': 1, 'sutors': 6, 'por': 3, 'extremities': 11, 'dint': 4, 'warne': 5, 'mocke': 5, 'progresse': 9, 'last': 4, 'calculate': 9, 'warriours': 9, 'whet': 4, 'affrighted': 10, 'professe': 8, 'let': 3, 'repealing': 9, 'vexeth': 6, 'carelesly': 9, 'each': 4, 'sometime': 8, 'mur': 3, 'but': 3, 'smell': 5, 'neglect': 7, 'dispos': 6, 'cuts': 4, 'slewe': 5, 'antonio': 7, 'measure': 7, 'boldly': 6, 'actors': 6, 'augurers': 8, 'triumphes': 9, 'loads': 5, 'mischeefes': 10, 'cancell': 7, 'musing': 6, 'audience': 8, 'windowes': 8, 'discomfort': 10, 'chopt': 5, 'dreame': 6, 'turning': 7, 'br': 2, 'while': 5, 'pulpit': 6, 'priests': 7, 'blunt': 5, 'shape': 5, 'hast': 4, 'parthia': 7, 'touch': 5, 'accoutred': 9, 'pittifull': 9, 'belou': 5, 'vse': 3, 'purpose': 7, 'next': 4, 'vessell': 7, 'happy': 5, 'strengthen': 10, 'kneele': 6, 'charractery': 11, 'illuminate': 10, 'noblest': 7, 'vnaccustom': 10, 'oration': 7, 'inflame': 7, 'desir': 5, 'villaines': 9, 'skie': 4, 'hand': 4, 'showt': 5, 'ingrafted': 9, 'forgot': 6, 'aswell': 6, 'scoena': 6, 'disgest': 7, ',': 1, 'may': 3, 'hell': 4, 'promise': 7, 'debt': 4, 'some': 4, 'danke': 5, 'bestride': 8, 'steale': 6, 'seeke': 5, 'sent': 4, 'imitations': 10, 'sicke': 5, 'immortall': 9, 'whilest': 7, 'prythee': 7, 'crosse': 6, 'back': 4, 'misgiuing': 9, 'puts': 4, 'mutiny': 6, 'sleepy': 6, 'slaine': 6, 'tyed': 4, 'curse': 5, 'quicke': 6, 'blowes': 6, 'enuious': 7, 'runne': 5, 'protester': 9, 'share': 5, 'dull': 4, 'pit': 3, 'shooke': 6, 'sawce': 5, 'causes': 6, 'car': 3, 'fauour': 6, 'instantly': 9, 'surgeon': 7, 'bookes': 6, 'vpward': 6, 'cals': 4, 'obserue': 7, 'engendred': 9, 'thoughts': 8, 'stage': 5, 'stirre': 6, 'wrath': 5, 'deaths': 6, 'antonies': 8, 'glad': 4, 'steele': 6, 'by': 2, 'mourn': 5, 'rightly': 7, 'enlarge': 7, 'stroken': 7, 'ferret': 6, 'lowly': 5, 'were': 4, 'exeunt': 6, 'cassius': 7, 'conceptions': 11, 'chide': 5, 'chidden': 7, 'scedule': 7, 'street': 6, 'dust': 4, 'heires': 6, 'flattered': 9, 'secundus': 8, 'plague': 6, 'tyrannie': 8, 'lawfull': 7, 'obiects': 7, 'cly': 3, 'guard': 5, 'vndone': 6, 'listen': 6, 's': 1, 'exit': 4, 'entertaine': 10, 'none': 4, 'weakenesse': 10, 'brought': 7, 'deerely': 7, 'bend': 4, 'couetous': 8, 'part': 4, 'fathers': 7, 'too': 3, 'mothers': 7, 'bondmen': 7, 'bondage': 7, 'billes': 6, 'exploit': 7, 'mooue': 5, 'coniure': 7, 'weepe': 5, 'chafing': 7, 'trouble': 7, 'stricken': 8, 'puisant': 7, 'clapp': 5, 'silence': 7, 'ber': 3, 'aliue': 5, 'wofull': 6, 'other': 5, 'parts': 5, 'stop': 4, 'vttermost': 9, 'rude': 4, 'drawne': 6, 'forrest': 7, 'fearefulnesse': 13, 'straight': 8, 'second': 6, 'bring': 5, 'deed': 4, 'leane': 5, 'popil': 5, 'boldest': 7, 'directly': 8, 'throwes': 7, 'omnes': 5, 'at': 2, 'though': 6, 'throat': 6, 'holds': 5, 'neede': 5, 'eagerly': 7, 'repayre': 7, 'starres': 7, 'ours': 4, 'cin': 3, 'chance': 6, 'has': 3, 'foame': 5, 'cymber': 6, 'retreat': 7, 'comets': 6, 'constancie': 10, 'becomes': 7, 'hideous': 7, 'necke': 5, 'curtesie': 8, 'wayes': 5, 'morning': 7, 'ninth': 5, 'monstrous': 9, 'kindnesse': 9, 'path': 4, 'enioy': 5, 'reuerence': 9, 'incorporate': 11, 'physicall': 9, 'decius': 6, 'addition': 8, 'conditions': 10, 'withall': 7, 'offended': 8, 'fiue': 4, 'moued': 5, 'arguing': 7, 'sauing': 6, 'read': 4, 'couer': 5, 'modestie': 8, 'least': 5, 'bids': 4, 'prouender': 9, 'rid': 3, 'mother': 6, 'swound': 6, 'sit': 3, 'iigging': 7, 'beards': 6, 'thine': 5, 'liberty': 7, 'shalt': 5, 'growes': 6, 'tyber': 5, 'agen': 4, 'shed': 4, 'bosomes': 7, 'i': 1, 'poet': 4, 'thither': 7, 'giue': 4, 'ordinance': 9, 'answere': 7, 'manet': 5, 'secrets': 7, 'diuers': 6, 'wreath': 6, 'countries': 9, 'offices': 7, 'cried': 5, 'sights': 6, 'reade': 5, 'haire': 5, 'lamented': 8, 'began': 5, 'stretch': 7, 'necessary': 9, 'summes': 6, 'gate': 4, 'feares': 6, 'draw': 4, 'fulfill': 7, 'yawn': 4, 'heares': 6, 'visit': 5, 'seat': 4, 'hidden': 6, 'qualitie': 8, 'disconsolate': 12, 'dew': 3, 'napkins': 7, 'desire': 6, 'barke': 5, 'euening': 7, 'vile': 4, 'mount': 5, 'forgaue': 7, 'dyest': 5, 'disrobe': 7, 'groaning': 8, 'one': 3, 'women': 5, 'lucillius': 9, 'hounds': 6, 'dropt': 5, 'gallant': 7, 'speed': 5, 'lyable': 6, 'season': 6, 'sign': 4, 'cassi': 5, 'sayes': 5, 'loues': 5, 'iudge': 5, 'against': 7, 'gray': 4, 'vttered': 7, 'troopes': 7, 'pleasing': 8, 'hedge': 5, 'faithfull': 9, 'mouth': 5, 'brutus': 6, 'menace': 6, 'orator': 6, 't': 1, 'threatning': 10, 'bussling': 8, 'refuse': 6, 'dangerous': 9, 'meerely': 7, 'dyes': 4, 'sawcie': 6, 'fears': 5, 'pleasure': 8, 'cleane': 6, 'lionnesse': 9, 'armes': 5, 'came': 4, 'talk': 4, 'maine': 5, 'taking': 6, 'mighty': 6, 'execution': 9, 'tempest': 7, 'lose': 4, 'mark': 4, 'heape': 5, 'choaked': 7, 'kill': 4, 'sickely': 7, 'power': 5, 'tane': 4, 'lupercall': 9, 'smil': 4, 'farthest': 8, 'formed': 6, 'head': 4, 'ho': 2, 'gowne': 5, 'benefit': 7, 'beleeue': 7, 'mixt': 4, 'rhewmy': 6, 'formall': 7, 'disperse': 8, 'speake': 6, 'base': 4, 'insisted': 8, 'acquainted': 10, 'ordinary': 8, 'ligarius': 8, 'contented': 9, 'reflection': 10, 'eating': 6, 'darke': 5, 'fond': 4, 'fingers': 7, 'marry': 5, 'ghosts': 6, 'a': 1, 'nimblenesse': 11, 'spurne': 6, 'obseru': 6, 'glasse': 6, 'two': 3, 'monarkes': 8, 'peeuish': 7, 'bid': 3, 'roares': 6, 'kisse': 5, 'starre': 6, 'thrusting': 9, 'wonderfull': 10, 'crimson': 7, 'y': 1, 'threaten': 8, 'of': 2, 'eye': 3, 'looking': 7, 'redder': 6, 'ouerthrow': 9, 'statillius': 10, 'carrions': 8, 'seruants': 8, 'semblance': 9, 'effect': 6, 'offer': 5, 'heads': 5, 'slept': 5, 'graze': 5, 'spot': 4, 'petition': 8, 'interim': 7, 'dignities': 9, 'goe': 3, 'slaue': 5, 'preuention': 10, 'vnder': 5, 'auoyd': 5, 'vision': 6, 'saue': 4, 'taught': 6, 'bolts': 5, 'knowne': 6, 'wheeles': 7, 'take': 4, 'doubtfull': 9, 'tinctures': 9, ':': 1, 'wounds': 6, 'tune': 4, 'alasse': 6, 'sisters': 7, 'farther': 7, 'great': 5, 'insurrection': 12, 'dardanius': 9, 'glory': 5, 'intreat': 7, 'call': 4, 'hide': 4, 'meditates': 9, 'sonne': 5, 'stake': 5, 'meane': 5, 'harke': 5, 'barren': 6, 'generall': 8, 'anger': 5, 'darknesse': 9, 'piece': 5, 'right': 5, 'chanc': 5, 'cowards': 7, 'worst': 5, 'owne': 4, 'either': 6, 'honorable': 9, 'incertaine': 10, 'must': 4, 'bankes': 6, 'property': 8, 'exhalations': 11, 'sodaine': 7, 'behold': 6, 'tapor': 5, 'vp': 2, 'alliance': 8, 'bayed': 5, 'inroll': 6, 'fashion': 7, 'indirection': 11, 'soundlesse': 10, 'batchellor': 10, 'bowl': 4, 'rawe': 4, 'bold': 4, 'dec': 3, 'buzzing': 7, 'stood': 5, 'pindarus': 8, 'enclosed': 8, 'streetes': 8, 'heauens': 7, 'rash': 4, 'cushions': 8, 'rated': 5, 'fawne': 5, 'elders': 6, 'strike': 6, 'stretcht': 8, 'petty': 5, 'writ': 4, 'eate': 4, 'soone': 5, 'burst': 5, 'oath': 4, 'healthfull': 10, 'canst': 5, 'alas': 4, 'feeding': 7, 'predictions': 11, 'many': 4, 'home': 4, 'eyes': 4, 'mirrors': 7, 'peeces': 6, 'brings': 6, 'peazants': 8, 'shold': 5, 'doublet': 7, 'custome': 7, 'current': 7, 'round': 5, 'discouered': 10, 'braines': 7, 'ocean': 5, 'yeelded': 7, 'hollow': 6, 'charges': 7, 'weapons': 7, 'limbe': 5, 'sate': 4, 'cautelous': 9, 'bowle': 5, 'winters': 7, 'shakespeare': 11, 'perhaps': 7, 'pind': 4, 'lights': 6, 'doo': 3, 'wait': 4, 'hurle': 5, 'pitch': 5, 'acrosse': 7, 'villains': 8, 'roome': 5, 'tyrants': 7, 'betwixt': 7, 'faint': 5, 'treb': 4, 'commanders': 10, 'roate': 5, 'greeuously': 10, 'loue': 4, 'spirit': 6, 'otherwise': 9, 'weake': 5, 'before': 6, 'breath': 6, 'gastly': 6, 'render': 6, 'set': 3, 'oakes': 5, 'flauius': 7, 'conscience': 10, 'sheepe': 6, 'fly': 3, 'hated': 5, 'pul': 3, 'excepted': 8, 'feathers': 8, 'discard': 7, 'deeds': 5, 'flash': 5, 'large': 5, 'for': 3, 'portentous': 10, 'wildenesse': 10, 'element': 7, 'yeares': 6, 'metel': 5, 'notice': 6, 'spouts': 6, 'gracious': 8, '2': 1, 'mirth': 5, 'scarffes': 8, 'fiery': 5, 'suffering': 9, 'care': 4, 'slaues': 6, 'vnluckily': 9, 'souldiers': 9, 'get': 3, 'rabblement': 10, 'shrieke': 7, 'bar': 3, 'stuffe': 6, 'whit': 4, 'affayres': 8, 'feeds': 5, 'fates': 5, 'speeches': 8, 'truly': 5, 'egge': 4, 'tower': 5, 'sicken': 6, 'leade': 5, 'scene': 5, 'borne': 5, 'proper': 6, 'pledge': 6, 'hill': 4, 'shakes': 6, 'theatre': 7, 'push': 4, 'trickes': 7, 'seene': 5, 'inuenomed': 9, 'vouchsafe': 9, 'trophees': 8, 'stone': 5, 'ransomes': 8, 'sardis': 6, 'crests': 6, 'traitor': 7, 'appertaine': 10, 'popillius': 9, 'song': 4, 'harlot': 6, 'thaw': 4, 'mend': 4, 'reuels': 6, 'difference': 10, 'winde': 5, 'couert': 6, 'toucht': 6, 'brutish': 7, 'labio': 5, 'sayst': 5, 'wood': 4, 'sacrificers': 11, 'gold': 4, 'deliuer': 7, 'pompeyes': 8, 'brother': 7, 'spaniell': 8, 'choak': 5, 'resolu': 6, 'tut': 3, 'bent': 4, 'yours': 5, 'torches': 7, 'olympus': 7, 'vngently': 8, 'shouted': 7, 'within': 6, 'appeas': 6, 'winne': 5, 'gaze': 4, 'orchards': 8, 'trash': 5, 'side': 4, 'thewes': 6, 'teare': 5, 'afear': 5, 'lips': 4, 'supporting': 10, 'sport': 5, 'yonder': 6, 'left': 4, 'flowers': 7, 'bestow': 6, 'murther': 7, 'shame': 5, 'safely': 6, 'shrunke': 7, 'naughty': 7, 'spare': 5, 'practice': 8, 'feare': 5, 'appeare': 7, 'vnkindely': 9, 'yesterday': 9, 'itching': 7, 'further': 7, 'beares': 6, 'mantle': 6, 'neuer': 5, 'depart': 6, 'greets': 6, 'countrey': 8, 'haste': 5, 'closset': 7, 'digest': 6, 'stabb': 5, 'wrong': 5, 'crept': 5, 'all': 3, 'yeeld': 5, 'awe': 3, 'vnkindest': 9, 'greatnesse': 10, 'grudge': 6, 'fray': 4, 'drawes': 6, 'strange': 7, 'traine': 6, 'bang': 4, 'apply': 5, 'ouer': 4, 'my': 2, 'corporall': 9, 'expect': 6, 'dismisse': 8, 'iealous': 7, 'volum': 5, 'death': 5, 'names': 5, 'greeting': 8, 'thorough': 8, 'vndeseruers': 11, 'offence': 7, 'cumber': 6, 'dimme': 5, 'painted': 7, 'tending': 7, 'prouidence': 10, 'ambitious': 9, 'quarrell': 8, 'followes': 8, 'fires': 5, 'cask': 4, 'her': 3, 'hunters': 7, 'be': 2, 'fear': 4, 'hot': 3, 'fill': 4, 'planted': 7, 'formost': 7, 'lift': 4, 'earnest': 7, 'richer': 6, 'brasse': 6, 'feete': 5, 'vnknowne': 8, 'flint': 5, 'griefes': 7, 'crowes': 6, 'sell': 4, 'house': 5, 'greefe': 6, 'third': 5, 'sorry': 5, 'cowardly': 8, 'brook': 5, 'compasse': 8, 'summers': 7, 'fla': 3, 'did': 3, 'feeble': 6, 'villaine': 8, 'apprehensiue': 12, 'daggers': 7, 'note': 4, 'neyther': 7, 'blood': 5, 'might': 5, 'engagements': 11, 'consider': 8, 'honors': 6, 'growing': 7, 'hides': 5, 'matters': 7, 'pardon': 6, 'losse': 5, 'veyl': 4, 'rudenesse': 9, 'keepes': 6, 'louest': 6, 'pricke': 6, 'construe': 8, 'graues': 6, 'knaue': 5, 'aside': 5, 'himselfe': 8, 'rankes': 6, 'wring': 5, 'say': 3, 'volumnius': 9, 'vol': 3, 'men': 3, 'interpreted': 11, 'fearing': 7, 'disprooue': 9, 'proues': 6, 'conspirators': 12, 'compact': 7, 'descend': 7, 'intended': 8, 'arm': 3, 'fooles': 6, 'troubled': 8, 'sweetly': 7, 'free': 4, 'want': 4, 'cobble': 6, 'three': 5, 'cimber': 6, 'shores': 6, 'taper': 5, 'ha': 2, 'ioynes': 6, 'see': 3, 'fight': 5, 'submitting': 10, 'wisedome': 8, 'sinke': 5, 'cryed': 5, 'mens': 4, 'instigations': 12, 'abler': 5, 'soldiers': 8, 'stinglesse': 10, 'iron': 4, 'euill': 5, 'gates': 5, 'foot': 4, 'citizen': 7, 'slaughter': 9, 'in': 2, 'amaze': 5, 'messala': 7, 'eares': 5, 'kerchiefe': 9, 'knottie': 7, 'fatter': 6, 'seest': 5, 'patient': 7, 'sleepe': 6, 'grasped': 7, 'meate': 5, 'erebus': 6, 'rage': 4, 'beare': 5, 'vulgar': 6, 'sixe': 4, 'vnderneath': 10, 'disclose': 8, 'vnnumbred': 9, 'selfe': 5, 'partake': 7, 'older': 5, 'receiue': 7, 'spleene': 7, 'mak': 3, 'dies': 4, 'deafe': 5, 'vnderstood': 10, 'iades': 5, 'minde': 5, 'iulius': 6, 'yong': 4, 'meales': 6, 'deriu': 5, 'distract': 8, 'sides': 5, 'moone': 5, 'gently': 6, 'bastard': 7, 'fifteene': 8, 'making': 6, 'clamors': 7, 'begin': 5, 'chew': 4, 'sorrow': 6, 'ne': 2, 'lofty': 5, 'sound': 5, 'dye': 3, 'aboue': 5, 'condemn': 7, 'glow': 4, 'thinking': 8, 'coffin': 6, 'the': 3, 'partly': 6, 'offered': 7, 'swallow': 7, 'absence': 7, 'assemble': 8, 'furnish': 7, 'money': 5, 'proceede': 8, 'confines': 8, 'finis': 5, 'torrent': 7, 'bosome': 6, 'earnes': 6, 'constant': 8, 'octauio': 7, 'figures': 7, 'sake': 4, 'giues': 5, 'wauing': 6, 'matter': 6, 'ingag': 5, 'papers': 6, 'then': 4, 'light': 5, 'purpos': 6, 'charge': 6, 'dis': 3, 'best': 4, 'art': 3, 'deale': 5, 'sauage': 6, 'moreouer': 8, 'showts': 6, 'beat': 4, 'ready': 5, 'dost': 4, 'make': 4, 'which': 5, 'serues': 6, 'beside': 6, 'straite': 7, 'actus': 5, 'breake': 6, 'concaue': 7, 'forme': 5, 'suffers': 7, 'combin': 6, 'gentlemen': 9, 'tag': 3, 'amaz': 4, 'beasts': 6, 'answered': 8, 'space': 5, 'satisfied': 9, 'whil': 4, 'cynicke': 7, 'wiues': 5, 'foote': 5, 'clitus': 6, 'are': 3, 'yea': 3, 'swell': 5, 'and': 3, 'foule': 5, 'dip': 3, 'hundred': 7, 'minded': 6, 'leather': 7, 'bidding': 7, 'wine': 4, 'commended': 9, 'euery': 5, 'follow': 6, 'it': 2, 'vertue': 6, 'consent': 7, 'behauiours': 10, 'wisedom': 7, 'womanish': 8, 'voyces': 6, 'rule': 4, 'winds': 5, 'taste': 5, 'greeke': 6, 'droppes': 7, 'lookes': 6, 'games': 5, 'bonds': 5, 'treason': 7, 'birth': 5, 'number': 6, 'infirmitie': 10, 'guesse': 6, 'beggers': 7, 'respect': 7, 'hard': 4, 'caes': 4, 'prepare': 7, 'addrest': 7, 'lyons': 5, 'appoint': 7, 'throng': 6, 'rest': 4, 'barres': 6, 'liued': 5, 'censure': 7, 'husbanded': 9, 'maisters': 8, 'treasure': 8, 'cry': 3, 'loued': 5, 'compare': 7, 'carkasse': 8, 'waste': 5, 'gentle': 6, 'age': 3, 'vnshak': 6, 'wholsome': 8, 'waxe': 4, 'lend': 4, 'wisht': 5, 'sleeue': 6, 'shrew': 5, 'wonders': 7, 'twenty': 6, 'stal': 4, 'apparition': 10, 'whose': 5, 'as': 2, 'bathe': 5, 'makes': 5, 'apparant': 8, 'tradesmans': 10, 'check': 5, 're': 2, 'signe': 5, 'tell': 4, 'ambition': 8, 'rather': 6, 'riu': 3, 'elder': 5, 'corruption': 10, 'hungry': 6, 'dogge': 5, 'thirsty': 7, 'knockes': 7, 'dwelling': 8, 'office': 6, 'post': 4, 'flood': 5, 'life': 4, 'ran': 3, 'along': 5, 'outward': 7, 'thank': 5, 'noted': 5, 'apes': 4, 'going': 5, 'go': 2, '(': 1, 'pale': 4, 'cloake': 6, 'errand': 6, 'monwealth': 9, 'kites': 5, 'very': 4, 'ruddy': 5, 'prodigious': 10, 'howre': 5, 'flesh': 5, 'slighted': 8, 'loose': 5, 'sennit': 6, 'doing': 5, 'count': 5, 'twas': 4, 'tertius': 7, 'welcome': 7, 'fold': 4, 'spoke': 5, 'slip': 4, 'stinking': 8, 'heart': 5, 'euerlasting': 11, 'signifies': 9, 'strew': 5, 'raise': 5, 'sensible': 8, 'nobly': 5, 'talke': 5, 'murderers': 9, 'obscurely': 9, 'foole': 5, 'heed': 4, 'desiring': 8, 'ripe': 4, 'stoope': 6, 'lethee': 6, 'striue': 6, 'shop': 4, 'fixt': 4, 'temper': 6, 'repeale': 7, 'ioyn': 4, 'try': 3, 'numbers': 7, 'mood': 4, 'dreadfull': 9, 'resort': 6, 'worth': 5, 'leagues': 7, 'lowlynesse': 10, 'heraulds': 8, 'annoy': 5, 'scorn': 5, 'kinde': 5, 'hands': 5, 'secret': 6, 'change': 6, 'cast': 4, 'wenches': 7, 'instrument': 10, 'demand': 6, 'held': 4, 'past': 4, 'lord': 4, 'shadowes': 8, 'father': 6, 'backe': 5, 'lena': 4, 'stand': 5, 'counsels': 8, 'aeneas': 6, 'danger': 6, 'husbands': 8, 'weeping': 7, 'bribes': 6, 'acte': 4, 'will': 4, 'battlements': 11, 'replication': 11, 'primus': 6, 'conioyntly': 10, 'opinions': 8, 'dar': 3, 'come': 4, 'watchfull': 9, 'vppe': 4, 'hope': 4, 'elephants': 9, 'breefely': 8, 'amisse': 6, 'vanquish': 8, 'tempests': 8, 'nothing': 7, 'reme': 4, 'quartus': 7, 'mountaine': 9, 'off': 3, 'chayre': 6, 'view': 4, 'proceeded': 9, 'cognisance': 10, 'fasten': 6, 'do': 2, 'farewell': 8, 'company': 7, 'marriage': 8, 'fierce': 6, 'corpes': 6, 'lowest': 6, 'ask': 3, 'beseech': 7, 'presse': 6, 'ayme': 4, 'float': 5, 'iust': 4, 'faire': 5, 'begge': 5, 'glaz': 4, 'sting': 5, 'knocks': 6, 'rushing': 7, 'recreate': 8, 'basest': 6, 'tardie': 6, 'bequeathing': 11, \"'\": 1, 'dangers': 7, 'attaines': 8, 'saying': 6, 'betray': 6, 'tear': 4, 'redresse': 8, 'fam': 3, 'through': 7, 'honest': 6, 'latest': 6, 'goes': 4, 'growne': 6, 'bury': 4, 'saw': 3, 'proceeding': 10, 'finde': 5, 'euils': 5, 'strong': 6, 'hath': 4, 'dum': 3, 'duty': 4, 'state': 5, 'motiues': 7, 'hearing': 7, 'infants': 7, 'softly': 6, 'point': 5, 'twere': 5, 'accents': 7, 'prickt': 6, 'tide': 4, 'ghost': 5, 'entreat': 7, 'look': 4, 'wounded': 7, 'was': 3, 'vrg': 3, 'mee': 3, 'write': 5, 'womens': 6, 'reueng': 6, 'wearie': 6, 'faculties': 9, ';': 1, 'statue': 6, 'downe': 5, 'places': 6, 'laught': 6, 'flatterers': 10, 'hatefull': 8, 'morrow': 6, 'whereto': 7, 'brothers': 8, 'grone': 5, 'modestly': 8, 'palme': 5, 'threats': 7, 'valour': 6, 'd': 1, 'dang': 4, 'cowardice': 9, 'walles': 6, 'ended': 5, 'those': 5, 'maske': 5, 'vnderlings': 10, 'much': 4, 'mender': 6, 'former': 6, 'bending': 7, 'waspish': 7, 'legions': 7, 'auoyded': 7, 'ordered': 7, 'fortunes': 8, 'way': 3, 'breathed': 8, 'comes': 5, 'dungeon': 7, 'can': 3, 'apt': 3, 'fault': 5, 'earely': 6, 'ser': 3, 'subiect': 7, 'euen': 4, 'encounter': 9, 'arme': 4, 'brau': 4, 'griefe': 6, 'consorted': 9, 'seuerall': 8, 'o': 1, 'sterner': 7, 'strokes': 7, 'remaines': 8, 'cynna': 5, 'prey': 4, 'soyle': 5, 'burne': 5, 'leuying': 7, 'showted': 7, 'foolerie': 8, 'forth': 5, 'disturbed': 9, 'alreadie': 8, 'cauerne': 7, 'lines': 5, 'moue': 4, 'mans': 4, 'wake': 4, 'crowd': 5, 'piercing': 8, 'showting': 8, 'aye': 3, 'gone': 4, 'selues': 6, 'stomackes': 9, 'enter': 5, 'sawcy': 5, 'also': 4, 'mention': 7, 'muffling': 8, 'perils': 6, 'lep': 3, 'proud': 5, 'them': 4, 'commons': 7, 'shall': 5, 'sutor': 5, 'sight': 5, 'nay': 3, 'groane': 6, 'mock': 4, 'coffers': 7, 'still': 5, 'senslesse': 9, 'bloods': 6, 'pitty': 5, 'long': 4, 'cride': 5, 'if': 2, 'signified': 9, 'hopes': 5, 'eyther': 6, 'because': 7, 'regard': 6, 'limitation': 10, 'creatures': 9, 'name': 4, 'peoples': 7, 'reliques': 8, 'confidence': 10, 'wound': 5, 'holiday': 7, 'protest': 7, 'howted': 6, 'companion': 9, 'horrid': 6, 'rascall': 7, 'points': 6, 'here': 4, 'lippes': 6, 'tempted': 7, 'sometimes': 9, 'spurres': 7, 'tale': 4, 'vanished': 8, 'dy': 2, 'manner': 6, 'cob': 3, 'things': 6, 'brow': 4, 'heard': 5, 'friendship': 10, 'dogges': 6, 'drop': 4, 'hole': 4, 'presence': 8, 'bones': 5, 'army': 4, 'lye': 3, 'grace': 5, 'masker': 6, 'refus': 5, 'searching': 9, 'strikes': 7, 'smiles': 6, 'high': 4, 'seduc': 5, 'said': 4, 'euills': 6, 'humble': 6, 'patience': 8, 'close': 5, 'wash': 4, 'break': 5, 'affection': 9, 'master': 6, 'bond': 4, 'deare': 5, 'quality': 7, 'superstitious': 13, 'brute': 5, 'slaying': 7, 'caesars': 7, 'flye': 4, 'afterwards': 10, 'enemy': 5, 'arises': 6, 'greefes': 7, 'forgets': 7, 'sickly': 6, 'immediately': 11, 'channell': 8, 'assur': 5, 'cic': 3, 'thigh': 5, 'tyred': 5, 'outlarie': 8, 'preuent': 7, 'bondman': 7, 'butchers': 8, 'cannot': 6, 'throw': 5, 'pipes': 5, 'bastardie': 9, 'spouting': 8, 'hisse': 5, 'should': 6, 'omitted': 7, 'craues': 6, 'venom': 5, 'woman': 5, 'cappes': 6, 'throwing': 8, 'silent': 6, 'lowd': 4, 'labouring': 9, 'whether': 7, 'thou': 4, 'richest': 7, 'worldly': 7, 'voyce': 5, 'faces': 5, 'calphurnia': 10, 'words': 5, 'notwithstanding': 15, 'people': 6, 'haue': 4, 'holy': 4, 'cares': 5, 'mourning': 8, 'sooth': 5, 'foes': 4, 'soft': 4, 'slew': 4, 'climb': 5, 'calp': 4, 'refresht': 8, 'remorse': 7, 'deede': 5, 'beast': 5, 'brauely': 7, 'octa': 4, 'married': 7, 'offences': 8, 'hew': 3, 'deckt': 5, 'speech': 6, 'prodigies': 9, 'troy': 4, 'thinkes': 7, 'comming': 7, 'pompey': 6, 'foorth': 6, 'preuaile': 8, 'tenure': 6, 'funerall': 8, 'turne': 5, 'salutation': 10, 'trade': 5, 'determine': 9, 'tarrying': 8, 'meere': 5, 'bleeding': 8, 'indure': 6, 'what': 4, 'load': 4, 'thousand': 8, 'stampt': 6, 'thriue': 6, 'drops': 5, 'enemies': 7, 'well': 4, 'freedome': 8, 'tride': 5, 'wife': 4, 'chides': 6, 'leafe': 5, 'counsell': 8, 'streame': 7, 'strings': 7, 'contribution': 12, 'body': 4, 'contagion': 9, 'eagles': 6, 'yoake': 5, 'hackt': 5, 'wafter': 6, 'giuing': 6, 'm': 1, 'obey': 4, 'comment': 7, 'gliding': 7, 'teeth': 5, 'brut': 4, 'returning': 9, 'till': 4, 'louer': 5, 'wisely': 6, 'desires': 7, 'legges': 6, 'old': 3, 'higher': 6, 'soule': 5, 'courtesie': 9, 'hazard': 6, 'campe': 5, 'foam': 4, 'soundly': 7, 'vnlesse': 7, 'linkes': 6, 'our': 3, 'neighbors': 9, 'whizzing': 8, 'young': 5, 'nature': 6, 'found': 5, 'stay': 4, 'incompast': 9, 'ascend': 6, 'proscription': 12, 'cheere': 6, 'vtmost': 6, 'philosophy': 10, 'warning': 7, 'mean': 4, 'hazards': 7, 'clap': 4, 'romane': 6, 'diuell': 6, 'security': 8, 'lambe': 5, 'gaue': 4, 'saide': 5, 'thought': 7, 'marrie': 6, 'calles': 6, 'roar': 4, 'infranchisement': 15, 'guilty': 6, 'dish': 4, 'helpe': 5, 'elements': 8, 'testie': 6, 'disclos': 7, 'maiesticke': 10, 'plucke': 6, 'appetite': 8, 'sirs': 4, 'clau': 4, 'witnesse': 8, 'newes': 5, 'hauing': 6, 'diuided': 7, 'cicero': 6, 'cloakes': 7, 'ragge': 5, 'clocke': 6, 'brim': 4, 'deere': 5, 'made': 4, 'loines': 6, 'about': 5, 'pray': 4, 'heap': 4, 'souldier': 8, '!': 1, 'slumber': 7, 'vntill': 6, 'ill': 3, 'misconstrued': 12, 'befriend': 8, 'worthinesse': 11, 'holes': 5, 'suffered': 8, 'storme': 6, 'prepar': 6, 'compell': 7, 'epicurus': 8, 'walke': 5, 'tarquin': 7, 'companies': 9, 'sway': 4, 'bloodie': 7, 'nod': 3, 'feast': 5, 'rout': 4, 'party': 5, 'loath': 5, 'retentiue': 9, 'mortified': 9, 'satisfie': 8, 'conceited': 9, 'wilt': 4, 'abridg': 6, 'wer': 3, 'bound': 5, 'stole': 5, 'serue': 5, 'deceiu': 6, 'bad': 3, 'hang': 4, 'rent': 4, 'sheath': 6, 'bow': 3, 'health': 6, 'willes': 6, 'porch': 5, 'huge': 4, 'need': 4, 'tu': 2, 'pre': 3, 'according': 9, 'choose': 6, 'heede': 5, 'commit': 6, 'torch': 5, 'vexed': 5, 'led': 3, 'often': 5, 'rose': 4, 'asleepe': 7, 'coine': 5, 'noone': 5, 'stubborne': 9, 'touched': 7, 'seal': 4, 'hart': 4, 'arriu': 5, 'vanish': 6, 'parchment': 9, 'chaire': 6, 'banish': 6, 'threw': 5, 'among': 5, 'sees': 4, 'water': 5, 'both': 4, 'perceiue': 8, 'late': 4, 'ambitions': 9, 'setting': 7, 'stonie': 6, 'else': 4, 'seate': 5, 'there': 5, 'straine': 7, 'shell': 5, 'baite': 5, 'walls': 5, 'red': 3, 'horse': 5, 'stemming': 8, 'moe': 3, 'heereafter': 10, 'driues': 6, 'likes': 5, 'contriue': 8, 'shout': 5, 'playes': 6, 'sits': 4, 'mischeefe': 9, 'thirtie': 7, 'resting': 7, 'lordship': 8, 'staines': 7, 'remain': 6, 'siluer': 6, 'bethinke': 8, 'sought': 6, 'canopy': 6, 'request': 7, 'terror': 6, 'discouer': 8, 'dam': 3, 'wel': 3, 'endure': 6, 'swoonded': 8, 'letter': 6, 'metellus': 8, 'drizel': 6, 'honourably': 10, 'robe': 4, 'plebeians': 9, 'describ': 7, 'angry': 5, 'betweene': 8, 'into': 4, 'blockes': 7, 'whisper': 7, 'apparrell': 9, 'tit': 3, 'motion': 6, 'reades': 6, 'woe': 3, 'preferre': 8, 'carries': 7, 'expedition': 10, 'weigh': 5, 'determined': 10, 'rests': 5, 'affraid': 7, 'alone': 5, 'no': 2, 'hatch': 5, 'liu': 3, 'funerals': 8, 'rocke': 5, 'countrymen': 10, 'that': 4, 'hie': 3, 'sawe': 4, 'spake': 5, 'princes': 7, 'greeue': 6, 'hate': 4, 'recount': 7, 'stronger': 8, 'trust': 5, 'businesse': 9, 'drowsily': 8, 'deuise': 6, 'meanes': 6, 'needs': 5, 'victorie': 8, 'schoole': 7, 'enforced': 8, 'prou': 4, 'costly': 6, 'walking': 7, 'standing': 8, 'begun': 5, 'offall': 6, 'spaine': 6, 'grauity': 7, 'regarded': 8, 'disposed': 8, 'willing': 7, 'improue': 7, 'fields': 6, 'cause': 5, 'hilles': 6, 'disposing': 9, 'artimedorus': 11, 'henceforth': 10, 'surly': 5, 'mischieuous': 11, 'his': 3, 'place': 5, 'beyond': 6, 'guiltinesse': 11, 'teares': 6, 'grow': 4, 'presents': 8, 'inkindled': 9, 'wast': 4, 'would': 5, 'gustie': 6, 'shew': 4, 'applauses': 9, 'leades': 6, 'petitions': 9, 'poor': 4, 'pulpits': 7, 'caska': 5, 'breathlesse': 11, 'soare': 5, 'thinke': 6, 'answering': 9, 'knock': 5, 'sacrifice': 9, 'fire': 4, 'speak': 5, 'shaking': 7, 'gamesom': 7, 'chimney': 7, 'harme': 5, 'hangs': 5, 'liable': 6, 'faults': 6, 'beginning': 9, 'hauocke': 7, 'soothsayer': 10, 'word': 4, 'fled': 4, 'liue': 4, 'sparke': 6, 'dreamt': 6, 'noise': 5, 'firebrands': 10, 'rich': 4, 'nor': 3, 'error': 5, 'pluck': 5, 'madmen': 6, 'march': 5, 'eare': 4, 'apron': 5, 'trembled': 8, 'laughter': 8, 'thee': 4, 'halfe': 5, 'doe': 3, 'encreaseth': 10, 'together': 8, 'safety': 6, 'paper': 5, 'remaine': 7, 'content': 7, 'story': 5, 'warres': 6, 'besmeare': 8, 'malice': 6, 'performance': 11, 'praising': 8, 'conquest': 8, 'melteth': 7, 'worships': 8, 'conceit': 7, 'without': 7, 'domesticke': 10, 'deerer': 6, 'empty': 5, 'strooke': 7, 'remember': 8, 'you': 3, 'ple': 3, 'conquests': 9, 'sex': 3, 'euer': 4, 'stra': 4, 'prisoner': 8, 'how': 3, 'fat': 3, 'humor': 5, 'louing': 6, 'wil': 3, 'asse': 4, 'spirited': 8, 'belike': 6, 'workman': 7, 'honesty': 7, 'sports': 6, 'farwell': 7, 'transformed': 11, 'purposes': 8, 'intermit': 8, 'arming': 6, 'busie': 5, 'ivlivs': 6, 'shriller': 8, 'thunders': 8, 'lucius': 6, 'leysure': 7, 'angel': 5, 'squeale': 7, 'batchellour': 11, 'flame': 5, 'quarter': 7, 'conquerors': 10, 'madman': 6, 'their': 5, 'voyd': 4, 'face': 4, 'leape': 5, 'runnes': 6, 'brauery': 7, 'withal': 6, 'parting': 7, 'sufficeth': 9, '1': 1, 'speede': 6, 'formes': 6, 'pleasures': 9, 'once': 4, 'sland': 5, 'shooes': 6, 'haile': 5, 'tent': 4, 'bath': 4, 'presented': 9, 'wing': 4, 'allow': 5, 'enterred': 8, 'ruby': 4, 'clit': 4, 'writings': 8, 'leaden': 6, 'thy': 3, 'rul': 3, 'forgetfull': 10, 'crown': 5, 'alarums': 7, 'went': 4, 'seale': 5, 'weighing': 8, 'messa': 5, 'vngentle': 8, 'ride': 4, 'weary': 5, 'east': 4, 'vnborne': 7, 'yee': 3, 'passion': 7, 'comfort': 7, 'search': 6, 'common': 6, 'counters': 8, 'drachmaes': 9, 'browes': 6, 'forc': 4, 'smoake': 6, 'locke': 5, 'presently': 9, 'plaine': 6, 'know': 4, 'fatall': 6, 'kingdome': 8, 'stare': 5, 'shadow': 6, 'dard': 4, 'narrow': 6, 'credit': 6, 'tapers': 6, 'cato': 4, 'ensigne': 7, 'oh': 2, 'vrge': 4, 'wander': 6, 'bed': 3, 'toward': 6, 'wherein': 7, 'knowes': 6, 'vntrod': 6, 'portents': 8, 'et': 2, 'palter': 6, 'falles': 6, 'courtesies': 10, 'aueng': 5, 'forget': 6, 'dying': 5, 'mischiefe': 9, 'cursed': 6, 'hugge': 5, 'quite': 5, 'pitteous': 8, 'tydings': 7, 'paines': 6, 'yond': 4, 'answer': 6, 'ranging': 7, 'seeing': 6, 'train': 5, 'smile': 5, 'sayings': 7, 'beware': 6, 'fury': 4, 'ant': 3, 'warnings': 8, 'ile': 3, 'receiuest': 9, 'gouerne': 7, 'firme': 5, 'course': 6, 'scolding': 8, 'sweet': 5, 'learn': 5, 'earth': 5, 'liefe': 5, 'thus': 4, 'downward': 8, 'childe': 6, 'thanke': 6, 'fuller': 6, 'con': 3, 'powers': 6, 'sicknesse': 9, 'rendred': 7, 'angell': 6, 'madam': 5, 'tragedie': 8, 'after': 5, 'commend': 7, 'imminent': 8, 'recouer': 7, 'climber': 7, 'feauer': 6, 'fast': 4, 'breed': 5, 'inforced': 8, 'toyles': 6, 'drinke': 6, 'mistook': 7, 'fortunate': 9, 'such': 4, 'armies': 6, 'frighted': 8, 'chace': 5, 'graunt': 6, 'knees': 5, 'fell': 4, 'burnes': 6, 'colossus': 8, 'mo': 2, 'dwell': 5, 'reioyce': 7, 'window': 6, 'merry': 5, 'necessities': 11, 'returne': 7, 'crooked': 7, 'height': 6, 'consequence': 11, 'case': 4, 'squadrons': 9, 'burneth': 7, 'presage': 7, 'waited': 6, 'alchymie': 8, 'vesture': 7, 'visage': 6, 'impart': 6, 'hearts': 6, 'obseruer': 8, 'seldome': 7, 'natiue': 6, 'elbowes': 7, 'com': 3, 'wit': 3, 'faith': 5, 'teach': 5, 'howting': 7, 'learne': 6, 'neerer': 6, 'heere': 5, 'expounded': 9, 'vow': 3, 'slippery': 8, 'birds': 5, 'darts': 5, 'successe': 8, 'letters': 7, 'powres': 6, 'bargaine': 8, 'entrailes': 9, 'philippi': 8, 'pretors': 7, 'shapes': 6, 'more': 4, 'guide': 5, 'knocke': 6, 'cogitations': 11, 'with': 4, 'seuen': 5, 'whereof': 7, 'praying': 7, 'touching': 8, 'mart': 4, 'question': 8, 'bee': 3, 'split': 5, 'agree': 5, 'cup': 3, 'lighted': 7, 'or': 2, 'affections': 10, 'prima': 5, 'quartered': 9, 'flattery': 8, 'befall': 6, 'vnscorch': 8, 'pay': 3, 'bird': 4, 'die': 3, 'caesar': 6, 'sham': 4, 'whilst': 6, 'hilts': 5, 'impossible': 10, 'varrus': 6, 'swet': 4, 'themselues': 10, 'closet': 6, '1599': 4, 'ladder': 6, 'humour': 6, 'not': 3, 'bowels': 6, 'man': 3, 'complexion': 10, 'mettle': 6, 'captiues': 8, 'instances': 9, 'neere': 5, 'smatch': 6, 'receyuing': 9, 'friends': 7, 'mess': 4, 'portia': 6, 'lacks': 5, 'ease': 4, 'reares': 6, 'rayes': 5, 'interpose': 9, 'pause': 5, 'simple': 6, 'begins': 6, 'romans': 6, 'world': 5, 'am': 2, 'worse': 5, 'dreampt': 7, 'any': 3, 'neigh': 5, 'dewes': 5, 'attendants': 10, 'purpled': 7, 'onely': 5, 'kingly': 6, 'triall': 6, 'cæsar': 5, 'heauen': 6, 'fawn': 4, 'octauius': 8, 'shouting': 8, 'history': 7, 'value': 5, 'regions': 7, 'sterrile': 8, 'ranke': 5, 'buy': 3, 'early': 5, 'factious': 8, 'pub': 3, 'conceyu': 7, 'neither': 7, 'action': 6, 'traitors': 8, 'mad': 3, 'flatterer': 9, 'whiles': 6, 'prostrate': 9, 'sir': 3, 'scope': 5, 'swords': 6, 'spoiles': 7, 'doubt': 5, 'reputed': 7, 'away': 4, 'lou': 3, 'vnkindnesse': 11, 'wherefore': 9, 'tempt': 5, 'turnes': 6, 'em': 2, 'discourse': 9, 'astonish': 8, 'south': 5, 'hinder': 6, 'concluded': 9, 'curre': 5, 'spectacle': 9, 'clowds': 6, 'vnicornes': 9, 'satisfaction': 12, 'contaminate': 11, 'lowe': 4, 'pure': 4, 'streete': 7, 'confesse': 8, 'towards': 7, 'end': 3, 'pawse': 5, 'choller': 7, 'cold': 4, 'drum': 4, 'adder': 5, 'marching': 8, 'owe': 3, 'easily': 6, 'affabilitie': 11, 'condition': 9, 'flames': 6, 'reasons': 7, 'de': 2, 'him': 3, 'swimme': 6, 'grey': 4, 'honours': 7, 'cull': 4, 'apace': 5, 'murrellus': 9, 'wolfe': 5, 'whatsoeuer': 10, 'shoulder': 8, 'fine': 4, 'far': 3, 'liuing': 6, 'warre': 5, 'run': 3, 'insupportable': 13, 'royall': 6, 'mechanicall': 11, 'hates': 5, 'sardians': 8, 'inclos': 6, 'artemidorus': 11, 'almost': 6, 'yeare': 5, 'thunder': 7, 'lacke': 5, 'dinner': 6, 'suburbs': 7, 'vowes': 5, 'stoop': 5, 'glories': 7, 'does': 4, 'trod': 4, 'he': 2, 'bleed': 5, 'personall': 9, 'drinkes': 7, 'fantasies': 9, 'she': 3, 'ouercame': 8, 'mightie': 7, 'alarum': 6, 'false': 5, 'vaunting': 8, 'vnbraced': 8, 'tongue': 6, 'gentler': 7, 'sort': 4, 'nobler': 6, 'theater': 7, 'moneths': 7, 'stayes': 6, 'cas': 3, 'tweene': 6, 'greeuous': 8, 'ruines': 6, 'dumbe': 5, 'rogues': 6, 'doers': 5, '&': 1, 'lusty': 5, 'ayre': 4, 'nice': 4, 'children': 8, 'wise': 4, 'suppe': 5, 'shallowes': 9, 'niggard': 7, 'fare': 4, 'meet': 4, 'rise': 4}\n"
          ]
        }
      ]
    },
    {
      "cell_type": "code",
      "source": [
        "# 2 chesterton-thursday에서 길이가 4자 이하인 단어 중 ie에 포함하는 단어를 소문자로 출력하고, 개수를 세어라\n",
        "\n",
        "fourLetters = list(set([word.lower() for word in gutenberg.words('chesterton-thursday.txt') if len(word) <= 4 and 'ie' in word]))\n",
        "print(fourLetters)\n",
        "len(fourLetters)"
      ],
      "metadata": {
        "colab": {
          "base_uri": "https://localhost:8080/"
        },
        "id": "HQqJJHj0jLkP",
        "outputId": "0c4d83fb-4065-4a2f-8c84-f2049235300f"
      },
      "execution_count": 20,
      "outputs": [
        {
          "output_type": "stream",
          "name": "stdout",
          "text": [
            "['erie', 'die', 'lies', 'view', 'tied', 'tie', 'pie', 'dies', 'lie', 'pier', 'foie', 'died']\n"
          ]
        },
        {
          "output_type": "execute_result",
          "data": {
            "text/plain": [
              "12"
            ]
          },
          "metadata": {},
          "execution_count": 20
        }
      ]
    },
    {
      "cell_type": "code",
      "source": [
        "# 3 bryant-stories에서 ch로 끝나는 단어를 출력 - 충복 없이 첫글자(모두 소문자)와 끝의 'ch'만 남기고 가운데 글자들은 모두 -로 가려라. 예: much -> m-ch\n",
        "hide = []\n",
        "\n",
        "ch_words = list(set([word.lower() for word in gutenberg.words('bryant-stories.txt') if word.endswith('ch')]))\n",
        "\n",
        "for i in range(len(ch_words)):\n",
        "  hide.append(ch_words[i][0] + '-' * (len(ch_words[i]) - 2) + 'ch')\n",
        "\n",
        "print(hide)"
      ],
      "metadata": {
        "colab": {
          "base_uri": "https://localhost:8080/"
        },
        "id": "wyDsLlixk5Ap",
        "outputId": "c18674fe-5bc9-4e31-9cab-89b69b0a8ef7"
      },
      "execution_count": 21,
      "outputs": [
        {
          "output_type": "stream",
          "name": "stdout",
          "text": [
            "['s----ch', 'r---ch', 't----ch', 'c----ch', 'f---ch', 'b---ch', 'p---ch', 's-----ch', 's----ch', 'c---ch', 't---ch', 's-----ch', 'p---ch', 't---ch', 'p---ch', 'b----ch', 'l---ch', 'c---ch', 'b---ch', 'p---ch', 'p---ch', 'a--ch', 'm--ch', 'f----ch', 'b---ch', 'e--ch', 's-----ch', 's--ch', 'w---ch', 'w---ch', 'r--ch', 's-----ch']\n"
          ]
        }
      ]
    },
    {
      "cell_type": "markdown",
      "source": [
        "\n",
        "\n",
        "---\n",
        "\n",
        "\n",
        "\n",
        "---\n",
        "\n"
      ],
      "metadata": {
        "id": "7CVeNI3LA8sU"
      }
    },
    {
      "cell_type": "markdown",
      "source": [
        "### Brown\n",
        "- categories()가 중요"
      ],
      "metadata": {
        "id": "3KAH88BonR-R"
      }
    },
    {
      "cell_type": "code",
      "source": [
        "brown = nltk.corpus.brown"
      ],
      "metadata": {
        "id": "5qV3qf2OlpLm"
      },
      "execution_count": 22,
      "outputs": []
    },
    {
      "cell_type": "code",
      "source": [
        "brown.categories()"
      ],
      "metadata": {
        "colab": {
          "base_uri": "https://localhost:8080/"
        },
        "id": "QsgFSG3gnZEE",
        "outputId": "a7c76396-ea31-42a4-cda1-204f3259bb86"
      },
      "execution_count": 23,
      "outputs": [
        {
          "output_type": "execute_result",
          "data": {
            "text/plain": [
              "['adventure',\n",
              " 'belles_lettres',\n",
              " 'editorial',\n",
              " 'fiction',\n",
              " 'government',\n",
              " 'hobbies',\n",
              " 'humor',\n",
              " 'learned',\n",
              " 'lore',\n",
              " 'mystery',\n",
              " 'news',\n",
              " 'religion',\n",
              " 'reviews',\n",
              " 'romance',\n",
              " 'science_fiction']"
            ]
          },
          "metadata": {},
          "execution_count": 23
        }
      ]
    },
    {
      "cell_type": "code",
      "source": [
        "fdist = nltk.FreqDist([w.lower() for w in brown.words(categories = 'adventure')])\n",
        "print(fdist['men'])"
      ],
      "metadata": {
        "id": "B0hIdJnTnatg",
        "colab": {
          "base_uri": "https://localhost:8080/"
        },
        "outputId": "85dfc07e-84d5-4047-82f4-f030d6f0fb4e"
      },
      "execution_count": 24,
      "outputs": [
        {
          "output_type": "stream",
          "name": "stdout",
          "text": [
            "83\n"
          ]
        }
      ]
    },
    {
      "cell_type": "code",
      "source": [
        "# modal verbs\n",
        "\n",
        "modals = ['can', 'could', 'will', 'would', 'may', 'might']\n",
        "\n",
        "for verb in modals:\n",
        "  print(verb, fdist[verb])"
      ],
      "metadata": {
        "colab": {
          "base_uri": "https://localhost:8080/"
        },
        "id": "pMS30PBKnrLp",
        "outputId": "a6dc8068-6240-4be5-b51a-7b1d6cba582a"
      },
      "execution_count": 25,
      "outputs": [
        {
          "output_type": "stream",
          "name": "stdout",
          "text": [
            "can 48\n",
            "could 154\n",
            "will 51\n",
            "would 194\n",
            "may 7\n",
            "might 59\n"
          ]
        }
      ]
    },
    {
      "cell_type": "markdown",
      "source": [
        "### conditional frequency distribution\n",
        "- 조건에 따른 fdist"
      ],
      "metadata": {
        "id": "jNwAb8Ndn8LB"
      }
    },
    {
      "cell_type": "code",
      "source": [
        "cfd = nltk.ConditionalFreqDist(\n",
        "    # 각 장르에 따른 frequency distribution을 만든다.\n",
        "    (genre, word)\n",
        "    for genre in brown.categories()\n",
        "    for word in brown.words(categories=genre)\n",
        ")"
      ],
      "metadata": {
        "id": "aj3Keba_n6yC"
      },
      "execution_count": 26,
      "outputs": []
    },
    {
      "cell_type": "markdown",
      "source": [
        "### `.most_common([n])`\n",
        "n개의 가장 흔한 요소와 그 개수를 내림차 순으로 나열한 리스트를 반환\n",
        "n이 생략되거나 None이면 모든 요소를 반환"
      ],
      "metadata": {
        "id": "HshewMlBFGkC"
      }
    },
    {
      "cell_type": "code",
      "source": [
        "cfd['romance'].most_common(10)"
      ],
      "metadata": {
        "colab": {
          "base_uri": "https://localhost:8080/"
        },
        "id": "s4WgGXiPoZ-P",
        "outputId": "b630eabb-b5bd-42b4-babe-44b348564ccb"
      },
      "execution_count": 27,
      "outputs": [
        {
          "output_type": "execute_result",
          "data": {
            "text/plain": [
              "[(',', 3899),\n",
              " ('.', 3736),\n",
              " ('the', 2758),\n",
              " ('and', 1776),\n",
              " ('to', 1502),\n",
              " ('a', 1335),\n",
              " ('of', 1186),\n",
              " ('``', 1045),\n",
              " (\"''\", 1044),\n",
              " ('was', 993)]"
            ]
          },
          "metadata": {},
          "execution_count": 27
        }
      ]
    },
    {
      "cell_type": "code",
      "source": [
        "cfd['romance']['love'] # romance 장르에서 'love'의 빈도 수"
      ],
      "metadata": {
        "colab": {
          "base_uri": "https://localhost:8080/"
        },
        "id": "ZloHOeSOohSj",
        "outputId": "63b99289-6432-45b5-b354-e3f5d41f8be4"
      },
      "execution_count": 28,
      "outputs": [
        {
          "output_type": "execute_result",
          "data": {
            "text/plain": [
              "32"
            ]
          },
          "metadata": {},
          "execution_count": 28
        }
      ]
    }
  ]
}