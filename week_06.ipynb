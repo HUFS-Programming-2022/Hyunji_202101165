{
  "nbformat": 4,
  "nbformat_minor": 0,
  "metadata": {
    "colab": {
      "name": "week_06.ipynb",
      "provenance": [],
      "collapsed_sections": []
    },
    "kernelspec": {
      "name": "python3",
      "display_name": "Python 3"
    },
    "language_info": {
      "name": "python"
    }
  },
  "cells": [
    {
      "cell_type": "code",
      "execution_count": 22,
      "metadata": {
        "colab": {
          "base_uri": "https://localhost:8080/"
        },
        "id": "7L3Ij55nQn23",
        "outputId": "233f9b71-e428-46c1-dd3c-eddea7a65406"
      },
      "outputs": [
        {
          "output_type": "stream",
          "name": "stdout",
          "text": [
            "[nltk_data] Downloading package brown to /root/nltk_data...\n",
            "[nltk_data]   Package brown is already up-to-date!\n",
            "[nltk_data] Downloading package inaugural to /root/nltk_data...\n",
            "[nltk_data]   Package inaugural is already up-to-date!\n"
          ]
        },
        {
          "output_type": "execute_result",
          "data": {
            "text/plain": [
              "True"
            ]
          },
          "metadata": {},
          "execution_count": 22
        }
      ],
      "source": [
        "import nltk\n",
        "nltk.download(['brown', 'inaugural'])"
      ]
    },
    {
      "cell_type": "code",
      "execution_count": 23,
      "metadata": {
        "id": "PJlbWrvIQ1qn"
      },
      "outputs": [],
      "source": [
        "brown = nltk.corpus.brown"
      ]
    },
    {
      "cell_type": "markdown",
      "source": [
        "# FreqDist\n",
        "\n",
        "문서에 사용된 단어(token)의 사용 빈도 정보를 담는 클래스\n",
        "\n",
        "딕셔너리 자료형과 유사"
      ],
      "metadata": {
        "id": "Q8Bcj9ue2-uv"
      }
    },
    {
      "cell_type": "code",
      "execution_count": 24,
      "metadata": {
        "colab": {
          "base_uri": "https://localhost:8080/",
          "height": 53
        },
        "id": "Ki6QgD-JRKA7",
        "outputId": "1bdd3848-7ad3-423a-f346-a95de637f41a"
      },
      "outputs": [
        {
          "output_type": "execute_result",
          "data": {
            "text/plain": [
              "\"\\ncfd = nltk.ConditionalFreqDist(\\n    (genre, word)\\n    for genre in brown.categories()\\n    for word in brown.words(categories=genre) # fileids\\n)\\n\\nmodals = ['can', 'could', 'will', 'would', 'may', 'might']\\ncfd.tabulate(condition=brown.categories(), sample=modals)\\n\""
            ],
            "application/vnd.google.colaboratory.intrinsic+json": {
              "type": "string"
            }
          },
          "metadata": {},
          "execution_count": 24
        }
      ],
      "source": [
        "# cfd\n",
        "'''\n",
        "cfd = nltk.ConditionalFreqDist(\n",
        "    (genre, word)\n",
        "    for genre in brown.categories()\n",
        "    for word in brown.words(categories=genre) # fileids\n",
        ")\n",
        "\n",
        "modals = ['can', 'could', 'will', 'would', 'may', 'might']\n",
        "cfd.tabulate(condition=brown.categories(), sample=modals)\n",
        "'''"
      ]
    },
    {
      "cell_type": "code",
      "execution_count": 25,
      "metadata": {
        "colab": {
          "base_uri": "https://localhost:8080/",
          "height": 53
        },
        "id": "Kr7FoaOzV22f",
        "outputId": "d7f6b2bf-3e2c-4222-eb02-b6df5e1106f1"
      },
      "outputs": [
        {
          "output_type": "execute_result",
          "data": {
            "text/plain": [
              "\"\\ncfd1 = nltk.ConditionalFreqDist(\\n    (genre, modal)\\n    for genre in brown.categories()\\n    for modal in ['can', 'could', 'will', 'would', 'may', 'might']\\n\\n    for word in brown.words(categories=genre)\\n    if word.lower() == modal\\n)\\ncfd1.tabulate()\\n\""
            ],
            "application/vnd.google.colaboratory.intrinsic+json": {
              "type": "string"
            }
          },
          "metadata": {},
          "execution_count": 25
        }
      ],
      "source": [
        "# modals의 빈도수가 포함된 cfd (word -> modal_verb)\n",
        "'''\n",
        "cfd1 = nltk.ConditionalFreqDist(\n",
        "    (genre, modal)\n",
        "    for genre in brown.categories()\n",
        "    for modal in ['can', 'could', 'will', 'would', 'may', 'might']\n",
        "\n",
        "    for word in brown.words(categories=genre)\n",
        "    if word.lower() == modal\n",
        ")\n",
        "cfd1.tabulate()\n",
        "'''\n"
      ]
    },
    {
      "cell_type": "code",
      "source": [
        "# 선 그래프\n",
        "'''\n",
        "import matplotlib.pyplot as plt\n",
        "plt.figure(figsize=(12, 5))\n",
        "cfd1.plot() \n",
        "'''"
      ],
      "metadata": {
        "colab": {
          "base_uri": "https://localhost:8080/",
          "height": 36
        },
        "id": "Tgtqch-HvZUu",
        "outputId": "f9977500-009d-412f-fb55-56b6be3f6297"
      },
      "execution_count": 26,
      "outputs": [
        {
          "output_type": "execute_result",
          "data": {
            "text/plain": [
              "'\\nimport matplotlib.pyplot as plt\\nplt.figure(figsize=(12, 5))\\ncfd1.plot() \\n'"
            ],
            "application/vnd.google.colaboratory.intrinsic+json": {
              "type": "string"
            }
          },
          "metadata": {},
          "execution_count": 26
        }
      ]
    },
    {
      "cell_type": "code",
      "execution_count": 27,
      "metadata": {
        "id": "z44Q7BLWSjq5"
      },
      "outputs": [],
      "source": [
        "inaugural = nltk.corpus.inaugural"
      ]
    },
    {
      "cell_type": "code",
      "execution_count": 28,
      "metadata": {
        "colab": {
          "base_uri": "https://localhost:8080/"
        },
        "id": "ToeD4cNMSusg",
        "outputId": "fdad8a15-01e5-4816-bff1-171857c37f39"
      },
      "outputs": [
        {
          "output_type": "execute_result",
          "data": {
            "text/plain": [
              "['1789-Washington.txt',\n",
              " '1793-Washington.txt',\n",
              " '1797-Adams.txt',\n",
              " '1801-Jefferson.txt',\n",
              " '1805-Jefferson.txt',\n",
              " '1809-Madison.txt',\n",
              " '1813-Madison.txt',\n",
              " '1817-Monroe.txt',\n",
              " '1821-Monroe.txt',\n",
              " '1825-Adams.txt',\n",
              " '1829-Jackson.txt',\n",
              " '1833-Jackson.txt',\n",
              " '1837-VanBuren.txt',\n",
              " '1841-Harrison.txt',\n",
              " '1845-Polk.txt',\n",
              " '1849-Taylor.txt',\n",
              " '1853-Pierce.txt',\n",
              " '1857-Buchanan.txt',\n",
              " '1861-Lincoln.txt',\n",
              " '1865-Lincoln.txt',\n",
              " '1869-Grant.txt',\n",
              " '1873-Grant.txt',\n",
              " '1877-Hayes.txt',\n",
              " '1881-Garfield.txt',\n",
              " '1885-Cleveland.txt',\n",
              " '1889-Harrison.txt',\n",
              " '1893-Cleveland.txt',\n",
              " '1897-McKinley.txt',\n",
              " '1901-McKinley.txt',\n",
              " '1905-Roosevelt.txt',\n",
              " '1909-Taft.txt',\n",
              " '1913-Wilson.txt',\n",
              " '1917-Wilson.txt',\n",
              " '1921-Harding.txt',\n",
              " '1925-Coolidge.txt',\n",
              " '1929-Hoover.txt',\n",
              " '1933-Roosevelt.txt',\n",
              " '1937-Roosevelt.txt',\n",
              " '1941-Roosevelt.txt',\n",
              " '1945-Roosevelt.txt',\n",
              " '1949-Truman.txt',\n",
              " '1953-Eisenhower.txt',\n",
              " '1957-Eisenhower.txt',\n",
              " '1961-Kennedy.txt',\n",
              " '1965-Johnson.txt',\n",
              " '1969-Nixon.txt',\n",
              " '1973-Nixon.txt',\n",
              " '1977-Carter.txt',\n",
              " '1981-Reagan.txt',\n",
              " '1985-Reagan.txt',\n",
              " '1989-Bush.txt',\n",
              " '1993-Clinton.txt',\n",
              " '1997-Clinton.txt',\n",
              " '2001-Bush.txt',\n",
              " '2005-Bush.txt',\n",
              " '2009-Obama.txt',\n",
              " '2013-Obama.txt',\n",
              " '2017-Trump.txt',\n",
              " '2021-Biden.txt']"
            ]
          },
          "metadata": {},
          "execution_count": 28
        }
      ],
      "source": [
        "inaugural.fileids()"
      ]
    },
    {
      "cell_type": "markdown",
      "metadata": {
        "id": "FNBwtv8CTgir"
      },
      "source": [
        ""
      ]
    },
    {
      "cell_type": "code",
      "execution_count": 29,
      "metadata": {
        "id": "le3zaeYqS6Zk",
        "colab": {
          "base_uri": "https://localhost:8080/",
          "height": 53
        },
        "outputId": "aecb8f07-b36d-4e93-9169-5836cda360c0"
      },
      "outputs": [
        {
          "output_type": "execute_result",
          "data": {
            "text/plain": [
              "\"\\ncfd2 = nltk.ConditionalFreqDist(\\n    (target_word, fileid[:-4])\\n    for fileid in inaugural.fileids()\\n    for target_word in ['citizen', 'america'] # fileids\\n\\n    for word in inaugural.words(fileids = fileid)\\n      if word.lower() == target_word\\n      # 또는 if target_word in word.lower()\\n      # 또는 word.lower().startswith(target_word)\\n)\\n\\ncfd2.plot()\\n\""
            ],
            "application/vnd.google.colaboratory.intrinsic+json": {
              "type": "string"
            }
          },
          "metadata": {},
          "execution_count": 29
        }
      ],
      "source": [
        "# cfd \n",
        "'''\n",
        "cfd2 = nltk.ConditionalFreqDist(\n",
        "    (target_word, fileid[:-4])\n",
        "    for fileid in inaugural.fileids()\n",
        "    for target_word in ['citizen', 'america'] # fileids\n",
        "\n",
        "    for word in inaugural.words(fileids = fileid)\n",
        "      if word.lower() == target_word\n",
        "      # 또는 if target_word in word.lower()\n",
        "      # 또는 word.lower().startswith(target_word)\n",
        ")\n",
        "\n",
        "cfd2.plot()\n",
        "'''"
      ]
    },
    {
      "cell_type": "markdown",
      "metadata": {
        "id": "zwImtrDtAG7t"
      },
      "source": [
        "## Tuple & List\n",
        "- 불변 객체 vs. 가변 객체\n",
        "- 공통점\n",
        "  - 순서가 있는 sequence type -> indexing O -> slicing O\n",
        "  - iterable -> for loop O"
      ]
    },
    {
      "cell_type": "code",
      "execution_count": 30,
      "metadata": {
        "colab": {
          "base_uri": "https://localhost:8080/"
        },
        "outputId": "836cb554-a812-4335-e03f-163af01a7548",
        "id": "MSJHRE-ZAG7u"
      },
      "outputs": [
        {
          "output_type": "execute_result",
          "data": {
            "text/plain": [
              "((), [])"
            ]
          },
          "metadata": {},
          "execution_count": 30
        }
      ],
      "source": [
        "#1. 생성\n",
        "emptyT = ()\n",
        "emptyT = tuple()\n",
        "\n",
        "emptyL = []\n",
        "emptyL = list()\n",
        "\n",
        "emptyT, emptyL"
      ]
    },
    {
      "cell_type": "code",
      "execution_count": 31,
      "metadata": {
        "id": "zuiBwnyAAG7u"
      },
      "outputs": [],
      "source": [
        "#1.1 요소가 여러 개일 때\n",
        "alphabetT = ('a', 'b')\n",
        "alphabetT = 'a', 'b'\n",
        "alphabetT\n",
        "\n",
        "alphabetL = ['a', 'b']\n"
      ]
    },
    {
      "cell_type": "code",
      "execution_count": 32,
      "metadata": {
        "colab": {
          "base_uri": "https://localhost:8080/"
        },
        "outputId": "18bf425e-c345-4651-a3ea-90d2b99cb2d9",
        "id": "6sJI66pqAG7u"
      },
      "outputs": [
        {
          "output_type": "execute_result",
          "data": {
            "text/plain": [
              "str"
            ]
          },
          "metadata": {},
          "execution_count": 32
        }
      ],
      "source": [
        "# 1.2 tuple이 한 개의 데이터만 가질 때 주의할 점\n",
        "alphaT = ('a') # str\n",
        "type(alphaT)"
      ]
    },
    {
      "cell_type": "code",
      "execution_count": 33,
      "metadata": {
        "colab": {
          "base_uri": "https://localhost:8080/"
        },
        "outputId": "3f6424f2-37f0-4d7c-e716-dfc1ac51272b",
        "id": "1EvUBf7TAG7u"
      },
      "outputs": [
        {
          "output_type": "execute_result",
          "data": {
            "text/plain": [
              "tuple"
            ]
          },
          "metadata": {},
          "execution_count": 33
        }
      ],
      "source": [
        "alphaT = ('b',) # ','를 붙여줘야 한다 - 그렇지 않으면 해당 데이터의 타입이 출력된다\n",
        "type(alphaT)"
      ]
    },
    {
      "cell_type": "markdown",
      "metadata": {
        "id": "QbAJrko4AG7u"
      },
      "source": [
        "- packing: 한 변수에 여러 데이터를 할당하는 것\n",
        "  - list, tuple 자체, a = [1, 2, 3, 4]\n",
        "- unpacking: 한 변수에 여러 데이터가 들어있을 때 여러 변수에 나누는 것\n",
        "  - a = 'k', b = 'i', c = 'm'"
      ]
    },
    {
      "cell_type": "code",
      "execution_count": 34,
      "metadata": {
        "colab": {
          "base_uri": "https://localhost:8080/"
        },
        "outputId": "3fad658d-70b1-4bd8-c4e5-5341b1f14f38",
        "id": "6z-l_Z9PAG7u"
      },
      "outputs": [
        {
          "output_type": "execute_result",
          "data": {
            "text/plain": [
              "('k', 'i', 'm')"
            ]
          },
          "metadata": {},
          "execution_count": 34
        }
      ],
      "source": [
        "a, b, c = 'kim' # unpacking\n",
        "a, b, c"
      ]
    },
    {
      "cell_type": "code",
      "execution_count": 35,
      "metadata": {
        "colab": {
          "base_uri": "https://localhost:8080/"
        },
        "outputId": "44119571-6613-4a89-9bcd-f38a64d4011a",
        "id": "TbvO2_92AG7v"
      },
      "outputs": [
        {
          "output_type": "execute_result",
          "data": {
            "text/plain": [
              "('sky', 'abcd')"
            ]
          },
          "metadata": {},
          "execution_count": 35
        }
      ],
      "source": [
        "# 값 교환하기\n",
        "pwd = 'abcd'\n",
        "userId = 'sky'\n",
        "\n",
        "# pwd = userId -> 정보가 사라진다\n",
        "'''\n",
        "temp1 = userId\n",
        "temp2 = pwd\n",
        "pwd = temp1\n",
        "userId = temp2\n",
        "'''\n",
        "\n",
        "pwd, userId = userId, pwd\n",
        "pwd, userId # 튜플이 편리한 점"
      ]
    },
    {
      "cell_type": "code",
      "execution_count": 36,
      "metadata": {
        "colab": {
          "base_uri": "https://localhost:8080/"
        },
        "outputId": "b70c5e00-c0e7-4960-8258-59b3ebc53d79",
        "id": "ixLe8rRzAG7v"
      },
      "outputs": [
        {
          "output_type": "stream",
          "name": "stdout",
          "text": [
            "('a', 1, 2)\n",
            "(1, 2, 1, 2, 1, 2)\n"
          ]
        }
      ],
      "source": [
        "# 연산\n",
        "print(('a',) + (1, 2)) # +\n",
        "print(((1, 2) * 3))    # *"
      ]
    },
    {
      "cell_type": "code",
      "execution_count": 37,
      "metadata": {
        "colab": {
          "base_uri": "https://localhost:8080/"
        },
        "outputId": "9bee2452-89ea-47ca-ce5d-4b9a77a3099d",
        "id": "c-V9DvQiAG7v"
      },
      "outputs": [
        {
          "output_type": "execute_result",
          "data": {
            "text/plain": [
              "(140248308572880, 140248300827664, 140248120924112)"
            ]
          },
          "metadata": {},
          "execution_count": 37
        }
      ],
      "source": [
        "x = ('a',)\n",
        "y = (1, 2)\n",
        "id(x), id(y), id(x + y) # 저장되는 위치가 다르다"
      ]
    },
    {
      "cell_type": "code",
      "execution_count": 38,
      "metadata": {
        "colab": {
          "base_uri": "https://localhost:8080/"
        },
        "outputId": "613ed833-796c-4816-ba87-0bbcbe35481f",
        "id": "dYwbyfGiAG7v"
      },
      "outputs": [
        {
          "output_type": "execute_result",
          "data": {
            "text/plain": [
              "True"
            ]
          },
          "metadata": {},
          "execution_count": 38
        }
      ],
      "source": [
        "# 비교\n",
        "x = 1, 2\n",
        "y = 1, 6\n",
        "\n",
        "x < y"
      ]
    },
    {
      "cell_type": "code",
      "source": [
        "x = 2, 1\n",
        "y = 1, 2\n",
        "\n",
        "x < y # False - 앞쪽의 요소가 대소비교에 중요"
      ],
      "metadata": {
        "colab": {
          "base_uri": "https://localhost:8080/"
        },
        "outputId": "72bca079-ecfa-4c1a-bd4b-972c6d471558",
        "id": "TSGcdDP0AG7v"
      },
      "execution_count": 39,
      "outputs": [
        {
          "output_type": "execute_result",
          "data": {
            "text/plain": [
              "False"
            ]
          },
          "metadata": {},
          "execution_count": 39
        }
      ]
    },
    {
      "cell_type": "code",
      "execution_count": 40,
      "metadata": {
        "colab": {
          "base_uri": "https://localhost:8080/"
        },
        "outputId": "25dc2299-685e-4a0e-8027-a21605d91ed2",
        "id": "fJ6a8fSsAG7v"
      },
      "outputs": [
        {
          "output_type": "stream",
          "name": "stdout",
          "text": [
            "(2, 1)\n",
            "(2, 1)\n"
          ]
        }
      ],
      "source": [
        "# 순회\n",
        "for i in x: # 요소 개수 만큼\n",
        "  print(x)"
      ]
    },
    {
      "cell_type": "code",
      "execution_count": 41,
      "metadata": {
        "colab": {
          "base_uri": "https://localhost:8080/"
        },
        "outputId": "34418cc6-e8db-4a95-ef18-d1e8b910d411",
        "id": "piIusQhKAG7w"
      },
      "outputs": [
        {
          "output_type": "execute_result",
          "data": {
            "text/plain": [
              "[2, 1]"
            ]
          },
          "metadata": {},
          "execution_count": 41
        }
      ],
      "source": [
        "[i for i in x] # 추천"
      ]
    },
    {
      "cell_type": "code",
      "execution_count": 42,
      "metadata": {
        "colab": {
          "base_uri": "https://localhost:8080/"
        },
        "outputId": "1a0da14b-81cd-4fe4-a0c5-16371ebf1158",
        "id": "ncrypFh4AG7w"
      },
      "outputs": [
        {
          "output_type": "execute_result",
          "data": {
            "text/plain": [
              "(2, 1)"
            ]
          },
          "metadata": {},
          "execution_count": 42
        }
      ],
      "source": [
        "# tuple comprehension은 없다\n",
        "tuple([i for i in x]) # 비추\n",
        "* [i for i in x], # 제일 비추"
      ]
    },
    {
      "cell_type": "code",
      "execution_count": 43,
      "metadata": {
        "id": "NMSIvjE3AG7w"
      },
      "outputs": [],
      "source": [
        "# 형변환\n",
        "dog = 'dog'\n",
        "dogT = tuple(dog)"
      ]
    },
    {
      "cell_type": "code",
      "execution_count": 44,
      "metadata": {
        "colab": {
          "base_uri": "https://localhost:8080/"
        },
        "outputId": "5368ccd9-e293-476c-b8df-96b217807be3",
        "id": "99y4XJ27AG7w"
      },
      "outputs": [
        {
          "output_type": "execute_result",
          "data": {
            "text/plain": [
              "('dog',)"
            ]
          },
          "metadata": {},
          "execution_count": 44
        }
      ],
      "source": [
        "(dog,) # ','"
      ]
    },
    {
      "cell_type": "code",
      "execution_count": 45,
      "metadata": {
        "colab": {
          "base_uri": "https://localhost:8080/"
        },
        "outputId": "2031b05e-c6e1-46ba-bf5d-01faddb8c9a5",
        "id": "q75qgEyKAG7w"
      },
      "outputs": [
        {
          "output_type": "execute_result",
          "data": {
            "text/plain": [
              "['d', 'o', 'g']"
            ]
          },
          "metadata": {},
          "execution_count": 45
        }
      ],
      "source": [
        "list(dog)"
      ]
    },
    {
      "cell_type": "code",
      "execution_count": 46,
      "metadata": {
        "colab": {
          "base_uri": "https://localhost:8080/",
          "height": 36
        },
        "outputId": "0029a7c5-edc1-451d-fbef-86d8a3eec648",
        "id": "yHGoz4_OAG7w"
      },
      "outputs": [
        {
          "output_type": "execute_result",
          "data": {
            "text/plain": [
              "'d'"
            ],
            "application/vnd.google.colaboratory.intrinsic+json": {
              "type": "string"
            }
          },
          "metadata": {},
          "execution_count": 46
        }
      ],
      "source": [
        "# slicing도 동일하게 가능하다.\n",
        "dogT[0]"
      ]
    },
    {
      "cell_type": "markdown",
      "metadata": {
        "id": "fEWIxK9LAG7x"
      },
      "source": [
        "[정리]\n",
        "- tuple 장점\n",
        "  - 변하지 않는 데이터 시퀀스를 만들 수 있다. 타인의 접근을 막는다.\n",
        "  - 메모리 사용 적다.\n",
        "  - 더 빨리 생성된다\n",
        "  - 인덱싱 속도가 빠르다\n",
        "\n",
        "- tuple 단점\n",
        "  - 데이터 값 변경, 추가, 제거 불가\n",
        "  - sorted로 정렬 불가\n",
        "\n",
        "- list 장점\n",
        "  - 튜플의 장점이 필요 없을 때 전부 리스트 사용\n",
        "  - 데이터를 순차적으로 파악할 때 사용\n",
        "  - set와 달리 중복 데이터를 쓸 수 있다"
      ]
    },
    {
      "cell_type": "markdown",
      "metadata": {
        "id": "9nnX6n8MZjb8"
      },
      "source": [
        "### 리스트의 유용한 함수들\n",
        "- 변경, 삭제, 추가\n",
        "- list comprehension 업그레이드"
      ]
    },
    {
      "cell_type": "code",
      "execution_count": 47,
      "metadata": {
        "colab": {
          "base_uri": "https://localhost:8080/"
        },
        "id": "JwQvXjp5ZEn0",
        "outputId": "7ab06990-7bbf-41be-ef84-f44219f850e6"
      },
      "outputs": [
        {
          "output_type": "execute_result",
          "data": {
            "text/plain": [
              "[0, 1, 2, 3, 4]"
            ]
          },
          "metadata": {},
          "execution_count": 47
        }
      ],
      "source": [
        "num = list(range(5))\n",
        "num"
      ]
    },
    {
      "cell_type": "code",
      "execution_count": 48,
      "metadata": {
        "id": "4sHvusQ2Z2NW",
        "colab": {
          "base_uri": "https://localhost:8080/"
        },
        "outputId": "d5574964-1fe5-4008-ceef-85bbe5013d10"
      },
      "outputs": [
        {
          "output_type": "execute_result",
          "data": {
            "text/plain": [
              "[0, 1, 2, 3, 4, 6]"
            ]
          },
          "metadata": {},
          "execution_count": 48
        }
      ],
      "source": [
        "# 추가\n",
        "num.append(6) # 맨 뒤에 요소 추가 (여러 개 안 됨)\n",
        "num"
      ]
    },
    {
      "cell_type": "code",
      "execution_count": 49,
      "metadata": {
        "colab": {
          "base_uri": "https://localhost:8080/"
        },
        "id": "9wX7kC78aFuK",
        "outputId": "523f001b-fa7e-4d62-bce3-83ae309cc081"
      },
      "outputs": [
        {
          "output_type": "execute_result",
          "data": {
            "text/plain": [
              "[8, 0, 1, 2, 3, 4, 6]"
            ]
          },
          "metadata": {},
          "execution_count": 49
        }
      ],
      "source": [
        "# insert(index, item)\n",
        "num.insert(0, 8) # 0번 index에 8을 넣겠다\n",
        "num"
      ]
    },
    {
      "cell_type": "code",
      "execution_count": 50,
      "metadata": {
        "colab": {
          "base_uri": "https://localhost:8080/"
        },
        "id": "1valwQg-aK81",
        "outputId": "3951055a-8460-490e-938c-8684e47684ec"
      },
      "outputs": [
        {
          "output_type": "execute_result",
          "data": {
            "text/plain": [
              "[8, 0, 1, 2, 3, 4, 6, 6, 6, 6]"
            ]
          },
          "metadata": {},
          "execution_count": 50
        }
      ],
      "source": [
        "# 여러 개 추가\n",
        "x = [6, 6, 6]\n",
        "num.extend(x)\n",
        "num # 인자로 전달된 iterable의 모든 item을 list에 추가한다"
      ]
    },
    {
      "cell_type": "code",
      "execution_count": 51,
      "metadata": {
        "colab": {
          "base_uri": "https://localhost:8080/"
        },
        "id": "6X43yfMUaTew",
        "outputId": "bcce1990-6876-4e0e-d1bc-07e708307557"
      },
      "outputs": [
        {
          "output_type": "execute_result",
          "data": {
            "text/plain": [
              "[8, 0, 1, 2, 3, 4, 6, 6, 6, 6, [6, 6, 6]]"
            ]
          },
          "metadata": {},
          "execution_count": 51
        }
      ],
      "source": [
        "num.append(x)\n",
        "num # 리스트 자체를 추가한다 - extend와의 차이"
      ]
    },
    {
      "cell_type": "code",
      "execution_count": 52,
      "metadata": {
        "id": "7wj5hrnIale0",
        "colab": {
          "base_uri": "https://localhost:8080/"
        },
        "outputId": "35ff647e-4bac-494c-cd56-6db0a8fbdf7b"
      },
      "outputs": [
        {
          "output_type": "execute_result",
          "data": {
            "text/plain": [
              "[8, 0, 1, 2, 3, 4, 6, 6, 6, 6, [6, 6, 6], 6, 6, 6]"
            ]
          },
          "metadata": {},
          "execution_count": 52
        }
      ],
      "source": [
        "num += x\n",
        "num\n",
        "# extend와의 차이점\n",
        "## '+'를 사용하면 num의 값이 변하는 것이 아니라 두 리스트가 더해진 새로운 리스트로 반환된다 (id 다름)\n",
        "## 'extend'를 사용하면 num의 주소 값이 변하지 않고 유지된다 (id 그대로)"
      ]
    },
    {
      "cell_type": "code",
      "execution_count": 53,
      "metadata": {
        "colab": {
          "base_uri": "https://localhost:8080/"
        },
        "id": "TqovUAhwaqGt",
        "outputId": "4add3978-366c-40a5-a42f-c23d3134fff6"
      },
      "outputs": [
        {
          "output_type": "execute_result",
          "data": {
            "text/plain": [
              "[0, 0, 1, 2, 3, 4, 6, 6, 6, 6, [6, 6, 6], 6, 6, 6]"
            ]
          },
          "metadata": {},
          "execution_count": 53
        }
      ],
      "source": [
        "# offset\n",
        "num[0] = 0 \n",
        "num # 0번 인덱스 값이었던 8이 0으로 바뀜"
      ]
    },
    {
      "cell_type": "code",
      "execution_count": 54,
      "metadata": {
        "colab": {
          "base_uri": "https://localhost:8080/"
        },
        "id": "JkWNHf2Ma0z_",
        "outputId": "1e9a4f8e-0fd0-4990-9cfd-d1fd8fabea34"
      },
      "outputs": [
        {
          "output_type": "execute_result",
          "data": {
            "text/plain": [
              "['c', 'a', 't', 2, 3, 4, 6, 6, 6, 6, [6, 6, 6], 6, 6, 6]"
            ]
          },
          "metadata": {},
          "execution_count": 54
        }
      ],
      "source": [
        "# slice\n",
        "num[:3] = 'cat'\n",
        "num # 0 ~ (3-1)번 인덱스(0, 0, 1, 2)가 'cat'으로 바뀜"
      ]
    },
    {
      "cell_type": "code",
      "execution_count": 55,
      "metadata": {
        "colab": {
          "base_uri": "https://localhost:8080/"
        },
        "id": "KkTwn8zda5KI",
        "outputId": "388bc0f2-8feb-4f4b-8a93-ac47d4a4a39d"
      },
      "outputs": [
        {
          "output_type": "execute_result",
          "data": {
            "text/plain": [
              "[2, 3, 4, 6, 6, 6, 6, [6, 6, 6], 6, 6, 6]"
            ]
          },
          "metadata": {},
          "execution_count": 55
        }
      ],
      "source": [
        "# 삭제\n",
        "del num[:3]\n",
        "num # 0 ~ (3-1)번 인덱스의 값('c', 'a', 't')"
      ]
    },
    {
      "cell_type": "code",
      "execution_count": 56,
      "metadata": {
        "colab": {
          "base_uri": "https://localhost:8080/"
        },
        "id": "KOZ6CbMZbAR-",
        "outputId": "a438c223-00cb-4cf9-fbbf-a4aaa3878a08"
      },
      "outputs": [
        {
          "output_type": "execute_result",
          "data": {
            "text/plain": [
              "[2, 3, 4, 6, 6, 6, 6, 6, 6, 6]"
            ]
          },
          "metadata": {},
          "execution_count": 56
        }
      ],
      "source": [
        "# remove(value)\n",
        "num.remove([6, 6, 6])\n",
        "num # 인덱스 X, 리스트에 들어있는 해당 값을 제거"
      ]
    },
    {
      "cell_type": "code",
      "execution_count": 57,
      "metadata": {
        "colab": {
          "base_uri": "https://localhost:8080/"
        },
        "id": "SpfWlqwybITD",
        "outputId": "a80e57cd-c4c0-49d8-a100-4aa03de39e24"
      },
      "outputs": [
        {
          "output_type": "execute_result",
          "data": {
            "text/plain": [
              "[2, 3, 4, 6, 6, 6, 6, 6, 6]"
            ]
          },
          "metadata": {},
          "execution_count": 57
        }
      ],
      "source": [
        "# pop(index) 기본값 = [-1]\n",
        "num.pop()\n",
        "num # 기본값인 -1번 인덱스 값(6)이 제거됨"
      ]
    },
    {
      "cell_type": "code",
      "execution_count": 58,
      "metadata": {
        "colab": {
          "base_uri": "https://localhost:8080/"
        },
        "id": "0qjwCAwgbQuc",
        "outputId": "ce61191d-9380-4d1b-cd9e-13e835b3cb62"
      },
      "outputs": [
        {
          "output_type": "execute_result",
          "data": {
            "text/plain": [
              "[3, 4, 6, 6, 6, 6, 6, 6]"
            ]
          },
          "metadata": {},
          "execution_count": 58
        }
      ],
      "source": [
        "num.pop(0)\n",
        "num # 0번 인덱스 값(2)이 제거됨"
      ]
    },
    {
      "cell_type": "code",
      "execution_count": 59,
      "metadata": {
        "colab": {
          "base_uri": "https://localhost:8080/"
        },
        "id": "6O92LPVrbZBN",
        "outputId": "bd5a36a3-5708-4bfd-e79b-8147ad4eb5b0"
      },
      "outputs": [
        {
          "output_type": "execute_result",
          "data": {
            "text/plain": [
              "[]"
            ]
          },
          "metadata": {},
          "execution_count": 59
        }
      ],
      "source": [
        "# clear\n",
        "num.clear()\n",
        "num"
      ]
    },
    {
      "cell_type": "code",
      "execution_count": 60,
      "metadata": {
        "colab": {
          "base_uri": "https://localhost:8080/"
        },
        "id": "5wqH5gMPbcXw",
        "outputId": "52e161a3-d438-4c2b-dc8b-a04927fc9f67"
      },
      "outputs": [
        {
          "output_type": "stream",
          "name": "stdout",
          "text": [
            "[0, 1, 2, 3, 4]\n"
          ]
        },
        {
          "output_type": "execute_result",
          "data": {
            "text/plain": [
              "4"
            ]
          },
          "metadata": {},
          "execution_count": 60
        }
      ],
      "source": [
        "# index\n",
        "num = list(range(5))\n",
        "print(num)\n",
        "num.index(4)"
      ]
    },
    {
      "cell_type": "code",
      "execution_count": 61,
      "metadata": {
        "colab": {
          "base_uri": "https://localhost:8080/"
        },
        "id": "jCi6r1NobnJz",
        "outputId": "a0233556-ecd5-4c51-9dad-f261f52c53ec"
      },
      "outputs": [
        {
          "output_type": "execute_result",
          "data": {
            "text/plain": [
              "True"
            ]
          },
          "metadata": {},
          "execution_count": 61
        }
      ],
      "source": [
        "0 in num"
      ]
    },
    {
      "cell_type": "code",
      "execution_count": 62,
      "metadata": {
        "colab": {
          "base_uri": "https://localhost:8080/"
        },
        "id": "tNyBCmwjbpLQ",
        "outputId": "71721827-3bd7-4c1a-a980-6edf660ad34d"
      },
      "outputs": [
        {
          "output_type": "execute_result",
          "data": {
            "text/plain": [
              "[4, 3, 2, 1, 0]"
            ]
          },
          "metadata": {},
          "execution_count": 62
        }
      ],
      "source": [
        "# 정렬: sort(), sorted()\n",
        "sorted(num, reverse=True) # 변한 값만 복사해서 출력"
      ]
    },
    {
      "cell_type": "code",
      "execution_count": 63,
      "metadata": {
        "id": "6u8hQE3ebwHJ",
        "colab": {
          "base_uri": "https://localhost:8080/"
        },
        "outputId": "72384b58-7370-4e7d-dd9b-84da47276f8f"
      },
      "outputs": [
        {
          "output_type": "execute_result",
          "data": {
            "text/plain": [
              "[4, 3, 2, 1, 0]"
            ]
          },
          "metadata": {},
          "execution_count": 63
        }
      ],
      "source": [
        "num.sort(reverse=True) # 리스트, sort(), 값을 할당하지 않아도 된다.\n",
        "num"
      ]
    },
    {
      "cell_type": "markdown",
      "source": [
        "## `a.sort()` vs. `sorted(a)`\n",
        "- sorted(a) - 리스트, 문자열 둘 다 적용 가능\n",
        "- a.sort() - 리스트만 가능\n",
        "<br><br>\n",
        "- sorted(a) - 정렬 결과를 반환하기 때문에 변수에 담을 수 있다\n",
        "- a.sort() - 입력을 출력으로 덮어쓰기 때문에 별도의 추가 공간이 필요하지 않고 변수에 담을 수도 없다 (error 발생)"
      ],
      "metadata": {
        "id": "CEEbslR6OYQA"
      }
    },
    {
      "cell_type": "code",
      "execution_count": 64,
      "metadata": {
        "colab": {
          "base_uri": "https://localhost:8080/"
        },
        "id": "ow6M41sAb9hh",
        "outputId": "3a54435e-b98b-4e99-9607-b5bdb609ede2"
      },
      "outputs": [
        {
          "output_type": "execute_result",
          "data": {
            "text/plain": [
              "[0, 1, 2, 3, 4]"
            ]
          },
          "metadata": {},
          "execution_count": 64
        }
      ],
      "source": [
        "# reverse(), reversed() -> 값 반환 한다 vs. 안 한다\n",
        "num.reverse() # 값 반환 안 한다\n",
        "num"
      ]
    },
    {
      "cell_type": "code",
      "source": [
        "reversed(num) # <list_reverseiterator at 0x7fb7620e9d10>\n",
        "# reversed 함수는 'iterator' 형식의 값을 반환하기 때문에 객체의 주소가 반환된다\n",
        "print(list(reversed(num))) # list로 형변환 해야 한다"
      ],
      "metadata": {
        "colab": {
          "base_uri": "https://localhost:8080/"
        },
        "id": "vyU0GtesP_2j",
        "outputId": "f6f02cdf-0e46-4a02-a6a9-87709fcdd569"
      },
      "execution_count": 65,
      "outputs": [
        {
          "output_type": "stream",
          "name": "stdout",
          "text": [
            "[4, 3, 2, 1, 0]\n"
          ]
        }
      ]
    },
    {
      "cell_type": "markdown",
      "source": [
        "## shallow copy(얕은 복사) vs. deep copy(깊은 복사)\n",
        "- 얕은 복사\n",
        "  - 해당 객체만 복사하여 새 객체를 생성함\n",
        "  - 복사된 개체의 인스턴스 변수는 원본의 것과 같은 메모리 주소를 참조\n",
        "  - 따라서, 해당 메모리 주소의 값이 변경되면 원본 및 복사 객체의 인스턴스 변수 값은 같이 변경된다\n",
        "\n",
        "- 깊은 복사\n",
        "  - 데이터 자체를 통째로 복사\n",
        "  - 복사된 두 개체는 완전히 독립적인 메모리를 차지"
      ],
      "metadata": {
        "id": "1DU--Uy0aEpA"
      }
    },
    {
      "cell_type": "code",
      "execution_count": 66,
      "metadata": {
        "colab": {
          "base_uri": "https://localhost:8080/"
        },
        "id": "-Np8ssegcF3s",
        "outputId": "8b57027c-1e2a-4266-fcf2-78626f3f8444"
      },
      "outputs": [
        {
          "output_type": "execute_result",
          "data": {
            "text/plain": [
              "[1, 2, 3, 4]"
            ]
          },
          "metadata": {},
          "execution_count": 66
        }
      ],
      "source": [
        "# 할당\n",
        "a = list(range(1, 5))\n",
        "a "
      ]
    },
    {
      "cell_type": "code",
      "execution_count": 67,
      "metadata": {
        "colab": {
          "base_uri": "https://localhost:8080/"
        },
        "id": "N3x9YlEBeaEH",
        "outputId": "42b70bf4-eb49-40bd-acbc-74de7cdc1b22"
      },
      "outputs": [
        {
          "output_type": "execute_result",
          "data": {
            "text/plain": [
              "True"
            ]
          },
          "metadata": {},
          "execution_count": 67
        }
      ],
      "source": [
        "b = a # 같은 메모리 주소를 참조하는 것\n",
        "a is b # 변수명만 다를 뿐 같은 객체"
      ]
    },
    {
      "cell_type": "code",
      "source": [
        "id(a), id(b) # 같은 메모리 주소"
      ],
      "metadata": {
        "colab": {
          "base_uri": "https://localhost:8080/"
        },
        "id": "o5IJGhtpgC4a",
        "outputId": "a58e287e-aca9-4f43-ee38-9412a54563ba"
      },
      "execution_count": 68,
      "outputs": [
        {
          "output_type": "execute_result",
          "data": {
            "text/plain": [
              "(140248117350224, 140248117350224)"
            ]
          },
          "metadata": {},
          "execution_count": 68
        }
      ]
    },
    {
      "cell_type": "code",
      "source": [
        "a[0] = 5\n",
        "a, b # 같이 바뀐다"
      ],
      "metadata": {
        "colab": {
          "base_uri": "https://localhost:8080/"
        },
        "id": "5W99B2gFfnE5",
        "outputId": "a8a10637-83b6-4169-d648-52d487aabee2"
      },
      "execution_count": 69,
      "outputs": [
        {
          "output_type": "execute_result",
          "data": {
            "text/plain": [
              "([5, 2, 3, 4], [5, 2, 3, 4])"
            ]
          },
          "metadata": {},
          "execution_count": 69
        }
      ]
    },
    {
      "cell_type": "markdown",
      "source": [
        "\n",
        "\n",
        "---\n",
        "\n",
        "\n",
        "\n",
        "---\n",
        "\n"
      ],
      "metadata": {
        "id": "WwEIWIxSgY1R"
      }
    },
    {
      "cell_type": "code",
      "source": [
        "# 얕은 복사\n",
        "a = [1, 2, 3, 4]\n",
        "b = a.copy()\n",
        "print(a is b) # False -> 서로 다른 객체\n",
        "\n",
        "a[0] = 5\n",
        "print(a, b) # a만 바뀜"
      ],
      "metadata": {
        "colab": {
          "base_uri": "https://localhost:8080/"
        },
        "id": "MqUWrPDFdqdT",
        "outputId": "4f4ce18f-00ed-4bb7-936b-a3c0cba0ea45"
      },
      "execution_count": 70,
      "outputs": [
        {
          "output_type": "stream",
          "name": "stdout",
          "text": [
            "False\n",
            "[5, 2, 3, 4] [1, 2, 3, 4]\n"
          ]
        }
      ]
    },
    {
      "cell_type": "code",
      "source": [
        "# 얕은 복사 - 그 안의 개체(자식 개체)에는 적용이 안 된다\n",
        "\n",
        "a = [[1, 2], [3, 4]]\n",
        "b = a.copy()\n",
        "\n",
        "a[1][1] = 0\n",
        "a, b # 둘 다 바뀌어 버림"
      ],
      "metadata": {
        "colab": {
          "base_uri": "https://localhost:8080/"
        },
        "id": "1JTnxW8jlBBA",
        "outputId": "ed6cd0d4-99f7-49e7-9359-2f61d4c089cd"
      },
      "execution_count": 71,
      "outputs": [
        {
          "output_type": "execute_result",
          "data": {
            "text/plain": [
              "([[1, 2], [3, 0]], [[1, 2], [3, 0]])"
            ]
          },
          "metadata": {},
          "execution_count": 71
        }
      ]
    },
    {
      "cell_type": "code",
      "execution_count": 72,
      "metadata": {
        "colab": {
          "base_uri": "https://localhost:8080/"
        },
        "id": "QPfr_1A4eoz2",
        "outputId": "0562dc0a-8be7-4771-81c4-026008172e14"
      },
      "outputs": [
        {
          "output_type": "execute_result",
          "data": {
            "text/plain": [
              "(140248300817936, 140248116883856, 140248117352320, 140248126916960)"
            ]
          },
          "metadata": {},
          "execution_count": 72
        }
      ],
      "source": [
        "# shallow copy(얕은 복사)의 방법들\n",
        "c = a.copy()\n",
        "d = list(a)\n",
        "e = a[:]\n",
        "\n",
        "id(a), id(c), id(d), id(e) # 주소들이 서로 다름"
      ]
    },
    {
      "cell_type": "markdown",
      "source": [
        "\n",
        "\n",
        "---\n",
        "\n",
        "\n",
        "\n",
        "---\n",
        "\n"
      ],
      "metadata": {
        "id": "cbmE0mfol1mg"
      }
    },
    {
      "cell_type": "code",
      "execution_count": 73,
      "metadata": {
        "colab": {
          "base_uri": "https://localhost:8080/"
        },
        "id": "AeufdXoae5v4",
        "outputId": "f25a715f-13b5-4a37-aca8-e9f44d0e4fdb"
      },
      "outputs": [
        {
          "output_type": "stream",
          "name": "stdout",
          "text": [
            "f:  [[1, 2], [3, 0]]\n"
          ]
        }
      ],
      "source": [
        "# deep copy(깊은 복사): 하위에 중첩된 리스트 요소가 안 바뀌도록\n",
        "import copy\n",
        "\n",
        "f = copy.deepcopy(a)\n",
        "print('f: ',f)"
      ]
    },
    {
      "cell_type": "code",
      "source": [
        "a.append([1, 2, 3])\n",
        "print('f: ', f)\n",
        "print('a: ', a) # a만 바뀜"
      ],
      "metadata": {
        "colab": {
          "base_uri": "https://localhost:8080/"
        },
        "id": "iiuThr2BVWOU",
        "outputId": "3bb3e8a5-fced-4371-a05c-49c7c50553dc"
      },
      "execution_count": 74,
      "outputs": [
        {
          "output_type": "stream",
          "name": "stdout",
          "text": [
            "f:  [[1, 2], [3, 0]]\n",
            "a:  [[1, 2], [3, 0], [1, 2, 3]]\n"
          ]
        }
      ]
    },
    {
      "cell_type": "markdown",
      "source": [
        "\n",
        "\n",
        "---\n",
        "\n",
        "## 리스트 순회\n",
        "\n"
      ],
      "metadata": {
        "id": "0m85OMpbnt6F"
      }
    },
    {
      "cell_type": "markdown",
      "source": [
        "### zip()\n",
        "- 여러 개의 순회 가능한(iterable)한 객체를 인자로 받고, 각 객체가 담당하는 원소를 tuple 형태로 차례로 접근할 수 있는 반복자(iterator) 역할을 반환"
      ],
      "metadata": {
        "id": "-1bJh0zcoJrH"
      }
    },
    {
      "cell_type": "code",
      "source": [
        "members = ['johnny', 'jeno', 'mark']\n",
        "colors = ['red', 'green', 'blue']\n",
        "\n",
        "for pair in zip(members, colors):\n",
        "  print(pair)"
      ],
      "metadata": {
        "colab": {
          "base_uri": "https://localhost:8080/"
        },
        "id": "aZKpyZ9soyau",
        "outputId": "ae35e595-808e-4d6b-8a45-464f93c6be73"
      },
      "execution_count": 75,
      "outputs": [
        {
          "output_type": "stream",
          "name": "stdout",
          "text": [
            "('johnny', 'red')\n",
            "('jeno', 'green')\n",
            "('mark', 'blue')\n"
          ]
        }
      ]
    },
    {
      "cell_type": "code",
      "execution_count": 76,
      "metadata": {
        "colab": {
          "base_uri": "https://localhost:8080/"
        },
        "id": "oU6Sn-0rfbJQ",
        "outputId": "974120b1-e139-4b69-f767-f20effc32868"
      },
      "outputs": [
        {
          "output_type": "stream",
          "name": "stdout",
          "text": [
            "('kate', 77)\n",
            "('royce', 4)\n",
            "('phill', 54)\n"
          ]
        }
      ],
      "source": [
        "# for loop / list comprehension\n",
        "\n",
        "name = ['kate', 'royce', 'phill']\n",
        "age = [77, 4, 54]\n",
        "\n",
        "for item1, item2 in zip(name, age):\n",
        "  print((item1, item2))"
      ]
    },
    {
      "cell_type": "code",
      "execution_count": 77,
      "metadata": {
        "colab": {
          "base_uri": "https://localhost:8080/"
        },
        "id": "w8sdfVqzf5cy",
        "outputId": "47d6d8a3-7e59-45db-a8c1-c133c573d745"
      },
      "outputs": [
        {
          "output_type": "stream",
          "name": "stdout",
          "text": [
            "('kate', 77)\n",
            "('kate', 4)\n",
            "('kate', 54)\n",
            "('royce', 77)\n",
            "('royce', 4)\n",
            "('royce', 54)\n",
            "('phill', 77)\n",
            "('phill', 4)\n",
            "('phill', 54)\n"
          ]
        }
      ],
      "source": [
        "for item1 in name:\n",
        "  for item2 in age:\n",
        "    print((item1, item2))"
      ]
    },
    {
      "cell_type": "code",
      "execution_count": 78,
      "metadata": {
        "colab": {
          "base_uri": "https://localhost:8080/"
        },
        "id": "ffSz3umxf9mW",
        "outputId": "e4eb8563-39b8-4552-a820-c413c7a4eba4"
      },
      "outputs": [
        {
          "output_type": "execute_result",
          "data": {
            "text/plain": [
              "[('kate', 77), ('royce', 4), ('phill', 54)]"
            ]
          },
          "metadata": {},
          "execution_count": 78
        }
      ],
      "source": [
        "list(zip(name, age))"
      ]
    },
    {
      "cell_type": "markdown",
      "source": [
        "### `enumerate()`\n",
        "- 리스트의 원소에 인덱스를 부여해주는 함수\n",
        "<br><br>\n",
        "\n",
        "- 여태의 for loop 돌리는 방식\n",
        "  - 많은 프로그래밍 언어에서처럼i 등의 인덱스 변수를 증가시키며 돌림\n",
        "    - 파이썬에서는 `enumerate()` 내장함수로 이러한 인덱스 변수 없이 for loop을 돌 수 있다"
      ],
      "metadata": {
        "id": "7aVxo-LbsuZ4"
      }
    },
    {
      "cell_type": "code",
      "source": [
        "[idx for idx in enumerate(name)]"
      ],
      "metadata": {
        "colab": {
          "base_uri": "https://localhost:8080/"
        },
        "id": "cIQ4i3qtut2D",
        "outputId": "fa361125-8265-4da3-c041-a85407735584"
      },
      "execution_count": 79,
      "outputs": [
        {
          "output_type": "execute_result",
          "data": {
            "text/plain": [
              "[(0, 'kate'), (1, 'royce'), (2, 'phill')]"
            ]
          },
          "metadata": {},
          "execution_count": 79
        }
      ]
    },
    {
      "cell_type": "code",
      "execution_count": 80,
      "metadata": {
        "colab": {
          "base_uri": "https://localhost:8080/"
        },
        "id": "E5D3QWCggFZI",
        "outputId": "86d8ec44-3713-4274-83b4-f037797fa036"
      },
      "outputs": [
        {
          "output_type": "stream",
          "name": "stdout",
          "text": [
            "0 kate\n",
            "1 royce\n",
            "2 phill\n"
          ]
        }
      ],
      "source": [
        "# list + index enumerate\n",
        "\n",
        "for idx, item in enumerate(name):\n",
        "  print(idx, item)"
      ]
    },
    {
      "cell_type": "code",
      "execution_count": 81,
      "metadata": {
        "colab": {
          "base_uri": "https://localhost:8080/"
        },
        "id": "MTC21FtvgPVg",
        "outputId": "f0f5f893-ab1e-465d-e727-6cb531ade540"
      },
      "outputs": [
        {
          "output_type": "execute_result",
          "data": {
            "text/plain": [
              "[('kate', 77), ('royce', 4), ('phill', 54)]"
            ]
          },
          "metadata": {},
          "execution_count": 81
        }
      ],
      "source": [
        "# list comprehension list(zip(name, age))\n",
        "\n",
        "[i for i in zip(name, age)]"
      ]
    },
    {
      "cell_type": "code",
      "source": [
        "[(i, j+33) for (i, j) in zip(name, age)]"
      ],
      "metadata": {
        "colab": {
          "base_uri": "https://localhost:8080/"
        },
        "id": "ACoFi1uI3knN",
        "outputId": "e1e4af54-33dc-452e-dbfb-718d53546644"
      },
      "execution_count": 82,
      "outputs": [
        {
          "output_type": "execute_result",
          "data": {
            "text/plain": [
              "[('kate', 110), ('royce', 37), ('phill', 87)]"
            ]
          },
          "metadata": {},
          "execution_count": 82
        }
      ]
    },
    {
      "cell_type": "code",
      "execution_count": 83,
      "metadata": {
        "colab": {
          "base_uri": "https://localhost:8080/"
        },
        "id": "RD0NKQS2hAaU",
        "outputId": "64af1c2f-26a5-4f74-b588-5fe04fb3c621"
      },
      "outputs": [
        {
          "output_type": "stream",
          "name": "stdout",
          "text": [
            "[('kate', 77), ('royce', 4), ('phill', 54)]\n"
          ]
        }
      ],
      "source": [
        "# 위의 list comprehension을 for문으로, name과 age 사용\n",
        "nameage = []\n",
        "\n",
        "for i, j in zip(name, age):\n",
        "  nameage.append((i, j))\n",
        "print(nameage)"
      ]
    },
    {
      "cell_type": "code",
      "execution_count": 84,
      "metadata": {
        "colab": {
          "base_uri": "https://localhost:8080/"
        },
        "id": "EtB64QnfiTbc",
        "outputId": "db067210-441f-4eea-ee5c-8807007c501c"
      },
      "outputs": [
        {
          "output_type": "execute_result",
          "data": {
            "text/plain": [
              "[('kate', 77),\n",
              " ('kate', 4),\n",
              " ('kate', 54),\n",
              " ('royce', 77),\n",
              " ('royce', 4),\n",
              " ('royce', 54),\n",
              " ('phill', 77),\n",
              " ('phill', 4),\n",
              " ('phill', 54)]"
            ]
          },
          "metadata": {},
          "execution_count": 84
        }
      ],
      "source": [
        "'''\n",
        "for i in name:\n",
        "  for j in age:\n",
        "    print(i, j)\n",
        "'''\n",
        "\n",
        "\n",
        "'''\n",
        "(kate, 77)\n",
        "(kate, 44)\n",
        "(kate, 54)\n",
        "'''\n",
        "\n",
        "[(i, j) for i in name for j in age]"
      ]
    },
    {
      "cell_type": "code",
      "execution_count": 85,
      "metadata": {
        "colab": {
          "base_uri": "https://localhost:8080/"
        },
        "id": "Ez2bDlK3iZlZ",
        "outputId": "43736f9b-a3d1-457f-8a5b-15f99c1163be"
      },
      "outputs": [
        {
          "output_type": "execute_result",
          "data": {
            "text/plain": [
              "[[('kate', 77), ('kate', 4), ('kate', 54)],\n",
              " [('royce', 77), ('royce', 4), ('royce', 54)],\n",
              " [('phill', 77), ('phill', 4), ('phill', 54)]]"
            ]
          },
          "metadata": {},
          "execution_count": 85
        }
      ],
      "source": [
        "# 2. [i, j]가 들어있는 리스트의 리스트로 바꿔보기 (리, 컴)\n",
        "\n",
        "[[(i, j) for j in age] for i in name]"
      ]
    },
    {
      "cell_type": "code",
      "execution_count": 86,
      "metadata": {
        "colab": {
          "base_uri": "https://localhost:8080/"
        },
        "id": "kSBbGw95kiOg",
        "outputId": "567f265c-306d-43d9-f671-b87478be0a67"
      },
      "outputs": [
        {
          "output_type": "execute_result",
          "data": {
            "text/plain": [
              "[('DO', 'Do', 2),\n",
              " ('NOT', 'Not', 3),\n",
              " ('JUDGE', 'Judge', 5),\n",
              " ('A', 'A', 1),\n",
              " ('BOOK', 'Book', 4),\n",
              " ('BY', 'By', 2),\n",
              " ('ITS', 'Its', 3),\n",
              " ('COVER', 'Cover', 5)]"
            ]
          },
          "metadata": {},
          "execution_count": 86
        }
      ],
      "source": [
        "sentence = 'do not judge a book by its cover'\n",
        "\n",
        "# [(대문자, 첫글자대문자, 글자수)]의 리스트 만들기\n",
        "\n",
        "words = sentence.split()\n",
        "\n",
        "[(word.upper(), word.title(), len(word)) for word in sentence.split()]"
      ]
    },
    {
      "cell_type": "code",
      "execution_count": 87,
      "metadata": {
        "id": "c7bs5GmmmsBa"
      },
      "outputs": [],
      "source": [
        "text = [\n",
        "        ['Sunja', 'said', 'goodnight', 'to', 'her', 'mother'],\n",
        "        ['Hansu', 'was', 'no', 'longer', 'in', 'Busan']\n",
        "]"
      ]
    },
    {
      "cell_type": "code",
      "source": [
        "#1 문장마다 스트링으로 변환해서 리스트로 반환\n",
        "  # ['문장1', '문장2']\n",
        "  \n",
        "[' '.join(sent) for sent in text]"
      ],
      "metadata": {
        "colab": {
          "base_uri": "https://localhost:8080/"
        },
        "id": "Z0yG8swJ64yx",
        "outputId": "457ae9ed-b82f-4e5f-ab6e-20cf1d5d0ab7"
      },
      "execution_count": 88,
      "outputs": [
        {
          "output_type": "execute_result",
          "data": {
            "text/plain": [
              "['Sunja said goodnight to her mother', 'Hansu was no longer in Busan']"
            ]
          },
          "metadata": {},
          "execution_count": 88
        }
      ]
    },
    {
      "cell_type": "code",
      "source": [
        "#2 전체를 스트링으로 반환\n",
        "  # '문장1 문장2'\n",
        "  \n",
        "' '.join([' '.join(sent) for sent in text])"
      ],
      "metadata": {
        "colab": {
          "base_uri": "https://localhost:8080/",
          "height": 36
        },
        "id": "ICCxpsZ96qXV",
        "outputId": "ad9342b2-044e-402c-ec7b-e5d3e7b17c74"
      },
      "execution_count": 89,
      "outputs": [
        {
          "output_type": "execute_result",
          "data": {
            "text/plain": [
              "'Sunja said goodnight to her mother Hansu was no longer in Busan'"
            ],
            "application/vnd.google.colaboratory.intrinsic+json": {
              "type": "string"
            }
          },
          "metadata": {},
          "execution_count": 89
        }
      ]
    },
    {
      "cell_type": "code",
      "execution_count": 90,
      "metadata": {
        "colab": {
          "base_uri": "https://localhost:8080/"
        },
        "id": "w2W0QboxoLHt",
        "outputId": "f528b4a2-330c-4220-b80f-6734c1f05ca2"
      },
      "outputs": [
        {
          "output_type": "execute_result",
          "data": {
            "text/plain": [
              "['Sunja',\n",
              " 'said',\n",
              " 'goodnight',\n",
              " 'to',\n",
              " 'her',\n",
              " 'mother',\n",
              " 'Hansu',\n",
              " 'was',\n",
              " 'no',\n",
              " 'longer',\n",
              " 'in',\n",
              " 'Busan']"
            ]
          },
          "metadata": {},
          "execution_count": 90
        }
      ],
      "source": [
        "#3 전체 단어 리스트 가져오기\n",
        "  # ['sunja', 'said', 'goodnight', ...]\n",
        "  \n",
        "[word for sent in text for word in sent]"
      ]
    },
    {
      "cell_type": "code",
      "execution_count": 91,
      "metadata": {
        "colab": {
          "base_uri": "https://localhost:8080/"
        },
        "id": "clCbMbl9pisn",
        "outputId": "4b4ade1a-50fc-4941-ff9e-42e055c47009"
      },
      "outputs": [
        {
          "output_type": "execute_result",
          "data": {
            "text/plain": [
              "[0, 1, 2, 3, 4, 5, 6, 7, 8, 9]"
            ]
          },
          "metadata": {},
          "execution_count": 91
        }
      ],
      "source": [
        "# if문 - else 어디서 쓸 수 있을까\n",
        "[i for i in range(10)] # 짝수면 가져오고, 홀수면 '홀수'로 바꾼다"
      ]
    },
    {
      "cell_type": "code",
      "execution_count": 93,
      "metadata": {
        "colab": {
          "base_uri": "https://localhost:8080/",
          "height": 132
        },
        "id": "WnUuMQFzppes",
        "outputId": "6bd7dcca-93b2-43ac-9cd6-bf8a065013b8"
      },
      "outputs": [
        {
          "output_type": "error",
          "ename": "SyntaxError",
          "evalue": "ignored",
          "traceback": [
            "\u001b[0;36m  File \u001b[0;32m\"<ipython-input-93-52508af2ad2d>\"\u001b[0;36m, line \u001b[0;32m1\u001b[0m\n\u001b[0;31m    [i for i in range(10) if i%2 == 0 else '홀수'] # X\u001b[0m\n\u001b[0m                                         ^\u001b[0m\n\u001b[0;31mSyntaxError\u001b[0m\u001b[0;31m:\u001b[0m invalid syntax\n"
          ]
        }
      ],
      "source": [
        "[i for i in range(10) if i%2 == 0 else '홀수'] # X"
      ]
    },
    {
      "cell_type": "code",
      "execution_count": 94,
      "metadata": {
        "id": "Z1wwWPiEp62E",
        "colab": {
          "base_uri": "https://localhost:8080/"
        },
        "outputId": "d22a7ae8-2693-4846-f716-d9b32d493ef5"
      },
      "outputs": [
        {
          "output_type": "execute_result",
          "data": {
            "text/plain": [
              "[0, '홀수', 2, '홀수', 4, '홀수', 6, '홀수', 8, '홀수']"
            ]
          },
          "metadata": {},
          "execution_count": 94
        }
      ],
      "source": [
        "[i if i%2 == 0 else '홀수' for i in range(10)] # 앞으로 끌고 온다"
      ]
    }
  ]
}