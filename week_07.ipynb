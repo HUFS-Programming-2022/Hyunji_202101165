{
 "cells": [
  {
   "cell_type": "markdown",
   "id": "ce8cf56a",
   "metadata": {},
   "source": [
    "## 함수\n",
    "\n",
    "1. 정의\n",
    "2. 인수\n",
    "3. 호출 방식"
   ]
  },
  {
   "cell_type": "markdown",
   "id": "18db1684",
   "metadata": {},
   "source": [
    "#### 1. 정의\n",
    "- 코드의 덩어리, 코드의 묶음\n",
    "    - 반복적으로 사용되는 가치 있는 부분을 한 뭉치로 묶어서 \"어떤 입력값을 주었을 때 어떤 \n",
    "      결괏값을 돌려준다\"라는 식의 함수로 작성하는 것이 현명하다\n",
    "- 간편한 재사용을 위해 - 코드가 아무리 길어도 한 줄로 재사용 가능\n",
    "\n",
    "- 정의 부분(define) + 호출(call) 부분\n",
    "    - 매개변수(parameter): 함수에 입력으로 전달된 값을 받는 변수\n",
    "    - 인수(arguments): 함수를 호출할 때 전달하는 입력값\n",
    "    <br> <br>\n",
    "    \n",
    "``` \n",
    "    - 정의하기\n",
    "    def 함수이름(매개변수1, 2, 3, ...):\n",
    "        수행문1 (매개변수를 이용)\n",
    "        수행문2\n",
    "        ....\n",
    "        return 반환값\n",
    "    - 호출하기\n",
    "    함수이름(인수1, 2, 3, ...)\n",
    "```\n",
    "- 함수의 2*2 = 4가지 경우 (매개변수, 반환값)\n",
    "1. 둘다 없는\n",
    "2. 둘다 있는\n",
    "3. 매개변수만 있는\n",
    "4. 반환값만 있는"
   ]
  },
  {
   "cell_type": "code",
   "execution_count": 3,
   "id": "aa303b40",
   "metadata": {},
   "outputs": [
    {
     "name": "stdout",
     "output_type": "stream",
     "text": [
      "숫자를 입력하세요 >>> 5\n"
     ]
    },
    {
     "data": {
      "text/plain": [
       "'5 + 1 = 6'"
      ]
     },
     "execution_count": 3,
     "metadata": {},
     "output_type": "execute_result"
    }
   ],
   "source": [
    "# 반환값만 있는\n",
    "x = int(input('숫자를 입력하세요 >>> '))\n",
    "y = x + 1 # x= 매개변수, y=반환값 x+1 수행문\n",
    "\n",
    "def ex():\n",
    "    return f'{x} + 1 = {x + 1}'\n",
    "\n",
    "ex()"
   ]
  },
  {
   "cell_type": "code",
   "execution_count": 4,
   "id": "c9ddedb7",
   "metadata": {
    "scrolled": true
   },
   "outputs": [
    {
     "name": "stdout",
     "output_type": "stream",
     "text": [
      "숫자를 입력하세요 >>> 7\n"
     ]
    },
    {
     "data": {
      "text/plain": [
       "8"
      ]
     },
     "execution_count": 4,
     "metadata": {},
     "output_type": "execute_result"
    }
   ],
   "source": [
    "# 둘 다 있는\n",
    "x = int(input('숫자를 입력하세요 >>> '))\n",
    "y = x + 1 # x= 매개변수, y=반환값 x+1 수행문\n",
    "\n",
    "def ex(x):\n",
    "    y = x + 1\n",
    "    return y\n",
    "\n",
    "ex(x)"
   ]
  },
  {
   "cell_type": "code",
   "execution_count": 5,
   "id": "1fbac3e7",
   "metadata": {},
   "outputs": [
    {
     "name": "stdout",
     "output_type": "stream",
     "text": [
      "quack\n"
     ]
    }
   ],
   "source": [
    "# 둘 다 없는\n",
    "def make_a_sound():\n",
    "    print('quack')\n",
    "    #return None\n",
    "    \n",
    "make_a_sound()"
   ]
  },
  {
   "cell_type": "code",
   "execution_count": 6,
   "id": "e4f0cfa0",
   "metadata": {},
   "outputs": [
    {
     "name": "stdout",
     "output_type": "stream",
     "text": [
      "yay\n"
     ]
    }
   ],
   "source": [
    "# 매개변수만 있는\n",
    "def make_a_sound(sound):\n",
    "    print(sound)\n",
    "\n",
    "make_a_sound('yay')"
   ]
  },
  {
   "cell_type": "code",
   "execution_count": 7,
   "id": "05f87c84",
   "metadata": {},
   "outputs": [
    {
     "name": "stdout",
     "output_type": "stream",
     "text": [
      "Splendid\n"
     ]
    }
   ],
   "source": [
    "# 반환값만 있는\n",
    "def agree():\n",
    "    return True\n",
    "\n",
    "if agree():\n",
    "    print('Splendid')\n",
    "else:\n",
    "    print('unexpexted!')"
   ]
  },
  {
   "cell_type": "markdown",
   "id": "69b7c6ab",
   "metadata": {},
   "source": [
    "- 이름 짓기 Naming Conventions\n",
    "    - 원칙적으로 소문자만 사용한다\n",
    "        - split_word 띄어쓰기는 언더바(_)\n",
    "    - 동작과 관련되어 있기 때문에 \"동사+명사\"의 형태 주로 씀\n",
    "    - i.e., 클래스는 주로 명사 def word(): X -> def split_word()\n",
    "        - #### 클래스:  틀, 공장과 같은 역할로서 자신의 형태와 같은 결과물(instance)를 만들어낸다\n",
    "    - 줄임말 -> 혼자 사용하더라도 쓰지 말 것\n",
    "        - splt_word (X)\n",
    "        - calculate -> calc 는 괜찮다\n",
    "    - 명료하게 짓는다\n",
    "    - 기존 파일명과 중복될 수 있으니 너무 일반적인 단어는 지양"
   ]
  },
  {
   "cell_type": "markdown",
   "id": "7039687e",
   "metadata": {},
   "source": [
    "#### 2. 인수\n",
    "- 매개변수 vs. 인수\n",
    "    - 매개변수: 함수 내(interface)에서 유효한 변수\n",
    "        - 함수를 빠져나오면 유효하지 않다 -> 영향을 미치는 범위를 잘 기억\n",
    "    - 인수: 실제 매개변수에 대입되는 변수\n",
    "    - \"호출 시에 인수가 매개변수에 복제된다\"\n",
    "- 위치 인수\n",
    "    - positional argument\n",
    "    - 매개변수를 값에 순서에 상응하게 복제함\n",
    "- 키워드 인수\n",
    "    - keyword argument\n",
    "    - 매개변수 키워드에 맞는 인수로 지정 => 위치 달라도 됨\n",
    "- 디폴트 인수\n",
    "    - default argument\n",
    "    - 매개변수를 정의할 때 값을 미리 지정해놓는 것\n",
    "    - 호출 시에 값이 입력되지 않으면 디폴트값을 사용한다\n",
    "    - 디폴트값이 언디폴트값 앞에 위치할 수는 없다"
   ]
  },
  {
   "cell_type": "code",
   "execution_count": 8,
   "id": "2aa3d507",
   "metadata": {
    "scrolled": true
   },
   "outputs": [
    {
     "name": "stdout",
     "output_type": "stream",
     "text": [
      "yay\n"
     ]
    }
   ],
   "source": [
    "def make_a_sound(sound): # sound = 매개변수 \n",
    "    print(sound)\n",
    "\n",
    "yay = 'yay' # 인수\n",
    "make_a_sound(yay)"
   ]
  },
  {
   "cell_type": "code",
   "execution_count": 9,
   "id": "b33755ca",
   "metadata": {},
   "outputs": [
    {
     "data": {
      "text/plain": [
       "'yay'"
      ]
     },
     "execution_count": 9,
     "metadata": {},
     "output_type": "execute_result"
    }
   ],
   "source": [
    "yay # 함수 밖에서도 유효하다"
   ]
  },
  {
   "cell_type": "code",
   "execution_count": 10,
   "id": "ab05f9fc",
   "metadata": {},
   "outputs": [
    {
     "ename": "NameError",
     "evalue": "name 'sound' is not defined",
     "output_type": "error",
     "traceback": [
      "\u001b[1;31m---------------------------------------------------------------------------\u001b[0m",
      "\u001b[1;31mNameError\u001b[0m                                 Traceback (most recent call last)",
      "\u001b[1;32m~\\AppData\\Local\\Temp/ipykernel_21884/3821405068.py\u001b[0m in \u001b[0;36m<module>\u001b[1;34m\u001b[0m\n\u001b[1;32m----> 1\u001b[1;33m \u001b[0msound\u001b[0m \u001b[1;31m# not defined 매개변수는 함수 밖에서 유효하지 않다\u001b[0m\u001b[1;33m\u001b[0m\u001b[1;33m\u001b[0m\u001b[0m\n\u001b[0m",
      "\u001b[1;31mNameError\u001b[0m: name 'sound' is not defined"
     ]
    }
   ],
   "source": [
    "sound # not defined 매개변수는 함수 밖에서 유효하지 않다"
   ]
  },
  {
   "cell_type": "code",
   "execution_count": 12,
   "id": "d4b44385",
   "metadata": {},
   "outputs": [
    {
     "data": {
      "text/plain": [
       "'black'"
      ]
     },
     "execution_count": 12,
     "metadata": {},
     "output_type": "execute_result"
    }
   ],
   "source": [
    "def commentary(color):\n",
    "    if color == 'g': # 함수 내의 if 조건문\n",
    "        return 'green'\n",
    "    else:\n",
    "        return 'black'\n",
    "    \n",
    "color = 'white'\n",
    "commentary(color)"
   ]
  },
  {
   "cell_type": "code",
   "execution_count": 13,
   "id": "8fe5a789",
   "metadata": {},
   "outputs": [
    {
     "data": {
      "text/plain": [
       "'green'"
      ]
     },
     "execution_count": 13,
     "metadata": {},
     "output_type": "execute_result"
    }
   ],
   "source": [
    "color = 'g'\n",
    "commentary(color) # 인수가 'g' => 'green'을 return"
   ]
  },
  {
   "cell_type": "code",
   "execution_count": 14,
   "id": "8ca5ee96",
   "metadata": {},
   "outputs": [
    {
     "name": "stdout",
     "output_type": "stream",
     "text": [
      "green\n",
      "black\n",
      "black\n"
     ]
    }
   ],
   "source": [
    "colors = ['g', 'b', 't']\n",
    "\n",
    "for color in colors:\n",
    "    print(commentary(color))"
   ]
  },
  {
   "cell_type": "markdown",
   "id": "80c7657f",
   "metadata": {},
   "source": [
    "##### 위치 인수\n",
    "- 함수를 호출할 때 전달되는 값이 매개변수에 순서대로 전달되는 인수 -> 가장 자주 사용되는 방식이다"
   ]
  },
  {
   "cell_type": "code",
   "execution_count": 15,
   "id": "6579c23a",
   "metadata": {},
   "outputs": [
    {
     "name": "stdout",
     "output_type": "stream",
     "text": [
      "1 2 3\n"
     ]
    }
   ],
   "source": [
    "def print_number(a, b, c):\n",
    "    print(a, b, c)\n",
    "    \n",
    "print_number(1, 2, 3)"
   ]
  },
  {
   "cell_type": "code",
   "execution_count": 16,
   "id": "96cac7b5",
   "metadata": {},
   "outputs": [
    {
     "name": "stdout",
     "output_type": "stream",
     "text": [
      "3 2 1\n"
     ]
    }
   ],
   "source": [
    "def print_number(a, b, c):\n",
    "    print(c, b, a)\n",
    "\n",
    "print_number(1, 2, 3)"
   ]
  },
  {
   "cell_type": "markdown",
   "id": "dbf190f1",
   "metadata": {},
   "source": [
    "---"
   ]
  },
  {
   "cell_type": "code",
   "execution_count": 17,
   "id": "c2acb19d",
   "metadata": {},
   "outputs": [
    {
     "data": {
      "text/plain": [
       "{'wine': 'a', 'entree': 'b', 'dessert': 'c'}"
      ]
     },
     "execution_count": 17,
     "metadata": {},
     "output_type": "execute_result"
    }
   ],
   "source": [
    "def menu(wine, entree, dessert):\n",
    "    return {'wine': wine, 'entree': entree, 'dessert': dessert}\n",
    "\n",
    "menu('a', 'b', 'c')"
   ]
  },
  {
   "cell_type": "code",
   "execution_count": 18,
   "id": "155368a3",
   "metadata": {},
   "outputs": [
    {
     "data": {
      "text/plain": [
       "{'dessert': 'c', 'entree': 'b', 'wine': 'a'}"
      ]
     },
     "execution_count": 18,
     "metadata": {},
     "output_type": "execute_result"
    }
   ],
   "source": [
    "def menu(wine, entree, dessert):\n",
    "    return {'dessert': dessert, 'entree': entree, 'wine': wine}\n",
    "\n",
    "menu('a', 'b', 'c')"
   ]
  },
  {
   "cell_type": "markdown",
   "id": "ab2d3b9b",
   "metadata": {},
   "source": [
    "***"
   ]
  },
  {
   "cell_type": "markdown",
   "id": "fbf365c1",
   "metadata": {},
   "source": [
    "##### 키워드 인수\n",
    "- 수많은 함수들의 인수의 순서와 용도를 모두 기억하기 불편하다\n",
    "- 인수의 순서와 용도를 매번 기억하지 않아도 되도록 하는 기능"
   ]
  },
  {
   "cell_type": "code",
   "execution_count": 19,
   "id": "44c7596a",
   "metadata": {},
   "outputs": [],
   "source": [
    "def personal_info(name, age, address):\n",
    "    print('이름: ', name)\n",
    "    print('나이: ', age)\n",
    "    print('주소: ', address)"
   ]
  },
  {
   "cell_type": "code",
   "execution_count": 20,
   "id": "eca0fa49",
   "metadata": {},
   "outputs": [
    {
     "name": "stdout",
     "output_type": "stream",
     "text": [
      "이름:  21\n",
      "나이:  도봉구\n",
      "주소:  김현지\n"
     ]
    }
   ],
   "source": [
    "personal_info(21, '도봉구', '김현지') # 인수의 순서를 외우지 않았을 때 생기는 상황"
   ]
  },
  {
   "cell_type": "code",
   "execution_count": 21,
   "id": "0fac4cf7",
   "metadata": {},
   "outputs": [
    {
     "name": "stdout",
     "output_type": "stream",
     "text": [
      "이름:  hyunji\n",
      "나이:  21\n",
      "주소:  dobong-gu\n"
     ]
    }
   ],
   "source": [
    "# 키워드 인수 방식으로 호출\n",
    "personal_info(name='hyunji', address='dobong-gu', age='21') # 순서를 맞추지 않아도 키워드에 해당하는 값이 들어간다print_number(1, 2, 3)"
   ]
  },
  {
   "cell_type": "code",
   "execution_count": 22,
   "id": "67fa4522",
   "metadata": {},
   "outputs": [],
   "source": [
    "def menu(wine, entree, dessert):\n",
    "    return {'wine': wine, 'entree': entree, 'dessert': dessert}"
   ]
  },
  {
   "cell_type": "code",
   "execution_count": 23,
   "id": "54a36cfb",
   "metadata": {
    "scrolled": true
   },
   "outputs": [
    {
     "data": {
      "text/plain": [
       "{'wine': 'c', 'entree': 'a', 'dessert': 'b'}"
      ]
     },
     "execution_count": 23,
     "metadata": {},
     "output_type": "execute_result"
    }
   ],
   "source": [
    "# 키워드 인수\n",
    "menu(entree='a', dessert='b', wine='c')"
   ]
  },
  {
   "cell_type": "markdown",
   "id": "0050bc16",
   "metadata": {},
   "source": [
    "##### 디폴트 인수\n",
    "- 매개 변수에 기본값을 설정해두고 호출 시 입력하는 값이 없으면 설정한 값으로 계산하도록 하는 인수\n",
    "- 기본 인수가 아닌 것은 기본 인수 뒤에 온다-> non-default argument follows default argument"
   ]
  },
  {
   "cell_type": "code",
   "execution_count": 24,
   "id": "2eae66b3",
   "metadata": {},
   "outputs": [
    {
     "data": {
      "text/plain": [
       "{'wind': 'rioja', 'entree': 'egg', 'dessert': 'strawberry'}"
      ]
     },
     "execution_count": 24,
     "metadata": {},
     "output_type": "execute_result"
    }
   ],
   "source": [
    "# 디폴트 인수\n",
    "def menu2(wine, entree, dessert='strawberry'):\n",
    "    return {'wind':wine, 'entree':entree, 'dessert':dessert}\n",
    "\n",
    "menu2('rioja', 'egg') # dessert 인수에 입력한 값이 없어서 default 값으로 출력됨"
   ]
  },
  {
   "cell_type": "code",
   "execution_count": 25,
   "id": "02856043",
   "metadata": {
    "scrolled": true
   },
   "outputs": [
    {
     "data": {
      "text/plain": [
       "{'wind': 'rioja', 'entree': 'egg', 'dessert': 'kiwi'}"
      ]
     },
     "execution_count": 25,
     "metadata": {},
     "output_type": "execute_result"
    }
   ],
   "source": [
    "menu2('rioja', 'egg', 'kiwi') # dessert 인수에 kiwi를 입력하였으므로 default아닌 입력값으로 출력"
   ]
  },
  {
   "cell_type": "code",
   "execution_count": 26,
   "id": "8e299898",
   "metadata": {
    "scrolled": true
   },
   "outputs": [
    {
     "ename": "SyntaxError",
     "evalue": "non-default argument follows default argument (Temp/ipykernel_21884/1442110972.py, line 2)",
     "output_type": "error",
     "traceback": [
      "\u001b[1;36m  File \u001b[1;32m\"C:\\Users\\syui0\\AppData\\Local\\Temp/ipykernel_21884/1442110972.py\"\u001b[1;36m, line \u001b[1;32m2\u001b[0m\n\u001b[1;33m    def menu2(desert='strawberry', wine, entree):\u001b[0m\n\u001b[1;37m                                         ^\u001b[0m\n\u001b[1;31mSyntaxError\u001b[0m\u001b[1;31m:\u001b[0m non-default argument follows default argument\n"
     ]
    }
   ],
   "source": [
    "# 디폴트 인수\n",
    "def menu2(desert='strawberry', wine, entree):\n",
    "    return {'wind':wine, 'entree':entree, 'dessert':dessert}\n",
    "\n",
    "menu2('rioja', 'egg')\n",
    "# SyntaxError: non-default argument follows default argument"
   ]
  },
  {
   "cell_type": "markdown",
   "id": "f11cec1e",
   "metadata": {},
   "source": [
    "---"
   ]
  },
  {
   "cell_type": "markdown",
   "id": "f43b0a33",
   "metadata": {},
   "source": [
    "#### 호출 방식\n",
    "- 정의 부분은 호출 시 실행된다\n",
    "- 메모리에 저장되어 있다가 호출 시에 사용\n",
    "- 매개변수 vs. 인수\n",
    "    - 참조에 의한 호출(call by reference)\n",
    "    - \"매개변수 = 인수\" copy되기 때문에 나타나는 문제점\n",
    "        - 리스트처럼 가변 객체일 때 값이 주소값을 공유하므로 값이 변한다\n",
    "          (인자의 값이 변경되면 전달된 값도 변경)\n",
    "        "
   ]
  },
  {
   "cell_type": "markdown",
   "id": "36dbdc36",
   "metadata": {},
   "source": [
    "##### 순서"
   ]
  },
  {
   "cell_type": "code",
   "execution_count": 27,
   "id": "4c51482e",
   "metadata": {},
   "outputs": [
    {
     "name": "stdout",
     "output_type": "stream",
     "text": [
      "인수 할당\n",
      "호출 (인수를 매개변수에 대입)\n",
      "정의 부분 실행\n",
      "결과\n"
     ]
    }
   ],
   "source": [
    "def multiply(x, y): # 매개변수\n",
    "    print('정의 부분 실행')\n",
    "    return x * y\n",
    "\n",
    "print('인수 할당')\n",
    "i = 2\n",
    "j = 4\n",
    "\n",
    "print('호출 (인수를 매개변수에 대입)')\n",
    "multiply(i, j) #### i=2, j=4 -> x에 i 대입, y에 j대입 -> copy\n",
    "\n",
    "print('결과')"
   ]
  },
  {
   "cell_type": "code",
   "execution_count": 28,
   "id": "ed1498df",
   "metadata": {},
   "outputs": [
    {
     "name": "stdout",
     "output_type": "stream",
     "text": [
      "['a']\n",
      "['a', 'b']\n"
     ]
    }
   ],
   "source": [
    "def buggy(arg, result = []):\n",
    "    result.append(arg)\n",
    "    print(result)\n",
    "    \n",
    "a, b = 'a', 'b'\n",
    "buggy(a) # ['a']\n",
    "buggy(b) # ['a', b] <- 아이디를 공유하기 때문에 저절로 리셋되지 않는다"
   ]
  },
  {
   "cell_type": "code",
   "execution_count": 29,
   "id": "da287432",
   "metadata": {},
   "outputs": [
    {
     "name": "stdout",
     "output_type": "stream",
     "text": [
      "['a']\n",
      "['b']\n"
     ]
    }
   ],
   "source": [
    "def buggy(arg, result=[]):\n",
    "    result = [] # 두 번째 호출부터 이전 호출에서 생긴 항목이 들어있음\n",
    "    result.append(arg)\n",
    "    print(result)\n",
    "\n",
    "a, b = 'a', 'b'\n",
    "buggy(a) # ['a']\n",
    "buggy(b) # ['b'] <- 호출 시 리스트 비운 뒤 append "
   ]
  },
  {
   "cell_type": "code",
   "execution_count": 30,
   "id": "042122e5",
   "metadata": {},
   "outputs": [
    {
     "name": "stdout",
     "output_type": "stream",
     "text": [
      "[None]\n",
      "[None, 'a']\n",
      "['k']\n",
      "[None, 'a', 'b']\n",
      "['c']\n"
     ]
    }
   ],
   "source": [
    "# 둘다 조건식으로 포함하는 함수로 변경하기 \n",
    "# result = []\n",
    "\n",
    "def nonbuggy(arg, result=[]): # None: 없는 값 - 값의 부재를 나타내는 데 자주 쓰임\n",
    "    # 리스트 없으면 빈 리스트 생성하고, 있으면 그거 써라.\n",
    "    if result is None: # '==' value만 같으면 같은 거고, 'is'는 id도 같아야 함\n",
    "        result = []\n",
    "        \n",
    "    result.append(arg)\n",
    "    print(result)\n",
    "\n",
    "nonbuggy(None)\n",
    "nonbuggy('a')\n",
    "nonbuggy('k', None)\n",
    "nonbuggy('b')\n",
    "nonbuggy('c', None)"
   ]
  },
  {
   "cell_type": "code",
   "execution_count": 31,
   "id": "a1436824",
   "metadata": {},
   "outputs": [
    {
     "name": "stdout",
     "output_type": "stream",
     "text": [
      "[None]\n",
      "['a']\n",
      "['k']\n",
      "['b']\n",
      "['c']\n"
     ]
    }
   ],
   "source": [
    "# 둘다 조건식으로 포함하는 함수로 변경하기 \n",
    "# result = None\n",
    "\n",
    "def nonbuggy(arg, result=None): # None: 없는 값,  neither True nor False - 값의 부재를 나타내는 데 자주 쓰임\n",
    "    # 리스트 없으면 빈 리스트 생성하고, 있으면 그거 써라.\n",
    "    if result is None: # '==' value만 같으면 같은 거고, 'is'는 id도 같아야 함\n",
    "        result = []\n",
    "        \n",
    "    result.append(arg)\n",
    "    print(result)\n",
    "\n",
    "nonbuggy(None)\n",
    "nonbuggy('a')\n",
    "nonbuggy('k', None)\n",
    "nonbuggy('b')\n",
    "nonbuggy('c', None)"
   ]
  },
  {
   "cell_type": "markdown",
   "id": "434bc16b",
   "metadata": {},
   "source": [
    "# `None`"
   ]
  },
  {
   "cell_type": "code",
   "execution_count": 32,
   "id": "600b12cf",
   "metadata": {},
   "outputs": [
    {
     "name": "stdout",
     "output_type": "stream",
     "text": [
      "None\n"
     ]
    }
   ],
   "source": [
    "thing = None\n",
    "\n",
    "if thing:\n",
    "    print('True')\n",
    "elif thing == False:\n",
    "    print('False')\n",
    "else:\n",
    "    print('None') # neither True nor False"
   ]
  },
  {
   "cell_type": "markdown",
   "id": "baadf56c",
   "metadata": {},
   "source": [
    "---"
   ]
  },
  {
   "cell_type": "markdown",
   "id": "7f86bdfe",
   "metadata": {},
   "source": [
    "### 지역변수 & 전역변수\n",
    "\n",
    "- 지역변수: 함수 안, 지역 이름공간에 정의된 변수\n",
    "    - 그 변수가 정의된 함수 안에서만 읽을 수 있다\n",
    "    - 함수가 실행되는 동안에만 존재 -> 실행이 끝나면 모두 삭제됨\n",
    "        - 그 변수가 속한 함수의 밖, 다른 함수에서 부를 수 없다\n",
    "    - 매개변수도 지역변수\n",
    "    <br><br>\n",
    "- 전역변수: 함수 밖, 전역 이름공간에 정의된 변수\n",
    "    - 프로그램 어디서든 읽을 수 있다\n",
    "    - 단, 함수 안에서 전역변수에 새로운 값을 대입할 수는 없다"
   ]
  },
  {
   "cell_type": "code",
   "execution_count": 33,
   "id": "48c35a75",
   "metadata": {},
   "outputs": [
    {
     "name": "stdout",
     "output_type": "stream",
     "text": [
      "london 2142293105456 <- 함수 내의 city\n",
      "paris == london?\n",
      "2142292193456 <- 함수 밖의 city\n"
     ]
    }
   ],
   "source": [
    "def fx():\n",
    "    city = 'london'\n",
    "    print(city, id(city), '<- 함수 내의 city')\n",
    "\n",
    "city = 'paris'\n",
    "fx()\n",
    "print(city, '== london?')\n",
    "print(id(city), '<- 함수 밖의 city')"
   ]
  },
  {
   "cell_type": "code",
   "execution_count": 34,
   "id": "149526e2",
   "metadata": {},
   "outputs": [
    {
     "name": "stdout",
     "output_type": "stream",
     "text": [
      "london 2142293105456\n",
      "london == london?\n",
      "2142293105456\n"
     ]
    }
   ],
   "source": [
    "def fx():\n",
    "    global city #전역 변수 -> paris 아닌 london 된다 -> 밖에서도 쓰겠다\n",
    "    city = 'london'         \n",
    "    print(city, id(city))\n",
    "    \n",
    "city = 'paris' \n",
    "fx()\n",
    "print(city, '== london?')\n",
    "print(id(city))"
   ]
  },
  {
   "cell_type": "code",
   "execution_count": 35,
   "id": "68374422",
   "metadata": {},
   "outputs": [
    {
     "data": {
      "text/plain": [
       "'seoul'"
      ]
     },
     "execution_count": 35,
     "metadata": {},
     "output_type": "execute_result"
    }
   ],
   "source": [
    "city = 'seoul'\n",
    "city"
   ]
  },
  {
   "cell_type": "markdown",
   "id": "c89e97dc",
   "metadata": {},
   "source": [
    "#### doc string\n",
    "- 모듈, 함수, 클래스 또는 메소드 정의의 첫 번째 명령문으로 발생하는 문자열 리터럴\n",
    "- 함수 설명\n",
    "    - 매개변수 타입, 의미, 함수 기능\n",
    "- 보통 따옴표 주석처리\n",
    "```\n",
    "\"\"\"\n",
    "doc string\n",
    "\"\"\"\n",
    "```"
   ]
  },
  {
   "cell_type": "code",
   "execution_count": 36,
   "id": "8347cf05",
   "metadata": {},
   "outputs": [],
   "source": [
    "def buggy(arg, result=[]):\n",
    "    '''\n",
    "    arg: str, 꽃 이름\n",
    "    result: list, xxxxx\n",
    "    꽃 이름을 리스트에 추가한다.\n",
    "    '''\n",
    "    if arg == thing: ###\n",
    "        new_list = []\n",
    "        new_list.append(arg)\n",
    "    else:\n",
    "        result.append(arg)"
   ]
  },
  {
   "cell_type": "code",
   "execution_count": 37,
   "id": "54431b97",
   "metadata": {},
   "outputs": [
    {
     "name": "stdout",
     "output_type": "stream",
     "text": [
      "Help on function buggy in module __main__:\n",
      "\n",
      "buggy(arg, result=[])\n",
      "    arg: str, 꽃 이름\n",
      "    result: list, xxxxx\n",
      "    꽃 이름을 리스트에 추가한다.\n",
      "\n"
     ]
    }
   ],
   "source": [
    "# doc string 확인\n",
    "help(buggy)"
   ]
  },
  {
   "cell_type": "markdown",
   "id": "816e7732",
   "metadata": {},
   "source": [
    "#### 실습"
   ]
  },
  {
   "cell_type": "code",
   "execution_count": 38,
   "id": "47be6149",
   "metadata": {},
   "outputs": [
    {
     "name": "stdout",
     "output_type": "stream",
     "text": [
      "나이를 입력하세요: 21\n",
      "현재 연도를 입력하세요 >>> 2022\n",
      "출생 연도는 2002입니다.\n"
     ]
    }
   ],
   "source": [
    "# 나이를 받으면 태어난 년도로 바꾼다\n",
    "# 함수: 입력값=나이, 반환=연도\n",
    "# 나이: input 받기\n",
    "# 현재 연도까지 받기\n",
    "\n",
    "def age_to_year():\n",
    "    \"\"\"\n",
    "    나이를 입력 받으면 태어난 연도를 출력한다.\n",
    "    \"\"\"\n",
    "    global year_birth\n",
    "    year_current = int(input('현재 연도를 입력하세요 >>> '))\n",
    "    year_birth = year_current - age + 1\n",
    "    print(f'출생 연도는 {year_birth}입니다.')\n",
    "\n",
    "age = int(input('나이를 입력하세요: '))\n",
    "age_to_year()"
   ]
  },
  {
   "cell_type": "markdown",
   "id": "dbd2e207",
   "metadata": {},
   "source": [
    "## 브라운 정제하기\n",
    "1. 문장 분절\n",
    "2. 단어 분절\n",
    "3. 문장부호 제거\n",
    "4. 하이픈, 's\n",
    "5. 위의 것을 함수로 만들어라"
   ]
  },
  {
   "cell_type": "code",
   "execution_count": 39,
   "id": "2e48f2a4",
   "metadata": {},
   "outputs": [
    {
     "name": "stderr",
     "output_type": "stream",
     "text": [
      "[nltk_data] Downloading package brown to\n",
      "[nltk_data]     C:\\Users\\syui0\\AppData\\Roaming\\nltk_data...\n",
      "[nltk_data]   Package brown is already up-to-date!\n"
     ]
    },
    {
     "data": {
      "text/plain": [
       "\"\\n\\n\\tThey/ppss neither/cc liked/vbd nor/cc disliked/vbd the/at Old/jj-tl Man/nn-tl ./.\\nTo/in them/ppo he/pps could/md have/hv been/ben the/at broken/vbn bell/nn in/in the/at church/nn tower/nn which/wdt rang/vbd before/in and/cc after/in Mass/nn-tl ,/, and/cc at/in noon/nn ,/, and/cc at/in six/cd each/dt evening/nn --/-- its/pp$ tone/nn ,/, repetitive/jj ,/, monotonous/jj ,/, never/rb breaking/vbg the/at boredom/nn of/in the/at streets/nns ./.\\nThe/at Old/jj-tl Man/nn-tl was/bedz unimportant/jj ./.\\n\\n\\n\\tYet/rb if/cs he/pps were/bed not/* there/rb ,/, they/ppss would/md have/hv missed/vbn him/ppo ,/, as/cs they/ppss would/md have/hv missed/vbn the/at sounds/nns of/in bees/nns buzzing/vbg against/in the/at screen/nn door/nn in/in early/jj June/np ;/. ;/.\\nor/cc the/at smell/nn of/in thick/jj tomato/nn paste/nn --/-- the/at ripe/jj smell/nn that/wps was/bedz both/abx sweet/jj and/cc sour/jj --/-- rising/vbg up/rp from/in aluminum/nn trays/nns wrapped/vbn in/in fly-dotted/jj cheesecloth/nn ./.\\nOr/cc the/at surging/vbg whirling/vbg sounds/nns of/in bats/nns at/in night/nn ,/, when/wrb their/pp$ black/jj bodies/nns dived/vbd into/in the/at blackness/nn above/in and/cc below/in the/at amber/jj street/nn lights/nns ./.\\nOr/cc the/at bay/nn of/in female/nn dogs/nns in/in heat/nn ./.\\n\\n\\n\\tThey/ppss never/rb called/vbd him/ppo by/in name/nn ,/, although/cs he/pps had/hvd one/pn ./.\\nFilippo/np Rossi/np ,/, that's/dt+bez what/wdt he/pps was/bedz called/vbn in/in the/at old/jj country/nn ;/. ;/.\\nbut/cc here/rb he/pps was/bedz just/rb Signore/np or/cc the/at Old/jj-tl Man/nn-tl ./.\\nBut/cc this/dt was/bedz not/* unusual/jj ,/, because/cs youth/nn in/in these/dts quarters/nns was/bedz always/rb pushed/vbn at/in a/at distance/nn from/in its/pp$ elders/nns ./.\\nYouth/nn obeyed/vbd when/wrb commanded/vbn ./.\\nIt/pps went/vbd to/in church/nn on/in Sunday/nr and/cc one/cd Saturday/nr a/at month/nn went/vbd to/in confession/nn ./.\\nBut/cc youth/nn asked/vbd nothing/pn of/in its/pp$ parents/nns --/-- not/* a/at touch/nn of/in the/at hand/nn or/cc a/at kiss/nn given/vbn in/in passing/vbg ./.\\n\\n\\n\\tThe/at only/ap thing/nn unusual/jj about/in the/at Old/jj-tl Man/nn-tl had/hvd long/jj since/rb happened/vbn ./.\\nBut/cc the/at past/nn was/bedz dead/jj here/rb as/cs the/at present/jj was/bedz dead/jj ./.\\nOnce/cs the/at Old/jj-tl Man/nn-tl had/hvd had/hvn a/at wife/nn ./.\\nAnd/cc once/cs she/pps ,/, too/rb ,/, ignored/vbd him/ppo ./.\\nWith/in a/at tiny/jj fur-piece/nn wrapped/vbd around/in her/pp$ shoulders/nns ,/, she/pps wiggled/vbd her/pp$ satin-covered/jj buttocks/nns down/in the/at street/nn before/in him/ppo and/cc didn't/dod* stop/vb ./.\\nIn/in one/cd hand/nn she/pps clutched/vbd a/at hundred/cd dollar/nn bill/nn and/cc in/in the/at other/ap a/at straw/nn suitcase/nn ./.\\nThe/at way/nn she/pps strutted/vbd down/in the/at street/nn ,/, the/at Old/jj-tl Man/nn-tl would/md have/hv been/ben blind/jj not/* to/to have/hv noticed/vbn both/abx ./.\\nWithout/in looking/vbg at/in him/ppo ,/, without/in looking/vbg at/in anything/pn except/in Drexel/np-tl Street/nn-tl directly/rb in/in front/nn of/in her/ppo ,/, she/pps climbed/vbd up/rp into/in one/cd of/in those/dts orange/jj streetcars/nns ,/, rode/vbd away/rb in/in it/ppo ,/, and/cc never/rb came/vbd back/rb ./.\\n\\n\\n\\t``/`` But/cc she/pps shouldn't/md* have/hv come/vbn here/rb in/in the/at first/od place/nn ''/'' ,/, the/at women/nns had/hvd said/vbn ./.\\n\\n\\n\\t``/`` No/rb ,/, no/rb ./.\\nNot/* that/dt one/pn ./.\\nShe/pps thought/vbd she/pps was/bedz bigger/jjr than/cs we/ppss are/ber because/cs she/pps came/vbd from/in Torino/np ''/'' ./.\\n\\n\\n\\t``/`` Eh/uh ,/, Torino/np !/. !/.\\nShe/pps gave/vbd herself/ppl fancy/jj airs/nns !/. !/.\\nJust/rb because/cs she/pps had/hvd a/at part/nn on/in the/at stage/nn in/in the/at old/jj country/nn ,/, she/pps thought/vbd she/pps could/md carry/vb her/pp$ head/nn higher/rbr than/cs ours/pp$$ ''/'' ./.\\nThey/ppss had/hvd slapped/vbn their/pp$ thighs/nns ./.\\n\\n\\n\\t``/`` It's/pps+bez not/* for/in making/vbg pretty/jj speeches/nns about/in Dante/np those/dts actresses/nns get/vb paid/vbn so/ql good/rb ''/'' ./.\\n\\n\\n\\t``/`` Henh/uh ''/'' !/. !/.\\nCalloused/vbn fingers/nns ,/, caressed/vbn only/rb by/in the/at smoothness/nn of/in polished/vbn rosaries/nns ,/, had/hvd swayed/vbn excitedly/rb beneath/in puckered/vbn chins/nns where/wrb tiny/jj black/jj hairs/nns sprouted/vbd ,/, never/rb to/to be/be tweezed/vbn away/rb ./.\\nMauve-colored/jj mouths/nns that/wps had/hvd never/rb known/vbn anything/pn sweeter/jjr than/cs the/at taste/nn of/in new/jj wine/nn and/cc the/at passion/nn of/in man's/nn$ tongue/nn had/hvd not/* smiled/vbn ,/, but/cc had/hvd condemned/vbn again/rb and/cc again/rb ./.\\n``/`` Puttana/fw-nn ''/'' !/. !/.\\n\\n\\n\\tBut/cc if/cs the/at Old/jj-tl Man/nn-tl even/rb thought/vbd about/in his/pp$ wife/nn now/rb ,/, nobody/pn cared/vbd a/at fig/nn ./.\\nIt/pps was/bedz enough/ap for/in people/nns to/to know/vb that/cs at/in one/cd time/nn he/pps had/hvd looked/vbn down/in the/at street/nn at/in the/at f\""
      ]
     },
     "execution_count": 39,
     "metadata": {},
     "output_type": "execute_result"
    }
   ],
   "source": [
    "import string\n",
    "import nltk\n",
    "# import부터 몰아서 맨 위에\n",
    "\n",
    "nltk.download('brown')\n",
    "brown = nltk.corpus.brown\n",
    "romance = brown.raw(categories='romance')[:5000]\n",
    "romance"
   ]
  },
  {
   "cell_type": "markdown",
   "id": "46e513ff",
   "metadata": {},
   "source": [
    "### 문장 분절"
   ]
  },
  {
   "cell_type": "code",
   "execution_count": 40,
   "id": "b2d29e68",
   "metadata": {},
   "outputs": [
    {
     "data": {
      "text/plain": [
       "['They/ppss neither/cc liked/vbd nor/cc disliked/vbd the/at Old/jj-tl Man/nn-tl .',\n",
       " 'To/in them/ppo he/pps could/md have/hv been/ben the/at broken/vbn bell/nn in/in the/at church/nn tower/nn which/wdt rang/vbd before/in and/cc after/in Mass/nn-tl ,/, and/cc at/in noon/nn ,/, and/cc at/in six/cd each/dt evening/nn --/-- its/pp$ tone/nn ,/, repetitive/jj ,/, monotonous/jj ,/, never/rb breaking/vbg the/at boredom/nn of/in the/at streets/nns .',\n",
       " 'The/at Old/jj-tl Man/nn-tl was/bedz unimportant/jj .',\n",
       " 'Yet/rb if/cs he/pps were/bed not/* there/rb ,/, they/ppss would/md have/hv missed/vbn him/ppo ,/, as/cs they/ppss would/md have/hv missed/vbn the/at sounds/nns of/in bees/nns buzzing/vbg against/in the/at screen/nn door/nn in/in early/jj June/np ;',\n",
       " ';',\n",
       " 'or/cc the/at smell/nn of/in thick/jj tomato/nn paste/nn --/-- the/at ripe/jj smell/nn that/wps was/bedz both/abx sweet/jj and/cc sour/jj --/-- rising/vbg up/rp from/in aluminum/nn trays/nns wrapped/vbn in/in fly-dotted/jj cheesecloth/nn .',\n",
       " 'Or/cc the/at surging/vbg whirling/vbg sounds/nns of/in bats/nns at/in night/nn ,/, when/wrb their/pp$ black/jj bodies/nns dived/vbd into/in the/at blackness/nn above/in and/cc below/in the/at amber/jj street/nn lights/nns .',\n",
       " 'Or/cc the/at bay/nn of/in female/nn dogs/nns in/in heat/nn .',\n",
       " 'They/ppss never/rb called/vbd him/ppo by/in name/nn ,/, although/cs he/pps had/hvd one/pn .',\n",
       " \"Filippo/np Rossi/np ,/, that's/dt+bez what/wdt he/pps was/bedz called/vbn in/in the/at old/jj country/nn ;\"]"
      ]
     },
     "execution_count": 40,
     "metadata": {},
     "output_type": "execute_result"
    }
   ],
   "source": [
    "# ./. -> 마침표로만 분절\n",
    "#  /. -> 마침표 이외 문장을 마치는 다른 문장부호 분절 가능\n",
    "# \\n\n",
    "\n",
    "sentences = [sent.strip() for sent in romance.split('/.')]\n",
    "sentences[:10]"
   ]
  },
  {
   "cell_type": "markdown",
   "id": "2280b548",
   "metadata": {},
   "source": [
    "### 단어 분절\n",
    "sentences -> POS 제거, 단어 분절"
   ]
  },
  {
   "cell_type": "code",
   "execution_count": 41,
   "id": "b3da28d6",
   "metadata": {},
   "outputs": [
    {
     "data": {
      "text/plain": [
       "['They', 'neither', 'liked', 'nor', 'disliked', 'the', 'Old', 'Man', '.']"
      ]
     },
     "execution_count": 41,
     "metadata": {},
     "output_type": "execute_result"
    }
   ],
   "source": [
    "SLASH = '/' # 더 편리하다 (대문자로 설정)\n",
    "\n",
    "# list comprehension\n",
    "example = sentences[0]\n",
    "[word[:word.find(SLASH)] if word[:word.find(SLASH)] else word for word in example.split()]"
   ]
  },
  {
   "cell_type": "markdown",
   "id": "ac2ed6c5",
   "metadata": {},
   "source": [
    "#### 전체 문장에 적용하기"
   ]
  },
  {
   "cell_type": "code",
   "execution_count": 48,
   "id": "7af666ac",
   "metadata": {},
   "outputs": [
    {
     "data": {
      "text/plain": [
       "[['They', 'neither', 'liked', 'nor', 'disliked', 'the', 'Old', 'Man', '.']]"
      ]
     },
     "execution_count": 48,
     "metadata": {},
     "output_type": "execute_result"
    }
   ],
   "source": [
    "sentence_tokens = [[word[:word.find(SLASH)] \n",
    "                    if word[:word.find(SLASH)] else word\n",
    "                    for word in example.split()] for example in sentences]\n",
    "sentence_tokens[:1]"
   ]
  },
  {
   "cell_type": "markdown",
   "id": "f937ac4c",
   "metadata": {},
   "source": [
    "### punctuations"
   ]
  },
  {
   "cell_type": "code",
   "execution_count": 45,
   "id": "bdb8cc25",
   "metadata": {},
   "outputs": [
    {
     "name": "stdout",
     "output_type": "stream",
     "text": [
      "['!', '\"', '#', '$', '%', '&', \"'\", '(', ')', '*', '+', ',', '-', '.', '/', ':', ';', '<', '=', '>', '?', '@', '[', '\\\\', ']', '^', '_', '`', '{', '|', '}', '~']\n"
     ]
    }
   ],
   "source": [
    "punct = list(string.punctuation)\n",
    "print(punct)"
   ]
  },
  {
   "cell_type": "markdown",
   "id": "0f28bf16",
   "metadata": {},
   "source": [
    "제거하기"
   ]
  },
  {
   "cell_type": "code",
   "execution_count": 49,
   "id": "5b6e45f7",
   "metadata": {
    "collapsed": true
   },
   "outputs": [
    {
     "data": {
      "text/plain": [
       "[['They', 'neither', 'liked', 'nor', 'disliked', 'the', 'Old', 'Man'],\n",
       " ['To',\n",
       "  'them',\n",
       "  'he',\n",
       "  'could',\n",
       "  'have',\n",
       "  'been',\n",
       "  'the',\n",
       "  'broken',\n",
       "  'bell',\n",
       "  'in',\n",
       "  'the',\n",
       "  'church',\n",
       "  'tower',\n",
       "  'which',\n",
       "  'rang',\n",
       "  'before',\n",
       "  'and',\n",
       "  'after',\n",
       "  'Mass',\n",
       "  'and',\n",
       "  'at',\n",
       "  'noon',\n",
       "  'and',\n",
       "  'at',\n",
       "  'six',\n",
       "  'each',\n",
       "  'evening',\n",
       "  '--',\n",
       "  'its',\n",
       "  'tone',\n",
       "  'repetitive',\n",
       "  'monotonous',\n",
       "  'never',\n",
       "  'breaking',\n",
       "  'the',\n",
       "  'boredom',\n",
       "  'of',\n",
       "  'the',\n",
       "  'streets'],\n",
       " ['The', 'Old', 'Man', 'was', 'unimportant'],\n",
       " ['Yet',\n",
       "  'if',\n",
       "  'he',\n",
       "  'were',\n",
       "  'not',\n",
       "  'there',\n",
       "  'they',\n",
       "  'would',\n",
       "  'have',\n",
       "  'missed',\n",
       "  'him',\n",
       "  'as',\n",
       "  'they',\n",
       "  'would',\n",
       "  'have',\n",
       "  'missed',\n",
       "  'the',\n",
       "  'sounds',\n",
       "  'of',\n",
       "  'bees',\n",
       "  'buzzing',\n",
       "  'against',\n",
       "  'the',\n",
       "  'screen',\n",
       "  'door',\n",
       "  'in',\n",
       "  'early',\n",
       "  'June'],\n",
       " [],\n",
       " ['or',\n",
       "  'the',\n",
       "  'smell',\n",
       "  'of',\n",
       "  'thick',\n",
       "  'tomato',\n",
       "  'paste',\n",
       "  '--',\n",
       "  'the',\n",
       "  'ripe',\n",
       "  'smell',\n",
       "  'that',\n",
       "  'was',\n",
       "  'both',\n",
       "  'sweet',\n",
       "  'and',\n",
       "  'sour',\n",
       "  '--',\n",
       "  'rising',\n",
       "  'up',\n",
       "  'from',\n",
       "  'aluminum',\n",
       "  'trays',\n",
       "  'wrapped',\n",
       "  'in',\n",
       "  'fly-dotted',\n",
       "  'cheesecloth'],\n",
       " ['Or',\n",
       "  'the',\n",
       "  'surging',\n",
       "  'whirling',\n",
       "  'sounds',\n",
       "  'of',\n",
       "  'bats',\n",
       "  'at',\n",
       "  'night',\n",
       "  'when',\n",
       "  'their',\n",
       "  'black',\n",
       "  'bodies',\n",
       "  'dived',\n",
       "  'into',\n",
       "  'the',\n",
       "  'blackness',\n",
       "  'above',\n",
       "  'and',\n",
       "  'below',\n",
       "  'the',\n",
       "  'amber',\n",
       "  'street',\n",
       "  'lights'],\n",
       " ['Or', 'the', 'bay', 'of', 'female', 'dogs', 'in', 'heat'],\n",
       " ['They',\n",
       "  'never',\n",
       "  'called',\n",
       "  'him',\n",
       "  'by',\n",
       "  'name',\n",
       "  'although',\n",
       "  'he',\n",
       "  'had',\n",
       "  'one'],\n",
       " ['Filippo',\n",
       "  'Rossi',\n",
       "  \"that's\",\n",
       "  'what',\n",
       "  'he',\n",
       "  'was',\n",
       "  'called',\n",
       "  'in',\n",
       "  'the',\n",
       "  'old',\n",
       "  'country'],\n",
       " [],\n",
       " ['but', 'here', 'he', 'was', 'just', 'Signore', 'or', 'the', 'Old', 'Man'],\n",
       " ['But',\n",
       "  'this',\n",
       "  'was',\n",
       "  'not',\n",
       "  'unusual',\n",
       "  'because',\n",
       "  'youth',\n",
       "  'in',\n",
       "  'these',\n",
       "  'quarters',\n",
       "  'was',\n",
       "  'always',\n",
       "  'pushed',\n",
       "  'at',\n",
       "  'a',\n",
       "  'distance',\n",
       "  'from',\n",
       "  'its',\n",
       "  'elders'],\n",
       " ['Youth', 'obeyed', 'when', 'commanded'],\n",
       " ['It',\n",
       "  'went',\n",
       "  'to',\n",
       "  'church',\n",
       "  'on',\n",
       "  'Sunday',\n",
       "  'and',\n",
       "  'one',\n",
       "  'Saturday',\n",
       "  'a',\n",
       "  'month',\n",
       "  'went',\n",
       "  'to',\n",
       "  'confession'],\n",
       " ['But',\n",
       "  'youth',\n",
       "  'asked',\n",
       "  'nothing',\n",
       "  'of',\n",
       "  'its',\n",
       "  'parents',\n",
       "  '--',\n",
       "  'not',\n",
       "  'a',\n",
       "  'touch',\n",
       "  'of',\n",
       "  'the',\n",
       "  'hand',\n",
       "  'or',\n",
       "  'a',\n",
       "  'kiss',\n",
       "  'given',\n",
       "  'in',\n",
       "  'passing'],\n",
       " ['The',\n",
       "  'only',\n",
       "  'thing',\n",
       "  'unusual',\n",
       "  'about',\n",
       "  'the',\n",
       "  'Old',\n",
       "  'Man',\n",
       "  'had',\n",
       "  'long',\n",
       "  'since',\n",
       "  'happened'],\n",
       " ['But',\n",
       "  'the',\n",
       "  'past',\n",
       "  'was',\n",
       "  'dead',\n",
       "  'here',\n",
       "  'as',\n",
       "  'the',\n",
       "  'present',\n",
       "  'was',\n",
       "  'dead'],\n",
       " ['Once', 'the', 'Old', 'Man', 'had', 'had', 'a', 'wife'],\n",
       " ['And', 'once', 'she', 'too', 'ignored', 'him'],\n",
       " ['With',\n",
       "  'a',\n",
       "  'tiny',\n",
       "  'fur-piece',\n",
       "  'wrapped',\n",
       "  'around',\n",
       "  'her',\n",
       "  'shoulders',\n",
       "  'she',\n",
       "  'wiggled',\n",
       "  'her',\n",
       "  'satin-covered',\n",
       "  'buttocks',\n",
       "  'down',\n",
       "  'the',\n",
       "  'street',\n",
       "  'before',\n",
       "  'him',\n",
       "  'and',\n",
       "  \"didn't\",\n",
       "  'stop'],\n",
       " ['In',\n",
       "  'one',\n",
       "  'hand',\n",
       "  'she',\n",
       "  'clutched',\n",
       "  'a',\n",
       "  'hundred',\n",
       "  'dollar',\n",
       "  'bill',\n",
       "  'and',\n",
       "  'in',\n",
       "  'the',\n",
       "  'other',\n",
       "  'a',\n",
       "  'straw',\n",
       "  'suitcase'],\n",
       " ['The',\n",
       "  'way',\n",
       "  'she',\n",
       "  'strutted',\n",
       "  'down',\n",
       "  'the',\n",
       "  'street',\n",
       "  'the',\n",
       "  'Old',\n",
       "  'Man',\n",
       "  'would',\n",
       "  'have',\n",
       "  'been',\n",
       "  'blind',\n",
       "  'not',\n",
       "  'to',\n",
       "  'have',\n",
       "  'noticed',\n",
       "  'both'],\n",
       " ['Without',\n",
       "  'looking',\n",
       "  'at',\n",
       "  'him',\n",
       "  'without',\n",
       "  'looking',\n",
       "  'at',\n",
       "  'anything',\n",
       "  'except',\n",
       "  'Drexel',\n",
       "  'Street',\n",
       "  'directly',\n",
       "  'in',\n",
       "  'front',\n",
       "  'of',\n",
       "  'her',\n",
       "  'she',\n",
       "  'climbed',\n",
       "  'up',\n",
       "  'into',\n",
       "  'one',\n",
       "  'of',\n",
       "  'those',\n",
       "  'orange',\n",
       "  'streetcars',\n",
       "  'rode',\n",
       "  'away',\n",
       "  'in',\n",
       "  'it',\n",
       "  'and',\n",
       "  'never',\n",
       "  'came',\n",
       "  'back'],\n",
       " ['``',\n",
       "  'But',\n",
       "  'she',\n",
       "  \"shouldn't\",\n",
       "  'have',\n",
       "  'come',\n",
       "  'here',\n",
       "  'in',\n",
       "  'the',\n",
       "  'first',\n",
       "  'place',\n",
       "  \"''\",\n",
       "  'the',\n",
       "  'women',\n",
       "  'had',\n",
       "  'said'],\n",
       " ['``', 'No', 'no'],\n",
       " ['Not', 'that', 'one'],\n",
       " ['She',\n",
       "  'thought',\n",
       "  'she',\n",
       "  'was',\n",
       "  'bigger',\n",
       "  'than',\n",
       "  'we',\n",
       "  'are',\n",
       "  'because',\n",
       "  'she',\n",
       "  'came',\n",
       "  'from',\n",
       "  'Torino',\n",
       "  \"''\"],\n",
       " ['``', 'Eh', 'Torino'],\n",
       " [],\n",
       " ['She', 'gave', 'herself', 'fancy', 'airs'],\n",
       " [],\n",
       " ['Just',\n",
       "  'because',\n",
       "  'she',\n",
       "  'had',\n",
       "  'a',\n",
       "  'part',\n",
       "  'on',\n",
       "  'the',\n",
       "  'stage',\n",
       "  'in',\n",
       "  'the',\n",
       "  'old',\n",
       "  'country',\n",
       "  'she',\n",
       "  'thought',\n",
       "  'she',\n",
       "  'could',\n",
       "  'carry',\n",
       "  'her',\n",
       "  'head',\n",
       "  'higher',\n",
       "  'than',\n",
       "  'ours',\n",
       "  \"''\"],\n",
       " ['They', 'had', 'slapped', 'their', 'thighs'],\n",
       " ['``',\n",
       "  \"It's\",\n",
       "  'not',\n",
       "  'for',\n",
       "  'making',\n",
       "  'pretty',\n",
       "  'speeches',\n",
       "  'about',\n",
       "  'Dante',\n",
       "  'those',\n",
       "  'actresses',\n",
       "  'get',\n",
       "  'paid',\n",
       "  'so',\n",
       "  'good',\n",
       "  \"''\"],\n",
       " ['``', 'Henh', \"''\"],\n",
       " [],\n",
       " ['Calloused',\n",
       "  'fingers',\n",
       "  'caressed',\n",
       "  'only',\n",
       "  'by',\n",
       "  'the',\n",
       "  'smoothness',\n",
       "  'of',\n",
       "  'polished',\n",
       "  'rosaries',\n",
       "  'had',\n",
       "  'swayed',\n",
       "  'excitedly',\n",
       "  'beneath',\n",
       "  'puckered',\n",
       "  'chins',\n",
       "  'where',\n",
       "  'tiny',\n",
       "  'black',\n",
       "  'hairs',\n",
       "  'sprouted',\n",
       "  'never',\n",
       "  'to',\n",
       "  'be',\n",
       "  'tweezed',\n",
       "  'away'],\n",
       " ['Mauve-colored',\n",
       "  'mouths',\n",
       "  'that',\n",
       "  'had',\n",
       "  'never',\n",
       "  'known',\n",
       "  'anything',\n",
       "  'sweeter',\n",
       "  'than',\n",
       "  'the',\n",
       "  'taste',\n",
       "  'of',\n",
       "  'new',\n",
       "  'wine',\n",
       "  'and',\n",
       "  'the',\n",
       "  'passion',\n",
       "  'of',\n",
       "  \"man's\",\n",
       "  'tongue',\n",
       "  'had',\n",
       "  'not',\n",
       "  'smiled',\n",
       "  'but',\n",
       "  'had',\n",
       "  'condemned',\n",
       "  'again',\n",
       "  'and',\n",
       "  'again'],\n",
       " ['``', 'Puttana', \"''\"],\n",
       " [],\n",
       " ['But',\n",
       "  'if',\n",
       "  'the',\n",
       "  'Old',\n",
       "  'Man',\n",
       "  'even',\n",
       "  'thought',\n",
       "  'about',\n",
       "  'his',\n",
       "  'wife',\n",
       "  'now',\n",
       "  'nobody',\n",
       "  'cared',\n",
       "  'a',\n",
       "  'fig'],\n",
       " ['It',\n",
       "  'was',\n",
       "  'enough',\n",
       "  'for',\n",
       "  'people',\n",
       "  'to',\n",
       "  'know',\n",
       "  'that',\n",
       "  'at',\n",
       "  'one',\n",
       "  'time',\n",
       "  'he',\n",
       "  'had',\n",
       "  'looked',\n",
       "  'down',\n",
       "  'the',\n",
       "  'street',\n",
       "  'at',\n",
       "  'the',\n",
       "  'f']]"
      ]
     },
     "execution_count": 49,
     "metadata": {},
     "output_type": "execute_result"
    }
   ],
   "source": [
    "clean_sent_tokens = [[word for word in sent if word not in punct] for sent in sentence_tokens]\n",
    "clean_sent_tokens"
   ]
  },
  {
   "cell_type": "markdown",
   "id": "6aa3eef5",
   "metadata": {},
   "source": [
    "라이브러리에 없는 문장부호"
   ]
  },
  {
   "cell_type": "code",
   "execution_count": 53,
   "id": "ed62ab4a",
   "metadata": {},
   "outputs": [
    {
     "name": "stdout",
     "output_type": "stream",
     "text": [
      "['!', '\"', '#', '$', '%', '&', \"'\", '(', ')', '*', '+', ',', '-', '.', '/', ':', ';', '<', '=', '>', '?', '@', '[', '\\\\', ']', '^', '_', '`', '{', '|', '}', '~', \"''\", '``', '--']\n"
     ]
    }
   ],
   "source": [
    "my_punct = set([word for sent in sentence_tokens for word in sent if not word[0].isalnum() and word not in punct])\n",
    "punct.extend(list(my_punct)) # punct 포함된 단어들도 걸러진다\n",
    "print(punct)"
   ]
  },
  {
   "cell_type": "markdown",
   "id": "96861b37",
   "metadata": {},
   "source": [
    "하이픈 fur-piece"
   ]
  },
  {
   "cell_type": "code",
   "execution_count": 55,
   "id": "feda3a63",
   "metadata": {},
   "outputs": [
    {
     "data": {
      "text/plain": [
       "['fur', 'piece']"
      ]
     },
     "execution_count": 55,
     "metadata": {},
     "output_type": "execute_result"
    }
   ],
   "source": [
    "'fur-piece'.split('-') # 1차원 리스트로 추가하기 위해 extend 사용"
   ]
  },
  {
   "cell_type": "markdown",
   "id": "b0c733ef",
   "metadata": {},
   "source": [
    "apostrophe 's"
   ]
  },
  {
   "cell_type": "code",
   "execution_count": 56,
   "id": "4b7bd00b",
   "metadata": {},
   "outputs": [
    {
     "data": {
      "text/plain": [
       "('she', \"'s\")"
      ]
     },
     "execution_count": 56,
     "metadata": {},
     "output_type": "execute_result"
    }
   ],
   "source": [
    "word = 'she\\'s'\n",
    "index = word.find('\\'')\n",
    "word[:index], word[index:]"
   ]
  },
  {
   "cell_type": "markdown",
   "id": "f141ab2f",
   "metadata": {},
   "source": [
    "## 함수로\n",
    "문장이 들어왔을 때...\n",
    "- POS 제거\n",
    "- punct 제거\n",
    "- return token list"
   ]
  },
  {
   "cell_type": "code",
   "execution_count": 64,
   "id": "c8f01e5d",
   "metadata": {},
   "outputs": [
    {
     "data": {
      "text/plain": [
       "['Or',\n",
       " 'the',\n",
       " 'surging',\n",
       " 'whirling',\n",
       " 'sounds',\n",
       " 'of',\n",
       " 'bats',\n",
       " 'at',\n",
       " 'night',\n",
       " 'when',\n",
       " 'their',\n",
       " 'black',\n",
       " 'bodies',\n",
       " 'dived',\n",
       " 'into',\n",
       " 'the',\n",
       " 'blackness',\n",
       " 'above',\n",
       " 'and',\n",
       " 'below',\n",
       " 'the',\n",
       " 'amber',\n",
       " 'street',\n",
       " 'lights']"
      ]
     },
     "execution_count": 64,
     "metadata": {},
     "output_type": "execute_result"
    }
   ],
   "source": [
    "def tokenize_word(sent):\n",
    "    token_list = [word[:word.find(SLASH)]\n",
    "                   for word in sent.split()\n",
    "                   if (word[0].isalnum()) and (word not in punct)]\n",
    "    return token_list\n",
    "\n",
    "example = sentences[6]\n",
    "tokenize_word(example)"
   ]
  }
 ],
 "metadata": {
  "kernelspec": {
   "display_name": "Python 3 (ipykernel)",
   "language": "python",
   "name": "python3"
  },
  "language_info": {
   "codemirror_mode": {
    "name": "ipython",
    "version": 3
   },
   "file_extension": ".py",
   "mimetype": "text/x-python",
   "name": "python",
   "nbconvert_exporter": "python",
   "pygments_lexer": "ipython3",
   "version": "3.9.7"
  }
 },
 "nbformat": 4,
 "nbformat_minor": 5
}
